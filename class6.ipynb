{
 "cells": [
  {
   "cell_type": "markdown",
   "metadata": {},
   "source": [
    "<div class=\"frontmatter text-center\">\n",
    "<h1> MATH5027 Scientific Python</h1>\n",
    "<h3>Central European University, Fall 2017/2018</h3>\n",
    "<h3>Instructor: Prof. Roberta Sinatra, TA: Johannes Wachs</h3>\n",
    "inspired to a lecture of James Bagrow, http://bagrow.com.\n",
    "</div>\n",
    "\n",
    "### Today's plan:\n",
    "- Intro to accessing a web API programmatically:\n",
    "    - openexchangerates.org\n",
    "    - we will use more of datetime and matplotlib "
   ]
  },
  {
   "cell_type": "markdown",
   "metadata": {},
   "source": [
    "# Accessing Web APIs\n",
    "\n",
    "As a data-collection example, suppose we want to find out how currencies compare to one another over time. In other words, let's plot a time series of [exchange rates](http://en.wikipedia.org/wiki/Exchange_rate).\n",
    "\n",
    "There's a nice, free website called https://openexchangerates.org. They provide a nice API to get exchange rate data. Let's use this.\n",
    "\n",
    "**BTW**, API means \"Application Programming Interface\" and is a set of functions and procedures that allow the creation of applications which access the features or data of an operating system, application, or other service.\n",
    "\n",
    "* You need to [register with them](https://openexchangerates.org/signup/free) to get an **APP ID**. This lets them track how often you call their website and block you if you do too much (this is known as rate limiting).\n",
    "\n",
    "<img src=\"rate_limit.png\" height=\"700\" width=\"700\">\n",
    "\n",
    "\n",
    "The APP ID is a string of 32 characters. I've got mine saved by itself in a text file which the python will load:"
   ]
  },
  {
   "cell_type": "code",
   "execution_count": 1,
   "metadata": {},
   "outputs": [
    {
     "data": {
      "text/plain": [
       "'49ba211092674b0aa0e132642cc4f51b'"
      ]
     },
     "execution_count": 1,
     "metadata": {},
     "output_type": "execute_result"
    }
   ],
   "source": [
    "app_id = open(\"C:/FOLDERS/CEU/Scientific Python/exchange_api_id.txt\").read().strip()\n",
    "app_id"
   ]
  },
  {
   "cell_type": "markdown",
   "metadata": {},
   "source": [
    "Now let's download something and see what we get. Their [docs](https://openexchangerates.org/documentation) help us see how to build a URL."
   ]
  },
  {
   "cell_type": "code",
   "execution_count": 2,
   "metadata": {
    "collapsed": true
   },
   "outputs": [],
   "source": [
    "# from their docs:\n",
    "# http://openexchangerates.org/api/latest.json?app_id=YOUR_APP_ID\n",
    "\n",
    "# build a url from pieces:\n",
    "base_url = \"http://openexchangerates.org/api\"\n",
    "id_str   = \"app_id=%s\" % app_id  # \"app_id\" is the personal app id you get when register\n",
    "URL = \"%s/historical/2011-10-18.json?%s\" % (base_url, id_str) # this format is specified at the end of the doc page"
   ]
  },
  {
   "cell_type": "code",
   "execution_count": 4,
   "metadata": {},
   "outputs": [
    {
     "data": {
      "text/plain": [
       "'http://openexchangerates.org/api/historical/2011-10-18.json?app_id=49ba211092674b0aa0e132642cc4f51b'"
      ]
     },
     "execution_count": 4,
     "metadata": {},
     "output_type": "execute_result"
    }
   ],
   "source": [
    "URL"
   ]
  },
  {
   "cell_type": "markdown",
   "metadata": {},
   "source": [
    "OK, let's download the text of that \"page\" and see what we get."
   ]
  },
  {
   "cell_type": "code",
   "execution_count": 27,
   "metadata": {
    "collapsed": true
   },
   "outputs": [],
   "source": [
    "import urllib.request\n",
    "request = urllib.request.Request(URL)\n",
    "result = urllib.request.urlopen(request)\n",
    "text = result.read()"
   ]
  },
  {
   "cell_type": "code",
   "execution_count": 28,
   "metadata": {},
   "outputs": [
    {
     "name": "stdout",
     "output_type": "stream",
     "text": [
      "b'{\\n  \"disclaimer\": \"Usage subject to terms: https://openexchangerates.org/terms\",\\n  \"license\": \"https://openexchangerates.org/license\",\\n  \"timestamp\": 1318953600,\\n  \"base\": \"USD\",\\n  \"rates\": {\\n    \"AED\": 3.67285,\\n    \"AFN\": 48.325965,\\n    \"ALL\": 102.607855,\\n    \"AMD\": 376.327731,\\n    \"ANG\": 1.77665,\\n    \"AOA\": 94.851761,\\n    \"ARS\": 4.215038,\\n    \"AUD\": 0.979142,\\n    \"AWG\": 1.79025,\\n    \"AZN\": 0.786155,\\n    \"BAM\": 1.429934,\\n    \"BBD\": 2,\\n    \"BDT\": 75.987773,\\n    \"BGN\": 1.430108,\\n    \"BHD\": 0.37653,\\n    \"BIF\": 1231.30548,\\n    \"BMD\": 1,\\n    \"BND\": 1.272581,\\n    \"BOB\": 7.013496,\\n    \"BRL\": 1.767354,\\n    \"BSD\": 1,\\n    \"BTN\": 49.334603,\\n    \"BWP\": 7.340381,\\n    \"BYR\": 4395.431805,\\n    \"BZD\": 1.99315,\\n    \"CAD\": 1.018634,\\n    \"CDF\": 915.22783,\\n    \"CHF\": 0.900405,\\n    \"CLF\": 0.021176,\\n    \"CLP\": 510.174179,\\n    \"CNY\": 6.3813,\\n    \"COP\": 1894.791035,\\n    \"CRC\": 510.707928,\\n    \"CVE\": 80.624452,\\n    \"CZK\": 18.206884,\\n    \"DJF\": 177.721,\\n    \"DKK\": 5.434641,\\n    \"DOP\": 38.360152,\\n    \"DZD\": 73.752369,\\n    \"EGP\": 5.97649,\\n    \"ETB\": 17.126396,\\n    \"EUR\": 0.727941,\\n    \"FJD\": 1.85978,\\n    \"FKP\": 0.636524,\\n    \"GBP\": 0.63674,\\n    \"GEL\": 1.657373,\\n    \"GHS\": 1.629322,\\n    \"GIP\": 0.636297,\\n    \"GMD\": 28.218227,\\n    \"GNF\": 6851.394847,\\n    \"GTQ\": 7.836098,\\n    \"GYD\": 203.032624,\\n    \"HKD\": 7.777602,\\n    \"HNL\": 18.928855,\\n    \"HRK\": 5.459115,\\n    \"HTG\": 40.8583,\\n    \"HUF\": 217.686711,\\n    \"IDR\": 8826.883775,\\n    \"IEP\": 0.686877,\\n    \"ILS\": 3.648627,\\n    \"INR\": 49.356539,\\n    \"IQD\": 1169.98009'\n",
      "\n",
      "\n",
      "b'618,\\n    \"VEF\": 4.29465,\\n    \"VND\": 20919.570165,\\n    \"VUV\": 91.508054,\\n    \"WST\": 2.310598,\\n    \"XAF\": 480.262994,\\n    \"XCD\": 2.693174,\\n    \"XDR\": 0.635175,\\n    \"XOF\": 479.520484,\\n    \"XPF\": 87.253144,\\n    \"YER\": 214.263011,\\n    \"ZAR\": 8.044653,\\n    \"ZMK\": 5060.311287,\\n    \"ZWD\": 15180.722235\\n  }\\n}'\n"
     ]
    }
   ],
   "source": [
    "type(text)\n",
    "# now print the beginning and ending of the text:\n",
    "print(text[:1500])\n",
    "print('\\n')\n",
    "print(text[-300:])"
   ]
  },
  {
   "cell_type": "markdown",
   "metadata": {},
   "source": [
    "OK, this is nice we've got some data in a somewhat human-readable format. If we could print all the ``\\n`` as new lines, we would see something like:\n",
    "\n",
    "<img src=\"json_example.png\">\n",
    "\n",
    "This format is known as [JSON (Javascript Object Notation)](http://en.wikipedia.org/wiki/JSON). It should look familiar to you because it's almost exactly how we type a dictionary into python.\n",
    "\n",
    "This data format has become **very popular recently** because it's not only how you write a python dict but also a **Javascript object**. This means a web browser can trivially parse a JSON string. Other formats, like XML, require real parser code.\n",
    "\n",
    "#### JSON in Python\n",
    "\n",
    "Let's see how to use JSON data in python then we'll return to the exchange data."
   ]
  },
  {
   "cell_type": "code",
   "execution_count": 5,
   "metadata": {},
   "outputs": [
    {
     "name": "stdout",
     "output_type": "stream",
     "text": [
      "{\"name\": \"Alice\"}\n",
      "<class 'str'>\n"
     ]
    }
   ],
   "source": [
    "import json\n",
    "\n",
    "D = {\"name\" : \"Alice\"}\n",
    "json_str = json.dumps(D) # dumps -> dump string\n",
    "print(json_str)\n",
    "print(type(json_str))\n"
   ]
  },
  {
   "cell_type": "markdown",
   "metadata": {},
   "source": [
    "JSON can actually represent more than dicts, like a list of dicts:"
   ]
  },
  {
   "cell_type": "code",
   "execution_count": 7,
   "metadata": {},
   "outputs": [
    {
     "name": "stdout",
     "output_type": "stream",
     "text": [
      "<class 'str'>\n",
      "[{'name': 'Bob', 'age': 28}, {'name': 'Alice', 'age': 23}]\n",
      "<class 'list'>\n",
      "Bob 28\n",
      "<class 'dict'>\n"
     ]
    }
   ],
   "source": [
    "# note the single- vs. double-quotes...\n",
    "string = '[ {\"name\":\"Bob\",\"age\":28}, {\"name\":\"Alice\",\"age\":23} ]'\n",
    "print(type(string))\n",
    "D = json.loads(string)\n",
    "print(D)\n",
    "print(type(D))\n",
    "print(D[0][\"name\"], D[0][\"age\"])\n",
    "print(type(D[0]))"
   ]
  },
  {
   "cell_type": "markdown",
   "metadata": {},
   "source": [
    "### Quick exercise \n",
    "In Class 4 you had a dictionary looking like: <br>\n",
    "\n",
    "{'id1':   \n",
    "   {'name': ['Sara'],   \n",
    "    'class': ['V'],   \n",
    "    'subject_integration': ['english, math, science']  \n",
    "   },  \n",
    " 'id2':   \n",
    "  {'name': ['David'],   \n",
    "    'class': ['V'],   \n",
    "    'subject_integration': ['english, math, science']  \n",
    "   },  \n",
    " 'id3':   \n",
    "    {'name': ['Sara'],   \n",
    "    'class': ['V'],   \n",
    "    'subject_integration': ['english, math, science']  \n",
    "   },  \n",
    " 'id4':   \n",
    "   {'name': ['Surya'],   \n",
    "    'class': ['V'],   \n",
    "    'subject_integration': ['english, math, science']  \n",
    "   },  \n",
    "}\n",
    "\n",
    "\n",
    "Put all this text in a file, read it at one (not line by line) as a string, and then convert it to a dictionary by using the module json.\n",
    "***"
   ]
  },
  {
   "cell_type": "code",
   "execution_count": 3,
   "metadata": {
    "collapsed": true
   },
   "outputs": [],
   "source": [
    "d={'id1':   \n",
    "   {'name': ['Sara'],   \n",
    "    'class': ['V'],   \n",
    "    'subject_integration': ['english, math, science']  \n",
    "   },  \n",
    " 'id2':   \n",
    "  {'name': ['David'],   \n",
    "    'class': ['V'],   \n",
    "    'subject_integration': ['english, math, science']  \n",
    "   },  \n",
    " 'id3':   \n",
    "    {'name': ['Sara'],   \n",
    "    'class': ['V'],   \n",
    "    'subject_integration': ['english, math, science']  \n",
    "   },  \n",
    " 'id4':   \n",
    "   {'name': ['Surya'],   \n",
    "    'class': ['V'],   \n",
    "    'subject_integration': ['english, math, science']  \n",
    "   },  \n",
    "}\n"
   ]
  },
  {
   "cell_type": "code",
   "execution_count": 13,
   "metadata": {},
   "outputs": [
    {
     "data": {
      "text/plain": [
       "dict"
      ]
     },
     "execution_count": 13,
     "metadata": {},
     "output_type": "execute_result"
    }
   ],
   "source": [
    "type(d)"
   ]
  },
  {
   "cell_type": "code",
   "execution_count": 14,
   "metadata": {},
   "outputs": [
    {
     "data": {
      "text/plain": [
       "{'class': ['V'],\n",
       " 'name': ['Sara'],\n",
       " 'subject_integration': ['english, math, science']}"
      ]
     },
     "execution_count": 14,
     "metadata": {},
     "output_type": "execute_result"
    }
   ],
   "source": [
    "list(d.values())[0]"
   ]
  },
  {
   "cell_type": "code",
   "execution_count": 16,
   "metadata": {},
   "outputs": [
    {
     "data": {
      "text/plain": [
       "['name', 'class', 'subject_integration']"
      ]
     },
     "execution_count": 16,
     "metadata": {},
     "output_type": "execute_result"
    }
   ],
   "source": [
    "list(list(d.values())[0].keys())"
   ]
  },
  {
   "cell_type": "markdown",
   "metadata": {},
   "source": [
    "So you can take your dictionary and dump it with the module ``json``. **Dumps: object => string**"
   ]
  },
  {
   "cell_type": "code",
   "execution_count": 6,
   "metadata": {
    "collapsed": true
   },
   "outputs": [],
   "source": [
    "dump_jason=json.dumps(d)"
   ]
  },
  {
   "cell_type": "code",
   "execution_count": 7,
   "metadata": {},
   "outputs": [
    {
     "name": "stdout",
     "output_type": "stream",
     "text": [
      "{\"id1\": {\"name\": [\"Sara\"], \"class\": [\"V\"], \"subject_integration\": [\"english, math, science\"]}, \"id2\": {\"name\": [\"David\"], \"class\": [\"V\"], \"subject_integration\": [\"english, math, science\"]}, \"id3\": {\"name\": [\"Sara\"], \"class\": [\"V\"], \"subject_integration\": [\"english, math, science\"]}, \"id4\": {\"name\": [\"Surya\"], \"class\": [\"V\"], \"subject_integration\": [\"english, math, science\"]}}\n"
     ]
    }
   ],
   "source": [
    "print(dump_jason)"
   ]
  },
  {
   "cell_type": "markdown",
   "metadata": {},
   "source": [
    "This way you will get a string"
   ]
  },
  {
   "cell_type": "code",
   "execution_count": 21,
   "metadata": {},
   "outputs": [
    {
     "data": {
      "text/plain": [
       "str"
      ]
     },
     "execution_count": 21,
     "metadata": {},
     "output_type": "execute_result"
    }
   ],
   "source": [
    "type(dump_jason)"
   ]
  },
  {
   "cell_type": "markdown",
   "metadata": {},
   "source": [
    "You can put this string in a file, to share data with someone else, or to store it, then load it again through the ``json`` module. **Loads: string => object.**"
   ]
  },
  {
   "cell_type": "code",
   "execution_count": 24,
   "metadata": {
    "collapsed": true
   },
   "outputs": [],
   "source": [
    "load_jason=json.loads(dump_jason) ## Here we got a dictionary object."
   ]
  },
  {
   "cell_type": "code",
   "execution_count": 25,
   "metadata": {},
   "outputs": [
    {
     "data": {
      "text/plain": [
       "[{'class': ['V'],\n",
       "  'name': ['Sara'],\n",
       "  'subject_integration': ['english, math, science']},\n",
       " {'class': ['V'],\n",
       "  'name': ['David'],\n",
       "  'subject_integration': ['english, math, science']},\n",
       " {'class': ['V'],\n",
       "  'name': ['Sara'],\n",
       "  'subject_integration': ['english, math, science']},\n",
       " {'class': ['V'],\n",
       "  'name': ['Surya'],\n",
       "  'subject_integration': ['english, math, science']}]"
      ]
     },
     "execution_count": 25,
     "metadata": {},
     "output_type": "execute_result"
    }
   ],
   "source": [
    "list(load_jason.values())"
   ]
  },
  {
   "cell_type": "markdown",
   "metadata": {},
   "source": [
    "**Great!** This means we can take the text from that website and run it through json.loads and we have a nice accessible python dict:"
   ]
  },
  {
   "cell_type": "code",
   "execution_count": 29,
   "metadata": {},
   "outputs": [
    {
     "name": "stdout",
     "output_type": "stream",
     "text": [
      "<class 'dict'>\n",
      "['disclaimer', 'license', 'timestamp', 'base', 'rates']\n"
     ]
    }
   ],
   "source": [
    "data = json.loads(text) # This comes from our API, remember? Now we are creating an object with json.loads.\n",
    "print(type(data))\n",
    "print(list(data.keys()))"
   ]
  },
  {
   "cell_type": "markdown",
   "metadata": {},
   "source": [
    "'rates' value is a dictionary of ticker:rate pairs."
   ]
  },
  {
   "cell_type": "markdown",
   "metadata": {},
   "source": [
    "Sweet. Now we see there's a timestamp key. What does it give us?"
   ]
  },
  {
   "cell_type": "code",
   "execution_count": 30,
   "metadata": {},
   "outputs": [
    {
     "name": "stdout",
     "output_type": "stream",
     "text": [
      "1318953600\n"
     ]
    }
   ],
   "source": [
    "print(data[\"timestamp\"])"
   ]
  },
  {
   "cell_type": "markdown",
   "metadata": {},
   "source": [
    "Is that a UNIX timestamp? Yup! If you don't remember what this is, take the notebook of class 5, and look at the epoch paragraph.\n",
    "\n",
    "This format is so common that `datetime` has a builtin method to deal with it, `fromtimestamp`:"
   ]
  },
  {
   "cell_type": "code",
   "execution_count": 34,
   "metadata": {},
   "outputs": [
    {
     "name": "stdout",
     "output_type": "stream",
     "text": [
      "2011-10-18 18:00:00\n",
      "<class 'datetime.datetime'>\n"
     ]
    }
   ],
   "source": [
    "import datetime\n",
    "t = datetime.datetime.fromtimestamp(data[\"timestamp\"])\n",
    "\n",
    "print(t)\n",
    "print(type(t)) # this is datetime, not a timedelta. Do you remember the difference?"
   ]
  },
  {
   "cell_type": "markdown",
   "metadata": {},
   "source": [
    "Our original URL had `historical/2011-10-18.json` in it, so that timestamp makes perfect sense. See, timestamps!!\n",
    "\n",
    "There are also the `base` and `rates` keys. Those are the actual exchange rate data:"
   ]
  },
  {
   "cell_type": "code",
   "execution_count": 19,
   "metadata": {},
   "outputs": [
    {
     "name": "stdout",
     "output_type": "stream",
     "text": [
      "USD\n",
      "<class 'dict'>\n",
      "['AED', 'AFN', 'ALL', 'AMD', 'ANG']\n"
     ]
    }
   ],
   "source": [
    "print(data[\"base\"])\n",
    "print(type(data[\"rates\"]))\n",
    "print(list(data[\"rates\"].keys())[:5]) # print first five keys"
   ]
  },
  {
   "cell_type": "markdown",
   "metadata": {},
   "source": [
    "`base` tells us what currency the exchange rate is relative to. `rates` is another dict, keyed by three-letter currency name."
   ]
  },
  {
   "cell_type": "code",
   "execution_count": 32,
   "metadata": {},
   "outputs": [
    {
     "name": "stdout",
     "output_type": "stream",
     "text": [
      "0.979142\n"
     ]
    }
   ],
   "source": [
    "print(data[\"rates\"][\"AUD\"])"
   ]
  },
  {
   "cell_type": "markdown",
   "metadata": {},
   "source": [
    "Makes sense, the conversion for USD should always be 1 since the base was USD. Let's check if the exchange rate with the hungarian forint is present, and let's have a look at it:"
   ]
  },
  {
   "cell_type": "code",
   "execution_count": 21,
   "metadata": {},
   "outputs": [
    {
     "name": "stdout",
     "output_type": "stream",
     "text": [
      "Hungarian Forint included. Rate: 217.686711\n"
     ]
    }
   ],
   "source": [
    "try: \n",
    "    print('Hungarian Forint included. Rate:', data[\"rates\"][\"HUF\"])\n",
    "except:\n",
    "    print('currency not included')"
   ]
  },
  {
   "cell_type": "markdown",
   "metadata": {},
   "source": [
    "Now, having a `data` dict like this may seem a little verbose compared to a table or CSV file. A CSV file for exchange rates makes a lot of sense but many data do not fit into a nice regular form like that. Send JSON \"over the wire\" and using dictionary keys makes it easy for us to keep track of what number correspond to what unit of measurement."
   ]
  },
  {
   "cell_type": "markdown",
   "metadata": {},
   "source": [
    "***\n",
    "### Quick exercise\n",
    "How many different currencies are there in the json files? How can you check it quickly?\n",
    "***"
   ]
  },
  {
   "cell_type": "code",
   "execution_count": 33,
   "metadata": {},
   "outputs": [
    {
     "data": {
      "text/plain": [
       "157"
      ]
     },
     "execution_count": 33,
     "metadata": {},
     "output_type": "execute_result"
    }
   ],
   "source": [
    "len(data[\"rates\"])"
   ]
  },
  {
   "cell_type": "markdown",
   "metadata": {},
   "source": [
    "## Exercise: Putting it all together\n",
    "\n",
    "Create a for loop over all years and months between 2010 and 2011, in each loop download the json exchange data for each month, and save it to a big dictionary called ``time2data``, where keys are (year,month) tuples.\n",
    "\n",
    "*Important*: It should take only a few seconds. If you are not sure your code works, test only with a few months, as you can reach the rate limit. "
   ]
  },
  {
   "cell_type": "code",
   "execution_count": 34,
   "metadata": {},
   "outputs": [
    {
     "data": {
      "text/plain": [
       "{(2011, 1): {'AED': 3.67275,\n",
       "  'AFN': 43.027437,\n",
       "  'ALL': 103.765685,\n",
       "  'AMD': 365.859749,\n",
       "  'ANG': 1.79075,\n",
       "  'AOA': 92.72503,\n",
       "  'ARS': 3.979115,\n",
       "  'AUD': 1.002376,\n",
       "  'AWG': 1.79025,\n",
       "  'AZN': 0.796942,\n",
       "  'BAM': 1.463095,\n",
       "  'BBD': 2,\n",
       "  'BDT': 71.107655,\n",
       "  'BGN': 1.462729,\n",
       "  'BHD': 0.3763,\n",
       "  'BIF': 1132.575628,\n",
       "  'BMD': 1,\n",
       "  'BND': 1.286746,\n",
       "  'BOB': 6.960751,\n",
       "  'BRL': 1.673964,\n",
       "  'BSD': 1,\n",
       "  'BTN': 45.429949,\n",
       "  'BWP': 6.618847,\n",
       "  'BYR': 3013.162228,\n",
       "  'BZD': 1.9875,\n",
       "  'CAD': 0.989556,\n",
       "  'CDF': 907.422246,\n",
       "  'CHF': 0.961541,\n",
       "  'CLP': 490.625691,\n",
       "  'CNY': 6.583635,\n",
       "  'COP': 1872.924821,\n",
       "  'CRC': 500.558462,\n",
       "  'CVE': 82.46354,\n",
       "  'CZK': 18.159201,\n",
       "  'DJF': 177.721,\n",
       "  'DKK': 5.5674,\n",
       "  'DOP': 37.267738,\n",
       "  'DZD': 72.760297,\n",
       "  'EGP': 5.823868,\n",
       "  'ETB': 12.728683,\n",
       "  'EUR': 0.747027,\n",
       "  'FJD': 1.840637,\n",
       "  'FKP': 0.625731,\n",
       "  'GBP': 0.625607,\n",
       "  'GEL': 1.808171,\n",
       "  'GHS': 1.489792,\n",
       "  'GIP': 0.624972,\n",
       "  'GMD': 27.397578,\n",
       "  'GNF': 7230.603317,\n",
       "  'GTQ': 7.968284,\n",
       "  'GYD': 203.13098,\n",
       "  'HKD': 7.776999,\n",
       "  'HNL': 18.92,\n",
       "  'HRK': 5.525992,\n",
       "  'HTG': 39.993234,\n",
       "  'HUF': 203.770242,\n",
       "  'IDR': 9041.56115,\n",
       "  'IEP': 0.693445,\n",
       "  'ILS': 3.533219,\n",
       "  'INR': 45.425234,\n",
       "  'IQD': 1176.548145,\n",
       "  'IRR': 10382.732481,\n",
       "  'ISK': 117.129934,\n",
       "  'JMD': 86.675661,\n",
       "  'JOD': 0.708625,\n",
       "  'JPY': 82.577139,\n",
       "  'KES': 80.936119,\n",
       "  'KGS': 47.400867,\n",
       "  'KHR': 4039.294256,\n",
       "  'KMF': 367.936579,\n",
       "  'KPW': 143.030801,\n",
       "  'KRW': 1111.857183,\n",
       "  'KWD': 0.280694,\n",
       "  'KZT': 146.899671,\n",
       "  'LAK': 8027.265201,\n",
       "  'LBP': 1501.494598,\n",
       "  'LKR': 110.777635,\n",
       "  'LRD': 69.976151,\n",
       "  'LSL': 6.881041,\n",
       "  'LTL': 2.582305,\n",
       "  'LVL': 0.525318,\n",
       "  'LYD': 1.247952,\n",
       "  'MAD': 8.364715,\n",
       "  'MDL': 12.297324,\n",
       "  'MGA': 2076.121405,\n",
       "  'MKD': 45.89365,\n",
       "  'MMK': 6.51,\n",
       "  'MNT': 1236.984145,\n",
       "  'MOP': 8.011164,\n",
       "  'MRO': 283.536558,\n",
       "  'MUR': 29.969984,\n",
       "  'MVR': 12.8,\n",
       "  'MWK': 150.849357,\n",
       "  'MXN': 12.006977,\n",
       "  'MYR': 3.056715,\n",
       "  'MZN': 32.651839,\n",
       "  'NAD': 6.905922,\n",
       "  'NGN': 152.459659,\n",
       "  'NIO': 19.855507,\n",
       "  'NOK': 5.841137,\n",
       "  'NPR': 71.252692,\n",
       "  'NZD': 1.296841,\n",
       "  'OMR': 0.384497,\n",
       "  'PAB': 1,\n",
       "  'PEN': 2.786935,\n",
       "  'PGK': 2.631145,\n",
       "  'PHP': 44.516052,\n",
       "  'PKR': 85.806357,\n",
       "  'PLN': 2.894847,\n",
       "  'PYG': 4641.718002,\n",
       "  'QAR': 3.64,\n",
       "  'RON': 3.183453,\n",
       "  'RSD': 78.154156,\n",
       "  'RUB': 29.896002,\n",
       "  'RWF': 593.933014,\n",
       "  'SAR': 3.750125,\n",
       "  'SBD': 7.77098,\n",
       "  'SCR': 12.28614,\n",
       "  'SDG': 2.500942,\n",
       "  'SEK': 6.663806,\n",
       "  'SGD': 1.283112,\n",
       "  'SHP': 0.625731,\n",
       "  'SLL': 4186.726225,\n",
       "  'SOS': 1599.678528,\n",
       "  'SRD': 2.710152,\n",
       "  'STD': 18387.780346,\n",
       "  'SVC': 8.747965,\n",
       "  'SYP': 46.739459,\n",
       "  'SZL': 6.901463,\n",
       "  'THB': 30.478328,\n",
       "  'TJS': 4.402587,\n",
       "  'TMT': 2.824646,\n",
       "  'TND': 1.431235,\n",
       "  'TOP': 1.854504,\n",
       "  'TRY': 1.536475,\n",
       "  'TTD': 6.31525,\n",
       "  'TWD': 29.021895,\n",
       "  'TZS': 1482.491025,\n",
       "  'UAH': 7.947443,\n",
       "  'UGX': 2392.491026,\n",
       "  'USD': 1,\n",
       "  'UYU': 19.849978,\n",
       "  'UZS': 1655.612894,\n",
       "  'VEF': 4.29465,\n",
       "  'VND': 19491.110912,\n",
       "  'VUV': 93.566343,\n",
       "  'WST': 2.349006,\n",
       "  'XAF': 498.340933,\n",
       "  'XCD': 2.692646,\n",
       "  'XDR': 0.646174,\n",
       "  'XOF': 490.990923,\n",
       "  'XPF': 90.223327,\n",
       "  'YER': 214.643327,\n",
       "  'ZAR': 6.902282,\n",
       "  'ZMK': 4769.143239,\n",
       "  'ZWD': 15180.710302},\n",
       " (2011, 2): {'AED': 3.672795,\n",
       "  'AFN': 43.025817,\n",
       "  'ALL': 102.15392,\n",
       "  'AMD': 365.688606,\n",
       "  'ANG': 1.79075,\n",
       "  'AOA': 92.961934,\n",
       "  'ARS': 4.021799,\n",
       "  'AUD': 0.987353,\n",
       "  'AWG': 1.79025,\n",
       "  'AZN': 0.794417,\n",
       "  'BAM': 1.435131,\n",
       "  'BBD': 2,\n",
       "  'BDT': 71.027697,\n",
       "  'BGN': 1.43525,\n",
       "  'BHD': 0.376475,\n",
       "  'BIF': 1138.984527,\n",
       "  'BMD': 1,\n",
       "  'BND': 1.273734,\n",
       "  'BOB': 7.007813,\n",
       "  'BRL': 1.665464,\n",
       "  'BSD': 1,\n",
       "  'BTN': 45.183423,\n",
       "  'BWP': 6.782529,\n",
       "  'BYR': 3021.352642,\n",
       "  'BZD': 1.9875,\n",
       "  'CAD': 0.98428,\n",
       "  'CDF': 919.871645,\n",
       "  'CHF': 0.948678,\n",
       "  'CLP': 469.200765,\n",
       "  'CNY': 6.572319,\n",
       "  'COP': 1880.004827,\n",
       "  'CRC': 496.362381,\n",
       "  'CVE': 80.914361,\n",
       "  'CZK': 17.87712,\n",
       "  'DJF': 177.721,\n",
       "  'DKK': 5.459948,\n",
       "  'DOP': 37.744459,\n",
       "  'DZD': 72.658168,\n",
       "  'EGP': 5.875246,\n",
       "  'ETB': 12.75167,\n",
       "  'EUR': 0.731365,\n",
       "  'FJD': 1.851623,\n",
       "  'FKP': 0.615618,\n",
       "  'GBP': 0.615791,\n",
       "  'GEL': 1.763217,\n",
       "  'GHS': 1.374141,\n",
       "  'GIP': 0.616056,\n",
       "  'GMD': 28.256142,\n",
       "  'GNF': 7244.713187,\n",
       "  'GTQ': 7.782681,\n",
       "  'GYD': 204.932886,\n",
       "  'HKD': 7.784581,\n",
       "  'HNL': 18.92,\n",
       "  'HRK': 5.431375,\n",
       "  'HTG': 40.848312,\n",
       "  'HUF': 197.939224,\n",
       "  'IDR': 8852.963266,\n",
       "  'IEP': 0.687912,\n",
       "  'ILS': 3.627072,\n",
       "  'INR': 45.150986,\n",
       "  'IQD': 1177.854767,\n",
       "  'IRR': 10369.519516,\n",
       "  'ISK': 117.390666,\n",
       "  'JMD': 86.911562,\n",
       "  'JOD': 0.708875,\n",
       "  'JPY': 83.245439,\n",
       "  'KES': 81.535174,\n",
       "  'KGS': 47.434209,\n",
       "  'KHR': 4023.930153,\n",
       "  'KMF': 361.024437,\n",
       "  'KPW': 143.056657,\n",
       "  'KRW': 1111.176348,\n",
       "  'KWD': 0.280209,\n",
       "  'KZT': 146.163391,\n",
       "  'LAK': 8064.352168,\n",
       "  'LBP': 1504.840662,\n",
       "  'LKR': 110.858298,\n",
       "  'LRD': 72.494052,\n",
       "  'LSL': 7.146036,\n",
       "  'LTL': 2.533793,\n",
       "  'LVL': 0.516366,\n",
       "  'LYD': 1.239206,\n",
       "  'MAD': 8.233051,\n",
       "  'MDL': 12.091521,\n",
       "  'MGA': 2010.008219,\n",
       "  'MKD': 45.031482,\n",
       "  'MMK': 6.51,\n",
       "  'MNT': 1247.305196,\n",
       "  'MOP': 8.015329,\n",
       "  'MRO': 284.102311,\n",
       "  'MUR': 29.472413,\n",
       "  'MVR': 12.7975,\n",
       "  'MWK': 151.135416,\n",
       "  'MXN': 12.008387,\n",
       "  'MYR': 3.028974,\n",
       "  'MZN': 31.250624,\n",
       "  'NAD': 7.158668,\n",
       "  'NGN': 153.787896,\n",
       "  'NIO': 19.894744,\n",
       "  'NOK': 5.680783,\n",
       "  'NPR': 71.069268,\n",
       "  'NZD': 1.31211,\n",
       "  'OMR': 0.384497,\n",
       "  'PAB': 1,\n",
       "  'PEN': 2.774681,\n",
       "  'PGK': 2.597196,\n",
       "  'PHP': 43.292693,\n",
       "  'PKR': 85.476609,\n",
       "  'PLN': 2.872606,\n",
       "  'PYG': 4592.423193,\n",
       "  'QAR': 3.64,\n",
       "  'RON': 3.110291,\n",
       "  'RSD': 76.047082,\n",
       "  'RUB': 29.120039,\n",
       "  'RWF': 597.737734,\n",
       "  'SAR': 3.750105,\n",
       "  'SBD': 7.725903,\n",
       "  'SCR': 12.424871,\n",
       "  'SDG': 2.622551,\n",
       "  'SEK': 6.400185,\n",
       "  'SGD': 1.273798,\n",
       "  'SHP': 0.615618,\n",
       "  'SLL': 4187.533408,\n",
       "  'SOS': 1605.941785,\n",
       "  'SRD': 3.275061,\n",
       "  'STD': 17984.665444,\n",
       "  'SVC': 8.747557,\n",
       "  'SYP': 46.850163,\n",
       "  'SZL': 7.146025,\n",
       "  'THB': 30.560239,\n",
       "  'TJS': 4.402414,\n",
       "  'TMT': 2.771581,\n",
       "  'TND': 1.420705,\n",
       "  'TOP': 1.853574,\n",
       "  'TRY': 1.577896,\n",
       "  'TTD': 6.31525,\n",
       "  'TWD': 29.375546,\n",
       "  'TZS': 1512.50477,\n",
       "  'UAH': 7.957529,\n",
       "  'UGX': 2379.755724,\n",
       "  'USD': 1,\n",
       "  'UYU': 19.450049,\n",
       "  'UZS': 1670.998752,\n",
       "  'VEF': 4.29465,\n",
       "  'VND': 20885.070595,\n",
       "  'VUV': 94.000103,\n",
       "  'WST': 2.363363,\n",
       "  'XAF': 493.732841,\n",
       "  'XCD': 2.692164,\n",
       "  'XDR': 0.641739,\n",
       "  'XOF': 481.582831,\n",
       "  'XPF': 87.525023,\n",
       "  'YER': 214.762789,\n",
       "  'ZAR': 7.147325,\n",
       "  'ZMK': 4775.007562,\n",
       "  'ZWD': 15180.700598}}"
      ]
     },
     "execution_count": 34,
     "metadata": {},
     "output_type": "execute_result"
    }
   ],
   "source": [
    "import urllib.request\n",
    "time2data = {}\n",
    "\n",
    "\n",
    "for i in range(1,3):\n",
    "    if i < 10:\n",
    "        datum = \"%s/historical/2011-\" + str(0) + str(i) + \"-18.json?%s\"\n",
    "    else:\n",
    "        datum = \"%s/historical/2011-\" + str(i) + \"-18.json?%s\"\n",
    "    URL = datum % (base_url, id_str)\n",
    "    request = urllib.request.Request(URL)\n",
    "    result = urllib.request.urlopen(request)\n",
    "    text = result.read()\n",
    "    text_to_dic = json.loads(text)\n",
    "    timestamp = text_to_dic[\"timestamp\"]\n",
    "    key = (int(datetime.datetime.fromtimestamp(timestamp).strftime(\"%Y\")),int(datetime.datetime.fromtimestamp(timestamp).strftime(\"%m\")))\n",
    "    time2data[key] = text_to_dic[\"rates\"]\n",
    "\n",
    "time2data\n",
    "    "
   ]
  },
  {
   "cell_type": "code",
   "execution_count": 36,
   "metadata": {},
   "outputs": [
    {
     "data": {
      "text/plain": [
       "0.731365"
      ]
     },
     "execution_count": 36,
     "metadata": {},
     "output_type": "execute_result"
    }
   ],
   "source": [
    "time2data[(2011, 2)][\"EUR\"]"
   ]
  },
  {
   "cell_type": "markdown",
   "metadata": {},
   "source": [
    "I assume you have your time2data. I got it already :) Now we can look at some data:"
   ]
  },
  {
   "cell_type": "code",
   "execution_count": 38,
   "metadata": {
    "collapsed": true
   },
   "outputs": [],
   "source": [
    "list_ex = []\n",
    "list_ts = []\n",
    "\n",
    "for y_m in sorted(time2data.keys()): # sorted() makes sure we loop\n",
    "                                     # over the dict in time order\n",
    "    list_ts.append(y_m)\n",
    "    \n",
    "    data = time2data[y_m]\n",
    "    #exch_eur = data[\"rates\"][\"HUF\"]\n",
    "    exch_eur = data[\"HUF\"]\n",
    "    list_ex.append(exch_eur)"
   ]
  },
  {
   "cell_type": "markdown",
   "metadata": {},
   "source": [
    "This gives us a list of (year,month) tuples and a list of HUF->USD exchange rates (since `base` is always USD).\n",
    "\n",
    "We can just drop the time information, but `matplotlib` gives us a nice tool to work with python datetime. So let's convert our `(1999,3)` tuples into `datetime`s."
   ]
  },
  {
   "cell_type": "code",
   "execution_count": 25,
   "metadata": {
    "collapsed": true
   },
   "outputs": [],
   "source": [
    "list_dt = []\n",
    "for yr,mo in list_ts:\n",
    "    dt = datetime.datetime(year=yr,month=mo,day=1)\n",
    "    list_dt.append(dt)"
   ]
  },
  {
   "cell_type": "code",
   "execution_count": 26,
   "metadata": {},
   "outputs": [
    {
     "data": {
      "text/plain": [
       "[datetime.datetime(2010, 1, 1, 0, 0),\n",
       " datetime.datetime(2010, 2, 1, 0, 0),\n",
       " datetime.datetime(2010, 3, 1, 0, 0),\n",
       " datetime.datetime(2010, 4, 1, 0, 0),\n",
       " datetime.datetime(2010, 5, 1, 0, 0),\n",
       " datetime.datetime(2010, 6, 1, 0, 0),\n",
       " datetime.datetime(2010, 7, 1, 0, 0),\n",
       " datetime.datetime(2010, 8, 1, 0, 0),\n",
       " datetime.datetime(2010, 9, 1, 0, 0),\n",
       " datetime.datetime(2010, 10, 1, 0, 0),\n",
       " datetime.datetime(2010, 11, 1, 0, 0),\n",
       " datetime.datetime(2011, 1, 1, 0, 0),\n",
       " datetime.datetime(2011, 2, 1, 0, 0),\n",
       " datetime.datetime(2011, 3, 1, 0, 0),\n",
       " datetime.datetime(2011, 4, 1, 0, 0),\n",
       " datetime.datetime(2011, 5, 1, 0, 0),\n",
       " datetime.datetime(2011, 6, 1, 0, 0),\n",
       " datetime.datetime(2011, 7, 1, 0, 0),\n",
       " datetime.datetime(2011, 8, 1, 0, 0),\n",
       " datetime.datetime(2011, 9, 1, 0, 0),\n",
       " datetime.datetime(2011, 10, 1, 0, 0),\n",
       " datetime.datetime(2011, 11, 1, 0, 0)]"
      ]
     },
     "execution_count": 26,
     "metadata": {},
     "output_type": "execute_result"
    }
   ],
   "source": [
    "list_dt"
   ]
  },
  {
   "cell_type": "markdown",
   "metadata": {},
   "source": [
    "***\n",
    "### Quick exercise\n",
    "Create list_dt with a list comprehension\n",
    "***"
   ]
  },
  {
   "cell_type": "code",
   "execution_count": 41,
   "metadata": {
    "collapsed": true
   },
   "outputs": [],
   "source": [
    "list_dt = [datetime.datetime(year=yr,month=mo,day=1) for yr,mo in list_ts]"
   ]
  },
  {
   "cell_type": "markdown",
   "metadata": {},
   "source": [
    "Now we can use matplotlibs `date2num` tool:"
   ]
  },
  {
   "cell_type": "code",
   "execution_count": 27,
   "metadata": {
    "collapsed": true
   },
   "outputs": [],
   "source": [
    "import matplotlib.dates\n",
    "import matplotlib.pyplot as plt\n",
    "import matplotlib\n",
    "%matplotlib inline\n",
    "dates = matplotlib.dates.date2num(list_dt)"
   ]
  },
  {
   "cell_type": "markdown",
   "metadata": {},
   "source": [
    "And now make a nice plot (hope it looks good!)"
   ]
  },
  {
   "cell_type": "code",
   "execution_count": 28,
   "metadata": {},
   "outputs": [
    {
     "data": {
      "image/png": "[encoded data removed]",
      "text/plain": [
       "<matplotlib.figure.Figure at 0x10a94c358>"
      ]
     },
     "metadata": {},
     "output_type": "display_data"
    }
   ],
   "source": [
    "plt.plot_date(dates, list_ex, \"o-\") # note plot_date !\n",
    "plt.show()"
   ]
  },
  {
   "cell_type": "markdown",
   "metadata": {},
   "source": [
    "Let's annotate the plot a little bit to make it easier to read. Like most graphical toolkits, `matplotlib` is very powerful but can be hard to explore. Have a look at the matplotlib notebook to figure out some of these tweaks!"
   ]
  },
  {
   "cell_type": "code",
   "execution_count": 29,
   "metadata": {},
   "outputs": [
    {
     "data": {
      "image/png": "[encoded data removed]",
      "text/plain": [
       "<matplotlib.figure.Figure at 0x111367cf8>"
      ]
     },
     "metadata": {},
     "output_type": "display_data"
    }
   ],
   "source": [
    "fig, ax = plt.subplots()\n",
    "plt.plot_date(dates, list_ex, \".-\")\n",
    "\n",
    "# add horizontal bar denoting 200 HUF = USD:\n",
    "plt.axhline(200, linewidth=2, color='r')\n",
    "\n",
    "# clean it up:\n",
    "plt.xlabel(\"Year\",        fontsize=20)\n",
    "plt.ylabel(\"HUF vs. USD\", fontsize=20)\n",
    "plt.tick_params(labelsize=16)\n",
    "max_xticks = 3\n",
    "xloc = plt.MaxNLocator(max_xticks)\n",
    "ax.xaxis.set_major_locator(xloc)\n",
    "min_locator=matplotlib.ticker.AutoMinorLocator(6)\n",
    "ax.xaxis.set_minor_locator(min_locator)"
   ]
  },
  {
   "cell_type": "markdown",
   "metadata": {},
   "source": [
    "We are building up the ability to do some **cool stuff**! :)"
   ]
  },
  {
   "cell_type": "markdown",
   "metadata": {},
   "source": [
    "## Exercise"
   ]
  },
  {
   "cell_type": "markdown",
   "metadata": {},
   "source": [
    "* Register for the API, and create your own app_id key\n",
    "* Get the exchange rate HUF vs USD from 2000 to 2010, but every six months. Plot it on a plot.\n",
    "* Get the exchange rate EUR vs USD from 2000 to 2010 monthly (careful with API rate limits! Test with, say, one year of data, and then request the rest). Plot it.\n",
    "* Combine the two previous trends in one plot: put EUR vs USD in the main plot and HUF vs USD in an insert. Use different colors, and different symbols.\n",
    "* Make nice plots: add a title, a legend. For example, use bigger round ('o') markers with bigger size (command MarkerSize), make the edge color (MarkerEdgecolor) light grey, the filling (MarkerFaceColor) red. Check a few examples in the matplotlib notebook\n",
    "* Put HUFvsUSD and EURvsUSD in the same plot with two y-axis. The command is ```twinx``` and you can look up an example in the matplotlib notebook.\n",
    "* Create a function that given a list and a window, return the [ moving average](https://en.wikipedia.org/wiki/Moving_average) with that window. Apply it to the EUR vs USD rate exchange and...\n",
    "* ...plot it, but removing the top and right axes (command spine, look the matplotlib example)\n",
    "\n",
    "Note: we will see commands to computer the moving average with one line. Here we want to see if you are able to write code to compute it by yourself. \n"
   ]
  },
  {
   "cell_type": "code",
   "execution_count": 44,
   "metadata": {
    "collapsed": true
   },
   "outputs": [],
   "source": [
    "import urllib.request\n",
    "time2data = {}\n",
    "\n",
    "for h in range(2000,2005):\n",
    "    for i in range(1,13):\n",
    "        if i < 10:\n",
    "            datum = \"%s/historical/\" + str(h) + \"-\" + str(0) + str(i) + \"-18.json?%s\"\n",
    "        else:\n",
    "            datum = \"%s/historical/\" + str(h) + \"-\" + str(i) + \"-18.json?%s\"\n",
    "        URL = datum % (base_url, id_str)\n",
    "        request = urllib.request.Request(URL)\n",
    "        result = urllib.request.urlopen(request)\n",
    "        text = result.read()\n",
    "        text_to_dic = json.loads(text)\n",
    "        timestamp = text_to_dic[\"timestamp\"]\n",
    "        key = (int(datetime.datetime.fromtimestamp(timestamp).strftime(\"%Y\")),int(datetime.datetime.fromtimestamp(timestamp).strftime(\"%m\")))\n",
    "        time2data[key] = text_to_dic[\"rates\"]"
   ]
  },
  {
   "cell_type": "code",
   "execution_count": 48,
   "metadata": {
    "collapsed": true
   },
   "outputs": [],
   "source": [
    "list_ex_EURUSD = []\n",
    "list_ex_USDHUF = []\n",
    "list_ts = []\n",
    "\n",
    "for y_m in sorted(time2data.keys()): # sorted() makes sure we loop\n",
    "                                     # over the dict in time order\n",
    "    list_ts.append(y_m)\n",
    "    \n",
    "    data = time2data[y_m]\n",
    "    exch_eur = 1 / data[\"EUR\"]\n",
    "    list_ex_EURUSD.append(exch_eur)\n",
    "    exch_huf = data[\"HUF\"]\n",
    "    list_ex_USDHUF.append(exch_huf)\n"
   ]
  },
  {
   "cell_type": "code",
   "execution_count": 67,
   "metadata": {
    "collapsed": true
   },
   "outputs": [],
   "source": [
    "import matplotlib.dates\n",
    "import matplotlib.pyplot as plt\n",
    "import matplotlib\n",
    "%matplotlib inline\n",
    "from pylab import *"
   ]
  },
  {
   "cell_type": "code",
   "execution_count": 52,
   "metadata": {
    "collapsed": true
   },
   "outputs": [],
   "source": [
    "list_dt = [datetime.datetime(year=yr,month=mo,day=18) for yr,mo in list_ts]\n",
    "dates = matplotlib.dates.date2num(list_dt)"
   ]
  },
  {
   "cell_type": "code",
   "execution_count": 112,
   "metadata": {
    "scrolled": true
   },
   "outputs": [
    {
     "data": {
      "image/png": "[encoded data removed]",
      "text/plain": [
       "<matplotlib.figure.Figure at 0x23345b9d748>"
      ]
     },
     "metadata": {},
     "output_type": "display_data"
    }
   ],
   "source": [
    "plt.plot_date(dates, list_ex_EURUSD, \"r-\")\n",
    "plt.ylabel(\"EURUSD\")\n",
    "plt.title(\"Early history of the EURUSD exchange rate\", fontsize = 12)\n",
    "show()\n",
    "          "
   ]
  },
  {
   "cell_type": "code",
   "execution_count": 109,
   "metadata": {},
   "outputs": [
    {
     "data": {
      "image/png": "[encoded data removed]",
      "text/plain": [
       "<matplotlib.figure.Figure at 0x23346c529b0>"
      ]
     },
     "metadata": {},
     "output_type": "display_data"
    }
   ],
   "source": [
    "fig = plt.figure()\n",
    "\n",
    "axes1 = fig.add_axes([0.1, 0.1, 1.2, 1.2])\n",
    "axes2 = fig.add_axes([0.25, 0.75, 0.5, 0.5])\n",
    "\n",
    "axes1.plot(dates, list_ex_EURUSD,\"b\")\n",
    "axes1.set_ylabel(\"EURUSD\", fontsize = 12)\n",
    "axes1.xaxis_date()\n",
    "\n",
    "axes2.plot(dates, list_ex_USDHUF, \"r*-\", markersize = 4)\n",
    "axes2.set_ylabel(\"USDHUF\", fontsize = 8)\n",
    "\n",
    "axes2.xaxis_date()\n",
    "show()\n"
   ]
  },
  {
   "cell_type": "code",
   "execution_count": 117,
   "metadata": {
    "scrolled": false
   },
   "outputs": [
    {
     "data": {
      "image/png": "[encoded data removed]",
      "text/plain": [
       "<matplotlib.figure.Figure at 0x23347016f28>"
      ]
     },
     "metadata": {},
     "output_type": "display_data"
    }
   ],
   "source": [
    "fig, ax1 = plt.subplots()\n",
    "\n",
    "ax1.plot(dates, list_ex_EURUSD, \"r-\")\n",
    "ax1.xaxis_date()\n",
    "ax1.set_ylabel(\"EURUSD\", color = \"r\")\n",
    "\n",
    "ax2 = ax1.twinx()\n",
    "ax2.plot(dates, list_ex_USDHUF, \"b-\")\n",
    "ax2.set_ylabel(\"USDHUF\", color = \"b\")\n",
    "\n",
    "show()"
   ]
  },
  {
   "cell_type": "code",
   "execution_count": null,
   "metadata": {
    "collapsed": true
   },
   "outputs": [],
   "source": []
  },
  {
   "cell_type": "code",
   "execution_count": 174,
   "metadata": {
    "scrolled": true
   },
   "outputs": [
    {
     "data": {
      "image/png": "[encoded data removed]",
      "text/plain": [
       "<matplotlib.figure.Figure at 0x233473b1940>"
      ]
     },
     "metadata": {},
     "output_type": "display_data"
    }
   ],
   "source": [
    "def movingavg(inputlist, window_size):\n",
    "    outputlist = []\n",
    "    for i in range(0, len(inputlist)):\n",
    "        if i < window_size:\n",
    "            outputlist.append(float(\"nan\"))\n",
    "        else:\n",
    "            outputlist.append(sum(inputlist[i-window_size:i])/window_size)\n",
    "    return outputlist\n",
    "\n",
    "avg_exchange_rate = movingavg(list_ex_EURUSD, 6)\n",
    "\n",
    "fig, ax1 = plt.subplots()\n",
    "\n",
    "\n",
    "plt.plot(dates, list_ex_EURUSD, 'r--', dates, avg_exchange_rate, 'b-')\n",
    "ax1.xaxis_date()\n",
    "ax1.legend([\"EURUSD\", \"12-month moving average\"])\n",
    "\n",
    "\n",
    "show()"
   ]
  },
  {
   "cell_type": "markdown",
   "metadata": {},
   "source": [
    "## Optional: Working with Twitter APIs\n",
    "*(by [ Milan Janosov](http://www.milanjanosov.com/), Network Science PhD student)*\n",
    "\n",
    "Twitter provides two official channels to access 1% of their data for free: the Search API and the Stream API. While on the Stream API you can follow the tweets real time, the Search API allows you to retrieve tweets back to one week. Here we focus on the latter by writing a script which downloads all the available tweets containing a keyword or a set of keywords. We will do so by using the module ```TwitterSearch```. It is important to note that there are several other popular Twitter API wrappers written in Python, such as ```Twython``` or ```Twypy```."
   ]
  },
  {
   "cell_type": "markdown",
   "metadata": {},
   "source": [
    "First, you will need to install TwitterSearch. FOr example, in unix this can be done with the command ``pip install TwitterSearch``, or ``!pip install TwitterSearch`` from the notebook. In windows, the easiest thing is to use the Anaconda interface."
   ]
  },
  {
   "cell_type": "code",
   "execution_count": 30,
   "metadata": {
    "collapsed": true
   },
   "outputs": [],
   "source": [
    "from TwitterSearch import *"
   ]
  },
  {
   "cell_type": "code",
   "execution_count": 31,
   "metadata": {
    "collapsed": true
   },
   "outputs": [],
   "source": [
    "def download_tweets(keywords, credentials):\n",
    "\n",
    "\n",
    "    for keyword in keywords:\n",
    " \n",
    "        # An object is an advanced data struture which has its own fields (containers)\n",
    "        # and certain built-in functions to manipulate those fields. An important\n",
    "        # programming paradigm, the Object Oriented Paradigm introduced this concept. \n",
    "        print ('Creating TwitterSearch object... this might take a minute or two.')\n",
    "        tso = TwitterSearchOrder()      # create a TwitterSearchOrder object\n",
    "        tso.set_keywords([keyword])     # let's define all words we would like to have a look for\n",
    "        tso.set_language('en')          # we want to see English tweets only. If you want, say, german tweets set to de\n",
    "        tso.set_include_entities(False) # and don't give us all those entity information\n",
    "        \n",
    "        # You need to be authentica\n",
    "        ts = TwitterSearch(consumer_key        = credentials['consumer_key'       ], \n",
    "                           consumer_secret     = credentials['consumer_secret'    ], \n",
    "                           access_token        = credentials['access_token'       ], \n",
    "                           access_token_secret = credentials['access_token_secret']  )\n",
    "\n",
    "\n",
    "\n",
    "        print ('Downloading tweets about ' + keyword + ', be patience...')\n",
    "        tweets = []\n",
    "        \n",
    "        # This loop iterates over the TwitterSearchOrder results: a set of tweets,\n",
    "        # which has certain fields, such as 'user' or 'geo'. (Note: only 7% of the tweets are geotagged)\n",
    "        for tweet in ts.search_tweets_iterable(tso):\n",
    "            \n",
    "            user  = tweet['user']['screen_name'].encode('utf-8')\n",
    "            text  = tweet['text'].encode('utf-8')\n",
    "            timet = tweet['created_at']\n",
    "            geo   = tweet['geo'] \n",
    "            retw  = tweet['retweet_count']\n",
    "            favs  = tweet['favorite_count']\n",
    "            \n",
    "            tweet_data = str(keyword) + '\\t'+str(user) + '\\t'+str(text) + '\\t'+str(geo) + '\\t'+str(retw) + '\\t' + str(timet) + '\\t' + str(favs) \n",
    "            tweets.append(tweet_data)     \n",
    "                 \n",
    "    return tweets"
   ]
  },
  {
   "cell_type": "markdown",
   "metadata": {},
   "source": [
    "Prepare your phone and sign up for twitter developer credentials here: https://apps.twitter.com/app/new   and replace the ---s. With the piece of code below, I am importing my credentials from a file ```twitter_credentials.txt```. The credentials are written in json format:\n",
    "\n",
    "```credentials = {'consumer_key'        : 'XXXXXXXXXXXXX',\n",
    "'consumer_secret'     : 'XXXXXXXXXXXXXXXXXXXXX',\n",
    "'access_token'        : 'XXXXXXXXXXXXXXXXXXXXXXXXXX',\n",
    "'access_token_secret' : 'XXXXXXXXXXXXXXXXXXXXXXXXXXX'}```\n",
    "\n",
    "where XXXX... are strings of letters and numbers. Write your credentials also in a file to use the piece of code below."
   ]
  },
  {
   "cell_type": "code",
   "execution_count": 32,
   "metadata": {
    "collapsed": true
   },
   "outputs": [],
   "source": [
    "import json\n",
    "fin=open('personal/twitter_credentials.txt')\n",
    "credentials=json.loads(fin.read())\n",
    "fin.close()\n"
   ]
  },
  {
   "cell_type": "markdown",
   "metadata": {},
   "source": [
    "Give some keywords you are interested in: the script will download all the tweets containing these expressions the result is a list of tweets where is tweet is a string, however, it can be split by tabs to the following fields: keyword, user, text, geolocation, retweet count, tweet time, number of favs"
   ]
  },
  {
   "cell_type": "code",
   "execution_count": 33,
   "metadata": {},
   "outputs": [
    {
     "name": "stdout",
     "output_type": "stream",
     "text": [
      "Creating TwitterSearch object... this might take a minute or two.\n",
      "Downloading tweets about #istandwithceu, be patience...\n",
      "['#istandwithceu\\tb\\'Shugars\\'\\tb\"RT @ceuhungary: CEU Welcomes German Chancellor Spokesperson\\'s Call for Signing of NY-Hungary Agreement #istandwithCEU https://t.co/nTj7BgiM\\\\xe2\\\\x80\\\\xa6\"\\tNone\\t9\\tTue Oct 10 10:50:23 +0000 2017\\t0', '#istandwithceu\\tb\\'martapardavi\\'\\tb\"RT @ceuhungary: CEU Welcomes German Chancellor Spokesperson\\'s Call for Signing of NY-Hungary Agreement #istandwithCEU https://t.co/nTj7BgiM\\\\xe2\\\\x80\\\\xa6\"\\tNone\\t9\\tTue Oct 10 09:57:10 +0000 2017\\t0', '#istandwithceu\\tb\\'zoowalk\\'\\tb\"RT @ceuhungary: CEU Welcomes German Chancellor Spokesperson\\'s Call for Signing of NY-Hungary Agreement #istandwithCEU https://t.co/nTj7BgiM\\\\xe2\\\\x80\\\\xa6\"\\tNone\\t9\\tTue Oct 10 09:31:09 +0000 2017\\t0', '#istandwithceu\\tb\\'mcg_fiona\\'\\tb\"RT @ceuhungary: CEU Welcomes German Chancellor Spokesperson\\'s Call for Signing of NY-Hungary Agreement #istandwithCEU https://t.co/nTj7BgiM\\\\xe2\\\\x80\\\\xa6\"\\tNone\\t9\\tTue Oct 10 09:17:23 +0000 2017\\t0', '#istandwithceu\\tb\\'ustirhistpol\\'\\tb\"RT @ceuhungary: CEU Welcomes German Chancellor Spokesperson\\'s Call for Signing of NY-Hungary Agreement #istandwithCEU https://t.co/nTj7BgiM\\\\xe2\\\\x80\\\\xa6\"\\tNone\\t9\\tTue Oct 10 09:12:48 +0000 2017\\t0', '#istandwithceu\\tb\\'ultrahumano\\'\\tb\"RT @ceuhungary: CEU Welcomes German Chancellor Spokesperson\\'s Call for Signing of NY-Hungary Agreement #istandwithCEU https://t.co/nTj7BgiM\\\\xe2\\\\x80\\\\xa6\"\\tNone\\t9\\tTue Oct 10 09:01:40 +0000 2017\\t0', '#istandwithceu\\tb\\'tscottphillips\\'\\tb\"RT @ceuhungary: CEU Welcomes German Chancellor Spokesperson\\'s Call for Signing of NY-Hungary Agreement #istandwithCEU https://t.co/nTj7BgiM\\\\xe2\\\\x80\\\\xa6\"\\tNone\\t9\\tTue Oct 10 08:48:51 +0000 2017\\t0', '#istandwithceu\\tb\\'phn0e\\'\\tb\"RT @ceuhungary: CEU Welcomes German Chancellor Spokesperson\\'s Call for Signing of NY-Hungary Agreement #istandwithCEU https://t.co/nTj7BgiM\\\\xe2\\\\x80\\\\xa6\"\\tNone\\t9\\tTue Oct 10 08:38:39 +0000 2017\\t0', '#istandwithceu\\tb\\'fvdr\\'\\tb\"RT @ceuhungary: CEU Welcomes German Chancellor Spokesperson\\'s Call for Signing of NY-Hungary Agreement #istandwithCEU https://t.co/nTj7BgiM\\\\xe2\\\\x80\\\\xa6\"\\tNone\\t9\\tTue Oct 10 08:22:52 +0000 2017\\t0', '#istandwithceu\\tb\\'ceuhungary\\'\\tb\"CEU Welcomes German Chancellor Spokesperson\\'s Call for Signing of NY-Hungary Agreement #istandwithCEU https://t.co/nTj7BgiMnn\"\\tNone\\t9\\tTue Oct 10 08:22:16 +0000 2017\\t9', \"#istandwithceu\\tb'clayhensley'\\tb'RT @ceuhungary: .@ceuhungary Signs MOU with @BardCollege, Retains Aim to Stay in Budapest #istandwithCEU https://t.co/FMMDRjnObo'\\tNone\\t38\\tTue Oct 10 00:06:14 +0000 2017\\t0\", \"#istandwithceu\\tb'tscottphillips'\\tb'Europaeum grants @ceuhungary special membership in sign of solidarity https://t.co/7xYPhl91YA #istandwithCEU'\\tNone\\t0\\tMon Oct 09 18:00:03 +0000 2017\\t0\", \"#istandwithceu\\tb'poecagelo1981'\\tb'RT @andras_varg: Protest against the new draft law about NGO regulation. #IstandwithCEU #IstandwithNGOs https://t.co/DXDY6Hhi8f'\\tNone\\t3\\tSun Oct 08 20:33:06 +0000 2017\\t0\", \"#istandwithceu\\tb'worldincrisis1'\\tb'RT @ScholarsAtRisk: SAR congratulates @ceuhungary and @BardCollege on their MOU #istandwithCEU https://t.co/eD3Bo3EdIx'\\tNone\\t1\\tSat Oct 07 16:52:28 +0000 2017\\t0\", \"#istandwithceu\\tb'Rory_Moe'\\tb'It would also benefit @bardcollege b/c they would get more alums (thereby increasing the chances that *someone* wil\\\\xe2\\\\x80\\\\xa6 https://t.co/Btp4bGtifA'\\tNone\\t1\\tFri Oct 06 17:23:24 +0000 2017\\t0\", \"#istandwithceu\\tb'TamPapp'\\tb'RT @ceuhungary: .@ceuhungary Signs MOU with @BardCollege, Retains Aim to Stay in Budapest #istandwithCEU https://t.co/FMMDRjnObo'\\tNone\\t38\\tFri Oct 06 16:11:23 +0000 2017\\t0\", \"#istandwithceu\\tb'AttilaGyetvai'\\tb'One step closer to the solution. #IstandwithCEU https://t.co/pvqzb0018N'\\tNone\\t0\\tFri Oct 06 14:56:11 +0000 2017\\t0\", \"#istandwithceu\\tb'magnusnordborg'\\tb'RT @yoginho: It looks like @ceuhungary is safe in Budapest\\\\xe2\\\\x80\\\\xa6 for now. https://t.co/TuQkhLlHDA #IstandwithCEU'\\tNone\\t1\\tFri Oct 06 09:38:48 +0000 2017\\t0\", \"#istandwithceu\\tb'yoginho'\\tb'It looks like @ceuhungary is safe in Budapest\\\\xe2\\\\x80\\\\xa6 for now. https://t.co/TuQkhLlHDA #IstandwithCEU'\\tNone\\t1\\tFri Oct 06 09:34:24 +0000 2017\\t0\", \"#istandwithceu\\tb'GertSiniloo'\\tb'#istandwithCEU Elite Hungarian university may be saved https://t.co/JMMfonm6Bc'\\tNone\\t0\\tFri Oct 06 08:42:12 +0000 2017\\t0\", \"#istandwithceu\\tb'almodozo'\\tb'RT @ceuhungary: .@ceuhungary Signs MOU with @BardCollege, Retains Aim to Stay in Budapest #istandwithCEU https://t.co/FMMDRjnObo'\\tNone\\t38\\tThu Oct 05 16:56:48 +0000 2017\\t0\", '#istandwithceu\\tb\\'Study_INTNL\\'\\tb\"After negotiations it looks like @georgesoros\\'s Central European University in Budapest will be saved\\\\xe2\\\\x80\\\\xa6 https://t.co/7xEQpdWUax\"\\tNone\\t0\\tThu Oct 05 13:14:01 +0000 2017\\t3', \"#istandwithceu\\tb'ABbritabroad'\\tb'Agreement close in Central European University fight https://t.co/NUgp0jsUdX #Hungary #IstandwithCEU https://t.co/GzbGV2WNbk'\\tNone\\t0\\tThu Oct 05 12:48:06 +0000 2017\\t0\", \"#istandwithceu\\tb'kis_stil'\\tb'Central European University may yet be saved in #Hungary https://t.co/6bvCQYy2Uy #IStandWithCEU via @Study_INTNL'\\tNone\\t0\\tThu Oct 05 10:04:24 +0000 2017\\t0\", \"#istandwithceu\\tb'LeninChisaira'\\tb'RT @ceuhungary: .@ceuhungary Signs MOU with @BardCollege, Retains Aim to Stay in Budapest #istandwithCEU https://t.co/FMMDRjnObo'\\tNone\\t38\\tThu Oct 05 09:06:47 +0000 2017\\t0\", \"#istandwithceu\\tb'mudassir056'\\tb'RT @Study_INTNL: After being threatened by a discriminatory law @ceuhungary looks to have been saved from closure #IStandWithCEU https://t.\\\\xe2\\\\x80\\\\xa6'\\tNone\\t1\\tThu Oct 05 02:37:31 +0000 2017\\t0\", \"#istandwithceu\\tb'rwakeman1'\\tb'RT @ceuhungary: .@ceuhungary Signs MOU with @BardCollege, Retains Aim to Stay in Budapest #istandwithCEU https://t.co/FMMDRjnObo'\\tNone\\t38\\tThu Oct 05 02:21:04 +0000 2017\\t0\", \"#istandwithceu\\tb'Study_INTNL'\\tb'After being threatened by a discriminatory law @ceuhungary looks to have been saved from closure #IStandWithCEU\\\\xe2\\\\x80\\\\xa6 https://t.co/gu8aRJfTeU'\\tNone\\t1\\tThu Oct 05 01:13:00 +0000 2017\\t2\", \"#istandwithceu\\tb'PepiKatona'\\tb'RT @kis_stil: Elite Hungarian university may be saved https://t.co/2X02eWgOz1 #istandwithCEU #Hungary #orbanistan'\\tNone\\t1\\tWed Oct 04 21:42:50 +0000 2017\\t0\", \"#istandwithceu\\tb'littvay'\\tb'RT @ceuhungary: .@ceuhungary Signs MOU with @BardCollege, Retains Aim to Stay in Budapest #istandwithCEU https://t.co/FMMDRjnObo'\\tNone\\t38\\tWed Oct 04 21:05:09 +0000 2017\\t0\", \"#istandwithceu\\tb'kis_stil'\\tb'RT @masterwahnsinn: Good news! #istandwithCEU https://t.co/LfvuPUhaDi'\\tNone\\t1\\tWed Oct 04 19:17:46 +0000 2017\\t0\", \"#istandwithceu\\tb'kis_stil'\\tb'Elite Hungarian university may be saved https://t.co/2X02eWgOz1 #istandwithCEU #Hungary #orbanistan'\\tNone\\t1\\tWed Oct 04 19:15:01 +0000 2017\\t0\", \"#istandwithceu\\tb'ddopaco'\\tb'RT @ceuhungary: .@ceuhungary Signs MOU with @BardCollege, Retains Aim to Stay in Budapest #istandwithCEU https://t.co/FMMDRjnObo'\\tNone\\t38\\tWed Oct 04 17:11:49 +0000 2017\\t0\", \"#istandwithceu\\tb'ScholarsAtRisk'\\tb'SAR congratulates @ceuhungary and @BardCollege on their MOU #istandwithCEU https://t.co/eD3Bo3EdIx'\\tNone\\t1\\tWed Oct 04 16:49:02 +0000 2017\\t3\", \"#istandwithceu\\tb'GlobalHigherEd'\\tb'Update on Central European University Bid to Stay in Budapest https://t.co/skiYxI8tun #CEU #istandwithCEU'\\tNone\\t0\\tWed Oct 04 16:36:46 +0000 2017\\t0\", \"#istandwithceu\\tb'silviafierascu'\\tb'RT @ceuhungary: .@ceuhungary Signs MOU with @BardCollege, Retains Aim to Stay in Budapest #istandwithCEU https://t.co/FMMDRjnObo'\\tNone\\t38\\tWed Oct 04 15:52:38 +0000 2017\\t0\", \"#istandwithceu\\tb'beckerbastian'\\tb'RT @ceuhungary: .@ceuhungary Signs MOU with @BardCollege, Retains Aim to Stay in Budapest #istandwithCEU https://t.co/FMMDRjnObo'\\tNone\\t38\\tWed Oct 04 15:32:45 +0000 2017\\t0\", \"#istandwithceu\\tb'SzekeresMelinda'\\tb'RT @ceuhungary: .@ceuhungary Signs MOU with @BardCollege, Retains Aim to Stay in Budapest #istandwithCEU https://t.co/FMMDRjnObo'\\tNone\\t38\\tWed Oct 04 15:25:54 +0000 2017\\t0\", \"#istandwithceu\\tb'masterwahnsinn'\\tb'Good news! #istandwithCEU https://t.co/LfvuPUhaDi'\\tNone\\t1\\tWed Oct 04 15:13:27 +0000 2017\\t1\", \"#istandwithceu\\tb'ceu_dean'\\tb'RT @ceuhungary: .@ceuhungary Signs MOU with @BardCollege, Retains Aim to Stay in Budapest #istandwithCEU https://t.co/FMMDRjnObo'\\tNone\\t38\\tWed Oct 04 13:39:03 +0000 2017\\t0\", \"#istandwithceu\\tb'PhilThal'\\tb'Here we go...  #istandwithCEU \\\\nhttps://t.co/UYWNZnczbL'\\tNone\\t0\\tWed Oct 04 12:05:04 +0000 2017\\t0\", \"#istandwithceu\\tb'lennrtsty'\\tb'Hopefully good news about @ceuhungary https://t.co/CytEEJWyUM #istandwithCEU'\\tNone\\t0\\tWed Oct 04 11:59:40 +0000 2017\\t0\", \"#istandwithceu\\tb'hrn_de'\\tb'RT @ceuhungary: .@ceuhungary Signs MOU with @BardCollege, Retains Aim to Stay in Budapest #istandwithCEU https://t.co/FMMDRjnObo'\\tNone\\t38\\tWed Oct 04 11:45:19 +0000 2017\\t0\", \"#istandwithceu\\tb'Serge_Sych'\\tb'RT @ceuhungary: .@ceuhungary Signs MOU with @BardCollege, Retains Aim to Stay in Budapest #istandwithCEU https://t.co/FMMDRjnObo'\\tNone\\t38\\tWed Oct 04 11:37:35 +0000 2017\\t0\", \"#istandwithceu\\tb'ALLEA_academies'\\tb'Central European University hopes \\\\xe2\\\\x80\\\\x98agreement\\\\xe2\\\\x80\\\\x99 with Hungary near https://t.co/bt9YggpJXd via @timeshighered @DavidMJourno #istandwithCEU'\\tNone\\t1\\tWed Oct 04 09:14:26 +0000 2017\\t0\", \"#istandwithceu\\tb'r0xanaradu'\\tb'RT @ceuhungary: .@ceuhungary Signs MOU with @BardCollege, Retains Aim to Stay in Budapest #istandwithCEU https://t.co/FMMDRjnObo'\\tNone\\t38\\tWed Oct 04 09:12:31 +0000 2017\\t0\", \"#istandwithceu\\tb'_SejalParmar'\\tb'RT @ceuhungary: .@ceuhungary Signs MOU with @BardCollege, Retains Aim to Stay in Budapest #istandwithCEU https://t.co/FMMDRjnObo'\\tNone\\t38\\tWed Oct 04 09:10:08 +0000 2017\\t0\", \"#istandwithceu\\tb'ALLEA_academies'\\tb'RT @ceuhungary: .@ceuhungary Signs MOU with @BardCollege, Retains Aim to Stay in Budapest #istandwithCEU https://t.co/FMMDRjnObo'\\tNone\\t38\\tWed Oct 04 09:08:32 +0000 2017\\t0\", \"#istandwithceu\\tb'CMDSatCEU'\\tb'RT @ceuhungary: .@ceuhungary Signs MOU with @BardCollege, Retains Aim to Stay in Budapest #istandwithCEU https://t.co/FMMDRjnObo'\\tNone\\t38\\tWed Oct 04 09:01:28 +0000 2017\\t0\", \"#istandwithceu\\tb'mssjocasta'\\tb'RT @ceuhungary: .@ceuhungary Signs MOU with @BardCollege, Retains Aim to Stay in Budapest #istandwithCEU https://t.co/FMMDRjnObo'\\tNone\\t38\\tWed Oct 04 07:48:51 +0000 2017\\t0\", \"#istandwithceu\\tb'XpatLoop'\\tb'RT @ceuhungary: .@ceuhungary Signs MOU with @BardCollege, Retains Aim to Stay in Budapest #istandwithCEU https://t.co/FMMDRjnObo'\\tNone\\t38\\tWed Oct 04 06:53:10 +0000 2017\\t0\", \"#istandwithceu\\tb'missvanderrohe_'\\tb'Is this the end? I doubt it. #istandwithceu https://t.co/dKPqS5tjv1'\\tNone\\t0\\tWed Oct 04 06:20:37 +0000 2017\\t0\", \"#istandwithceu\\tb'AmbPoupart'\\tb'RT @ceuhungary: .@ceuhungary Signs MOU with @BardCollege, Retains Aim to Stay in Budapest #istandwithCEU https://t.co/FMMDRjnObo'\\tNone\\t38\\tWed Oct 04 05:43:15 +0000 2017\\t0\", \"#istandwithceu\\tb'ZsuzsaCsergo'\\tb'RT @ceuhungary: .@ceuhungary Signs MOU with @BardCollege, Retains Aim to Stay in Budapest #istandwithCEU https://t.co/FMMDRjnObo'\\tNone\\t38\\tWed Oct 04 03:31:04 +0000 2017\\t0\", \"#istandwithceu\\tb'AlanMaricic'\\tb'RT @ceuhungary: .@ceuhungary Signs MOU with @BardCollege, Retains Aim to Stay in Budapest #istandwithCEU https://t.co/FMMDRjnObo'\\tNone\\t38\\tWed Oct 04 00:54:05 +0000 2017\\t0\", \"#istandwithceu\\tb'peragovicstamas'\\tb'RT @ceuhungary: .@ceuhungary Signs MOU with @BardCollege, Retains Aim to Stay in Budapest #istandwithCEU https://t.co/FMMDRjnObo'\\tNone\\t38\\tTue Oct 03 21:56:29 +0000 2017\\t0\", \"#istandwithceu\\tb'martapardavi'\\tb'RT @ceuhungary: .@ceuhungary Signs MOU with @BardCollege, Retains Aim to Stay in Budapest #istandwithCEU https://t.co/FMMDRjnObo'\\tNone\\t38\\tTue Oct 03 21:00:49 +0000 2017\\t0\", \"#istandwithceu\\tb'MaxL_CA'\\tb'What do the #IstandwithCEU &amp; #Sorosplan have in common? cc @PoliticoRyan @liliebayer @otmarianna @tamasnotin\\\\xe2\\\\x80\\\\xa6 https://t.co/CvsBRewAOv'\\tNone\\t0\\tTue Oct 03 20:56:56 +0000 2017\\t0\", \"#istandwithceu\\tb'PeterMancina'\\tb'RT @ceuhungary: .@ceuhungary Signs MOU with @BardCollege, Retains Aim to Stay in Budapest #istandwithCEU https://t.co/FMMDRjnObo'\\tNone\\t38\\tTue Oct 03 20:18:31 +0000 2017\\t0\", \"#istandwithceu\\tb'carr_LSE'\\tb'RT @ceuhungary: .@ceuhungary Signs MOU with @BardCollege, Retains Aim to Stay in Budapest #istandwithCEU https://t.co/FMMDRjnObo'\\tNone\\t38\\tTue Oct 03 20:13:33 +0000 2017\\t0\", \"#istandwithceu\\tb'dieNagashi'\\tb'RT @ceuhungary: .@ceuhungary Signs MOU with @BardCollege, Retains Aim to Stay in Budapest #istandwithCEU https://t.co/FMMDRjnObo'\\tNone\\t38\\tTue Oct 03 20:12:40 +0000 2017\\t0\", \"#istandwithceu\\tb'fntbecker'\\tb'RT @ceuhungary: .@ceuhungary Signs MOU with @BardCollege, Retains Aim to Stay in Budapest #istandwithCEU https://t.co/FMMDRjnObo'\\tNone\\t38\\tTue Oct 03 19:47:21 +0000 2017\\t0\", \"#istandwithceu\\tb'BardCollege'\\tb'RT @ceuhungary: .@ceuhungary Signs MOU with @BardCollege, Retains Aim to Stay in Budapest #istandwithCEU https://t.co/FMMDRjnObo'\\tNone\\t38\\tTue Oct 03 19:40:28 +0000 2017\\t0\", \"#istandwithceu\\tb'dooley_dooley'\\tb'RT @ceuhungary: .@ceuhungary Signs MOU with @BardCollege, Retains Aim to Stay in Budapest #istandwithCEU https://t.co/FMMDRjnObo'\\tNone\\t38\\tTue Oct 03 19:39:42 +0000 2017\\t0\", \"#istandwithceu\\tb'GlobalHigherEd'\\tb'Central European U Signs MOU with NY-based Bard College, Retains Aim to Stay in Budapest https://t.co/cKXMME4ZsK\\\\xe2\\\\x80\\\\xa6 https://t.co/Ws5ZUVzRFa'\\tNone\\t1\\tTue Oct 03 19:37:50 +0000 2017\\t1\", \"#istandwithceu\\tb'b_novak'\\tb'RT @ceuhungary: .@ceuhungary Signs MOU with @BardCollege, Retains Aim to Stay in Budapest #istandwithCEU https://t.co/FMMDRjnObo'\\tNone\\t38\\tTue Oct 03 19:07:42 +0000 2017\\t0\", \"#istandwithceu\\tb'TBartscherer'\\tb'RT @ceuhungary: .@ceuhungary Signs MOU with @BardCollege, Retains Aim to Stay in Budapest #istandwithCEU https://t.co/FMMDRjnObo'\\tNone\\t38\\tTue Oct 03 19:03:15 +0000 2017\\t0\", \"#istandwithceu\\tb'deanstarkman'\\tb'RT @ceuhungary: .@ceuhungary Signs MOU with @BardCollege, Retains Aim to Stay in Budapest #istandwithCEU https://t.co/FMMDRjnObo'\\tNone\\t38\\tTue Oct 03 19:01:28 +0000 2017\\t0\", \"#istandwithceu\\tb'KirstenJRoberts'\\tb'RT @ceuhungary: .@ceuhungary Signs MOU with @BardCollege, Retains Aim to Stay in Budapest #istandwithCEU https://t.co/FMMDRjnObo'\\tNone\\t38\\tTue Oct 03 18:56:08 +0000 2017\\t0\", \"#istandwithceu\\tb'faithjbailey'\\tb'RT @ceuhungary: .@ceuhungary Signs MOU with @BardCollege, Retains Aim to Stay in Budapest #istandwithCEU https://t.co/FMMDRjnObo'\\tNone\\t38\\tTue Oct 03 18:54:14 +0000 2017\\t0\", \"#istandwithceu\\tb'Postdoc_anon'\\tb'RT @ceuhungary: .@ceuhungary Signs MOU with @BardCollege, Retains Aim to Stay in Budapest #istandwithCEU https://t.co/FMMDRjnObo'\\tNone\\t38\\tTue Oct 03 18:51:38 +0000 2017\\t0\", \"#istandwithceu\\tb'mate_mtys'\\tb'RT @ceuhungary: .@ceuhungary Signs MOU with @BardCollege, Retains Aim to Stay in Budapest #istandwithCEU https://t.co/FMMDRjnObo'\\tNone\\t38\\tTue Oct 03 18:50:55 +0000 2017\\t0\", \"#istandwithceu\\tb'ceuhungary'\\tb'.@ceuhungary Signs MOU with @BardCollege, Retains Aim to Stay in Budapest #istandwithCEU https://t.co/FMMDRjnObo'\\tNone\\t38\\tTue Oct 03 18:50:05 +0000 2017\\t46\", \"#istandwithceu\\tb'yoginho'\\tb'CEU signs contract with Bard College. Orban will have to think of other excuses to close it down now...\\\\xe2\\\\x80\\\\xa6 https://t.co/oF80tWKzSQ'\\tNone\\t0\\tTue Oct 03 18:36:48 +0000 2017\\t3\", \"#istandwithceu\\tb'yoginho'\\tb'Meanwhile in Hungary\\\\xe2\\\\x80\\\\xa6 Just a reminder that #IstandwithCEU. https://t.co/D3hlkrWYk2'\\tNone\\t0\\tTue Oct 03 16:12:10 +0000 2017\\t1\", \"#istandwithceu\\tb'h_david_baer'\\tb'Want to belong to Europe? Stop discriminating against #CEU! #istandwithceu https://t.co/7xKv1evrH2'\\tNone\\t0\\tTue Oct 03 14:30:42 +0000 2017\\t1\", '#istandwithceu\\tb\\'thorstenbenner\\'\\tb\\'It\\\\\\'s beyond cute to see Orban\\\\\\'s spokesperson utter\\\\n\"Want to belong to Europe? Act like it!\"\\\\nwith regard to educatio\\\\xe2\\\\x80\\\\xa6 https://t.co/16SQtf8FoS\\'\\tNone\\t0\\tTue Oct 03 05:57:27 +0000 2017\\t2', \"#istandwithceu\\tb'cesawards'\\tb'RT @PeterGSzilagyi: \\\\xf0\\\\x9f\\\\x99\\\\x8c #ceuilab of @ceuhungary is best accelerator and incubator in \\\\xf0\\\\x9f\\\\x87\\\\xad\\\\xf0\\\\x9f\\\\x87\\\\xba at #CESAwards2017 #ceu #ceuhungary #istandwithceu #in\\\\xe2\\\\x80\\\\xa6'\\tNone\\t1\\tSun Oct 01 11:23:02 +0000 2017\\t0\", \"#istandwithceu\\tb'Welloooooooo'\\tb'RT @toma: This is a nightmare when we have to protest for a university. #IStandWithCEU'\\tNone\\t1\\tSat Sep 30 21:56:53 +0000 2017\\t0\", \"#istandwithceu\\tb'nesiandtweet'\\tb'@ceuhungary has a campus in #NewYork thanks to @BardCollege. This was a condition set by the authoritarian\\\\xe2\\\\x80\\\\xa6 https://t.co/VRuUkLrHQX'\\tNone\\t4\\tSat Sep 30 17:22:05 +0000 2017\\t2\"]\n"
     ]
    }
   ],
   "source": [
    "keywords = ['#istandwithceu']\n",
    "tweets = download_tweets(keywords, credentials)\n",
    "\n",
    "print (tweets)"
   ]
  },
  {
   "cell_type": "markdown",
   "metadata": {},
   "source": [
    "You can later print them, make an analysis or do whatever you want."
   ]
  },
  {
   "cell_type": "code",
   "execution_count": 34,
   "metadata": {},
   "outputs": [
    {
     "name": "stdout",
     "output_type": "stream",
     "text": [
      "['#istandwithceu', \"b'Shugars'\", 'b\"RT @ceuhungary: CEU Welcomes German Chancellor Spokesperson\\'s Call for Signing of NY-Hungary Agreement #istandwithCEU https://t.co/nTj7BgiM\\\\xe2\\\\x80\\\\xa6\"', 'None', '9', 'Tue Oct 10 10:50:23 +0000 2017', '0']\n",
      "['#istandwithceu', \"b'martapardavi'\", 'b\"RT @ceuhungary: CEU Welcomes German Chancellor Spokesperson\\'s Call for Signing of NY-Hungary Agreement #istandwithCEU https://t.co/nTj7BgiM\\\\xe2\\\\x80\\\\xa6\"', 'None', '9', 'Tue Oct 10 09:57:10 +0000 2017', '0']\n",
      "['#istandwithceu', \"b'zoowalk'\", 'b\"RT @ceuhungary: CEU Welcomes German Chancellor Spokesperson\\'s Call for Signing of NY-Hungary Agreement #istandwithCEU https://t.co/nTj7BgiM\\\\xe2\\\\x80\\\\xa6\"', 'None', '9', 'Tue Oct 10 09:31:09 +0000 2017', '0']\n",
      "['#istandwithceu', \"b'mcg_fiona'\", 'b\"RT @ceuhungary: CEU Welcomes German Chancellor Spokesperson\\'s Call for Signing of NY-Hungary Agreement #istandwithCEU https://t.co/nTj7BgiM\\\\xe2\\\\x80\\\\xa6\"', 'None', '9', 'Tue Oct 10 09:17:23 +0000 2017', '0']\n",
      "['#istandwithceu', \"b'ustirhistpol'\", 'b\"RT @ceuhungary: CEU Welcomes German Chancellor Spokesperson\\'s Call for Signing of NY-Hungary Agreement #istandwithCEU https://t.co/nTj7BgiM\\\\xe2\\\\x80\\\\xa6\"', 'None', '9', 'Tue Oct 10 09:12:48 +0000 2017', '0']\n",
      "['#istandwithceu', \"b'ultrahumano'\", 'b\"RT @ceuhungary: CEU Welcomes German Chancellor Spokesperson\\'s Call for Signing of NY-Hungary Agreement #istandwithCEU https://t.co/nTj7BgiM\\\\xe2\\\\x80\\\\xa6\"', 'None', '9', 'Tue Oct 10 09:01:40 +0000 2017', '0']\n",
      "['#istandwithceu', \"b'tscottphillips'\", 'b\"RT @ceuhungary: CEU Welcomes German Chancellor Spokesperson\\'s Call for Signing of NY-Hungary Agreement #istandwithCEU https://t.co/nTj7BgiM\\\\xe2\\\\x80\\\\xa6\"', 'None', '9', 'Tue Oct 10 08:48:51 +0000 2017', '0']\n",
      "['#istandwithceu', \"b'phn0e'\", 'b\"RT @ceuhungary: CEU Welcomes German Chancellor Spokesperson\\'s Call for Signing of NY-Hungary Agreement #istandwithCEU https://t.co/nTj7BgiM\\\\xe2\\\\x80\\\\xa6\"', 'None', '9', 'Tue Oct 10 08:38:39 +0000 2017', '0']\n",
      "['#istandwithceu', \"b'fvdr'\", 'b\"RT @ceuhungary: CEU Welcomes German Chancellor Spokesperson\\'s Call for Signing of NY-Hungary Agreement #istandwithCEU https://t.co/nTj7BgiM\\\\xe2\\\\x80\\\\xa6\"', 'None', '9', 'Tue Oct 10 08:22:52 +0000 2017', '0']\n",
      "['#istandwithceu', \"b'ceuhungary'\", 'b\"CEU Welcomes German Chancellor Spokesperson\\'s Call for Signing of NY-Hungary Agreement #istandwithCEU https://t.co/nTj7BgiMnn\"', 'None', '9', 'Tue Oct 10 08:22:16 +0000 2017', '9']\n",
      "['#istandwithceu', \"b'clayhensley'\", \"b'RT @ceuhungary: .@ceuhungary Signs MOU with @BardCollege, Retains Aim to Stay in Budapest #istandwithCEU https://t.co/FMMDRjnObo'\", 'None', '38', 'Tue Oct 10 00:06:14 +0000 2017', '0']\n",
      "['#istandwithceu', \"b'tscottphillips'\", \"b'Europaeum grants @ceuhungary special membership in sign of solidarity https://t.co/7xYPhl91YA #istandwithCEU'\", 'None', '0', 'Mon Oct 09 18:00:03 +0000 2017', '0']\n",
      "['#istandwithceu', \"b'poecagelo1981'\", \"b'RT @andras_varg: Protest against the new draft law about NGO regulation. #IstandwithCEU #IstandwithNGOs https://t.co/DXDY6Hhi8f'\", 'None', '3', 'Sun Oct 08 20:33:06 +0000 2017', '0']\n",
      "['#istandwithceu', \"b'worldincrisis1'\", \"b'RT @ScholarsAtRisk: SAR congratulates @ceuhungary and @BardCollege on their MOU #istandwithCEU https://t.co/eD3Bo3EdIx'\", 'None', '1', 'Sat Oct 07 16:52:28 +0000 2017', '0']\n",
      "['#istandwithceu', \"b'Rory_Moe'\", \"b'It would also benefit @bardcollege b/c they would get more alums (thereby increasing the chances that *someone* wil\\\\xe2\\\\x80\\\\xa6 https://t.co/Btp4bGtifA'\", 'None', '1', 'Fri Oct 06 17:23:24 +0000 2017', '0']\n",
      "['#istandwithceu', \"b'TamPapp'\", \"b'RT @ceuhungary: .@ceuhungary Signs MOU with @BardCollege, Retains Aim to Stay in Budapest #istandwithCEU https://t.co/FMMDRjnObo'\", 'None', '38', 'Fri Oct 06 16:11:23 +0000 2017', '0']\n",
      "['#istandwithceu', \"b'AttilaGyetvai'\", \"b'One step closer to the solution. #IstandwithCEU https://t.co/pvqzb0018N'\", 'None', '0', 'Fri Oct 06 14:56:11 +0000 2017', '0']\n",
      "['#istandwithceu', \"b'magnusnordborg'\", \"b'RT @yoginho: It looks like @ceuhungary is safe in Budapest\\\\xe2\\\\x80\\\\xa6 for now. https://t.co/TuQkhLlHDA #IstandwithCEU'\", 'None', '1', 'Fri Oct 06 09:38:48 +0000 2017', '0']\n",
      "['#istandwithceu', \"b'yoginho'\", \"b'It looks like @ceuhungary is safe in Budapest\\\\xe2\\\\x80\\\\xa6 for now. https://t.co/TuQkhLlHDA #IstandwithCEU'\", 'None', '1', 'Fri Oct 06 09:34:24 +0000 2017', '0']\n",
      "['#istandwithceu', \"b'GertSiniloo'\", \"b'#istandwithCEU Elite Hungarian university may be saved https://t.co/JMMfonm6Bc'\", 'None', '0', 'Fri Oct 06 08:42:12 +0000 2017', '0']\n",
      "['#istandwithceu', \"b'almodozo'\", \"b'RT @ceuhungary: .@ceuhungary Signs MOU with @BardCollege, Retains Aim to Stay in Budapest #istandwithCEU https://t.co/FMMDRjnObo'\", 'None', '38', 'Thu Oct 05 16:56:48 +0000 2017', '0']\n",
      "['#istandwithceu', \"b'Study_INTNL'\", 'b\"After negotiations it looks like @georgesoros\\'s Central European University in Budapest will be saved\\\\xe2\\\\x80\\\\xa6 https://t.co/7xEQpdWUax\"', 'None', '0', 'Thu Oct 05 13:14:01 +0000 2017', '3']\n",
      "['#istandwithceu', \"b'ABbritabroad'\", \"b'Agreement close in Central European University fight https://t.co/NUgp0jsUdX #Hungary #IstandwithCEU https://t.co/GzbGV2WNbk'\", 'None', '0', 'Thu Oct 05 12:48:06 +0000 2017', '0']\n",
      "['#istandwithceu', \"b'kis_stil'\", \"b'Central European University may yet be saved in #Hungary https://t.co/6bvCQYy2Uy #IStandWithCEU via @Study_INTNL'\", 'None', '0', 'Thu Oct 05 10:04:24 +0000 2017', '0']\n",
      "['#istandwithceu', \"b'LeninChisaira'\", \"b'RT @ceuhungary: .@ceuhungary Signs MOU with @BardCollege, Retains Aim to Stay in Budapest #istandwithCEU https://t.co/FMMDRjnObo'\", 'None', '38', 'Thu Oct 05 09:06:47 +0000 2017', '0']\n",
      "['#istandwithceu', \"b'mudassir056'\", \"b'RT @Study_INTNL: After being threatened by a discriminatory law @ceuhungary looks to have been saved from closure #IStandWithCEU https://t.\\\\xe2\\\\x80\\\\xa6'\", 'None', '1', 'Thu Oct 05 02:37:31 +0000 2017', '0']\n",
      "['#istandwithceu', \"b'rwakeman1'\", \"b'RT @ceuhungary: .@ceuhungary Signs MOU with @BardCollege, Retains Aim to Stay in Budapest #istandwithCEU https://t.co/FMMDRjnObo'\", 'None', '38', 'Thu Oct 05 02:21:04 +0000 2017', '0']\n",
      "['#istandwithceu', \"b'Study_INTNL'\", \"b'After being threatened by a discriminatory law @ceuhungary looks to have been saved from closure #IStandWithCEU\\\\xe2\\\\x80\\\\xa6 https://t.co/gu8aRJfTeU'\", 'None', '1', 'Thu Oct 05 01:13:00 +0000 2017', '2']\n",
      "['#istandwithceu', \"b'PepiKatona'\", \"b'RT @kis_stil: Elite Hungarian university may be saved https://t.co/2X02eWgOz1 #istandwithCEU #Hungary #orbanistan'\", 'None', '1', 'Wed Oct 04 21:42:50 +0000 2017', '0']\n",
      "['#istandwithceu', \"b'littvay'\", \"b'RT @ceuhungary: .@ceuhungary Signs MOU with @BardCollege, Retains Aim to Stay in Budapest #istandwithCEU https://t.co/FMMDRjnObo'\", 'None', '38', 'Wed Oct 04 21:05:09 +0000 2017', '0']\n",
      "['#istandwithceu', \"b'kis_stil'\", \"b'RT @masterwahnsinn: Good news! #istandwithCEU https://t.co/LfvuPUhaDi'\", 'None', '1', 'Wed Oct 04 19:17:46 +0000 2017', '0']\n",
      "['#istandwithceu', \"b'kis_stil'\", \"b'Elite Hungarian university may be saved https://t.co/2X02eWgOz1 #istandwithCEU #Hungary #orbanistan'\", 'None', '1', 'Wed Oct 04 19:15:01 +0000 2017', '0']\n",
      "['#istandwithceu', \"b'ddopaco'\", \"b'RT @ceuhungary: .@ceuhungary Signs MOU with @BardCollege, Retains Aim to Stay in Budapest #istandwithCEU https://t.co/FMMDRjnObo'\", 'None', '38', 'Wed Oct 04 17:11:49 +0000 2017', '0']\n",
      "['#istandwithceu', \"b'ScholarsAtRisk'\", \"b'SAR congratulates @ceuhungary and @BardCollege on their MOU #istandwithCEU https://t.co/eD3Bo3EdIx'\", 'None', '1', 'Wed Oct 04 16:49:02 +0000 2017', '3']\n",
      "['#istandwithceu', \"b'GlobalHigherEd'\", \"b'Update on Central European University Bid to Stay in Budapest https://t.co/skiYxI8tun #CEU #istandwithCEU'\", 'None', '0', 'Wed Oct 04 16:36:46 +0000 2017', '0']\n",
      "['#istandwithceu', \"b'silviafierascu'\", \"b'RT @ceuhungary: .@ceuhungary Signs MOU with @BardCollege, Retains Aim to Stay in Budapest #istandwithCEU https://t.co/FMMDRjnObo'\", 'None', '38', 'Wed Oct 04 15:52:38 +0000 2017', '0']\n",
      "['#istandwithceu', \"b'beckerbastian'\", \"b'RT @ceuhungary: .@ceuhungary Signs MOU with @BardCollege, Retains Aim to Stay in Budapest #istandwithCEU https://t.co/FMMDRjnObo'\", 'None', '38', 'Wed Oct 04 15:32:45 +0000 2017', '0']\n",
      "['#istandwithceu', \"b'SzekeresMelinda'\", \"b'RT @ceuhungary: .@ceuhungary Signs MOU with @BardCollege, Retains Aim to Stay in Budapest #istandwithCEU https://t.co/FMMDRjnObo'\", 'None', '38', 'Wed Oct 04 15:25:54 +0000 2017', '0']\n",
      "['#istandwithceu', \"b'masterwahnsinn'\", \"b'Good news! #istandwithCEU https://t.co/LfvuPUhaDi'\", 'None', '1', 'Wed Oct 04 15:13:27 +0000 2017', '1']\n",
      "['#istandwithceu', \"b'ceu_dean'\", \"b'RT @ceuhungary: .@ceuhungary Signs MOU with @BardCollege, Retains Aim to Stay in Budapest #istandwithCEU https://t.co/FMMDRjnObo'\", 'None', '38', 'Wed Oct 04 13:39:03 +0000 2017', '0']\n",
      "['#istandwithceu', \"b'PhilThal'\", \"b'Here we go...  #istandwithCEU \\\\nhttps://t.co/UYWNZnczbL'\", 'None', '0', 'Wed Oct 04 12:05:04 +0000 2017', '0']\n",
      "['#istandwithceu', \"b'lennrtsty'\", \"b'Hopefully good news about @ceuhungary https://t.co/CytEEJWyUM #istandwithCEU'\", 'None', '0', 'Wed Oct 04 11:59:40 +0000 2017', '0']\n",
      "['#istandwithceu', \"b'hrn_de'\", \"b'RT @ceuhungary: .@ceuhungary Signs MOU with @BardCollege, Retains Aim to Stay in Budapest #istandwithCEU https://t.co/FMMDRjnObo'\", 'None', '38', 'Wed Oct 04 11:45:19 +0000 2017', '0']\n",
      "['#istandwithceu', \"b'Serge_Sych'\", \"b'RT @ceuhungary: .@ceuhungary Signs MOU with @BardCollege, Retains Aim to Stay in Budapest #istandwithCEU https://t.co/FMMDRjnObo'\", 'None', '38', 'Wed Oct 04 11:37:35 +0000 2017', '0']\n",
      "['#istandwithceu', \"b'ALLEA_academies'\", \"b'Central European University hopes \\\\xe2\\\\x80\\\\x98agreement\\\\xe2\\\\x80\\\\x99 with Hungary near https://t.co/bt9YggpJXd via @timeshighered @DavidMJourno #istandwithCEU'\", 'None', '1', 'Wed Oct 04 09:14:26 +0000 2017', '0']\n",
      "['#istandwithceu', \"b'r0xanaradu'\", \"b'RT @ceuhungary: .@ceuhungary Signs MOU with @BardCollege, Retains Aim to Stay in Budapest #istandwithCEU https://t.co/FMMDRjnObo'\", 'None', '38', 'Wed Oct 04 09:12:31 +0000 2017', '0']\n",
      "['#istandwithceu', \"b'_SejalParmar'\", \"b'RT @ceuhungary: .@ceuhungary Signs MOU with @BardCollege, Retains Aim to Stay in Budapest #istandwithCEU https://t.co/FMMDRjnObo'\", 'None', '38', 'Wed Oct 04 09:10:08 +0000 2017', '0']\n",
      "['#istandwithceu', \"b'ALLEA_academies'\", \"b'RT @ceuhungary: .@ceuhungary Signs MOU with @BardCollege, Retains Aim to Stay in Budapest #istandwithCEU https://t.co/FMMDRjnObo'\", 'None', '38', 'Wed Oct 04 09:08:32 +0000 2017', '0']\n",
      "['#istandwithceu', \"b'CMDSatCEU'\", \"b'RT @ceuhungary: .@ceuhungary Signs MOU with @BardCollege, Retains Aim to Stay in Budapest #istandwithCEU https://t.co/FMMDRjnObo'\", 'None', '38', 'Wed Oct 04 09:01:28 +0000 2017', '0']\n",
      "['#istandwithceu', \"b'mssjocasta'\", \"b'RT @ceuhungary: .@ceuhungary Signs MOU with @BardCollege, Retains Aim to Stay in Budapest #istandwithCEU https://t.co/FMMDRjnObo'\", 'None', '38', 'Wed Oct 04 07:48:51 +0000 2017', '0']\n",
      "['#istandwithceu', \"b'XpatLoop'\", \"b'RT @ceuhungary: .@ceuhungary Signs MOU with @BardCollege, Retains Aim to Stay in Budapest #istandwithCEU https://t.co/FMMDRjnObo'\", 'None', '38', 'Wed Oct 04 06:53:10 +0000 2017', '0']\n",
      "['#istandwithceu', \"b'missvanderrohe_'\", \"b'Is this the end? I doubt it. #istandwithceu https://t.co/dKPqS5tjv1'\", 'None', '0', 'Wed Oct 04 06:20:37 +0000 2017', '0']\n",
      "['#istandwithceu', \"b'AmbPoupart'\", \"b'RT @ceuhungary: .@ceuhungary Signs MOU with @BardCollege, Retains Aim to Stay in Budapest #istandwithCEU https://t.co/FMMDRjnObo'\", 'None', '38', 'Wed Oct 04 05:43:15 +0000 2017', '0']\n",
      "['#istandwithceu', \"b'ZsuzsaCsergo'\", \"b'RT @ceuhungary: .@ceuhungary Signs MOU with @BardCollege, Retains Aim to Stay in Budapest #istandwithCEU https://t.co/FMMDRjnObo'\", 'None', '38', 'Wed Oct 04 03:31:04 +0000 2017', '0']\n",
      "['#istandwithceu', \"b'AlanMaricic'\", \"b'RT @ceuhungary: .@ceuhungary Signs MOU with @BardCollege, Retains Aim to Stay in Budapest #istandwithCEU https://t.co/FMMDRjnObo'\", 'None', '38', 'Wed Oct 04 00:54:05 +0000 2017', '0']\n",
      "['#istandwithceu', \"b'peragovicstamas'\", \"b'RT @ceuhungary: .@ceuhungary Signs MOU with @BardCollege, Retains Aim to Stay in Budapest #istandwithCEU https://t.co/FMMDRjnObo'\", 'None', '38', 'Tue Oct 03 21:56:29 +0000 2017', '0']\n",
      "['#istandwithceu', \"b'martapardavi'\", \"b'RT @ceuhungary: .@ceuhungary Signs MOU with @BardCollege, Retains Aim to Stay in Budapest #istandwithCEU https://t.co/FMMDRjnObo'\", 'None', '38', 'Tue Oct 03 21:00:49 +0000 2017', '0']\n",
      "['#istandwithceu', \"b'MaxL_CA'\", \"b'What do the #IstandwithCEU &amp; #Sorosplan have in common? cc @PoliticoRyan @liliebayer @otmarianna @tamasnotin\\\\xe2\\\\x80\\\\xa6 https://t.co/CvsBRewAOv'\", 'None', '0', 'Tue Oct 03 20:56:56 +0000 2017', '0']\n",
      "['#istandwithceu', \"b'PeterMancina'\", \"b'RT @ceuhungary: .@ceuhungary Signs MOU with @BardCollege, Retains Aim to Stay in Budapest #istandwithCEU https://t.co/FMMDRjnObo'\", 'None', '38', 'Tue Oct 03 20:18:31 +0000 2017', '0']\n",
      "['#istandwithceu', \"b'carr_LSE'\", \"b'RT @ceuhungary: .@ceuhungary Signs MOU with @BardCollege, Retains Aim to Stay in Budapest #istandwithCEU https://t.co/FMMDRjnObo'\", 'None', '38', 'Tue Oct 03 20:13:33 +0000 2017', '0']\n",
      "['#istandwithceu', \"b'dieNagashi'\", \"b'RT @ceuhungary: .@ceuhungary Signs MOU with @BardCollege, Retains Aim to Stay in Budapest #istandwithCEU https://t.co/FMMDRjnObo'\", 'None', '38', 'Tue Oct 03 20:12:40 +0000 2017', '0']\n",
      "['#istandwithceu', \"b'fntbecker'\", \"b'RT @ceuhungary: .@ceuhungary Signs MOU with @BardCollege, Retains Aim to Stay in Budapest #istandwithCEU https://t.co/FMMDRjnObo'\", 'None', '38', 'Tue Oct 03 19:47:21 +0000 2017', '0']\n",
      "['#istandwithceu', \"b'BardCollege'\", \"b'RT @ceuhungary: .@ceuhungary Signs MOU with @BardCollege, Retains Aim to Stay in Budapest #istandwithCEU https://t.co/FMMDRjnObo'\", 'None', '38', 'Tue Oct 03 19:40:28 +0000 2017', '0']\n",
      "['#istandwithceu', \"b'dooley_dooley'\", \"b'RT @ceuhungary: .@ceuhungary Signs MOU with @BardCollege, Retains Aim to Stay in Budapest #istandwithCEU https://t.co/FMMDRjnObo'\", 'None', '38', 'Tue Oct 03 19:39:42 +0000 2017', '0']\n",
      "['#istandwithceu', \"b'GlobalHigherEd'\", \"b'Central European U Signs MOU with NY-based Bard College, Retains Aim to Stay in Budapest https://t.co/cKXMME4ZsK\\\\xe2\\\\x80\\\\xa6 https://t.co/Ws5ZUVzRFa'\", 'None', '1', 'Tue Oct 03 19:37:50 +0000 2017', '1']\n",
      "['#istandwithceu', \"b'b_novak'\", \"b'RT @ceuhungary: .@ceuhungary Signs MOU with @BardCollege, Retains Aim to Stay in Budapest #istandwithCEU https://t.co/FMMDRjnObo'\", 'None', '38', 'Tue Oct 03 19:07:42 +0000 2017', '0']\n",
      "['#istandwithceu', \"b'TBartscherer'\", \"b'RT @ceuhungary: .@ceuhungary Signs MOU with @BardCollege, Retains Aim to Stay in Budapest #istandwithCEU https://t.co/FMMDRjnObo'\", 'None', '38', 'Tue Oct 03 19:03:15 +0000 2017', '0']\n",
      "['#istandwithceu', \"b'deanstarkman'\", \"b'RT @ceuhungary: .@ceuhungary Signs MOU with @BardCollege, Retains Aim to Stay in Budapest #istandwithCEU https://t.co/FMMDRjnObo'\", 'None', '38', 'Tue Oct 03 19:01:28 +0000 2017', '0']\n",
      "['#istandwithceu', \"b'KirstenJRoberts'\", \"b'RT @ceuhungary: .@ceuhungary Signs MOU with @BardCollege, Retains Aim to Stay in Budapest #istandwithCEU https://t.co/FMMDRjnObo'\", 'None', '38', 'Tue Oct 03 18:56:08 +0000 2017', '0']\n",
      "['#istandwithceu', \"b'faithjbailey'\", \"b'RT @ceuhungary: .@ceuhungary Signs MOU with @BardCollege, Retains Aim to Stay in Budapest #istandwithCEU https://t.co/FMMDRjnObo'\", 'None', '38', 'Tue Oct 03 18:54:14 +0000 2017', '0']\n",
      "['#istandwithceu', \"b'Postdoc_anon'\", \"b'RT @ceuhungary: .@ceuhungary Signs MOU with @BardCollege, Retains Aim to Stay in Budapest #istandwithCEU https://t.co/FMMDRjnObo'\", 'None', '38', 'Tue Oct 03 18:51:38 +0000 2017', '0']\n",
      "['#istandwithceu', \"b'mate_mtys'\", \"b'RT @ceuhungary: .@ceuhungary Signs MOU with @BardCollege, Retains Aim to Stay in Budapest #istandwithCEU https://t.co/FMMDRjnObo'\", 'None', '38', 'Tue Oct 03 18:50:55 +0000 2017', '0']\n",
      "['#istandwithceu', \"b'ceuhungary'\", \"b'.@ceuhungary Signs MOU with @BardCollege, Retains Aim to Stay in Budapest #istandwithCEU https://t.co/FMMDRjnObo'\", 'None', '38', 'Tue Oct 03 18:50:05 +0000 2017', '46']\n",
      "['#istandwithceu', \"b'yoginho'\", \"b'CEU signs contract with Bard College. Orban will have to think of other excuses to close it down now...\\\\xe2\\\\x80\\\\xa6 https://t.co/oF80tWKzSQ'\", 'None', '0', 'Tue Oct 03 18:36:48 +0000 2017', '3']\n",
      "['#istandwithceu', \"b'yoginho'\", \"b'Meanwhile in Hungary\\\\xe2\\\\x80\\\\xa6 Just a reminder that #IstandwithCEU. https://t.co/D3hlkrWYk2'\", 'None', '0', 'Tue Oct 03 16:12:10 +0000 2017', '1']\n",
      "['#istandwithceu', \"b'h_david_baer'\", \"b'Want to belong to Europe? Stop discriminating against #CEU! #istandwithceu https://t.co/7xKv1evrH2'\", 'None', '0', 'Tue Oct 03 14:30:42 +0000 2017', '1']\n",
      "['#istandwithceu', \"b'thorstenbenner'\", 'b\\'It\\\\\\'s beyond cute to see Orban\\\\\\'s spokesperson utter\\\\n\"Want to belong to Europe? Act like it!\"\\\\nwith regard to educatio\\\\xe2\\\\x80\\\\xa6 https://t.co/16SQtf8FoS\\'', 'None', '0', 'Tue Oct 03 05:57:27 +0000 2017', '2']\n",
      "['#istandwithceu', \"b'cesawards'\", \"b'RT @PeterGSzilagyi: \\\\xf0\\\\x9f\\\\x99\\\\x8c #ceuilab of @ceuhungary is best accelerator and incubator in \\\\xf0\\\\x9f\\\\x87\\\\xad\\\\xf0\\\\x9f\\\\x87\\\\xba at #CESAwards2017 #ceu #ceuhungary #istandwithceu #in\\\\xe2\\\\x80\\\\xa6'\", 'None', '1', 'Sun Oct 01 11:23:02 +0000 2017', '0']\n",
      "['#istandwithceu', \"b'Welloooooooo'\", \"b'RT @toma: This is a nightmare when we have to protest for a university. #IStandWithCEU'\", 'None', '1', 'Sat Sep 30 21:56:53 +0000 2017', '0']\n",
      "['#istandwithceu', \"b'nesiandtweet'\", \"b'@ceuhungary has a campus in #NewYork thanks to @BardCollege. This was a condition set by the authoritarian\\\\xe2\\\\x80\\\\xa6 https://t.co/VRuUkLrHQX'\", 'None', '4', 'Sat Sep 30 17:22:05 +0000 2017', '2']\n"
     ]
    }
   ],
   "source": [
    "for tweet in tweets:\n",
    "    print(tweet.split('\\t'))"
   ]
  },
  {
   "cell_type": "markdown",
   "metadata": {},
   "source": [
    "## Exercise\n",
    "In each line print above, there is a lot of information, not just the text of the tweet. Can you identify the different pieces of information? "
   ]
  },
  {
   "cell_type": "code",
   "execution_count": null,
   "metadata": {
    "collapsed": true
   },
   "outputs": [],
   "source": []
  }
 ],
 "metadata": {
  "kernelspec": {
   "display_name": "Python 3",
   "language": "python",
   "name": "python3"
  },
  "language_info": {
   "codemirror_mode": {
    "name": "ipython",
    "version": 3
   },
   "file_extension": ".py",
   "mimetype": "text/x-python",
   "name": "python",
   "nbconvert_exporter": "python",
   "pygments_lexer": "ipython3",
   "version": "3.6.1"
  }
 },
 "nbformat": 4,
 "nbformat_minor": 1
}
