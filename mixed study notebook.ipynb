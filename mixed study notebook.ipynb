{
 "cells": [
  {
   "cell_type": "code",
   "execution_count": 1,
   "metadata": {},
   "outputs": [
    {
     "name": "stdout",
     "output_type": "stream",
     "text": [
      "Your IP is 46.107.168.86\n"
     ]
    }
   ],
   "source": [
    "import requests\n",
    "\n",
    "response = requests.get('https://httpbin.org/ip')\n",
    "\n",
    "print('Your IP is {0}'.format(response.json()['origin']))"
   ]
  },
  {
   "cell_type": "code",
   "execution_count": 2,
   "metadata": {},
   "outputs": [
    {
     "name": "stdout",
     "output_type": "stream",
     "text": [
      "<Response [200]>\n"
     ]
    }
   ],
   "source": [
    "print(response)"
   ]
  },
  {
   "cell_type": "code",
   "execution_count": 12,
   "metadata": {},
   "outputs": [
    {
     "name": "stdout",
     "output_type": "stream",
     "text": [
      "ꀀabcd޴\n",
      "ꀀabcd޴\n"
     ]
    }
   ],
   "source": [
    "u = chr(40960) + 'abcd' + chr(1972)\n",
    "print(u)\n",
    "u.encode('utf-8')\n",
    "print(u)\n",
    "#>>> u.encode('ascii')  "
   ]
  },
  {
   "cell_type": "code",
   "execution_count": 1,
   "metadata": {},
   "outputs": [
    {
     "data": {
      "text/plain": [
       "'bérka'"
      ]
     },
     "execution_count": 1,
     "metadata": {},
     "output_type": "execute_result"
    }
   ],
   "source": [
    "s = \"bérka\"\n",
    "s"
   ]
  },
  {
   "cell_type": "code",
   "execution_count": 5,
   "metadata": {
    "collapsed": true
   },
   "outputs": [],
   "source": [
    "t = s.encode('utf-8')"
   ]
  },
  {
   "cell_type": "code",
   "execution_count": 6,
   "metadata": {},
   "outputs": [
    {
     "data": {
      "text/plain": [
       "b'b\\xc3\\xa9rka'"
      ]
     },
     "execution_count": 6,
     "metadata": {},
     "output_type": "execute_result"
    }
   ],
   "source": [
    "t"
   ]
  },
  {
   "cell_type": "code",
   "execution_count": 7,
   "metadata": {},
   "outputs": [
    {
     "data": {
      "text/plain": [
       "'bérka'"
      ]
     },
     "execution_count": 7,
     "metadata": {},
     "output_type": "execute_result"
    }
   ],
   "source": [
    "ty = t.decode('utf-8')\n",
    "ty"
   ]
  },
  {
   "cell_type": "code",
   "execution_count": null,
   "metadata": {
    "collapsed": true
   },
   "outputs": [],
   "source": [
    "import pandas as pd\n",
    "\n",
    "(pd.DataFrame.from_dict(data=mydict, orient='index').\n",
    "to_csv('dict_file.csv', header=False))"
   ]
  },
  {
   "cell_type": "code",
   "execution_count": 2,
   "metadata": {},
   "outputs": [
    {
     "data": {
      "text/plain": [
       "4"
      ]
     },
     "execution_count": 2,
     "metadata": {},
     "output_type": "execute_result"
    }
   ],
   "source": [
    "import multiprocessing as mp\n",
    "mp.cpu_count()"
   ]
  },
  {
   "cell_type": "code",
   "execution_count": 4,
   "metadata": {},
   "outputs": [
    {
     "name": "stdout",
     "output_type": "stream",
     "text": [
      "\n",
      "Python version  : 3.6.1\n",
      "compiler        : MSC v.1900 64 bit (AMD64)\n",
      "system     : Windows\n",
      "release    : 10\n",
      "machine    : AMD64\n",
      "processor  : Intel64 Family 6 Model 142 Stepping 9, GenuineIntel\n",
      "CPU count  : 4\n",
      "interpreter: 64bit\n",
      "\n",
      "\n",
      "\n"
     ]
    }
   ],
   "source": [
    "import platform\n",
    "\n",
    "print('\\nPython version  :', platform.python_version())\n",
    "print('compiler        :', platform.python_compiler())\n",
    "print('system     :', platform.system())\n",
    "print('release    :', platform.release())\n",
    "print('machine    :', platform.machine())\n",
    "print('processor  :', platform.processor())\n",
    "print('CPU count  :', mp.cpu_count())\n",
    "print('interpreter:', platform.architecture()[0])\n",
    "print('\\n\\n')"
   ]
  },
  {
   "cell_type": "code",
   "execution_count": 4,
   "metadata": {},
   "outputs": [
    {
     "name": "stdout",
     "output_type": "stream",
     "text": [
      "interpreter: ('64bit', 'WindowsPE')\n"
     ]
    }
   ],
   "source": [
    "print('interpreter:', platform.architecture())"
   ]
  },
  {
   "cell_type": "code",
   "execution_count": 1,
   "metadata": {
    "collapsed": true
   },
   "outputs": [],
   "source": [
    "from scipy.sparse import load_npz\n",
    "import numpy as np\n",
    "from scipy import spatial\n",
    "import time"
   ]
  },
  {
   "cell_type": "code",
   "execution_count": 2,
   "metadata": {
    "collapsed": true
   },
   "outputs": [],
   "source": [
    "mx = load_npz('C:\\\\FOLDERS\\\\CEU\\\\Capstone Project\\\\Data\\\\sparse_matrix.npz')\n",
    "mx_array = mx.toarray()"
   ]
  },
  {
   "cell_type": "code",
   "execution_count": 3,
   "metadata": {
    "collapsed": true
   },
   "outputs": [],
   "source": [
    "def transform(matrix):\n",
    "    matrix_out = np.zeros((8743, 8743))\n",
    "    for i in range(0,8742):\n",
    "        for j in range(i+1, 8743):\n",
    "            matrix_out[i,j] = 100 * spatial.distance.cosine(matrix[i,:], matrix[:,j])\n",
    "    return(matrix_out)"
   ]
  },
  {
   "cell_type": "code",
   "execution_count": null,
   "metadata": {
    "collapsed": true
   },
   "outputs": [],
   "source": [
    "t1 = time.time()\n",
    "pool = mp.Pool(processes=4)\n",
    "mx_cos = pool.map(transform, mx_array)\n",
    "t2 = time.time()\n",
    "print(t2 - t1)"
   ]
  },
  {
   "cell_type": "code",
   "execution_count": 1,
   "metadata": {
    "collapsed": true
   },
   "outputs": [],
   "source": [
    "import pandas as pd\n",
    "\n",
    "tables = pd.read_html(\"http://www.ksh.hu/docs/hun/xstadat/xstadat_hosszu/h_qsf001.html\")"
   ]
  },
  {
   "cell_type": "code",
   "execution_count": 4,
   "metadata": {},
   "outputs": [
    {
     "data": {
      "text/plain": [
       "[            0                   1                          2             3\n",
       " 0          Év  Fogyasztóiár-index                     Ebből:           NaN\n",
       " 1  élelmiszer  háztartási energia  egyéb cikkek, üzemanyagok  szolgáltatás,\n",
       "        0        1        2         3        4        5\n",
       " 0   1960     1000     1000      1000     1000     1000\n",
       " 1   1961     1009     1009       998     1000     1020\n",
       " 2   1962     1014     1004       992      999     1021\n",
       " 3   1963     1008      997       988      988     1020\n",
       " 4   1964     1012     1012       982      988     1020\n",
       " 5   1965     1019     1029       972      989     1026\n",
       " 6   1966     1031     1077      1045      974     1037\n",
       " 7   1967     1035     1085      1069      973     1049\n",
       " 8   1968     1032     1080      1057      939     1088\n",
       " 9   1969     1046     1089      1014      967     1120\n",
       " 10  1970     1060     1099       996      999     1141\n",
       " 11  1971     1081     1121       987     1016     1192\n",
       " 12  1972     1112     1133       966     1039     1234\n",
       " 13  1973     1149     1186       947     1047     1261\n",
       " 14  1974     1170     1192      1000     1069     1284\n",
       " 15  1975     1214     1206      1078     1165     1312\n",
       " 16  1976     1275     1329      1068     1243     1343\n",
       " 17  1977     1325     1402      1061     1270     1386\n",
       " 18  1978     1386     1452      1064     1312     1440\n",
       " 19  1979     1509     1600      1158     1417     1489\n",
       " 20  1980     1646     1814      1406     1552     1593\n",
       " 21  1981     1722     1876      1403     1692     1697\n",
       " 22  1982     1841     1966      1543     1800     1819\n",
       " 23  1983     1975     2066      1619     1967     2003\n",
       " 24  1984     2139     2316      1698     2111     2163\n",
       " 25  1985     2289     2462      2053     2236     2364\n",
       " 26  1986     2411     2511      2124     2347     2574\n",
       " 27  1987     2619     2741      2262     2493     2805\n",
       " 28  1988     3025     3175      2552     2899     3296\n",
       " 29  1989     3539     3737      2843     3548     3842\n",
       " 30  1990     4561     5052      3627     4574     4825\n",
       " 31  1991     6158     6159      6566     6559     6847\n",
       " 32  1992     7573     7354      9402     8342     8626\n",
       " 33  1993     9277     9502   1 131,1  1 014,4  1 070,5\n",
       " 34  1994  1 102,2  1 172,6   1 263,4  1 207,1  1 287,8\n",
       " 35  1995  1 412,5  1 537,3   1 895,1  1 536,4  1 623,1\n",
       " 36  1996  1 745,9  1 803,3   2 511,0  1 931,3  2 051,6\n",
       " 37  1997  2 065,4  2 118,9   3 261,8  2 242,2  2 445,5\n",
       " 38  1998  2 360,8  2 424,0   3 845,7  2 482,1  2 841,7\n",
       " 39  1999  2 596,8  2 494,3   4 207,2  2 874,0  3 262,3\n",
       " 40  2000  2 851,3  2 723,8   4 590,1  3 305,1  3 578,7\n",
       " 41  2001  3 113,6  3 099,6   5 062,9  3 467,0  3 929,5\n",
       " 42  2002  3 278,7  3 267,0   5 341,4  3 609,1  4 180,9\n",
       " 43  2003  3 432,8  3 355,2   5 731,3  3 749,9  4 427,6\n",
       " 44  2004  3 666,2  3 573,3   6 539,4  3 896,1  4 764,1\n",
       " 45  2005  3 798,2  3 662,7   6 944,8  4 071,4  5 026,1\n",
       " 46  2006  3 946,3  3 944,7   7 389,3  4 181,3  5 232,2\n",
       " 47  2007  4 262,0  4 398,3   9 207,1  4 348,6  5 619,4\n",
       " 48  2008  4 522,0  4 846,9  10 376,4  4 548,6  5 900,4\n",
       " 49  2009  4 711,9  5 060,2  11 227,3  4 598,6  6 171,8\n",
       " 50  2010  4 942,8  5 222,1  11 934,6  5 003,3  6 437,2\n",
       " 51  2011  5 136,6  5 568,8  12 617,3  5 314,5  6 578,8\n",
       " 52  2012  5 427,8  5 898,0  13 398,3  5 696,6  6 857,1\n",
       " 53  2013  5 521,7  6 060,8  12 263,4  5 722,8  7 103,3\n",
       " 54  2014  5 509,6  6 038,9  10 823,7  5 693,1  7 233,3\n",
       " 55  2015  5 505,7  6 090,9  10 506,6  5 433,5  7 368,5\n",
       " 56  2016  5 527,7  6 130,5  10 499,2  5 312,3  7 475,4\n",
       " 57  2017  5 657,6  6 299,1  10 581,1  5 504,1  7 588,3]"
      ]
     },
     "execution_count": 4,
     "metadata": {},
     "output_type": "execute_result"
    }
   ],
   "source": [
    "tables"
   ]
  },
  {
   "cell_type": "code",
   "execution_count": 5,
   "metadata": {},
   "outputs": [
    {
     "ename": "ValueError",
     "evalue": "too many values to unpack (expected 1)",
     "output_type": "error",
     "traceback": [
      "\u001b[1;31m---------------------------------------------------------------------------\u001b[0m",
      "\u001b[1;31mValueError\u001b[0m                                Traceback (most recent call last)",
      "\u001b[1;32m<ipython-input-5-ec80d131d29e>\u001b[0m in \u001b[0;36m<module>\u001b[1;34m()\u001b[0m\n\u001b[1;32m----> 1\u001b[1;33m \u001b[0mcpi\u001b[0m\u001b[1;33m,\u001b[0m \u001b[1;33m=\u001b[0m \u001b[0mpd\u001b[0m\u001b[1;33m.\u001b[0m\u001b[0mread_html\u001b[0m\u001b[1;33m(\u001b[0m\u001b[1;34m\"http://www.ksh.hu/docs/hun/xstadat/xstadat_hosszu/h_qsf001.html\"\u001b[0m\u001b[1;33m,\u001b[0m \u001b[0mheader\u001b[0m\u001b[1;33m=\u001b[0m\u001b[1;36m0\u001b[0m\u001b[1;33m)\u001b[0m\u001b[1;33m\u001b[0m\u001b[0m\n\u001b[0m",
      "\u001b[1;31mValueError\u001b[0m: too many values to unpack (expected 1)"
     ]
    }
   ],
   "source": [
    "cpi, = pd.read_html(\"http://www.ksh.hu/docs/hun/xstadat/xstadat_hosszu/h_qsf001.html\", header=0)"
   ]
  },
  {
   "cell_type": "code",
   "execution_count": 11,
   "metadata": {},
   "outputs": [
    {
     "data": {
      "text/plain": [
       "0    Fogyasztóiár-index\n",
       "1    háztartási energia\n",
       "Name: 1, dtype: object"
      ]
     },
     "execution_count": 11,
     "metadata": {},
     "output_type": "execute_result"
    }
   ],
   "source": [
    "tables[0][1]"
   ]
  },
  {
   "cell_type": "code",
   "execution_count": 12,
   "metadata": {},
   "outputs": [
    {
     "data": {
      "text/html": [
       "<div>\n",
       "<style>\n",
       "    .dataframe thead tr:only-child th {\n",
       "        text-align: right;\n",
       "    }\n",
       "\n",
       "    .dataframe thead th {\n",
       "        text-align: left;\n",
       "    }\n",
       "\n",
       "    .dataframe tbody tr th {\n",
       "        vertical-align: top;\n",
       "    }\n",
       "</style>\n",
       "<table border=\"1\" class=\"dataframe\">\n",
       "  <thead>\n",
       "    <tr style=\"text-align: right;\">\n",
       "      <th></th>\n",
       "      <th>0</th>\n",
       "      <th>1</th>\n",
       "      <th>2</th>\n",
       "      <th>3</th>\n",
       "    </tr>\n",
       "  </thead>\n",
       "  <tbody>\n",
       "    <tr>\n",
       "      <th>0</th>\n",
       "      <td>Év</td>\n",
       "      <td>Fogyasztóiár-index</td>\n",
       "      <td>Ebből:</td>\n",
       "      <td>NaN</td>\n",
       "    </tr>\n",
       "    <tr>\n",
       "      <th>1</th>\n",
       "      <td>élelmiszer</td>\n",
       "      <td>háztartási energia</td>\n",
       "      <td>egyéb cikkek, üzemanyagok</td>\n",
       "      <td>szolgáltatás</td>\n",
       "    </tr>\n",
       "  </tbody>\n",
       "</table>\n",
       "</div>"
      ],
      "text/plain": [
       "            0                   1                          2             3\n",
       "0          Év  Fogyasztóiár-index                     Ebből:           NaN\n",
       "1  élelmiszer  háztartási energia  egyéb cikkek, üzemanyagok  szolgáltatás"
      ]
     },
     "execution_count": 12,
     "metadata": {},
     "output_type": "execute_result"
    }
   ],
   "source": [
    "tables[0]"
   ]
  },
  {
   "cell_type": "code",
   "execution_count": 13,
   "metadata": {
    "collapsed": true
   },
   "outputs": [],
   "source": [
    "t = tables[0]"
   ]
  },
  {
   "cell_type": "code",
   "execution_count": 14,
   "metadata": {},
   "outputs": [
    {
     "data": {
      "text/plain": [
       "pandas.core.frame.DataFrame"
      ]
     },
     "execution_count": 14,
     "metadata": {},
     "output_type": "execute_result"
    }
   ],
   "source": [
    "type(t)"
   ]
  },
  {
   "cell_type": "code",
   "execution_count": 15,
   "metadata": {},
   "outputs": [
    {
     "data": {
      "text/html": [
       "<div>\n",
       "<style>\n",
       "    .dataframe thead tr:only-child th {\n",
       "        text-align: right;\n",
       "    }\n",
       "\n",
       "    .dataframe thead th {\n",
       "        text-align: left;\n",
       "    }\n",
       "\n",
       "    .dataframe tbody tr th {\n",
       "        vertical-align: top;\n",
       "    }\n",
       "</style>\n",
       "<table border=\"1\" class=\"dataframe\">\n",
       "  <thead>\n",
       "    <tr style=\"text-align: right;\">\n",
       "      <th></th>\n",
       "      <th>0</th>\n",
       "      <th>1</th>\n",
       "      <th>2</th>\n",
       "      <th>3</th>\n",
       "    </tr>\n",
       "  </thead>\n",
       "  <tbody>\n",
       "    <tr>\n",
       "      <th>0</th>\n",
       "      <td>Év</td>\n",
       "      <td>Fogyasztóiár-index</td>\n",
       "      <td>Ebből:</td>\n",
       "      <td>NaN</td>\n",
       "    </tr>\n",
       "    <tr>\n",
       "      <th>1</th>\n",
       "      <td>élelmiszer</td>\n",
       "      <td>háztartási energia</td>\n",
       "      <td>egyéb cikkek, üzemanyagok</td>\n",
       "      <td>szolgáltatás</td>\n",
       "    </tr>\n",
       "  </tbody>\n",
       "</table>\n",
       "</div>"
      ],
      "text/plain": [
       "            0                   1                          2             3\n",
       "0          Év  Fogyasztóiár-index                     Ebből:           NaN\n",
       "1  élelmiszer  háztartási energia  egyéb cikkek, üzemanyagok  szolgáltatás"
      ]
     },
     "execution_count": 15,
     "metadata": {},
     "output_type": "execute_result"
    }
   ],
   "source": [
    "t.head()"
   ]
  },
  {
   "cell_type": "code",
   "execution_count": 16,
   "metadata": {},
   "outputs": [
    {
     "data": {
      "text/html": [
       "<div>\n",
       "<style>\n",
       "    .dataframe thead tr:only-child th {\n",
       "        text-align: right;\n",
       "    }\n",
       "\n",
       "    .dataframe thead th {\n",
       "        text-align: left;\n",
       "    }\n",
       "\n",
       "    .dataframe tbody tr th {\n",
       "        vertical-align: top;\n",
       "    }\n",
       "</style>\n",
       "<table border=\"1\" class=\"dataframe\">\n",
       "  <thead>\n",
       "    <tr style=\"text-align: right;\">\n",
       "      <th></th>\n",
       "      <th>0</th>\n",
       "      <th>1</th>\n",
       "      <th>2</th>\n",
       "      <th>3</th>\n",
       "      <th>4</th>\n",
       "      <th>5</th>\n",
       "    </tr>\n",
       "  </thead>\n",
       "  <tbody>\n",
       "    <tr>\n",
       "      <th>0</th>\n",
       "      <td>1960</td>\n",
       "      <td>1000</td>\n",
       "      <td>1000</td>\n",
       "      <td>1000</td>\n",
       "      <td>1000</td>\n",
       "      <td>1000</td>\n",
       "    </tr>\n",
       "    <tr>\n",
       "      <th>1</th>\n",
       "      <td>1961</td>\n",
       "      <td>1009</td>\n",
       "      <td>1009</td>\n",
       "      <td>998</td>\n",
       "      <td>1000</td>\n",
       "      <td>1020</td>\n",
       "    </tr>\n",
       "    <tr>\n",
       "      <th>2</th>\n",
       "      <td>1962</td>\n",
       "      <td>1014</td>\n",
       "      <td>1004</td>\n",
       "      <td>992</td>\n",
       "      <td>999</td>\n",
       "      <td>1021</td>\n",
       "    </tr>\n",
       "    <tr>\n",
       "      <th>3</th>\n",
       "      <td>1963</td>\n",
       "      <td>1008</td>\n",
       "      <td>997</td>\n",
       "      <td>988</td>\n",
       "      <td>988</td>\n",
       "      <td>1020</td>\n",
       "    </tr>\n",
       "    <tr>\n",
       "      <th>4</th>\n",
       "      <td>1964</td>\n",
       "      <td>1012</td>\n",
       "      <td>1012</td>\n",
       "      <td>982</td>\n",
       "      <td>988</td>\n",
       "      <td>1020</td>\n",
       "    </tr>\n",
       "    <tr>\n",
       "      <th>5</th>\n",
       "      <td>1965</td>\n",
       "      <td>1019</td>\n",
       "      <td>1029</td>\n",
       "      <td>972</td>\n",
       "      <td>989</td>\n",
       "      <td>1026</td>\n",
       "    </tr>\n",
       "    <tr>\n",
       "      <th>6</th>\n",
       "      <td>1966</td>\n",
       "      <td>1031</td>\n",
       "      <td>1077</td>\n",
       "      <td>1045</td>\n",
       "      <td>974</td>\n",
       "      <td>1037</td>\n",
       "    </tr>\n",
       "    <tr>\n",
       "      <th>7</th>\n",
       "      <td>1967</td>\n",
       "      <td>1035</td>\n",
       "      <td>1085</td>\n",
       "      <td>1069</td>\n",
       "      <td>973</td>\n",
       "      <td>1049</td>\n",
       "    </tr>\n",
       "    <tr>\n",
       "      <th>8</th>\n",
       "      <td>1968</td>\n",
       "      <td>1032</td>\n",
       "      <td>1080</td>\n",
       "      <td>1057</td>\n",
       "      <td>939</td>\n",
       "      <td>1088</td>\n",
       "    </tr>\n",
       "    <tr>\n",
       "      <th>9</th>\n",
       "      <td>1969</td>\n",
       "      <td>1046</td>\n",
       "      <td>1089</td>\n",
       "      <td>1014</td>\n",
       "      <td>967</td>\n",
       "      <td>1120</td>\n",
       "    </tr>\n",
       "    <tr>\n",
       "      <th>10</th>\n",
       "      <td>1970</td>\n",
       "      <td>1060</td>\n",
       "      <td>1099</td>\n",
       "      <td>996</td>\n",
       "      <td>999</td>\n",
       "      <td>1141</td>\n",
       "    </tr>\n",
       "    <tr>\n",
       "      <th>11</th>\n",
       "      <td>1971</td>\n",
       "      <td>1081</td>\n",
       "      <td>1121</td>\n",
       "      <td>987</td>\n",
       "      <td>1016</td>\n",
       "      <td>1192</td>\n",
       "    </tr>\n",
       "    <tr>\n",
       "      <th>12</th>\n",
       "      <td>1972</td>\n",
       "      <td>1112</td>\n",
       "      <td>1133</td>\n",
       "      <td>966</td>\n",
       "      <td>1039</td>\n",
       "      <td>1234</td>\n",
       "    </tr>\n",
       "    <tr>\n",
       "      <th>13</th>\n",
       "      <td>1973</td>\n",
       "      <td>1149</td>\n",
       "      <td>1186</td>\n",
       "      <td>947</td>\n",
       "      <td>1047</td>\n",
       "      <td>1261</td>\n",
       "    </tr>\n",
       "    <tr>\n",
       "      <th>14</th>\n",
       "      <td>1974</td>\n",
       "      <td>1170</td>\n",
       "      <td>1192</td>\n",
       "      <td>1000</td>\n",
       "      <td>1069</td>\n",
       "      <td>1284</td>\n",
       "    </tr>\n",
       "    <tr>\n",
       "      <th>15</th>\n",
       "      <td>1975</td>\n",
       "      <td>1214</td>\n",
       "      <td>1206</td>\n",
       "      <td>1078</td>\n",
       "      <td>1165</td>\n",
       "      <td>1312</td>\n",
       "    </tr>\n",
       "    <tr>\n",
       "      <th>16</th>\n",
       "      <td>1976</td>\n",
       "      <td>1275</td>\n",
       "      <td>1329</td>\n",
       "      <td>1068</td>\n",
       "      <td>1243</td>\n",
       "      <td>1343</td>\n",
       "    </tr>\n",
       "    <tr>\n",
       "      <th>17</th>\n",
       "      <td>1977</td>\n",
       "      <td>1325</td>\n",
       "      <td>1402</td>\n",
       "      <td>1061</td>\n",
       "      <td>1270</td>\n",
       "      <td>1386</td>\n",
       "    </tr>\n",
       "    <tr>\n",
       "      <th>18</th>\n",
       "      <td>1978</td>\n",
       "      <td>1386</td>\n",
       "      <td>1452</td>\n",
       "      <td>1064</td>\n",
       "      <td>1312</td>\n",
       "      <td>1440</td>\n",
       "    </tr>\n",
       "    <tr>\n",
       "      <th>19</th>\n",
       "      <td>1979</td>\n",
       "      <td>1509</td>\n",
       "      <td>1600</td>\n",
       "      <td>1158</td>\n",
       "      <td>1417</td>\n",
       "      <td>1489</td>\n",
       "    </tr>\n",
       "    <tr>\n",
       "      <th>20</th>\n",
       "      <td>1980</td>\n",
       "      <td>1646</td>\n",
       "      <td>1814</td>\n",
       "      <td>1406</td>\n",
       "      <td>1552</td>\n",
       "      <td>1593</td>\n",
       "    </tr>\n",
       "    <tr>\n",
       "      <th>21</th>\n",
       "      <td>1981</td>\n",
       "      <td>1722</td>\n",
       "      <td>1876</td>\n",
       "      <td>1403</td>\n",
       "      <td>1692</td>\n",
       "      <td>1697</td>\n",
       "    </tr>\n",
       "    <tr>\n",
       "      <th>22</th>\n",
       "      <td>1982</td>\n",
       "      <td>1841</td>\n",
       "      <td>1966</td>\n",
       "      <td>1543</td>\n",
       "      <td>1800</td>\n",
       "      <td>1819</td>\n",
       "    </tr>\n",
       "    <tr>\n",
       "      <th>23</th>\n",
       "      <td>1983</td>\n",
       "      <td>1975</td>\n",
       "      <td>2066</td>\n",
       "      <td>1619</td>\n",
       "      <td>1967</td>\n",
       "      <td>2003</td>\n",
       "    </tr>\n",
       "    <tr>\n",
       "      <th>24</th>\n",
       "      <td>1984</td>\n",
       "      <td>2139</td>\n",
       "      <td>2316</td>\n",
       "      <td>1698</td>\n",
       "      <td>2111</td>\n",
       "      <td>2163</td>\n",
       "    </tr>\n",
       "    <tr>\n",
       "      <th>25</th>\n",
       "      <td>1985</td>\n",
       "      <td>2289</td>\n",
       "      <td>2462</td>\n",
       "      <td>2053</td>\n",
       "      <td>2236</td>\n",
       "      <td>2364</td>\n",
       "    </tr>\n",
       "    <tr>\n",
       "      <th>26</th>\n",
       "      <td>1986</td>\n",
       "      <td>2411</td>\n",
       "      <td>2511</td>\n",
       "      <td>2124</td>\n",
       "      <td>2347</td>\n",
       "      <td>2574</td>\n",
       "    </tr>\n",
       "    <tr>\n",
       "      <th>27</th>\n",
       "      <td>1987</td>\n",
       "      <td>2619</td>\n",
       "      <td>2741</td>\n",
       "      <td>2262</td>\n",
       "      <td>2493</td>\n",
       "      <td>2805</td>\n",
       "    </tr>\n",
       "    <tr>\n",
       "      <th>28</th>\n",
       "      <td>1988</td>\n",
       "      <td>3025</td>\n",
       "      <td>3175</td>\n",
       "      <td>2552</td>\n",
       "      <td>2899</td>\n",
       "      <td>3296</td>\n",
       "    </tr>\n",
       "    <tr>\n",
       "      <th>29</th>\n",
       "      <td>1989</td>\n",
       "      <td>3539</td>\n",
       "      <td>3737</td>\n",
       "      <td>2843</td>\n",
       "      <td>3548</td>\n",
       "      <td>3842</td>\n",
       "    </tr>\n",
       "    <tr>\n",
       "      <th>30</th>\n",
       "      <td>1990</td>\n",
       "      <td>4561</td>\n",
       "      <td>5052</td>\n",
       "      <td>3627</td>\n",
       "      <td>4574</td>\n",
       "      <td>4825</td>\n",
       "    </tr>\n",
       "    <tr>\n",
       "      <th>31</th>\n",
       "      <td>1991</td>\n",
       "      <td>6158</td>\n",
       "      <td>6159</td>\n",
       "      <td>6566</td>\n",
       "      <td>6559</td>\n",
       "      <td>6847</td>\n",
       "    </tr>\n",
       "    <tr>\n",
       "      <th>32</th>\n",
       "      <td>1992</td>\n",
       "      <td>7573</td>\n",
       "      <td>7354</td>\n",
       "      <td>9402</td>\n",
       "      <td>8342</td>\n",
       "      <td>8626</td>\n",
       "    </tr>\n",
       "    <tr>\n",
       "      <th>33</th>\n",
       "      <td>1993</td>\n",
       "      <td>9277</td>\n",
       "      <td>9502</td>\n",
       "      <td>1 131,1</td>\n",
       "      <td>1 014,4</td>\n",
       "      <td>1 070,5</td>\n",
       "    </tr>\n",
       "    <tr>\n",
       "      <th>34</th>\n",
       "      <td>1994</td>\n",
       "      <td>1 102,2</td>\n",
       "      <td>1 172,6</td>\n",
       "      <td>1 263,4</td>\n",
       "      <td>1 207,1</td>\n",
       "      <td>1 287,8</td>\n",
       "    </tr>\n",
       "    <tr>\n",
       "      <th>35</th>\n",
       "      <td>1995</td>\n",
       "      <td>1 412,5</td>\n",
       "      <td>1 537,3</td>\n",
       "      <td>1 895,1</td>\n",
       "      <td>1 536,4</td>\n",
       "      <td>1 623,1</td>\n",
       "    </tr>\n",
       "    <tr>\n",
       "      <th>36</th>\n",
       "      <td>1996</td>\n",
       "      <td>1 745,9</td>\n",
       "      <td>1 803,3</td>\n",
       "      <td>2 511,0</td>\n",
       "      <td>1 931,3</td>\n",
       "      <td>2 051,6</td>\n",
       "    </tr>\n",
       "    <tr>\n",
       "      <th>37</th>\n",
       "      <td>1997</td>\n",
       "      <td>2 065,4</td>\n",
       "      <td>2 118,9</td>\n",
       "      <td>3 261,8</td>\n",
       "      <td>2 242,2</td>\n",
       "      <td>2 445,5</td>\n",
       "    </tr>\n",
       "    <tr>\n",
       "      <th>38</th>\n",
       "      <td>1998</td>\n",
       "      <td>2 360,8</td>\n",
       "      <td>2 424,0</td>\n",
       "      <td>3 845,7</td>\n",
       "      <td>2 482,1</td>\n",
       "      <td>2 841,7</td>\n",
       "    </tr>\n",
       "    <tr>\n",
       "      <th>39</th>\n",
       "      <td>1999</td>\n",
       "      <td>2 596,8</td>\n",
       "      <td>2 494,3</td>\n",
       "      <td>4 207,2</td>\n",
       "      <td>2 874,0</td>\n",
       "      <td>3 262,3</td>\n",
       "    </tr>\n",
       "    <tr>\n",
       "      <th>40</th>\n",
       "      <td>2000</td>\n",
       "      <td>2 851,3</td>\n",
       "      <td>2 723,8</td>\n",
       "      <td>4 590,1</td>\n",
       "      <td>3 305,1</td>\n",
       "      <td>3 578,7</td>\n",
       "    </tr>\n",
       "    <tr>\n",
       "      <th>41</th>\n",
       "      <td>2001</td>\n",
       "      <td>3 113,6</td>\n",
       "      <td>3 099,6</td>\n",
       "      <td>5 062,9</td>\n",
       "      <td>3 467,0</td>\n",
       "      <td>3 929,5</td>\n",
       "    </tr>\n",
       "    <tr>\n",
       "      <th>42</th>\n",
       "      <td>2002</td>\n",
       "      <td>3 278,7</td>\n",
       "      <td>3 267,0</td>\n",
       "      <td>5 341,4</td>\n",
       "      <td>3 609,1</td>\n",
       "      <td>4 180,9</td>\n",
       "    </tr>\n",
       "    <tr>\n",
       "      <th>43</th>\n",
       "      <td>2003</td>\n",
       "      <td>3 432,8</td>\n",
       "      <td>3 355,2</td>\n",
       "      <td>5 731,3</td>\n",
       "      <td>3 749,9</td>\n",
       "      <td>4 427,6</td>\n",
       "    </tr>\n",
       "    <tr>\n",
       "      <th>44</th>\n",
       "      <td>2004</td>\n",
       "      <td>3 666,2</td>\n",
       "      <td>3 573,3</td>\n",
       "      <td>6 539,4</td>\n",
       "      <td>3 896,1</td>\n",
       "      <td>4 764,1</td>\n",
       "    </tr>\n",
       "    <tr>\n",
       "      <th>45</th>\n",
       "      <td>2005</td>\n",
       "      <td>3 798,2</td>\n",
       "      <td>3 662,7</td>\n",
       "      <td>6 944,8</td>\n",
       "      <td>4 071,4</td>\n",
       "      <td>5 026,1</td>\n",
       "    </tr>\n",
       "    <tr>\n",
       "      <th>46</th>\n",
       "      <td>2006</td>\n",
       "      <td>3 946,3</td>\n",
       "      <td>3 944,7</td>\n",
       "      <td>7 389,3</td>\n",
       "      <td>4 181,3</td>\n",
       "      <td>5 232,2</td>\n",
       "    </tr>\n",
       "    <tr>\n",
       "      <th>47</th>\n",
       "      <td>2007</td>\n",
       "      <td>4 262,0</td>\n",
       "      <td>4 398,3</td>\n",
       "      <td>9 207,1</td>\n",
       "      <td>4 348,6</td>\n",
       "      <td>5 619,4</td>\n",
       "    </tr>\n",
       "    <tr>\n",
       "      <th>48</th>\n",
       "      <td>2008</td>\n",
       "      <td>4 522,0</td>\n",
       "      <td>4 846,9</td>\n",
       "      <td>10 376,4</td>\n",
       "      <td>4 548,6</td>\n",
       "      <td>5 900,4</td>\n",
       "    </tr>\n",
       "    <tr>\n",
       "      <th>49</th>\n",
       "      <td>2009</td>\n",
       "      <td>4 711,9</td>\n",
       "      <td>5 060,2</td>\n",
       "      <td>11 227,3</td>\n",
       "      <td>4 598,6</td>\n",
       "      <td>6 171,8</td>\n",
       "    </tr>\n",
       "    <tr>\n",
       "      <th>50</th>\n",
       "      <td>2010</td>\n",
       "      <td>4 942,8</td>\n",
       "      <td>5 222,1</td>\n",
       "      <td>11 934,6</td>\n",
       "      <td>5 003,3</td>\n",
       "      <td>6 437,2</td>\n",
       "    </tr>\n",
       "    <tr>\n",
       "      <th>51</th>\n",
       "      <td>2011</td>\n",
       "      <td>5 136,6</td>\n",
       "      <td>5 568,8</td>\n",
       "      <td>12 617,3</td>\n",
       "      <td>5 314,5</td>\n",
       "      <td>6 578,8</td>\n",
       "    </tr>\n",
       "    <tr>\n",
       "      <th>52</th>\n",
       "      <td>2012</td>\n",
       "      <td>5 427,8</td>\n",
       "      <td>5 898,0</td>\n",
       "      <td>13 398,3</td>\n",
       "      <td>5 696,6</td>\n",
       "      <td>6 857,1</td>\n",
       "    </tr>\n",
       "    <tr>\n",
       "      <th>53</th>\n",
       "      <td>2013</td>\n",
       "      <td>5 521,7</td>\n",
       "      <td>6 060,8</td>\n",
       "      <td>12 263,4</td>\n",
       "      <td>5 722,8</td>\n",
       "      <td>7 103,3</td>\n",
       "    </tr>\n",
       "    <tr>\n",
       "      <th>54</th>\n",
       "      <td>2014</td>\n",
       "      <td>5 509,6</td>\n",
       "      <td>6 038,9</td>\n",
       "      <td>10 823,7</td>\n",
       "      <td>5 693,1</td>\n",
       "      <td>7 233,3</td>\n",
       "    </tr>\n",
       "    <tr>\n",
       "      <th>55</th>\n",
       "      <td>2015</td>\n",
       "      <td>5 505,7</td>\n",
       "      <td>6 090,9</td>\n",
       "      <td>10 506,6</td>\n",
       "      <td>5 433,5</td>\n",
       "      <td>7 368,5</td>\n",
       "    </tr>\n",
       "    <tr>\n",
       "      <th>56</th>\n",
       "      <td>2016</td>\n",
       "      <td>5 527,7</td>\n",
       "      <td>6 130,5</td>\n",
       "      <td>10 499,2</td>\n",
       "      <td>5 312,3</td>\n",
       "      <td>7 475,4</td>\n",
       "    </tr>\n",
       "    <tr>\n",
       "      <th>57</th>\n",
       "      <td>2017</td>\n",
       "      <td>5 657,6</td>\n",
       "      <td>6 299,1</td>\n",
       "      <td>10 581,1</td>\n",
       "      <td>5 504,1</td>\n",
       "      <td>7 588,3</td>\n",
       "    </tr>\n",
       "  </tbody>\n",
       "</table>\n",
       "</div>"
      ],
      "text/plain": [
       "       0        1        2         3        4        5\n",
       "0   1960     1000     1000      1000     1000     1000\n",
       "1   1961     1009     1009       998     1000     1020\n",
       "2   1962     1014     1004       992      999     1021\n",
       "3   1963     1008      997       988      988     1020\n",
       "4   1964     1012     1012       982      988     1020\n",
       "5   1965     1019     1029       972      989     1026\n",
       "6   1966     1031     1077      1045      974     1037\n",
       "7   1967     1035     1085      1069      973     1049\n",
       "8   1968     1032     1080      1057      939     1088\n",
       "9   1969     1046     1089      1014      967     1120\n",
       "10  1970     1060     1099       996      999     1141\n",
       "11  1971     1081     1121       987     1016     1192\n",
       "12  1972     1112     1133       966     1039     1234\n",
       "13  1973     1149     1186       947     1047     1261\n",
       "14  1974     1170     1192      1000     1069     1284\n",
       "15  1975     1214     1206      1078     1165     1312\n",
       "16  1976     1275     1329      1068     1243     1343\n",
       "17  1977     1325     1402      1061     1270     1386\n",
       "18  1978     1386     1452      1064     1312     1440\n",
       "19  1979     1509     1600      1158     1417     1489\n",
       "20  1980     1646     1814      1406     1552     1593\n",
       "21  1981     1722     1876      1403     1692     1697\n",
       "22  1982     1841     1966      1543     1800     1819\n",
       "23  1983     1975     2066      1619     1967     2003\n",
       "24  1984     2139     2316      1698     2111     2163\n",
       "25  1985     2289     2462      2053     2236     2364\n",
       "26  1986     2411     2511      2124     2347     2574\n",
       "27  1987     2619     2741      2262     2493     2805\n",
       "28  1988     3025     3175      2552     2899     3296\n",
       "29  1989     3539     3737      2843     3548     3842\n",
       "30  1990     4561     5052      3627     4574     4825\n",
       "31  1991     6158     6159      6566     6559     6847\n",
       "32  1992     7573     7354      9402     8342     8626\n",
       "33  1993     9277     9502   1 131,1  1 014,4  1 070,5\n",
       "34  1994  1 102,2  1 172,6   1 263,4  1 207,1  1 287,8\n",
       "35  1995  1 412,5  1 537,3   1 895,1  1 536,4  1 623,1\n",
       "36  1996  1 745,9  1 803,3   2 511,0  1 931,3  2 051,6\n",
       "37  1997  2 065,4  2 118,9   3 261,8  2 242,2  2 445,5\n",
       "38  1998  2 360,8  2 424,0   3 845,7  2 482,1  2 841,7\n",
       "39  1999  2 596,8  2 494,3   4 207,2  2 874,0  3 262,3\n",
       "40  2000  2 851,3  2 723,8   4 590,1  3 305,1  3 578,7\n",
       "41  2001  3 113,6  3 099,6   5 062,9  3 467,0  3 929,5\n",
       "42  2002  3 278,7  3 267,0   5 341,4  3 609,1  4 180,9\n",
       "43  2003  3 432,8  3 355,2   5 731,3  3 749,9  4 427,6\n",
       "44  2004  3 666,2  3 573,3   6 539,4  3 896,1  4 764,1\n",
       "45  2005  3 798,2  3 662,7   6 944,8  4 071,4  5 026,1\n",
       "46  2006  3 946,3  3 944,7   7 389,3  4 181,3  5 232,2\n",
       "47  2007  4 262,0  4 398,3   9 207,1  4 348,6  5 619,4\n",
       "48  2008  4 522,0  4 846,9  10 376,4  4 548,6  5 900,4\n",
       "49  2009  4 711,9  5 060,2  11 227,3  4 598,6  6 171,8\n",
       "50  2010  4 942,8  5 222,1  11 934,6  5 003,3  6 437,2\n",
       "51  2011  5 136,6  5 568,8  12 617,3  5 314,5  6 578,8\n",
       "52  2012  5 427,8  5 898,0  13 398,3  5 696,6  6 857,1\n",
       "53  2013  5 521,7  6 060,8  12 263,4  5 722,8  7 103,3\n",
       "54  2014  5 509,6  6 038,9  10 823,7  5 693,1  7 233,3\n",
       "55  2015  5 505,7  6 090,9  10 506,6  5 433,5  7 368,5\n",
       "56  2016  5 527,7  6 130,5  10 499,2  5 312,3  7 475,4\n",
       "57  2017  5 657,6  6 299,1  10 581,1  5 504,1  7 588,3"
      ]
     },
     "execution_count": 16,
     "metadata": {},
     "output_type": "execute_result"
    }
   ],
   "source": [
    "tables[1]"
   ]
  },
  {
   "cell_type": "code",
   "execution_count": 24,
   "metadata": {
    "collapsed": true
   },
   "outputs": [],
   "source": [
    "header = tables[0]"
   ]
  },
  {
   "cell_type": "markdown",
   "metadata": {
    "collapsed": true
   },
   "source": [
    "Decision tree for trading"
   ]
  },
  {
   "cell_type": "code",
   "execution_count": 6,
   "metadata": {
    "collapsed": true
   },
   "outputs": [],
   "source": [
    "from pandas_datareader import data as dt\n",
    "import fix_yahoo_finance\n",
    "import datetime\n",
    "import numpy as np"
   ]
  },
  {
   "cell_type": "code",
   "execution_count": 10,
   "metadata": {
    "collapsed": true
   },
   "outputs": [],
   "source": [
    "today = datetime.datetime.now().date()\n",
    "past_day = today - datetime.timedelta(days = 365)\n",
    "stock = 'GLD'"
   ]
  },
  {
   "cell_type": "code",
   "execution_count": 2,
   "metadata": {
    "scrolled": true
   },
   "outputs": [
    {
     "name": "stdout",
     "output_type": "stream",
     "text": [
      "Fetching package metadata .............\n",
      "Solving package specifications: .\n"
     ]
    },
    {
     "name": "stderr",
     "output_type": "stream",
     "text": [
      "\n",
      "UnsatisfiableError: The following specifications were found to be in conflict:\n",
      "  - basemap -> numpy 1.10* -> python 2.7*\n",
      "  - python 3.6*\n",
      "Use \"conda info <package>\" to see the dependencies for each package.\n",
      "\n"
     ]
    }
   ],
   "source": [
    "! conda install basemap"
   ]
  },
  {
   "cell_type": "code",
   "execution_count": null,
   "metadata": {
    "collapsed": true
   },
   "outputs": [],
   "source": [
    "! conda install -c conda-forge basemap"
   ]
  },
  {
   "cell_type": "code",
   "execution_count": 3,
   "metadata": {},
   "outputs": [
    {
     "ename": "ModuleNotFoundError",
     "evalue": "No module named 'mpl_toolkits.basemap'",
     "output_type": "error",
     "traceback": [
      "\u001b[1;31m---------------------------------------------------------------------------\u001b[0m",
      "\u001b[1;31mModuleNotFoundError\u001b[0m                       Traceback (most recent call last)",
      "\u001b[1;32m<ipython-input-3-61677214b971>\u001b[0m in \u001b[0;36m<module>\u001b[1;34m()\u001b[0m\n\u001b[0;32m      2\u001b[0m \u001b[1;32mimport\u001b[0m \u001b[0mnumpy\u001b[0m \u001b[1;32mas\u001b[0m \u001b[0mnp\u001b[0m\u001b[1;33m\u001b[0m\u001b[0m\n\u001b[0;32m      3\u001b[0m \u001b[1;32mimport\u001b[0m \u001b[0mmatplotlib\u001b[0m\u001b[1;33m.\u001b[0m\u001b[0mpyplot\u001b[0m \u001b[1;32mas\u001b[0m \u001b[0mplt\u001b[0m\u001b[1;33m\u001b[0m\u001b[0m\n\u001b[1;32m----> 4\u001b[1;33m \u001b[1;32mfrom\u001b[0m \u001b[0mmpl_toolkits\u001b[0m\u001b[1;33m.\u001b[0m\u001b[0mbasemap\u001b[0m \u001b[1;32mimport\u001b[0m \u001b[0mBasemap\u001b[0m\u001b[1;33m\u001b[0m\u001b[0m\n\u001b[0m",
      "\u001b[1;31mModuleNotFoundError\u001b[0m: No module named 'mpl_toolkits.basemap'"
     ]
    }
   ],
   "source": [
    "%matplotlib inline\n",
    "import numpy as np\n",
    "import matplotlib.pyplot as plt\n",
    "from mpl_toolkits.basemap import Basemap"
   ]
  },
  {
   "cell_type": "code",
   "execution_count": 4,
   "metadata": {
    "collapsed": true
   },
   "outputs": [],
   "source": [
    "import matplotlib.pyplot as plt\n",
    "%matplotlib inline"
   ]
  },
  {
   "cell_type": "code",
   "execution_count": 2,
   "metadata": {
    "collapsed": true
   },
   "outputs": [],
   "source": [
    "import numpy as np\n",
    "x = np.linspace(0,10,20)\n",
    "y = x**2"
   ]
  },
  {
   "cell_type": "code",
   "execution_count": 7,
   "metadata": {},
   "outputs": [
    {
     "data": {
      "image/png": "[encoded data removed]",
      "text/plain": [
       "<matplotlib.figure.Figure at 0x1b61cb18278>"
      ]
     },
     "metadata": {},
     "output_type": "display_data"
    }
   ],
   "source": [
    "plt.plot(x,y)\n",
    "plt.xlabel(\"x\")\n",
    "plt.ylabel(\"y\")\n",
    "plt.title(\"Title\")\n",
    "plt.show()"
   ]
  },
  {
   "cell_type": "code",
   "execution_count": 15,
   "metadata": {},
   "outputs": [
    {
     "data": {
      "image/png": "[encoded data removed]",
      "text/plain": [
       "<matplotlib.figure.Figure at 0x1b61ce5c400>"
      ]
     },
     "metadata": {},
     "output_type": "display_data"
    }
   ],
   "source": [
    "fig = plt.figure()\n",
    "ax = fig.add_axes([0.1,0.7,0.8, 1.9]) #left, bottom, width, height"
   ]
  },
  {
   "cell_type": "code",
   "execution_count": 17,
   "metadata": {},
   "outputs": [
    {
     "data": {
      "image/png": "[encoded data removed]",
      "text/plain": [
       "<matplotlib.figure.Figure at 0x1b61ce85a90>"
      ]
     },
     "metadata": {},
     "output_type": "display_data"
    }
   ],
   "source": [
    "fig = plt.figure()\n",
    "ax = fig.add_axes([0.1,0.7,1.8, 1])\n",
    "ax.plot(x,y, \"purple\")\n",
    "ax.set_xlabel(\"x\")\n",
    "ax.set_ylabel(\"y\")\n",
    "ax.set_title(\"Object-oriented plot\")\n",
    "plt.show()"
   ]
  },
  {
   "cell_type": "code",
   "execution_count": 23,
   "metadata": {},
   "outputs": [
    {
     "data": {
      "image/png": "[encoded data removed]",
      "text/plain": [
       "<matplotlib.figure.Figure at 0x1b61cb853c8>"
      ]
     },
     "metadata": {},
     "output_type": "display_data"
    }
   ],
   "source": [
    "fig = plt.figure()\n",
    "axes1 = fig.add_axes([0,0,1,1])\n",
    "axes2 = fig.add_axes([0.1, 0.45, 0.5, 0.5])\n",
    "axes1.plot(x,y)\n",
    "axes2.plot(y,x)\n",
    "plt.show()"
   ]
  },
  {
   "cell_type": "markdown",
   "metadata": {
    "collapsed": true
   },
   "source": [
    "---"
   ]
  },
  {
   "cell_type": "code",
   "execution_count": null,
   "metadata": {
    "collapsed": true
   },
   "outputs": [],
   "source": [
    "import gmplot"
   ]
  },
  {
   "cell_type": "markdown",
   "metadata": {
    "collapsed": true
   },
   "source": [
    "---"
   ]
  },
  {
   "cell_type": "code",
   "execution_count": 1,
   "metadata": {},
   "outputs": [
    {
     "ename": "ModuleNotFoundError",
     "evalue": "No module named 'wikipedia'",
     "output_type": "error",
     "traceback": [
      "\u001b[1;31m---------------------------------------------------------------------------\u001b[0m",
      "\u001b[1;31mModuleNotFoundError\u001b[0m                       Traceback (most recent call last)",
      "\u001b[1;32m<ipython-input-1-0b595efc8d0e>\u001b[0m in \u001b[0;36m<module>\u001b[1;34m()\u001b[0m\n\u001b[1;32m----> 1\u001b[1;33m \u001b[1;32mimport\u001b[0m \u001b[0mwikipedia\u001b[0m\u001b[1;33m\u001b[0m\u001b[0m\n\u001b[0m",
      "\u001b[1;31mModuleNotFoundError\u001b[0m: No module named 'wikipedia'"
     ]
    }
   ],
   "source": [
    "import wikipedia"
   ]
  },
  {
   "cell_type": "markdown",
   "metadata": {
    "collapsed": true
   },
   "source": [
    "___"
   ]
  },
  {
   "cell_type": "markdown",
   "metadata": {},
   "source": [
    "### Intro to pytorch"
   ]
  },
  {
   "cell_type": "code",
   "execution_count": 5,
   "metadata": {
    "collapsed": true
   },
   "outputs": [],
   "source": [
    "from skimage import io"
   ]
  },
  {
   "cell_type": "code",
   "execution_count": 6,
   "metadata": {
    "collapsed": true
   },
   "outputs": [],
   "source": [
    "from __future__ import print_function, division\n",
    "import os\n",
    "import torch\n",
    "import pandas as pd\n",
    "from skimage import io, transform\n",
    "import numpy as np\n",
    "import matplotlib.pyplot as plt\n",
    "from torch.utils.data import Dataset, DataLoader\n",
    "from torchvision import transforms, utils\n",
    "\n",
    "# Ignore warnings\n",
    "import warnings\n",
    "warnings.filterwarnings(\"ignore\")"
   ]
  },
  {
   "cell_type": "code",
   "execution_count": 7,
   "metadata": {
    "collapsed": true
   },
   "outputs": [],
   "source": [
    "os.chdir('C:\\\\Users\\\\peter\\\\OneDrive\\\\FOLDERS\\\\CEU\\\\Scientific Python\\\\pytorch')"
   ]
  },
  {
   "cell_type": "code",
   "execution_count": 8,
   "metadata": {
    "collapsed": true
   },
   "outputs": [],
   "source": [
    "landmarks_frame = pd.read_csv('faces/face_landmarks.csv')"
   ]
  },
  {
   "cell_type": "code",
   "execution_count": 9,
   "metadata": {},
   "outputs": [
    {
     "data": {
      "text/html": [
       "<div>\n",
       "<style>\n",
       "    .dataframe thead tr:only-child th {\n",
       "        text-align: right;\n",
       "    }\n",
       "\n",
       "    .dataframe thead th {\n",
       "        text-align: left;\n",
       "    }\n",
       "\n",
       "    .dataframe tbody tr th {\n",
       "        vertical-align: top;\n",
       "    }\n",
       "</style>\n",
       "<table border=\"1\" class=\"dataframe\">\n",
       "  <thead>\n",
       "    <tr style=\"text-align: right;\">\n",
       "      <th></th>\n",
       "      <th>image_name</th>\n",
       "      <th>part_0_x</th>\n",
       "      <th>part_0_y</th>\n",
       "      <th>part_1_x</th>\n",
       "      <th>part_1_y</th>\n",
       "      <th>part_2_x</th>\n",
       "      <th>part_2_y</th>\n",
       "      <th>part_3_x</th>\n",
       "      <th>part_3_y</th>\n",
       "      <th>part_4_x</th>\n",
       "      <th>...</th>\n",
       "      <th>part_63_x</th>\n",
       "      <th>part_63_y</th>\n",
       "      <th>part_64_x</th>\n",
       "      <th>part_64_y</th>\n",
       "      <th>part_65_x</th>\n",
       "      <th>part_65_y</th>\n",
       "      <th>part_66_x</th>\n",
       "      <th>part_66_y</th>\n",
       "      <th>part_67_x</th>\n",
       "      <th>part_67_y</th>\n",
       "    </tr>\n",
       "  </thead>\n",
       "  <tbody>\n",
       "    <tr>\n",
       "      <th>0</th>\n",
       "      <td>0805personali01.jpg</td>\n",
       "      <td>27</td>\n",
       "      <td>83</td>\n",
       "      <td>27</td>\n",
       "      <td>98</td>\n",
       "      <td>29</td>\n",
       "      <td>113</td>\n",
       "      <td>33</td>\n",
       "      <td>127</td>\n",
       "      <td>39</td>\n",
       "      <td>...</td>\n",
       "      <td>93</td>\n",
       "      <td>136</td>\n",
       "      <td>100</td>\n",
       "      <td>141</td>\n",
       "      <td>93</td>\n",
       "      <td>135</td>\n",
       "      <td>89</td>\n",
       "      <td>135</td>\n",
       "      <td>84</td>\n",
       "      <td>134</td>\n",
       "    </tr>\n",
       "    <tr>\n",
       "      <th>1</th>\n",
       "      <td>1084239450_e76e00b7e7.jpg</td>\n",
       "      <td>70</td>\n",
       "      <td>236</td>\n",
       "      <td>71</td>\n",
       "      <td>257</td>\n",
       "      <td>75</td>\n",
       "      <td>278</td>\n",
       "      <td>82</td>\n",
       "      <td>299</td>\n",
       "      <td>90</td>\n",
       "      <td>...</td>\n",
       "      <td>148</td>\n",
       "      <td>311</td>\n",
       "      <td>179</td>\n",
       "      <td>308</td>\n",
       "      <td>149</td>\n",
       "      <td>312</td>\n",
       "      <td>137</td>\n",
       "      <td>314</td>\n",
       "      <td>128</td>\n",
       "      <td>312</td>\n",
       "    </tr>\n",
       "    <tr>\n",
       "      <th>2</th>\n",
       "      <td>10comm-decarlo.jpg</td>\n",
       "      <td>66</td>\n",
       "      <td>114</td>\n",
       "      <td>65</td>\n",
       "      <td>128</td>\n",
       "      <td>67</td>\n",
       "      <td>142</td>\n",
       "      <td>68</td>\n",
       "      <td>156</td>\n",
       "      <td>72</td>\n",
       "      <td>...</td>\n",
       "      <td>128</td>\n",
       "      <td>162</td>\n",
       "      <td>136</td>\n",
       "      <td>167</td>\n",
       "      <td>127</td>\n",
       "      <td>166</td>\n",
       "      <td>121</td>\n",
       "      <td>165</td>\n",
       "      <td>116</td>\n",
       "      <td>164</td>\n",
       "    </tr>\n",
       "    <tr>\n",
       "      <th>3</th>\n",
       "      <td>110276240_bec305da91.jpg</td>\n",
       "      <td>42</td>\n",
       "      <td>140</td>\n",
       "      <td>45</td>\n",
       "      <td>161</td>\n",
       "      <td>51</td>\n",
       "      <td>180</td>\n",
       "      <td>61</td>\n",
       "      <td>200</td>\n",
       "      <td>73</td>\n",
       "      <td>...</td>\n",
       "      <td>144</td>\n",
       "      <td>197</td>\n",
       "      <td>180</td>\n",
       "      <td>189</td>\n",
       "      <td>147</td>\n",
       "      <td>204</td>\n",
       "      <td>136</td>\n",
       "      <td>208</td>\n",
       "      <td>125</td>\n",
       "      <td>209</td>\n",
       "    </tr>\n",
       "    <tr>\n",
       "      <th>4</th>\n",
       "      <td>1198_0_861.jpg</td>\n",
       "      <td>138</td>\n",
       "      <td>392</td>\n",
       "      <td>141</td>\n",
       "      <td>427</td>\n",
       "      <td>145</td>\n",
       "      <td>464</td>\n",
       "      <td>152</td>\n",
       "      <td>501</td>\n",
       "      <td>166</td>\n",
       "      <td>...</td>\n",
       "      <td>293</td>\n",
       "      <td>507</td>\n",
       "      <td>331</td>\n",
       "      <td>511</td>\n",
       "      <td>294</td>\n",
       "      <td>516</td>\n",
       "      <td>279</td>\n",
       "      <td>518</td>\n",
       "      <td>265</td>\n",
       "      <td>516</td>\n",
       "    </tr>\n",
       "  </tbody>\n",
       "</table>\n",
       "<p>5 rows × 137 columns</p>\n",
       "</div>"
      ],
      "text/plain": [
       "                  image_name  part_0_x  part_0_y  part_1_x  part_1_y  \\\n",
       "0        0805personali01.jpg        27        83        27        98   \n",
       "1  1084239450_e76e00b7e7.jpg        70       236        71       257   \n",
       "2         10comm-decarlo.jpg        66       114        65       128   \n",
       "3   110276240_bec305da91.jpg        42       140        45       161   \n",
       "4             1198_0_861.jpg       138       392       141       427   \n",
       "\n",
       "   part_2_x  part_2_y  part_3_x  part_3_y  part_4_x    ...      part_63_x  \\\n",
       "0        29       113        33       127        39    ...             93   \n",
       "1        75       278        82       299        90    ...            148   \n",
       "2        67       142        68       156        72    ...            128   \n",
       "3        51       180        61       200        73    ...            144   \n",
       "4       145       464       152       501       166    ...            293   \n",
       "\n",
       "   part_63_y  part_64_x  part_64_y  part_65_x  part_65_y  part_66_x  \\\n",
       "0        136        100        141         93        135         89   \n",
       "1        311        179        308        149        312        137   \n",
       "2        162        136        167        127        166        121   \n",
       "3        197        180        189        147        204        136   \n",
       "4        507        331        511        294        516        279   \n",
       "\n",
       "   part_66_y  part_67_x  part_67_y  \n",
       "0        135         84        134  \n",
       "1        314        128        312  \n",
       "2        165        116        164  \n",
       "3        208        125        209  \n",
       "4        518        265        516  \n",
       "\n",
       "[5 rows x 137 columns]"
      ]
     },
     "execution_count": 9,
     "metadata": {},
     "output_type": "execute_result"
    }
   ],
   "source": [
    "landmarks_frame.head()"
   ]
  },
  {
   "cell_type": "code",
   "execution_count": 10,
   "metadata": {},
   "outputs": [
    {
     "name": "stdout",
     "output_type": "stream",
     "text": [
      "Image name: person-7.jpg\n",
      "Landmarks shape: (68, 2)\n",
      "First 4 Landmarks: [[32. 65.]\n",
      " [33. 76.]\n",
      " [34. 86.]\n",
      " [34. 97.]]\n"
     ]
    }
   ],
   "source": [
    "n = 65\n",
    "img_name = landmarks_frame.iloc[n, 0]\n",
    "landmarks = landmarks_frame.iloc[n, 1:].as_matrix()\n",
    "landmarks = landmarks.astype('float').reshape(-1, 2)\n",
    "\n",
    "print('Image name: {}'.format(img_name))\n",
    "print('Landmarks shape: {}'.format(landmarks.shape))\n",
    "print('First 4 Landmarks: {}'.format(landmarks[:4]))"
   ]
  },
  {
   "cell_type": "code",
   "execution_count": 19,
   "metadata": {},
   "outputs": [
    {
     "data": {
      "image/png": "[encoded data removed]",
      "text/plain": [
       "<matplotlib.figure.Figure at 0x28b24842630>"
      ]
     },
     "metadata": {},
     "output_type": "display_data"
    }
   ],
   "source": [
    "def show_landmarks(image, landmarks):\n",
    "    \"\"\" Show img landmarks\"\"\"\n",
    "    plt.imshow(image)\n",
    "    plt.scatter(landmarks[:, 0], landmarks[:,1], s = 20, marker='+', c= 'b')\n",
    "    plt.pause(0.001)\n",
    "    \n",
    "    \n",
    "plt.figure()\n",
    "show_landmarks(io.imread(os.path.join('faces/', img_name)), landmarks)\n",
    "plt.show()"
   ]
  },
  {
   "cell_type": "code",
   "execution_count": 29,
   "metadata": {},
   "outputs": [],
   "source": [
    "class FaceLandmarksDataset(Dataset):\n",
    "    \"\"\"Face landmarks dataset\"\"\"\n",
    "    def __init__(self, csv_file, root_dir, transform = None):\n",
    "        \"\"\"\n",
    "        Args: \n",
    "            csv_file (string): Path to csv file annotations\n",
    "            root_dir (string): Dir with all the images.\n",
    "            transform (callable, optional): Optional transform to be applied.\n",
    "        \"\"\"\n",
    "        \n",
    "        self.landmarks_frame = pd.read_csv(csv_file)\n",
    "        self.root_dir = root_dir\n",
    "        self.transform = transform\n",
    "        \n",
    "        def __len__(self):\n",
    "            return len(self.landmarks_frame)\n",
    "        \n",
    "        def __getitem__(self, idx):\n",
    "            img_name = os.part.join(self.root_dir,self.landmarks_frame.iloc[idx, 0])\n",
    "            \n",
    "            image = io.imread(img_name)\n",
    "            landmarks = self.landmarks_frame.iloc[idx, 1:].as_matrix()\n",
    "            landmarks = landmarks.astype('float').reshape[-1, 2]\n",
    "            sample = {'image' : image, 'landmarks' : landmarks}\n",
    "            \n",
    "            if self.transform:\n",
    "                sample = self.transform(sample)\n",
    "            return sample\n",
    "        "
   ]
  },
  {
   "cell_type": "code",
   "execution_count": 33,
   "metadata": {
    "collapsed": true
   },
   "outputs": [],
   "source": [
    "class FaceLandmarksDataset(Dataset):\n",
    "    \"\"\"Face Landmarks dataset.\"\"\"\n",
    "\n",
    "    def __init__(self, csv_file, root_dir, transform=None):\n",
    "        \"\"\"\n",
    "        Args:\n",
    "            csv_file (string): Path to the csv file with annotations.\n",
    "            root_dir (string): Directory with all the images.\n",
    "            transform (callable, optional): Optional transform to be applied\n",
    "                on a sample.\n",
    "        \"\"\"\n",
    "        self.landmarks_frame = pd.read_csv(csv_file)\n",
    "        self.root_dir = root_dir\n",
    "        self.transform = transform\n",
    "\n",
    "    def __len__(self):\n",
    "        return len(self.landmarks_frame)\n",
    "\n",
    "    def __getitem__(self, idx):\n",
    "        img_name = os.path.join(self.root_dir,\n",
    "                                self.landmarks_frame.iloc[idx, 0])\n",
    "        image = io.imread(img_name)\n",
    "        landmarks = self.landmarks_frame.iloc[idx, 1:].as_matrix()\n",
    "        landmarks = landmarks.astype('float').reshape(-1, 2)\n",
    "        sample = {'image': image, 'landmarks': landmarks}\n",
    "\n",
    "        if self.transform:\n",
    "            sample = self.transform(sample)\n",
    "\n",
    "        return sample"
   ]
  },
  {
   "cell_type": "code",
   "execution_count": 46,
   "metadata": {},
   "outputs": [],
   "source": [
    "face_dataset = FaceLandmarksDataset(csv_file='faces\\\\face_landmarks.csv',\n",
    "                                   root_dir = 'C:\\\\Users\\\\peter\\\\OneDrive\\\\FOLDERS\\\\CEU\\\\Scientific Python\\\\pytorch\\\\faces')\n"
   ]
  },
  {
   "cell_type": "code",
   "execution_count": 41,
   "metadata": {},
   "outputs": [],
   "source": [
    "t = pd.read_csv('C:\\\\Users\\\\peter\\\\OneDrive\\\\FOLDERS\\\\CEU\\\\Scientific Python\\\\pytorch\\\\faces\\\\face_landmarks.csv')"
   ]
  },
  {
   "cell_type": "code",
   "execution_count": 67,
   "metadata": {},
   "outputs": [
    {
     "data": {
      "text/plain": [
       "<matplotlib.figure.Figure at 0x28b25f76908>"
      ]
     },
     "metadata": {},
     "output_type": "display_data"
    },
    {
     "data": {
      "image/png": "[encoded data removed]",
      "text/plain": [
       "<matplotlib.figure.Figure at 0x28b25fdb748>"
      ]
     },
     "metadata": {},
     "output_type": "display_data"
    }
   ],
   "source": [
    "fig = plt.figure()\n",
    "\n",
    "for i in range(len(face_dataset)):\n",
    "    sample = face_dataset[i]\n",
    "    \n",
    "    ax = plt.subplot(1, 4, i+1);\n",
    "    plt.tight_layout()\n",
    "    ax.set_title('Sample #{}'.format(i))\n",
    "    ax.axis('off')\n",
    "    show_landmarks(**sample)\n",
    "    if i == 3:\n",
    "        plt.show()\n",
    "        break\n",
    "        "
   ]
  },
  {
   "cell_type": "code",
   "execution_count": 44,
   "metadata": {},
   "outputs": [
    {
     "name": "stdout",
     "output_type": "stream",
     "text": [
      "C:\\Users\\peter\\OneDrive\\FOLDERS\\CEU\\Scientific Python\\pytorch\n"
     ]
    }
   ],
   "source": [
    "print(os.getcwd())"
   ]
  },
  {
   "cell_type": "code",
   "execution_count": 64,
   "metadata": {
    "collapsed": true
   },
   "outputs": [],
   "source": [
    "t = face_dataset[8]"
   ]
  },
  {
   "cell_type": "code",
   "execution_count": 51,
   "metadata": {},
   "outputs": [
    {
     "data": {
      "text/plain": [
       "dict"
      ]
     },
     "execution_count": 51,
     "metadata": {},
     "output_type": "execute_result"
    }
   ],
   "source": [
    "type(t)"
   ]
  },
  {
   "cell_type": "code",
   "execution_count": 53,
   "metadata": {},
   "outputs": [
    {
     "data": {
      "text/plain": [
       "2"
      ]
     },
     "execution_count": 53,
     "metadata": {},
     "output_type": "execute_result"
    }
   ],
   "source": [
    "len(t)"
   ]
  },
  {
   "cell_type": "code",
   "execution_count": 54,
   "metadata": {},
   "outputs": [
    {
     "name": "stdout",
     "output_type": "stream",
     "text": [
      "dict_keys(['image', 'landmarks'])\n",
      "dict_keys(['image', 'landmarks'])\n"
     ]
    }
   ],
   "source": [
    "for i in range(2):\n",
    "    print(t.keys())"
   ]
  },
  {
   "cell_type": "code",
   "execution_count": 61,
   "metadata": {},
   "outputs": [
    {
     "name": "stdout",
     "output_type": "stream",
     "text": [
      "(500, 333)\n",
      "(68, 2)\n"
     ]
    }
   ],
   "source": [
    "for k in t.keys():\n",
    "    print(t[k].shape[:2])"
   ]
  },
  {
   "cell_type": "code",
   "execution_count": 65,
   "metadata": {},
   "outputs": [
    {
     "name": "stdout",
     "output_type": "stream",
     "text": [
      "(334, 500)\n"
     ]
    }
   ],
   "source": [
    "print(t['image'].shape[:2])"
   ]
  },
  {
   "cell_type": "code",
   "execution_count": null,
   "metadata": {
    "collapsed": true
   },
   "outputs": [],
   "source": []
  }
 ],
 "metadata": {
  "kernelspec": {
   "display_name": "Python 3",
   "language": "python",
   "name": "python3"
  },
  "language_info": {
   "codemirror_mode": {
    "name": "ipython",
    "version": 3
   },
   "file_extension": ".py",
   "mimetype": "text/x-python",
   "name": "python",
   "nbconvert_exporter": "python",
   "pygments_lexer": "ipython3",
   "version": "3.6.1"
  }
 },
 "nbformat": 4,
 "nbformat_minor": 2
}
