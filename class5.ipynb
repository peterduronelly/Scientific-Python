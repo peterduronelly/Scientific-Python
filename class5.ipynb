{
 "cells": [
  {
   "cell_type": "markdown",
   "metadata": {},
   "source": [
    "<style>\n",
    "div.cell, div.text_cell_render{\n",
    "  max-width:760px;\n",
    "  margin-left:auto;\n",
    "  margin-right:auto;\n",
    "}\n",
    "\n",
    ".rendered_html\n",
    "{\n",
    "  font-size: 130%;\n",
    "  }\n",
    "\n",
    ".rendered_html li\n",
    "{\n",
    "  line-height: 1.;\n",
    "  }\n",
    "\n",
    ".rendered_html h1, h2 {\n",
    "  font-familly:\"Charis SIL\", serif;\n",
    "}\n",
    "\n",
    "img { \n",
    "    max-width: 200% !important;\n",
    "    height: auto !important;\n",
    "}\n",
    "\n",
    ".input_prompt, .CodeMirror-lines, .output_area\n",
    "{\n",
    "  font-family: Consolas, monospace;\n",
    "  font-size: 120%;\n",
    "}\n",
    "</style>"
   ]
  },
  {
   "cell_type": "markdown",
   "metadata": {},
   "source": [
    "<div class=\"frontmatter text-center\">\n",
    "<h1> MATH5027 Scientific Python</h1>\n",
    "<h3>Central European University, Fall 2017/2018</h3>\n",
    "<h3>Instructor: Prof. Roberta Sinatra, TA: Johannes Wachs</h3>\n",
    "inspired to a lecture of James Bagrow, http://bagrow.com.\n",
    "</div>\n",
    "\n",
    "\n",
    "### Today's plan:\n",
    "\n",
    "- Brief exploration of parts of the [Python standard library](http://docs.python.org/2/library/):\n",
    "    - random\n",
    "    - datetime\n",
    "- A brief introduction to **plotting** with [matplotlib](http://matplotlib.org) - we will do more in one of the next classes:\n",
    "    - Coin flips run statistics "
   ]
  },
  {
   "cell_type": "markdown",
   "metadata": {},
   "source": [
    "### Standard library"
   ]
  },
  {
   "cell_type": "markdown",
   "metadata": {},
   "source": [
    "#### Random stuff\n",
    "\n",
    "Python has a great random package. This lets us do stochastic simulations by giving us a pseudorandom number generator.\n",
    "\n",
    "The function below gives you access to random floats between zero and one:"
   ]
  },
  {
   "cell_type": "code",
   "execution_count": 2,
   "metadata": {},
   "outputs": [
    {
     "name": "stdout",
     "output_type": "stream",
     "text": [
      "0.35003529616234863\n",
      "0.5087577999239443\n",
      "0.6728639146227645\n",
      "0.3994797129691058\n"
     ]
    }
   ],
   "source": [
    "import random\n",
    "\n",
    "for _ in range(4): # underscore makes a handy dummy variable\n",
    "    print(random.random())"
   ]
  },
  {
   "cell_type": "markdown",
   "metadata": {},
   "source": [
    "Suppose you want to make random samples from a list. Normally you'd code up something like:"
   ]
  },
  {
   "cell_type": "code",
   "execution_count": 3,
   "metadata": {},
   "outputs": [
    {
     "name": "stdout",
     "output_type": "stream",
     "text": [
      "spades\n",
      "clubs\n",
      "spades\n",
      "hearts\n"
     ]
    }
   ],
   "source": [
    "import random\n",
    "suit = [\"hearts\", \"diamonds\", \"clubs\",\"spades\"]\n",
    "\n",
    "# sample w replacement four times:\n",
    "for _ in range(4): # _ is a dumb variable, just a way to iterate \n",
    "    r = random.random()*len(suit) # r in [0,4)\n",
    "    print(suit[ int(r) ])\n",
    "    "
   ]
  },
  {
   "cell_type": "markdown",
   "metadata": {},
   "source": [
    "But this code is not very pretty. Can we do better? Yep:"
   ]
  },
  {
   "cell_type": "code",
   "execution_count": 4,
   "metadata": {},
   "outputs": [
    {
     "name": "stdout",
     "output_type": "stream",
     "text": [
      "spades\n",
      "diamonds\n",
      "spades\n",
      "spades\n"
     ]
    }
   ],
   "source": [
    "for _ in range(4):\n",
    "    print(random.choice(suit)) # Random has a function choice :)"
   ]
  },
  {
   "cell_type": "code",
   "execution_count": 4,
   "metadata": {
    "collapsed": true
   },
   "outputs": [],
   "source": [
    "random.choice?"
   ]
  },
  {
   "cell_type": "markdown",
   "metadata": {},
   "source": [
    "And don't forget our fancy list comprehensions:"
   ]
  },
  {
   "cell_type": "code",
   "execution_count": 5,
   "metadata": {},
   "outputs": [
    {
     "name": "stdout",
     "output_type": "stream",
     "text": [
      "['hearts', 'diamonds', 'clubs', 'hearts']\n"
     ]
    }
   ],
   "source": [
    "draws = [ random.choice(suit) for _ in range(4) ]\n",
    "print(draws)"
   ]
  },
  {
   "cell_type": "markdown",
   "metadata": {},
   "source": [
    "There are also functions for random integers, normally-distributed random variables, and more. \n",
    "\n",
    "*** \n",
    "\n",
    "\n",
    "Let's talk about two more functions from ```random```,  `sample` and `shuffle`:\n",
    "\n",
    "\n",
    "If we run `random.choice` on a list repeatedly we are sampling uniformly from that list **with replacement**. If we want to sample without replacement, meaning the same element cannot be selected more than once, we can use `random.sample`:"
   ]
  },
  {
   "cell_type": "code",
   "execution_count": 6,
   "metadata": {},
   "outputs": [
    {
     "name": "stdout",
     "output_type": "stream",
     "text": [
      "[705, 490, 612, 807, 708]\n"
     ]
    }
   ],
   "source": [
    "numbers = range(1000)\n",
    "print(random.sample( numbers, 5)) # make five draws"
   ]
  },
  {
   "cell_type": "markdown",
   "metadata": {},
   "source": [
    "We already covered sorting data. Sometimes we may want to take some data and put it into a random order. This is easy with **shuffle**:"
   ]
  },
  {
   "cell_type": "code",
   "execution_count": 7,
   "metadata": {},
   "outputs": [
    {
     "name": "stdout",
     "output_type": "stream",
     "text": [
      "['We', 'choose', 'to', 'go', 'to', 'the', 'moon.', 'We', 'choose', 'to', 'go', 'to', 'the', 'moon', 'in', 'this', 'decade,', 'not', 'because', 'it', 'is', 'easy,', 'but', 'because', 'it', 'is', 'hard.']\n"
     ]
    }
   ],
   "source": [
    "speech = \"\"\"We choose to go to the moon. We choose to go to \n",
    "the moon in this decade, not because it is easy, but because\n",
    "it is hard.\"\"\"\n",
    "\n",
    "list_words = speech.split() # split on any whitespace and\n",
    "                            # remove empty strings\n",
    "\n",
    "print(list_words)\n"
   ]
  },
  {
   "cell_type": "code",
   "execution_count": 8,
   "metadata": {},
   "outputs": [
    {
     "name": "stdout",
     "output_type": "stream",
     "text": [
      "['the', 'to', 'not', 'this', 'because', 'We', 'moon', 'choose', 'it', 'in', 'it', 'moon.', 'to', 'to', 'is', 'because', 'is', 'hard.', 'We', 'to', 'easy,', 'decade,', 'go', 'choose', 'go', 'but', 'the']\n"
     ]
    }
   ],
   "source": [
    "random.shuffle(list_words) # shuffle works in place!!!\n",
    "print(list_words)"
   ]
  },
  {
   "cell_type": "markdown",
   "metadata": {},
   "source": [
    "**IMPORTANT**: if you make a copy of a list like below, you are doing just a shallow copy!"
   ]
  },
  {
   "cell_type": "code",
   "execution_count": 9,
   "metadata": {
    "collapsed": true
   },
   "outputs": [],
   "source": [
    "second_list=list_words #shallow copy"
   ]
  },
  {
   "cell_type": "markdown",
   "metadata": {},
   "source": [
    "It means that if you modify ``list_words`` you also modify second_list. See foe example below"
   ]
  },
  {
   "cell_type": "code",
   "execution_count": 10,
   "metadata": {},
   "outputs": [
    {
     "name": "stdout",
     "output_type": "stream",
     "text": [
      "['is', 'moon', 'choose', 'hard.', 'decade,', 'go', 'because', 'it', 'but', 'moon.', 'this', 'it', 'is', 'in', 'to', 'not', 'because', 'easy,', 'the', 'go', 'to', 'choose', 'to', 'the', 'We', 'We', 'to']\n",
      "['is', 'moon', 'choose', 'hard.', 'decade,', 'go', 'because', 'it', 'but', 'moon.', 'this', 'it', 'is', 'in', 'to', 'not', 'because', 'easy,', 'the', 'go', 'to', 'choose', 'to', 'the', 'We', 'We', 'to']\n"
     ]
    }
   ],
   "source": [
    "random.shuffle(second_list) # shuffle works in place!!!\n",
    "print(second_list)\n",
    "print(list_words)\n"
   ]
  },
  {
   "cell_type": "markdown",
   "metadata": {},
   "source": [
    "Sometimes we want to have an independent copy of a list. In that case we need to do a **``deep copy``**:"
   ]
  },
  {
   "cell_type": "code",
   "execution_count": 11,
   "metadata": {},
   "outputs": [
    {
     "name": "stdout",
     "output_type": "stream",
     "text": [
      "['not', 'to', 'is', 'it', 'moon.', 'it', 'in', 'because', 'because', 'the', 'choose', 'easy,', 'moon', 'hard.', 'go', 'this', 'decade,', 'to', 'to', 'choose', 'We', 'is', 'but', 'We', 'go', 'to', 'the']\n",
      "['is', 'moon', 'choose', 'hard.', 'decade,', 'go', 'because', 'it', 'but', 'moon.', 'this', 'it', 'is', 'in', 'to', 'not', 'because', 'easy,', 'the', 'go', 'to', 'choose', 'to', 'the', 'We', 'We', 'to']\n"
     ]
    }
   ],
   "source": [
    "import copy\n",
    "third_list=copy.deepcopy(list_words)\n",
    "random.shuffle(third_list)\n",
    "print(third_list)\n",
    "print(list_words)"
   ]
  },
  {
   "cell_type": "markdown",
   "metadata": {},
   "source": [
    "# Plotting with Matplotlib\n",
    "\n",
    "* [Matplotlib](http://matplotlib.org) is a powerful 2D and 3D graphics library for generating scientific figures. Some of the many advantages of this library include:\n",
    "\n",
    "* Easy to get started\n",
    "* Support for $\\LaTeX$ formatted labels and texts\n",
    "* Great control of every element in a figure, including figure size and DPI. \n",
    "* High-quality output in many formats, including PNG, PDF, SVG, EPS, and PGF.\n",
    "\n",
    "One of the key features of matplotlib is that all aspects of the figure can be controlled *programmatically*. This is important for reproducibility and convenient when one needs to regenerate the figure with updated data or change its appearance. This makes matplotlib highly suitable for generating figures for scientific publications. \n",
    "\n",
    "More information at the Matplotlib web page: http://matplotlib.org/ . There's a [nice gallery](http://matplotlib.org/gallery.html) worth checking out. \n",
    "We will have more examples of matplotlib in future classes, when using numpy and do more data examples."
   ]
  },
  {
   "cell_type": "markdown",
   "metadata": {},
   "source": [
    "## MATLAB-like API\n",
    "\n",
    "The easiest way to get started with plotting using matplotlib is often to use the MATLAB-like API provided by matplotlib. \n",
    "\n",
    "It is designed to be compatible with MATLAB's plotting functions, so it is easy to get started with if you are familiar with MATLAB. We first need to import matplotlib and pyplot:"
   ]
  },
  {
   "cell_type": "code",
   "execution_count": 1,
   "metadata": {
    "collapsed": true
   },
   "outputs": [],
   "source": [
    "import matplotlib\n",
    "import matplotlib.pyplot as plt\n",
    "# This line configures matplotlib to show figures embedded in the notebook, \n",
    "# instead of opening a new window for each figure. \n",
    "%matplotlib inline"
   ]
  },
  {
   "cell_type": "code",
   "execution_count": 2,
   "metadata": {
    "collapsed": true
   },
   "outputs": [],
   "source": [
    "x = range(0, 10)\n",
    "y = [i ** 2 for i in x]"
   ]
  },
  {
   "cell_type": "code",
   "execution_count": 3,
   "metadata": {},
   "outputs": [
    {
     "data": {
      "image/png": "[encoded data removed]",
      "text/plain": [
       "<matplotlib.figure.Figure at 0x27ec6e1da58>"
      ]
     },
     "metadata": {},
     "output_type": "display_data"
    }
   ],
   "source": [
    "# If you have used matlab, you'll realize that we are using the same commands, just preceded by plt.\n",
    "plt.figure()\n",
    "plt.plot(x, y, 'g')\n",
    "plt.xlabel('x')\n",
    "plt.ylabel('y')\n",
    "plt.title('title')\n",
    "plt.axis('equal');"
   ]
  },
  {
   "cell_type": "markdown",
   "metadata": {},
   "source": [
    "Most of the plotting related functions in MATLAB are covered by matplotlib. For example, subplot and color/symbol selection:"
   ]
  },
  {
   "cell_type": "code",
   "execution_count": 20,
   "metadata": {},
   "outputs": [
    {
     "data": {
      "image/png": "[encoded data removed]",
      "text/plain": [
       "<matplotlib.figure.Figure at 0x20288b32e80>"
      ]
     },
     "metadata": {},
     "output_type": "display_data"
    }
   ],
   "source": [
    "plt.subplot(1,2,1)\n",
    "plt.plot(x, y, 'r--')\n",
    "plt.subplot(1,2,2)\n",
    "plt.plot(y, x, 'g*-');"
   ]
  },
  {
   "cell_type": "markdown",
   "metadata": {},
   "source": [
    "The good thing about the pylab MATLAB-style API is that it is easy to get started with if you are familiar with MATLAB, and it has a minumum of coding overhead for simple plots. \n",
    "\n",
    "However, I'd encourrage not using the MATLAB compatible API for anything but the simplest figures.\n",
    "\n",
    "Instead, I recommend learning and using matplotlib's object-oriented plotting API. It is remarkably powerful. For advanced figures with subplots, insets and other components it is very nice to work with. "
   ]
  },
  {
   "cell_type": "markdown",
   "metadata": {},
   "source": [
    "## The matplotlib object-oriented API\n",
    "\n",
    "The main idea with object-oriented programming is to have objects that one can apply functions and actions on, and no object or program states should be global. The real advantage of this approach becomes apparent when more than one figure is created, or when a figure contains more than one subplot. \n",
    "\n",
    "To use the object-oriented API we start out very much like in the previous example, but instead of creating a new global figure instance we store a reference to the newly created figure instance in the `fig` variable, and from it we create a new axis instance `axes` using the `add_axes` method in the `Figure` class instance `fig`:"
   ]
  },
  {
   "cell_type": "code",
   "execution_count": 1,
   "metadata": {
    "collapsed": true
   },
   "outputs": [],
   "source": [
    "import matplotlib\n",
    "import matplotlib.pyplot as plt\n",
    "# This line configures matplotlib to show figures embedded in the notebook, \n",
    "# instead of opening a new window for each figure. \n",
    "%matplotlib inline"
   ]
  },
  {
   "cell_type": "code",
   "execution_count": 3,
   "metadata": {},
   "outputs": [
    {
     "data": {
      "image/png": "[encoded data removed]",
      "text/plain": [
       "<matplotlib.figure.Figure at 0x1b9eb022128>"
      ]
     },
     "metadata": {},
     "output_type": "display_data"
    }
   ],
   "source": [
    "x = range(0, 10)\n",
    "y = [i ** 2 for i in x]\n",
    "\n",
    "fig = plt.figure()\n",
    "axes = fig.add_axes([0.1, 0.1, 0.8, 0.8]) # left, bottom, width, height (range 0 to 1). In Jupyter notebook the first two \n",
    "        # parameters are not important as the bottom left corenr is always located at the same place. \n",
    "\n",
    "axes.plot(x, y, 'r')\n",
    "\n",
    "axes.set_xlabel('x')\n",
    "axes.set_ylabel('y')\n",
    "axes.set_title('title');"
   ]
  },
  {
   "cell_type": "code",
   "execution_count": 8,
   "metadata": {},
   "outputs": [
    {
     "data": {
      "image/png": "[encoded data removed]",
      "text/plain": [
       "<matplotlib.figure.Figure at 0x1b9eb02acc0>"
      ]
     },
     "metadata": {},
     "output_type": "display_data"
    }
   ],
   "source": [
    "fig, axs = plt.subplots(nrows=1, ncols=2) # nrows specifies the number of rows you want, ncols how many figures in each row \n",
    "\n",
    "for ax in axs:\n",
    "    ax.plot(x, y, 'r')\n",
    "    ax.set_xlabel('x')\n",
    "    ax.set_ylabel('y')\n",
    "    ax.set_title('title')"
   ]
  },
  {
   "cell_type": "code",
   "execution_count": 10,
   "metadata": {},
   "outputs": [
    {
     "data": {
      "text/plain": [
       "<matplotlib.axes._subplots.AxesSubplot at 0x1b9eb219e80>"
      ]
     },
     "execution_count": 10,
     "metadata": {},
     "output_type": "execute_result"
    }
   ],
   "source": []
  },
  {
   "cell_type": "markdown",
   "metadata": {},
   "source": [
    "Although a little bit more code is involved, the advantage is that we now have full control of where the plot axes are placed, and we can easily add more than one axis to the figure:"
   ]
  },
  {
   "cell_type": "code",
   "execution_count": 29,
   "metadata": {},
   "outputs": [
    {
     "data": {
      "image/png": "[encoded data removed]",
      "text/plain": [
       "<matplotlib.figure.Figure at 0x20288d94588>"
      ]
     },
     "metadata": {},
     "output_type": "display_data"
    }
   ],
   "source": [
    "fig = plt.figure()\n",
    "\n",
    "axes1 = fig.add_axes([0, 0, 0.8, 0.8]) # main axes\n",
    "axes2 = fig.add_axes([0.1, 0.5, 0.4, 0.3]) # inset axes\n",
    "\n",
    "# main figure\n",
    "axes1.plot(x, y, 'r')\n",
    "axes1.set_xlabel('x')\n",
    "axes1.set_ylabel('y')\n",
    "axes1.set_title('title')\n",
    "\n",
    "# insert\n",
    "axes2.plot(y, x, 'g')\n",
    "axes2.set_xlabel('y')\n",
    "axes2.set_ylabel('x')\n",
    "axes2.set_title('insert title ');"
   ]
  },
  {
   "cell_type": "markdown",
   "metadata": {},
   "source": [
    "### Saving figures\n",
    "To save a figure to a file we can use the `savefig` method in the `Figure` class:"
   ]
  },
  {
   "cell_type": "code",
   "execution_count": 20,
   "metadata": {
    "collapsed": true
   },
   "outputs": [],
   "source": [
    "fig.savefig(\"filename.png\", dpi=200)"
   ]
  },
  {
   "cell_type": "markdown",
   "metadata": {},
   "source": [
    "Matplotlib can generate high-quality output in a number formats, including PNG, JPG, EPS, SVG, PGF and PDF. For scientific papers, I recommend using PDF whenever possible. (LaTeX documents compiled with `pdflatex` can include PDFs using the `includegraphics` command). In some cases, PGF can also be good alternative."
   ]
  },
  {
   "cell_type": "markdown",
   "metadata": {},
   "source": [
    "**BTW**, API means \"Application Programming Interface\" and is a set of functions and procedures that allow the creation of applications which access the features or data of an operating system, application, or other service. In this case, the APIs allow you to create figure without needing to specify pixel by pixel, or object by object what you want to see on screen, write in a file, and so on."
   ]
  },
  {
   "cell_type": "markdown",
   "metadata": {},
   "source": [
    "# Example and hand-on"
   ]
  },
  {
   "cell_type": "markdown",
   "metadata": {},
   "source": [
    "OK, let's do something *slightly* more interesting. Let's use `matplotlib` to visualize the run statistics for a biased coin.\n",
    "\n",
    "<img src=\"https://sciencelens.files.wordpress.com/2012/06/coin_flip_s.jpg\" alt=\"coin flips\" style=\"width: 200px;\">\n",
    "\n",
    "\n",
    "Let's flip a coin 1000 times, where $p$ is the probability the coin lands on *H*:"
   ]
  },
  {
   "cell_type": "code",
   "execution_count": 30,
   "metadata": {},
   "outputs": [
    {
     "name": "stdout",
     "output_type": "stream",
     "text": [
      "['H', 'T', 'T', 'T', 'H', 'H', 'T', 'T', 'H', 'H', 'H', 'T', 'H', 'H', 'T', 'H', 'H', 'H', 'H', 'H']\n"
     ]
    }
   ],
   "source": [
    "import random\n",
    "p = 0.7\n",
    "\n",
    "# Flip the coin 1000 times:\n",
    "flips = []\n",
    "while len(flips) < 1000:\n",
    "    if random.random() < p:\n",
    "        flips.append(\"H\")\n",
    "    else:\n",
    "        flips.append(\"T\")\n",
    "\n",
    "print(flips[:20])"
   ]
  },
  {
   "cell_type": "markdown",
   "metadata": {},
   "source": [
    "***\n",
    "### Quick Exercise \n",
    "Create the list flips with a one-liner\n",
    "***"
   ]
  },
  {
   "cell_type": "code",
   "execution_count": 44,
   "metadata": {},
   "outputs": [
    {
     "name": "stdout",
     "output_type": "stream",
     "text": [
      "['H', 'H', 'T', 'H', 'H', 'H', 'H', 'H', 'H', 'T', 'H', 'H', 'T', 'T', 'T', 'T', 'H', 'T', 'T', 'H']\n"
     ]
    }
   ],
   "source": [
    "import random\n",
    "p = 0.6\n",
    "flips = []\n",
    "flips = [\"H\" if random.random() < p else \"T\" for _ in range(1000)]\n",
    "print(flips[:20])"
   ]
  },
  {
   "cell_type": "markdown",
   "metadata": {},
   "source": [
    "We want to count how many times we see 5 heads in a row, 6 in a row, etc.:\n",
    "\n",
    "1. Convert the list of `H`'s and `T`'s into a single string `HHTHHHTH...`.\n",
    "2. Split that string into a list of substrings whenever there's a `T`.\n",
    "3. Count how long each non-empty string is.\n",
    "4. Count how many times we see each value from 3."
   ]
  },
  {
   "cell_type": "code",
   "execution_count": 45,
   "metadata": {},
   "outputs": [
    {
     "name": "stdout",
     "output_type": "stream",
     "text": [
      "HHTHHHHHHTHHTTTTHTTHHTTHHHTHHHTHHHHTTTTHTHHTHHHTTH\n"
     ]
    }
   ],
   "source": [
    "# step 1\n",
    "S = \"\".join( flips ) # join each flip by an empty delimiter\n",
    "print(S[:50])"
   ]
  },
  {
   "cell_type": "code",
   "execution_count": 48,
   "metadata": {},
   "outputs": [
    {
     "name": "stdout",
     "output_type": "stream",
     "text": [
      "['HH', 'HHHHHH', 'HH', '', '', '', 'H', '', 'HH', '', 'HHH', 'HHH', 'HHHH', '', '', '', 'H', 'HH', 'HHH', '']\n"
     ]
    }
   ],
   "source": [
    "# step 2\n",
    "heads_runs = S.split(\"T\")\n",
    "print(heads_runs[:20])"
   ]
  },
  {
   "cell_type": "code",
   "execution_count": 47,
   "metadata": {},
   "outputs": [
    {
     "name": "stdout",
     "output_type": "stream",
     "text": [
      "[2, 6, 2, 1, 2, 3, 3, 4]\n"
     ]
    }
   ],
   "source": [
    "# step 3\n",
    "run_lengths = [ len(run) for run in heads_runs if run ] ## figure out what \"if run\" does...\n",
    "print(run_lengths[:8])"
   ]
  },
  {
   "cell_type": "code",
   "execution_count": 49,
   "metadata": {},
   "outputs": [
    {
     "name": "stdout",
     "output_type": "stream",
     "text": [
      "Counter({1: 98, 2: 54, 3: 44, 4: 19, 6: 13, 5: 10, 9: 3, 7: 3, 11: 2})\n"
     ]
    }
   ],
   "source": [
    "# step 4 (cheating with a python counter)\n",
    "from collections import Counter\n",
    "run2count = Counter(run_lengths) # Counter() acts like a dict\n",
    "print (run2count)"
   ]
  },
  {
   "cell_type": "markdown",
   "metadata": {},
   "source": [
    "**Whew!** Now we've got our _run statistics_. We will take a look at them using a plot, but first..."
   ]
  },
  {
   "cell_type": "markdown",
   "metadata": {},
   "source": [
    "***\n",
    "### Exercise\n",
    "* What type of variable is run2count? Can you do casting?\n",
    "* Write code to create a dictionary like run2count, without using Counter\n",
    "***"
   ]
  },
  {
   "cell_type": "code",
   "execution_count": null,
   "metadata": {
    "collapsed": true
   },
   "outputs": [],
   "source": []
  },
  {
   "cell_type": "markdown",
   "metadata": {},
   "source": [
    "Ok, let's do some simple statistics and plot:"
   ]
  },
  {
   "cell_type": "code",
   "execution_count": 26,
   "metadata": {},
   "outputs": [
    {
     "name": "stdout",
     "output_type": "stream",
     "text": [
      "dict_items([(1, 73), (2, 38), (3, 38), (5, 23), (4, 19), (9, 2), (6, 11), (10, 5), (8, 5), (14, 1), (7, 3), (12, 1), (13, 1)])\n",
      "(1, 2, 3, 5, 4, 9, 6, 10, 8, 14, 7, 12, 13) (73, 38, 38, 23, 19, 2, 11, 5, 5, 1, 3, 1, 1)\n"
     ]
    }
   ],
   "source": [
    "# split run and count into separate lists:\n",
    "run_count = run2count.items() # You know what this does, right?\n",
    "print (run_count)\n",
    "\n",
    "run,count = zip(*run_count) \n",
    "print (run,count)"
   ]
  },
  {
   "cell_type": "markdown",
   "metadata": {},
   "source": [
    "***\n",
    "### Quick exercise\n",
    "The command ```zip(*run_counts)``` converts a list of tuples into lists containing the elements of the tuples. Get a better grip on it by checking the type of run_count, of zip(\\*run_count) and by displaying the content of each one.\n",
    "***"
   ]
  },
  {
   "cell_type": "code",
   "execution_count": 27,
   "metadata": {},
   "outputs": [
    {
     "data": {
      "image/png": "[encoded data removed]",
      "text/plain": [
       "<matplotlib.figure.Figure at 0x1102216a0>"
      ]
     },
     "metadata": {},
     "output_type": "display_data"
    }
   ],
   "source": [
    "fig, axes = plt.subplots()\n",
    "axes.plot( run, count, 'o-' )\n",
    "\n",
    "axes.set_xlabel(\"Run length\", fontsize=18)\n",
    "axes.set_ylabel(\"Number of runs\", fontsize=18)\n",
    "axes.set_title(\"Biased coin (p = %f)\" % p, fontsize=18);\n"
   ]
  },
  {
   "cell_type": "markdown",
   "metadata": {},
   "source": [
    "## What the heck is this?\n",
    "Oh, right, we forgot the dictionaries are not sorted!! Let's fix it."
   ]
  },
  {
   "cell_type": "code",
   "execution_count": 28,
   "metadata": {},
   "outputs": [
    {
     "name": "stdout",
     "output_type": "stream",
     "text": [
      "(1, 2, 3, 4, 5, 6, 7, 8, 9, 10, 12, 13, 14) (73, 38, 38, 19, 23, 11, 3, 5, 2, 5, 1, 1, 1)\n"
     ]
    }
   ],
   "source": [
    "# split run and count into separate lists:\n",
    "run_count_sorted=sorted(run2count.items(), key=lambda x: x[0])\n",
    "run,count = zip(*run_count_sorted) \n",
    "print (run,count)"
   ]
  },
  {
   "cell_type": "code",
   "execution_count": 29,
   "metadata": {},
   "outputs": [
    {
     "data": {
      "image/png": "[encoded data removed]",
      "text/plain": [
       "<matplotlib.figure.Figure at 0x1106926a0>"
      ]
     },
     "metadata": {},
     "output_type": "display_data"
    }
   ],
   "source": [
    "fig, axes = plt.subplots()\n",
    "axes.plot( run, count, 'o-' )\n",
    "\n",
    "axes.set_xlabel(\"Run length\", fontsize=18)\n",
    "axes.set_ylabel(\"Number of runs\", fontsize=18)\n",
    "axes.set_title(\"Biased coin (p = %f)\" % p, fontsize=18);\n"
   ]
  },
  {
   "cell_type": "markdown",
   "metadata": {},
   "source": [
    "***\n",
    "## Exercise\n",
    "* Take the logarithms of the number of runs and plot that vs run length\n",
    "_Note_: writing ```log(count)``` will return an error. The goal of the exercise is to find the solution to this :)\n",
    "* Use ```semilogy``` to put the y-axis in a log scale\n",
    "* Figure out how to plot the x-axis in log scale, then both axes."
   ]
  },
  {
   "cell_type": "markdown",
   "metadata": {},
   "source": [
    "***\n",
    "In this case, a line plot may not make much sense, since can't have a run of length 2.5. Let's do a vertical bar chart instead:"
   ]
  },
  {
   "cell_type": "code",
   "execution_count": 30,
   "metadata": {},
   "outputs": [
    {
     "data": {
      "image/png": "[encoded data removed]",
      "text/plain": [
       "<matplotlib.figure.Figure at 0x10fdb2978>"
      ]
     },
     "metadata": {},
     "output_type": "display_data"
    }
   ],
   "source": [
    "#Hey, I am using the Matlab-like API here... did you notice? What is the difference?\n",
    "plt.bar( run, count, fc=\"gray\" ) # Look, here we are using another way of plotting! \n",
    "plt.xlabel(\"Run length\", fontsize=18)\n",
    "plt.ylabel(\"Number of runs\", fontsize=18)\n",
    "plt.title(\"Biased coin (p = %f)\" % p, fontsize=18)\n",
    "plt.show() # Try to comment this line and see what happens!"
   ]
  },
  {
   "cell_type": "markdown",
   "metadata": {},
   "source": [
    "The data is a little noisy. We only did 1000 flips; do the exercise below to see how much smoother it can get."
   ]
  },
  {
   "cell_type": "markdown",
   "metadata": {},
   "source": [
    "## Exercises\n",
    "* Reproduce a histogram like the one above, based on 10^5 coin flips.\n",
    "* Use a different color for the bars (Hey, you can use also [ Color Hex](http://www.color-hex.com/) codes)\n",
    "* Use a fair coin (not biased). Remember to change the details in the figure accordingly ;) \n",
    "* Add a legend to the plot. This is done by using the command legend and by passing a list of strings.\n",
    "\n",
    "*** \n",
    "Instead of flipping a coin, say you roll a fair 6-faces die many times. Count how many times you see the same number in a row (no matter which number). For example, if you have: `16622232211`, you have two runs of length 1, three of length 2, and one of length 3. Create a *Number of runs vs number of lengths plot*, as done in the exercise above.\n",
    "\n",
    "***\n",
    "Create a plot made of two subplots, where you represent the *Number of runs vs number of lengths plot* for a 6-face die on the left, and for a 8-face die on the right."
   ]
  },
  {
   "cell_type": "markdown",
   "metadata": {},
   "source": [
    "***\n",
    "\n",
    "### Dealing with dates and times\n",
    "\n",
    "Timestamps can be surprisingly tricky to deal with in programs. For example:\n",
    "\n",
    "* How many days are between April 21, 1986 and today?\n",
    "\n",
    "To answer this properly, you need full information on the calendar, including leap years. And don't get started on **time zones**.\n",
    "\n",
    "### Datetime\n",
    "\n",
    "Fortunately, python has [builtin support for date and time data](http://docs.python.org/2/library/datetime.html). It's not trivial to use but it works.\n",
    "\n",
    "Let's answer the above question. `datetime` gives us useful date objects, `date`, `time`, and `datetime`. These let us store a date, a time of day, or both, respectively."
   ]
  },
  {
   "cell_type": "code",
   "execution_count": 4,
   "metadata": {
    "collapsed": true
   },
   "outputs": [],
   "source": [
    "import datetime\n",
    "\n",
    "D1 = datetime.date(1986, 4, 21)\n",
    "T1 = datetime.time(12,0,0) # noon\n",
    "DT = datetime.datetime(1986, 4, 21, 12, 15, 0)\n",
    "\n",
    "# Typically you want to work with datetime because you can\n",
    "# omit the time values and then it defaults to midnight.\n",
    "D = datetime.datetime(1986,4,21)"
   ]
  },
  {
   "cell_type": "markdown",
   "metadata": {},
   "source": [
    "Once you have a `datetime` object you can do fancy things with it:"
   ]
  },
  {
   "cell_type": "code",
   "execution_count": 7,
   "metadata": {},
   "outputs": [
    {
     "name": "stdout",
     "output_type": "stream",
     "text": [
      "The year was 1986 and the day is 21.\n",
      "The day of the week was 0.\n",
      "(Monday = 0, ..., Sunday = 6.)\n"
     ]
    }
   ],
   "source": [
    "print(\"The year was %i and the day is %i.\" % (D.year, D.day))\n",
    "\n",
    "print (\"The day of the week was %i.\" % (D.weekday()))\n",
    "print (\"(Monday = 0, ..., Sunday = 6.)\")"
   ]
  },
  {
   "cell_type": "code",
   "execution_count": 3,
   "metadata": {},
   "outputs": [
    {
     "name": "stdout",
     "output_type": "stream",
     "text": [
      "2017-10-10 16:41:37.329950\n"
     ]
    }
   ],
   "source": [
    "Dnow = datetime.datetime.now()\n",
    "print(Dnow)"
   ]
  },
  {
   "cell_type": "markdown",
   "metadata": {},
   "source": [
    "We can format the time using for example strftime (all information about the format [ here](https://docs.python.org/2/library/datetime.html#strftime-strptime-behavior)):"
   ]
  },
  {
   "cell_type": "code",
   "execution_count": 11,
   "metadata": {},
   "outputs": [
    {
     "data": {
      "text/plain": [
       "'Date: 2017-10-10 time: 16:41'"
      ]
     },
     "execution_count": 11,
     "metadata": {},
     "output_type": "execute_result"
    }
   ],
   "source": [
    "#Dnow.strftime(\"%I:%M%p\") \n",
    "Dnow.strftime(\"Date: %Y-%m-%d time: %H:%M\") "
   ]
  },
  {
   "cell_type": "markdown",
   "metadata": {},
   "source": [
    "More importantly, these objects support math operations that are meaningful for time:"
   ]
  },
  {
   "cell_type": "code",
   "execution_count": 35,
   "metadata": {},
   "outputs": [
    {
     "name": "stdout",
     "output_type": "stream",
     "text": [
      "11490 days, 15:10:17.652889\n"
     ]
    }
   ],
   "source": [
    "print (Dnow - D)"
   ]
  },
  {
   "cell_type": "markdown",
   "metadata": {},
   "source": [
    "What this does is create another data object, called a `timedelta` object:"
   ]
  },
  {
   "cell_type": "code",
   "execution_count": 36,
   "metadata": {},
   "outputs": [
    {
     "name": "stdout",
     "output_type": "stream",
     "text": [
      "<class 'datetime.timedelta'>\n",
      "There are 11490 days between then and now.\n"
     ]
    }
   ],
   "source": [
    "dt = Dnow - D\n",
    "print(type(dt))\n",
    "print(\"There are %i days between then and now.\" % dt.days)"
   ]
  },
  {
   "cell_type": "markdown",
   "metadata": {},
   "source": [
    "`timedelta` encodes time intervals. This allow us to do more operations:"
   ]
  },
  {
   "cell_type": "code",
   "execution_count": 16,
   "metadata": {},
   "outputs": [
    {
     "name": "stdout",
     "output_type": "stream",
     "text": [
      "In 100.0 days it will be 2018-01-19 05:21:31.208562.\n"
     ]
    }
   ],
   "source": [
    "interval = datetime.timedelta(days=100,hours=12) # 100.5 days\n",
    "\n",
    "soon = datetime.datetime.now() + interval # addition!\n",
    "\n",
    "interval_days =interval.days #if you want also the .5, need to hack a bit and do interval.total_seconds()/3600.0/24\n",
    "\n",
    "print (\"In %0.1f days it will be %s.\" % (interval_days, soon))\n"
   ]
  },
  {
   "cell_type": "markdown",
   "metadata": {},
   "source": [
    "OK, the real work comes when reading and writing **timestamps**. We need to be able to understand how `2012-04-26` incorporates a date in the same way that `April 26, 2012` does.\n",
    "\n",
    "`datetime` provides us tools to read and write such timestamps. Let's first define two different timestamps and a timedelta"
   ]
  },
  {
   "cell_type": "code",
   "execution_count": 38,
   "metadata": {
    "collapsed": true
   },
   "outputs": [],
   "source": [
    "ts1 = \"2012-04-26\"\n",
    "ts2 = \"January 5, 1978\""
   ]
  },
  {
   "cell_type": "markdown",
   "metadata": {},
   "source": [
    "We can now use a function to parse a string for a time given a string representing a time format. This uses a function called strptime (read it as \"**str**ing **p**arse\" **time**\"). \n",
    "\n",
    "Here we go."
   ]
  },
  {
   "cell_type": "code",
   "execution_count": 39,
   "metadata": {},
   "outputs": [
    {
     "name": "stdout",
     "output_type": "stream",
     "text": [
      "2012-04-26 00:00:00\n",
      "2012-04-19 00:00:00\n"
     ]
    }
   ],
   "source": [
    "d1 = datetime.datetime.strptime( ts1, \"%Y-%m-%d\" )\n",
    "print(d1)\n",
    "print(d1 + datetime.timedelta(days=-7))"
   ]
  },
  {
   "cell_type": "markdown",
   "metadata": {},
   "source": [
    "The string `\"%Y-%m-%d\"` encodes the timestamp format we were looking for. A four-digit year (`%Y`), a dash (`-`), a two-digit month number (`%m`), another dash, and then a day number (`%d`).\n",
    "\n",
    "Now ts2 incorporates the name of a month, so that format string is a little different (`%B` means the full month name)."
   ]
  },
  {
   "cell_type": "code",
   "execution_count": 40,
   "metadata": {},
   "outputs": [
    {
     "name": "stdout",
     "output_type": "stream",
     "text": [
      "1978-01-05 00:00:00\n",
      "1978-01-12 00:00:00\n"
     ]
    }
   ],
   "source": [
    "d2 = datetime.datetime.strptime( ts2, \"%B %d, %Y\" )\n",
    "print(d2)\n",
    "print(d2 - datetime.timedelta(days=-7))"
   ]
  },
  {
   "cell_type": "markdown",
   "metadata": {},
   "source": [
    "There's a huge number of ways to build a format string. Best is to look up the documentation: http://docs.python.org/2/library/datetime.html#strftime-strptime-behavior\n",
    "\n",
    "Parallel to strptime is another function, `strftime` (string format time) that does the opposite: it takes a `date` or `datetime` and returns a timestamp format string."
   ]
  },
  {
   "cell_type": "code",
   "execution_count": 42,
   "metadata": {},
   "outputs": [
    {
     "name": "stdout",
     "output_type": "stream",
     "text": [
      "Jan 19, '89 ---> 1989-01-19\n"
     ]
    }
   ],
   "source": [
    "s_before = \"Jan 19, '89\"\n",
    "d = datetime.datetime.strptime(\"Jan 19, '89\", \"%b %d, '%y\") # taking the time in a specific format as input\n",
    "s_after  = d.strftime(\"%Y-%m-%d\") # writing the time in another format\n",
    "print (s_before, \"--->\", s_after)"
   ]
  },
  {
   "cell_type": "markdown",
   "metadata": {},
   "source": [
    "Datetime is extremely useful, because different data sources encode times in different ways. Some formats are easy for humans to read, but I like the standard `%Y-%m-%d %H:%M:%S` UNIX-style timestamp because it _sorts nicely_."
   ]
  },
  {
   "cell_type": "markdown",
   "metadata": {},
   "source": [
    "## Exercise\n",
    "* Write a Python program to subtract five days from current date\n",
    "* Write a Python program to add 5 seconds with current time\n",
    "* Write a Python program to get a list of dates between two dates"
   ]
  },
  {
   "cell_type": "code",
   "execution_count": 34,
   "metadata": {},
   "outputs": [
    {
     "name": "stdout",
     "output_type": "stream",
     "text": [
      "Now: 2017-Oct-10\n",
      "Earlier: 2017-Oct-05\n"
     ]
    }
   ],
   "source": [
    "# Substract 5 days from current data\n",
    "Most = datetime.datetime.now()\n",
    "print(\"Now:\", Most.strftime(\"%Y-%b-%d\"))\n",
    "Earlier = Most - datetime.timedelta(days = 5)\n",
    "print(\"Earlier:\",Earlier.strftime(\"%Y-%b-%d\"))"
   ]
  },
  {
   "cell_type": "code",
   "execution_count": 37,
   "metadata": {},
   "outputs": [
    {
     "name": "stdout",
     "output_type": "stream",
     "text": [
      "17:34:24\n",
      "17:34:29\n"
     ]
    }
   ],
   "source": [
    "print(Most.strftime(\"%H:%M:%S\"))\n",
    "Later = Most + datetime.timedelta(seconds = 5)\n",
    "print(Later.strftime(\"%H:%M:%S\"))"
   ]
  },
  {
   "cell_type": "code",
   "execution_count": 49,
   "metadata": {},
   "outputs": [
    {
     "name": "stdout",
     "output_type": "stream",
     "text": [
      "2017-01-04\n",
      "2017-01-05\n",
      "2017-01-06\n",
      "2017-01-07\n",
      "2017-01-08\n",
      "2017-01-09\n",
      "2017-01-10\n",
      "2017-01-11\n",
      "2017-01-12\n",
      "2017-01-13\n",
      "2017-01-14\n",
      "2017-01-15\n",
      "2017-01-16\n",
      "2017-01-17\n",
      "2017-01-18\n",
      "2017-01-19\n",
      "2017-01-20\n",
      "2017-01-21\n",
      "2017-01-22\n",
      "2017-01-23\n",
      "2017-01-24\n",
      "2017-01-25\n",
      "2017-01-26\n",
      "2017-01-27\n",
      "2017-01-28\n"
     ]
    }
   ],
   "source": [
    "beginning = datetime.datetime.strptime(\"2017-01-03\", \"%Y-%m-%d\" )\n",
    "end = datetime.datetime.strptime(\"2017-01-28\", \"%Y-%m-%d\" )\n",
    "\n",
    "timestep = datetime.timedelta(days=1)\n",
    "actual = beginning\n",
    "while actual < end:\n",
    "    actual = actual + timestep\n",
    "    print(datetime.datetime.strftime(actual, \"%Y-%m-%d\"))"
   ]
  },
  {
   "cell_type": "markdown",
   "metadata": {},
   "source": [
    "##### ASIDE: The epoch.\n",
    "\n",
    "Sometimes you see a date that looks weird:"
   ]
  },
  {
   "cell_type": "code",
   "execution_count": 50,
   "metadata": {},
   "outputs": [
    {
     "name": "stdout",
     "output_type": "stream",
     "text": [
      "1507650828.428299\n"
     ]
    }
   ],
   "source": [
    "import time # another time module!\n",
    "\n",
    "print(time.time()) # what the heck!"
   ]
  },
  {
   "cell_type": "markdown",
   "metadata": {},
   "source": [
    "This function is another way to get the _current time_ but it's encoded in numeric format: **the number of seconds since the epoch**. Let's explore:"
   ]
  },
  {
   "cell_type": "code",
   "execution_count": 48,
   "metadata": {},
   "outputs": [
    {
     "name": "stdout",
     "output_type": "stream",
     "text": [
      "47.793286132196314\n"
     ]
    }
   ],
   "source": [
    "t = time.time()\n",
    "y = t / 60 / 60 / 24 / 365 # oops, leap years!\n",
    "print(y)"
   ]
  },
  {
   "cell_type": "markdown",
   "metadata": {},
   "source": [
    "OK, what the heck happened back then?"
   ]
  },
  {
   "cell_type": "code",
   "execution_count": 49,
   "metadata": {},
   "outputs": [
    {
     "name": "stdout",
     "output_type": "stream",
     "text": [
      "1970-01-01 02:00:00.000054\n"
     ]
    }
   ],
   "source": [
    "days_delta = time.time() / 60 / 60 / 24\n",
    "print (datetime.datetime.now() - datetime.timedelta(days=days_delta))"
   ]
  },
  {
   "cell_type": "markdown",
   "metadata": {},
   "source": [
    "The epoch (\"epoch\" means \"reference date\") is the [UNIX epoch](http://en.wikipedia.org/wiki/Unix_time), Jan 1, 1970.\n",
    "\n",
    "* `time.time()` returns the number of seconds since 00:00:00 Coordinated Universal Time (UTC), Thursday, 1 January 1970, not counting leap seconds.\n",
    "\n",
    "Why 1970? Because of these guys:\n",
    "\n",
    "&nbsp;&nbsp;&nbsp;&nbsp;&nbsp;<img src=\"https://upload.wikimedia.org/wikipedia/commons/8/8f/Ken_Thompson_(sitting)_and_Dennis_Ritchie_at_PDP-11_(2876612463).jpg\" alt=\"Dennis Ritchie and Ken Thompson\" style=\"width: 500px;\">\n"
   ]
  },
  {
   "cell_type": "markdown",
   "metadata": {},
   "source": [
    "These numeric timestamp formats were very useful when it was too expensive to have a complex library like `datetime`."
   ]
  },
  {
   "cell_type": "markdown",
   "metadata": {},
   "source": [
    "### Exercise\n",
    "* Calculate the difference in days between the unix Epoch and your birthdate"
   ]
  },
  {
   "cell_type": "code",
   "execution_count": 3,
   "metadata": {},
   "outputs": [
    {
     "name": "stdout",
     "output_type": "stream",
     "text": [
      "Universal time now: 1508162620.0231912\n",
      "Universal time on March 31, 1971: 39276220.02319121\n"
     ]
    }
   ],
   "source": [
    "import datetime, time\n",
    "Now = datetime.datetime.now()\n",
    "birth = datetime.datetime(1971,3,31)\n",
    "db = Now - birth\n",
    "dbdays = db.days\n",
    "t = time.time()\n",
    "print(\"Universal time now:\", t)\n",
    "#print(\"There are %i days between then and now.\" % db.days)\n",
    "print(\"Universal time on March 31, 1971:\",t - 60*60*24*dbdays)"
   ]
  },
  {
   "cell_type": "code",
   "execution_count": null,
   "metadata": {
    "collapsed": true
   },
   "outputs": [],
   "source": []
  }
 ],
 "metadata": {
  "kernelspec": {
   "display_name": "Python 3",
   "language": "python",
   "name": "python3"
  },
  "language_info": {
   "codemirror_mode": {
    "name": "ipython",
    "version": 3
   },
   "file_extension": ".py",
   "mimetype": "text/x-python",
   "name": "python",
   "nbconvert_exporter": "python",
   "pygments_lexer": "ipython3",
   "version": "3.6.1"
  }
 },
 "nbformat": 4,
 "nbformat_minor": 1
}
