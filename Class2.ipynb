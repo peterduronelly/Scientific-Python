{
 "cells": [
  {
   "cell_type": "markdown",
   "metadata": {},
   "source": [
    "<div class=\"frontmatter text-center\">\n",
    "<h1> MATH5027 Scientific Python</h1>\n",
    "<h3>Central European University, Fall 2017/2018</h3>\n",
    "<h3>Instructor: Prof. Roberta Sinatra, TA: Johannes Wachs</h3>\n",
    "inspired to the Python lectures of J.R. Johansson, available at [http://github.com/jrjohansson/scientific-python-lectures](http://github.com/jrjohansson/scientific-python-lectures).\n",
    "</div>"
   ]
  },
  {
   "cell_type": "markdown",
   "metadata": {},
   "source": [
    "# Today\n",
    "We will \n",
    "* cover logical statements and control flow \n",
    "* do an example of simple web scraping\n",
    "* learn an important feature of lists: comprehension \n",
    "* do more exercises with lists and strings"
   ]
  },
  {
   "cell_type": "markdown",
   "metadata": {},
   "source": [
    "## Control Flow"
   ]
  },
  {
   "cell_type": "markdown",
   "metadata": {},
   "source": [
    "### Conditional statements: if, elif, else"
   ]
  },
  {
   "cell_type": "markdown",
   "metadata": {},
   "source": [
    "The Python syntax for conditional execution of code uses the keywords `if`, `elif` (else if), `else`:"
   ]
  },
  {
   "cell_type": "code",
   "execution_count": 1,
   "metadata": {},
   "outputs": [
    {
     "name": "stdout",
     "output_type": "stream",
     "text": [
      "statement1 is True\n"
     ]
    }
   ],
   "source": [
    "statement1 = True\n",
    "statement2 = False\n",
    "\n",
    "if statement1:\n",
    "    print(\"statement1 is True\")\n",
    "    \n",
    "elif statement2:\n",
    "    print(\"statement2 is True\")\n",
    "    \n",
    "else:\n",
    "    print(\"statement1 and statement2 are False\")"
   ]
  },
  {
   "cell_type": "code",
   "execution_count": 2,
   "metadata": {},
   "outputs": [
    {
     "name": "stdout",
     "output_type": "stream",
     "text": [
      "statement1 is true\n"
     ]
    }
   ],
   "source": [
    "statement1 = True\n",
    "statement2 = False\n",
    "\n",
    "if statement1:\n",
    "    if statement2:\n",
    "        print(\"both are true\")\n",
    "    print(\"statement1 is true\")"
   ]
  },
  {
   "cell_type": "markdown",
   "metadata": {},
   "source": [
    "The second print command is indetned with the first if => printed if st1 is true; st2 doesn't count. "
   ]
  },
  {
   "cell_type": "markdown",
   "metadata": {},
   "source": [
    "Here we encounted a peculiar and unusual aspect of the Python programming language: Program blocks are defined by their indentation level. \n",
    "\n",
    "Compare to the equivalent C code:\n",
    "\n",
    "    if (statement1)\n",
    "    {\n",
    "        printf(\"statement1 is True\\n\");\n",
    "    }\n",
    "    else if (statement2)\n",
    "    {\n",
    "        printf(\"statement2 is True\\n\");\n",
    "    }\n",
    "    else\n",
    "    {\n",
    "        printf(\"statement1 and statement2 are False\\n\");\n",
    "    }\n",
    "\n",
    "In C blocks are defined by the enclosing curly brakets `{` and `}`. And the level of indentation (white space before the code statements) does not matter (completely optional). \n",
    "\n",
    "But in Python, the extent of a code block is defined by the indentation level (usually a tab or say four white spaces). This means that we have to be careful to indent our code correctly, or else we will get syntax errors. "
   ]
  },
  {
   "cell_type": "markdown",
   "metadata": {},
   "source": [
    "#### Examples:"
   ]
  },
  {
   "cell_type": "code",
   "execution_count": 3,
   "metadata": {},
   "outputs": [
    {
     "name": "stdout",
     "output_type": "stream",
     "text": [
      "both statement1 and statement2 are True\n"
     ]
    }
   ],
   "source": [
    "statement1 =  True\n",
    "statement2 = True\n",
    "if statement1 and statement2:\n",
    "        print(\"both statement1 and statement2 are True\")"
   ]
  },
  {
   "cell_type": "code",
   "execution_count": 4,
   "metadata": {},
   "outputs": [
    {
     "name": "stdout",
     "output_type": "stream",
     "text": [
      "both statement1 and statement2 are True\n"
     ]
    }
   ],
   "source": [
    "# Bad indentation!\n",
    "statement2= False\n",
    "if statement1:\n",
    "    if statement2:\n",
    "        print(\"Hi\")\n",
    "    print(\"both statement1 and statement2 are True\")  # this line is not properly indented"
   ]
  },
  {
   "cell_type": "code",
   "execution_count": 5,
   "metadata": {
    "collapsed": true
   },
   "outputs": [],
   "source": [
    "statement1 = False \n",
    "\n",
    "if statement1:\n",
    "    print(\"printed if statement1 is True\")\n",
    "    \n",
    "    print(\"still inside the if block\")"
   ]
  },
  {
   "cell_type": "code",
   "execution_count": 6,
   "metadata": {},
   "outputs": [
    {
     "name": "stdout",
     "output_type": "stream",
     "text": [
      "now outside the if block\n"
     ]
    }
   ],
   "source": [
    "if statement1:\n",
    "    print(\"printed if statement1 is True\")\n",
    "    \n",
    "print(\"now outside the if block\")"
   ]
  },
  {
   "cell_type": "markdown",
   "metadata": {},
   "source": [
    "## Loops"
   ]
  },
  {
   "cell_type": "markdown",
   "metadata": {},
   "source": [
    "In Python, loops can be programmed in a number of different ways. The most common is the `for` loop, which is used together with iterable objects, such as lists. The basic syntax is:"
   ]
  },
  {
   "cell_type": "markdown",
   "metadata": {},
   "source": [
    "### **`for` loops**:"
   ]
  },
  {
   "cell_type": "code",
   "execution_count": 7,
   "metadata": {
    "scrolled": true
   },
   "outputs": [
    {
     "name": "stdout",
     "output_type": "stream",
     "text": [
      "1\n",
      "2\n",
      "3\n"
     ]
    }
   ],
   "source": [
    "for x in [1,2,3]: #int x: array\n",
    "    print(x)"
   ]
  },
  {
   "cell_type": "markdown",
   "metadata": {},
   "source": [
    "The `for` loop iterates over the elements of the supplied list, and executes the containing block once for each element. Any kind of list can be used in the `for` loop. For example:"
   ]
  },
  {
   "cell_type": "code",
   "execution_count": 8,
   "metadata": {},
   "outputs": [
    {
     "name": "stdout",
     "output_type": "stream",
     "text": [
      "0\n",
      "1\n",
      "2\n",
      "3\n",
      "4\n",
      "5\n",
      "6\n",
      "7\n",
      "8\n",
      "9\n"
     ]
    }
   ],
   "source": [
    "for x in range(10): # by default range start at 0\n",
    "    print(x)"
   ]
  },
  {
   "cell_type": "markdown",
   "metadata": {},
   "source": [
    "Note: `range(10)` does not include 10 !"
   ]
  },
  {
   "cell_type": "code",
   "execution_count": 9,
   "metadata": {
    "scrolled": true
   },
   "outputs": [
    {
     "name": "stdout",
     "output_type": "stream",
     "text": [
      "-3\n",
      "-2\n",
      "-1\n",
      "0\n",
      "1\n",
      "2\n"
     ]
    }
   ],
   "source": [
    "for x in range(-3,3):\n",
    "    print(x)"
   ]
  },
  {
   "cell_type": "code",
   "execution_count": 10,
   "metadata": {},
   "outputs": [
    {
     "name": "stdout",
     "output_type": "stream",
     "text": [
      "-3\n",
      "-1\n",
      "1\n"
     ]
    }
   ],
   "source": [
    "for x in range(-3,3,2): #goes by the steps of 2\n",
    "    print(x)"
   ]
  },
  {
   "cell_type": "code",
   "execution_count": 11,
   "metadata": {
    "scrolled": true
   },
   "outputs": [
    {
     "name": "stdout",
     "output_type": "stream",
     "text": [
      "scientific 10\n",
      "computing 9\n",
      "with 4\n",
      "python 6\n"
     ]
    }
   ],
   "source": [
    "for word in [\"scientific\", \"computing\", \"with\", \"python\"]:\n",
    "    print(word, len(word)) #we can add functions to print"
   ]
  },
  {
   "cell_type": "markdown",
   "metadata": {},
   "source": [
    "Sometimes it is useful to have access to the indices of the values when iterating over a list. We can use the `enumerate` function for this:"
   ]
  },
  {
   "cell_type": "code",
   "execution_count": 12,
   "metadata": {},
   "outputs": [
    {
     "name": "stdout",
     "output_type": "stream",
     "text": [
      "0 scientific\n",
      "1 computing\n",
      "2 with\n",
      "3 python\n"
     ]
    }
   ],
   "source": [
    "words=[\"scientific\", \"computing\", \"with\", \"python\"]\n",
    "for idx, word in enumerate(words): #megszámlál\n",
    "    print(idx,word)"
   ]
  },
  {
   "cell_type": "code",
   "execution_count": 13,
   "metadata": {},
   "outputs": [
    {
     "name": "stdout",
     "output_type": "stream",
     "text": [
      "0 -3\n",
      "1 -2\n",
      "2 -1\n",
      "3 0\n",
      "4 1\n",
      "5 2\n"
     ]
    }
   ],
   "source": [
    "for idx, x in enumerate(range(-3,3)):\n",
    "    print(idx, x)"
   ]
  },
  {
   "cell_type": "markdown",
   "metadata": {},
   "source": [
    "Enumerate is an object: "
   ]
  },
  {
   "cell_type": "code",
   "execution_count": 14,
   "metadata": {},
   "outputs": [
    {
     "data": {
      "text/plain": [
       "<enumerate at 0x207c9bc3240>"
      ]
     },
     "execution_count": 14,
     "metadata": {},
     "output_type": "execute_result"
    }
   ],
   "source": [
    "enumerate(range(-3,3))"
   ]
  },
  {
   "cell_type": "markdown",
   "metadata": {},
   "source": [
    "you can convert it to a list of tuples:"
   ]
  },
  {
   "cell_type": "code",
   "execution_count": 15,
   "metadata": {},
   "outputs": [
    {
     "data": {
      "text/plain": [
       "[(0, -3), (1, -2), (2, -1), (3, 0), (4, 1), (5, 2)]"
      ]
     },
     "execution_count": 15,
     "metadata": {},
     "output_type": "execute_result"
    }
   ],
   "source": [
    "list(enumerate(range(-3,3)))"
   ]
  },
  {
   "cell_type": "markdown",
   "metadata": {},
   "source": [
    "and even use a different starting index: "
   ]
  },
  {
   "cell_type": "code",
   "execution_count": 16,
   "metadata": {},
   "outputs": [
    {
     "data": {
      "text/plain": [
       "[(1, -3), (2, -2), (3, -1), (4, 0), (5, 1), (6, 2)]"
      ]
     },
     "execution_count": 16,
     "metadata": {},
     "output_type": "execute_result"
    }
   ],
   "source": [
    "list(enumerate(range(-3,3), start=1))"
   ]
  },
  {
   "cell_type": "code",
   "execution_count": 17,
   "metadata": {},
   "outputs": [
    {
     "data": {
      "text/plain": [
       "[(0, 'scientific'), (1, 'computing'), (2, 'with'), (3, 'python')]"
      ]
     },
     "execution_count": 17,
     "metadata": {},
     "output_type": "execute_result"
    }
   ],
   "source": [
    "words=[\"scientific\", \"computing\", \"with\", \"python\"]\n",
    "list(enumerate(words))"
   ]
  },
  {
   "cell_type": "markdown",
   "metadata": {},
   "source": [
    "### `while` loops:\n",
    "It executes the block of code until the statement after ```while``` is true. **Caution**: if the logical value of the statement is not modified in the block code, the function will never stop:"
   ]
  },
  {
   "cell_type": "code",
   "execution_count": 18,
   "metadata": {},
   "outputs": [
    {
     "name": "stdout",
     "output_type": "stream",
     "text": [
      "0\n",
      "1\n",
      "2\n",
      "3\n",
      "4\n",
      "done\n"
     ]
    }
   ],
   "source": [
    "i = 0\n",
    "\n",
    "while i < 5:\n",
    "    print(i)\n",
    "    \n",
    "    i = i + 1\n",
    "    \n",
    "print(\"done\")"
   ]
  },
  {
   "cell_type": "markdown",
   "metadata": {},
   "source": [
    "Note that the `print(\"done\")` statement is not part of the `while` loop body because of the difference in indentation. In the example above, if you do not change the value of i in a way to become larger than 5, the while loop will never stop. "
   ]
  },
  {
   "cell_type": "markdown",
   "metadata": {},
   "source": [
    "## Exercise &#x1F4D8;\n",
    "Before going on with the example of web scraping, do the following: \n",
    "* Create two lists. For example, the two lists ```l1=range(3)``` and ```l2=['hi', 3]```\n",
    "* Append the second list to the first one. You cand do it as l1.append(l2)\n",
    "* Print l1, and look carefully at its structure. For example, display only the last element of the list.\n",
    "* You might incur in having a list of this form while working autonoumsly on the web scraping example"
   ]
  },
  {
   "cell_type": "markdown",
   "metadata": {},
   "source": [
    "# Example of web scraping\n",
    "We will get automatically the prices of transportation tickets in Budapest\n",
    "<img src=\"budapest_transport.png\">"
   ]
  },
  {
   "cell_type": "markdown",
   "metadata": {},
   "source": [
    "Web scraping is a programming technique to extract (scrape) information from websites. In its simplest form, one gets the html code contained in webpages, and distills information from it. We can get all the html code appearing on a page by using the module urllib. Our page of interest is http://www.bkk.hu/en/tickets-and-passes/prices/. "
   ]
  },
  {
   "cell_type": "code",
   "execution_count": 4,
   "metadata": {},
   "outputs": [],
   "source": [
    "import urllib.request\n",
    "request = urllib.request.Request('http://www.bkk.hu/en/tickets-and-passes/prices/')\n",
    "\n",
    "#web = urllib.request(\"http://www.bkk.hu/en/tickets-and-passes/prices/\"). This python 2 version command => outdated.\n",
    "result = urllib.request.urlopen(request)\n",
    "\n",
    "text = result.read() #'text' is the name of the object where we store the string of code behind the bkk.info page\n",
    "#text = web.read()     "
   ]
  },
  {
   "cell_type": "markdown",
   "metadata": {},
   "source": [
    "All the html code of the wepbage is contained in the string variable text. This is the same code that you see when you click on \"view page source\" in your browser. Text looks like a super-long string."
   ]
  },
  {
   "cell_type": "code",
   "execution_count": 2,
   "metadata": {},
   "outputs": [
    {
     "data": {
      "text/plain": [
       "b'<!DOCTYPE html>\\n<html lang=\"en-US\" prefix=\"og: http://ogp.me/ns#\">\\n<head>\\n<meta charset=\"UTF-8\" />\\n<meta http-equiv=\"X-UA-Compatible\" content=\"IE=edge\" />\\n<title>Types and prices - Budapesti K\\xc3\\xb6zleked\\xc3\\xa9si K\\xc3\\xb6zpontBudapesti K\\xc3\\xb6zleked\\xc3\\xa9si K\\xc3\\xb6zpont</title>\\n\\n<link rel=\"stylesheet\" href=\"http://www.bkk.hu/wp-content/plugins/sitepress-multilingual-cms/res/css/language-selector.css?v=200.0.4\" type=\"text/css\" media=\"all\" />\\n<link rel=\"profile\" href=\"//gmpg.org/xfn/11\" />\\n<link rel=\"stylesheet\" type=\"text/css\" media=\"all\" href=\"http://bkk.hu/wp-content/themes/bkk/style.css.php?v=25113037\" />\\n<link rel=\"pingback\" href=\"http://www.bkk.hu/xmlrpc.php\" />\\n<link id=\"page_favicon\" href=\"http://www.bkk.hu/favicon.ico\" rel=\"icon\" type=\"image/x-icon\" />\\n<script src=\"http://bkk.hu/wp-content/themes/bkk/js/slide.js?v=17204400\" type=\"text/javascript\"></script>\\n\\n<!-- This site is optimized with the Yoast SEO plugin v5.3.3 - https://yoast.com/wordpress/plugins/seo/ -->\\n<link rel=\"canonical\" href=\"http://www.bkk.hu/en/tickets-and-passes/prices/\" />\\n<meta property=\"og:locale\" content=\"en_US\" />\\n<meta property=\"og:type\" content=\"article\" />\\n<meta property=\"og:title\" content=\"Types and prices - Budapesti K\\xc3\\xb6zleked\\xc3\\xa9si K\\xc3\\xb6zpont\" />\\n<meta property=\"og:description\" content=\"Are you planning a trip to Budapest and this will be your first visit ever? Do you need up-to-date information about public transport?\\nThen look for the Customer Service Points of BKK Centre for Budapest Transport at Liszt Ferenc International Airport\\xe2\\x80\\x99s Terminal 2A (daily 8:00-22:00) and Terminal 2B (daily 9:00-21:00). English-speaking attendants will be at your [...]\" />\\n<meta property=\"og:url\" content=\"http://www.bkk.hu/en/tickets-and-passes/prices/\" />\\n<meta property=\"og:site_name\" content=\"Budapesti K\\xc3\\xb6zleked\\xc3\\xa9si K\\xc3\\xb6zpont\" />\\n<meta property=\"article:publisher\" content=\"https://www.facebook.com/bkkbudapest/\" />\\n<meta property=\"og:image\" content=\"https://bkk.hu/wp-content/uploads/2016/03/bkk-logo.png\" />\\n<meta property=\"og:image:secure_url\" content=\"https://bkk.hu/wp-content/uploads/2016/03/bkk-logo.png\" />\\n<meta name=\"twitter:card\" content=\"summary\" />\\n<meta name=\"twitter:description\" content=\"Are you planning a trip to Budapest and this will be your first visit ever? Do you need up-to-date information about public transport?\\nThen look for the Customer Service Points of BKK Centre for Budapest Transport at Liszt Ferenc International Airport\\xe2\\x80\\x99s Terminal 2A (daily 8:00-22:00) and Terminal 2B (daily 9:00-21:00). English-speaking attendants will be at your [...]\" />\\n<meta name=\"twitter:title\" content=\"Types and prices - Budapesti K\\xc3\\xb6zleked\\xc3\\xa9si K\\xc3\\xb6zpont\" />\\n<meta name=\"twitter:image\" content=\"https://bkk.hu/wp-content/uploads/2016/03/bkk-logo.png\" />\\n<script type=\\'application/ld+json\\'>{\"@context\":\"http:\\\\/\\\\/schema.org\",\"@type\":\"WebSite\",\"@id\":\"#website\",\"url\":\"http:\\\\/\\\\/www.bkk.hu\\\\/en\\\\/\",\"name\":\"Budapesti K\\\\u00f6zleked\\\\u00e9si K\\\\u00f6zpont\",\"potentialAction\":{\"@type\":\"SearchAction\",\"target\":\"http:\\\\/\\\\/www.bkk.hu\\\\/en\\\\/?s={search_term_string}\",\"query-input\":\"required name=search_term_string\"}}</script>\\n<!-- / Yoast SEO plugin. -->\\n\\n<link rel=\\'dns-prefetch\\' href=\\'//s.w.org\\' />\\n<link rel=\"alternate\" type=\"application/rss+xml\" title=\"Budapesti K\\xc3\\xb6zleked\\xc3\\xa9si K\\xc3\\xb6zpont &raquo; Feed\" href=\"http://www.bkk.hu/en/feed/\" />\\n<link rel=\"alternate\" type=\"application/rss+xml\" title=\"Budapesti K\\xc3\\xb6zleked\\xc3\\xa9si K\\xc3\\xb6zpont &raquo; Comments Feed\" href=\"http://www.bkk.hu/en/comments/feed/\" />\\n\\t\\t<script type=\"text/javascript\">\\n\\t\\t\\twindow._wpemojiSettings = {\"baseUrl\":\"https:\\\\/\\\\/s.w.org\\\\/images\\\\/core\\\\/emoji\\\\/2.2.1\\\\/72x72\\\\/\",\"ext\":\".png\",\"svgUrl\":\"https:\\\\/\\\\/s.w.org\\\\/images\\\\/core\\\\/emoji\\\\/2.2.1\\\\/svg\\\\/\",\"svgExt\":\".svg\",\"source\":{\"concatemoji\":\"http:\\\\/\\\\/www.bkk.hu\\\\/wp-includes\\\\/js\\\\/wp-emoji-release.min.js?ver=4.7.7\"}};\\n\\t\\t\\t!function(a,b,c){function d(a){var b,c,d,e,f=String.fromCharCode;if(!k||!k.fillText)return!1;switch(k.clearRect(0,0,j.width,j.height),k.textBaseline=\"top\",k.font=\"600 32px Arial\",a){case\"flag\":return k.fillText(f(55356,56826,55356,56819),0,0),!(j.toDataURL().length<3e3)&&(k.clearRect(0,0,j.width,j.height),k.fillText(f(55356,57331,65039,8205,55356,57096),0,0),b=j.toDataURL(),k.clearRect(0,0,j.width,j.height),k.fillText(f(55356,57331,55356,57096),0,0),c=j.toDataURL(),b!==c);case\"emoji4\":return k.fillText(f(55357,56425,55356,57341,8205,55357,56507),0,0),d=j.toDataURL(),k.clearRect(0,0,j.width,j.height),k.fillText(f(55357,56425,55356,57341,55357,56507),0,0),e=j.toDataURL(),d!==e}return!1}function e(a){var c=b.createElement(\"script\");c.src=a,c.defer=c.type=\"text/javascript\",b.getElementsByTagName(\"head\")[0].appendChild(c)}var f,g,h,i,j=b.createElement(\"canvas\"),k=j.getContext&&j.getContext(\"2d\");for(i=Array(\"flag\",\"emoji4\"),c.supports={everything:!0,everythingExceptFlag:!0},h=0;h<i.length;h++)c.supports[i[h]]=d(i[h]),c.supports.everything=c.supports.everything&&c.supports[i[h]],\"flag\"!==i[h]&&(c.supports.everythingExceptFlag=c.supports.everythingExceptFlag&&c.supports[i[h]]);c.supports.everythingExceptFlag=c.supports.everythingExceptFlag&&!c.supports.flag,c.DOMReady=!1,c.readyCallback=function(){c.DOMReady=!0},c.supports.everything||(g=function(){c.readyCallback()},b.addEventListener?(b.addEventListener(\"DOMContentLoaded\",g,!1),a.addEventListener(\"load\",g,!1)):(a.attachEvent(\"onload\",g),b.attachEvent(\"onreadystatechange\",function(){\"complete\"===b.readyState&&c.readyCallback()})),f=c.source||{},f.concatemoji?e(f.concatemoji):f.wpemoji&&f.twemoji&&(e(f.twemoji),e(f.wpemoji)))}(window,document,window._wpemojiSettings);\\n\\t\\t</script>\\n\\t\\t<style type=\"text/css\">\\nimg.wp-smiley,\\nimg.emoji {\\n\\tdisplay: inline !important;\\n\\tborder: none !important;\\n\\tbox-shadow: none !important;\\n\\theight: 1em !important;\\n\\twidth: 1em !important;\\n\\tmargin: 0 .07em !important;\\n\\tvertical-align: -0.1em !important;\\n\\tbackground: none !important;\\n\\tpadding: 0 !important;\\n}\\n</style>\\n<link rel=\\'stylesheet\\' id=\\'nivo-css\\'  href=\\'http://bkk.hu/wp-content/plugins/header-image-slider/slider.css?ver=2.6\\' type=\\'text/css\\' media=\\'all\\' />\\n<link rel=\\'stylesheet\\' id=\\'contact-form-7-css\\'  href=\\'http://bkk.hu/wp-content/plugins/contact-form-7/includes/css/styles.css?ver=4.4.2\\' type=\\'text/css\\' media=\\'all\\' />\\n<link rel=\\'stylesheet\\' id=\\'wp-email-css\\'  href=\\'http://bkk.hu/wp-content/plugins/wp-email/email-css.css?ver=2.67.2\\' type=\\'text/css\\' media=\\'all\\' />\\n<link rel=\\'stylesheet\\' id=\\'featured-widget-css-css\\'  href=\\'http://bkk.hu/wp-content/plugins/featured-page-widget/templates/featured-page-widget.css?ver=4.7.7\\' type=\\'text/css\\' media=\\'all\\' />\\n<!-- This site uses the Google Analytics by MonsterInsights plugin v5.5 - Universal enabled - https://www.monsterinsights.com/ -->\\n<script type=\"text/javascript\">\\n\\t(function(i,s,o,g,r,a,m){i[\\'GoogleAnalyticsObject\\']=r;i[r]=i[r]||function(){\\n\\t\\t(i[r].q=i[r].q||[]).push(arguments)},i[r].l=1*new Date();a=s.createElement(o),\\n\\t\\tm=s.getElementsByTagName(o)[0];a.async=1;a.src=g;m.parentNode.insertBefore(a,m)\\n\\t})(window,document,\\'script\\',\\'//www.google-analytics.com/analytics.js\\',\\'__gaTracker\\');\\n\\n\\t__gaTracker(\\'create\\', \\'UA-20859616-1\\', \\'auto\\');\\n\\t__gaTracker(\\'set\\', \\'forceSSL\\', true);\\n\\t__gaTracker(\\'send\\',\\'pageview\\');\\n\\n</script>\\n<!-- / Google Analytics by MonsterInsights -->\\n<script type=\\'text/javascript\\' src=\\'http://www.bkk.hu/wp-includes/js/jquery/jquery.js?ver=1.12.4\\'></script>\\n<script type=\\'text/javascript\\' src=\\'http://www.bkk.hu/wp-includes/js/jquery/jquery-migrate.min.js?ver=1.4.1\\'></script>\\n<script type=\\'text/javascript\\' src=\\'http://bkk.hu/wp-content/plugins/header-image-slider/nivo-slider/jquery.nivo.slider.pack.js?ver=2.6\\'></script>\\n<link rel=\\'https://api.w.org/\\' href=\\'http://www.bkk.hu/wp-json/\\' />\\n<link rel=\"EditURI\" type=\"application/rsd+xml\" title=\"RSD\" href=\"http://www.bkk.hu/xmlrpc.php?rsd\" />\\n\\n<link rel=\\'shortlink\\' href=\\'http://www.bkk.hu/?p=18707\\' />\\n<link rel=\"alternate\" type=\"application/json+oembed\" href=\"http://www.bkk.hu/wp-json/oembed/1.0/embed?url=http%3A%2F%2Fwww.bkk.hu%2Fen%2Ftickets-and-passes%2Fprices%2F\" />\\n<link rel=\"alternate\" type=\"text/xml+oembed\" href=\"http://www.bkk.hu/wp-json/oembed/1.0/embed?url=http%3A%2F%2Fwww.bkk.hu%2Fen%2Ftickets-and-passes%2Fprices%2F&#038;format=xml\" />\\n\\t<!-- BKK GOOGLE MAPS WIDGET -->\\n\\t<script src=\"//maps.google.hu/maps/api/js?sensor=false&libraries=places&language=en&region=EN\" type=\"text/javascript\" charset=\"utf-8\"></script>\\n\\t<!-- scr ipt type=\\'text/javascript\\' src=\"//ajax.googleapis.com/ajax/libs/jqueryui/1.7.2/i18n/jquery-ui-i18n.min.js\"></scr ipt> -->\\n\\t<script type=\\'text/javascript\\'>\\n\\t  var tmap_SADDR = \\'Departure address\\';\\n\\t  var tmap_DADDR = \\'Arrival address\\';\\n\\t</script>\\n\\t<script type=\\'text/javascript\\' src=\"//ajax.googleapis.com/ajax/libs/jqueryui/1.10.1/jquery-ui.min.js\"></script>\\n\\t<script type=\\'text/javascript\\' src=\"http://bkk.hu/wp-content/themes/bkk/js/transit.form.js\" type=\"text/javascript\" charset=\"utf-8\"></script>\\n\\t<script type=\\'text/javascript\\' src=\"http://bkk.hu/wp-content/themes/bkk/js/gmaps.js?v=02112100\"></script>\\n\\t<!-- <li nk href=\"//ajax.googleapis.com/ajax/libs/jqueryui/1.7/themes/base/jquery-ui.css\" rel=\"stylesheet\" type=\"text/css\"/>-->\\n\\t<link href=\"//ajax.googleapis.com/ajax/libs/jqueryui/1.10.1/themes/base/jquery-ui.css\" rel=\"stylesheet\" type=\"text/css\"/>\\n\\t \\n\\t<link rel=\"stylesheet\" href=\"http://bkk.hu/wp-content/themes/bkk/js/css/gmaps.css\" type=\"text/css\" />\\n\\n\\t<!-- Added by EventCalendar plugin. Version 3.1.4 -->\\n\\t<script type=\\'text/javascript\\' src=\\'http://www.bkk.hu/wp-content/plugins/event-calendar/xmlhttprequest.js\\'></script>\\n\\t<script type=\\'text/javascript\\' src=\\'http://www.bkk.hu/wp-content/plugins/event-calendar/ec3.js\\'></script>\\n\\t<script type=\\'text/javascript\\'><!--\\n\\tec3.start_of_week=1;\\n\\tec3.month_of_year=new Array(\\'January\\',\\'February\\',\\'March\\',\\'April\\',\\'May\\',\\'June\\',\\'July\\',\\'August\\',\\'September\\',\\'October\\',\\'November\\',\\'December\\');\\n\\tec3.month_abbrev=new Array(\\'Jan\\',\\'Feb\\',\\'Mar\\',\\'Apr\\',\\'May\\',\\'Jun\\',\\'Jul\\',\\'Aug\\',\\'Sep\\',\\'Oct\\',\\'Nov\\',\\'Dec\\');\\n\\tec3.myfiles=\\'http://www.bkk.hu/wp-content/plugins/event-calendar\\';\\n\\tec3.home=\\'http://www.bkk.hu\\';\\n\\tec3.hide_logo=1;\\n\\tec3.viewpostsfor=\"View posts for %1$s %2$s\";\\n\\tec3.datestr=\"%1$s %2$d\";\\n\\t// --></script>\\n\\n<style type=\\'text/css\\' media=\\'screen\\'>\\n@import url(http://www.bkk.hu/wp-content/plugins/event-calendar/ec3.css);\\n.ec3_ec {\\n background-image:url(http://www.bkk.hu/wp-content/plugins/event-calendar/ec.png) !IMPORTANT;\\n background-image:none;\\n filter:progid:DXImageTransform.Microsoft.AlphaImageLoader(src=\\'http://www.bkk.hu/wp-content/plugins/event-calendar/ec.png\\');\\n}\\n#ec3_shadow0 {\\n background-image:url(http://www.bkk.hu/wp-content/plugins/event-calendar/shadow0.png) !IMPORTANT;\\n background-image:none;\\n}\\n#ec3_shadow0 div {\\n filter:progid:DXImageTransform.Microsoft.AlphaImageLoader(src=\\'http://www.bkk.hu/wp-content/plugins/event-calendar/shadow0.png\\',sizingMethod=\\'scale\\');\\n}\\n#ec3_shadow1 {\\n background-image:url(http://www.bkk.hu/wp-content/plugins/event-calendar/shadow1.png) !IMPORTANT;\\n background-image:none;\\n filter:progid:DXImageTransform.Microsoft.AlphaImageLoader(src=\\'http://www.bkk.hu/wp-content/plugins/event-calendar/shadow1.png\\',sizingMethod=\\'crop\\');\\n}\\n#ec3_shadow2 {\\n background-image:url(http://www.bkk.hu/wp-content/plugins/event-calendar/shadow2.png) !IMPORTANT;\\n background-image:none;\\n}\\n#ec3_shadow2 div {\\n filter:progid:DXImageTransform.Microsoft.AlphaImageLoader(src=\\'http://www.bkk.hu/wp-content/plugins/event-calendar/shadow2.png\\',sizingMethod=\\'scale\\');\\n}\\n</style>\\n\\n<script type=\"text/javascript\">var icl_lang = \\'en\\';var icl_home = \\'http://www.bkk.hu/en/\\';</script>\\n<script type=\"text/javascript\" src=\"http://www.bkk.hu/wp-content/plugins/sitepress-multilingual-cms/res/js/sitepress.js\"></script>\\n<meta name=\"generator\" content=\"WPML ver:200.0.4 stt:1,23;0;0;0\" />\\n<meta name=\"TagPages\" content=\"1.63\"/>\\n</head>\\n\\n<body class=\"page-template-default page page-id-18707 page-parent page-child parent-pageid-50382\">\\n<div id=\"wrapper\" class=\"hfeed\">\\n\\t<div id=\"header\">\\n\\t\\t<div id=\"topStatus\">\\n\\t\\t\\t<div id=\"positionLine\">\\n\\t\\t\\t<div class=\"main\"><a class=\"main\" title=\"Main page\" href=\"http://www.bkk.hu/en/\"><span>Main page</span></a></div>\\t\\t\\t</div>\\n\\t\\t\\t<div id=\"basicLinks\">\\n\\n<form role=\"search\" method=\"get\" id=\"searchform\" class=\"searchform\" action=\"http://www.bkk.hu/en/\">\\n\\t\\t\\t\\t<div>\\n\\t\\t\\t\\t\\t<label class=\"screen-reader-text\" for=\"s\">Search for:</label>\\n\\t\\t\\t\\t\\t<input type=\"text\" value=\"Search...\" name=\"s\" id=\"s\" />\\n\\t\\t\\t\\t\\t<input type=\"image\" alt=\"Search...\" src=\"http://bkk.hu/wp-content/themes/bkk/images/search_submit.png\" id=\"searchsubmit\" value=\"Search\" />\\n\\t\\t\\t\\t</div>\\n\\t\\t\\t</form><script type=\"text/javascript\">//<![CDATA[\\n\\t\\tvar searchform = function() {\\n\\t\\t\\tvar s = document.getElementById(\\'s\\');\\n\\t\\t\\ts.onfocus = function() {\\n\\t\\t\\t\\tvar s = document.getElementById(\\'s\\');\\n\\t\\t\\t\\tif (s.value==\"Search...\") {\\n\\t\\t\\t\\t\\ts.value = \"\";\\n\\t\\t\\t\\t} else if (s.value==\"\") {\\n\\t\\t\\t\\t\\ts.value = \"Search...\";\\n\\t\\t\\t\\t}\\n\\t\\t\\t};\\n\\t\\t\\ts.onblur = function() {\\n\\t\\t\\t\\tvar s = document.getElementById(\\'s\\');\\n\\t\\t\\t\\tif (s.value==\"\") {\\n\\t\\t\\t\\t\\ts.value = \"Search...\";\\n\\t\\t\\t\\t}\\n\\t\\t\\t};\\n\\t\\t};\\n\\t\\tmakeDoubleDelegate = function (f1, f2) {return function() {if (f1)f1();if (f2)f2();}}\\n\\t\\twindow.onload = makeDoubleDelegate(window.onload, searchform );\\n\\t\\t//]]></script>\\t\\t\\t</div>\\n\\t\\t</div>\\n\\t\\t<div id=\"masthead\">\\n\\t\\t\\t<div id=\"branding\" role=\"banner\">\\n\\t\\t\\t\\t\\t\\t\\t\\t<div id=\"site-title\">\\n\\t\\t\\t\\t\\t<span>\\n\\t\\t\\t\\t\\t\\t<a href=\"http://www.bkk.hu/en/\" id=\"homelink\" title=\"Budapesti K\\xc3\\xb6zleked\\xc3\\xa9si K\\xc3\\xb6zpont\" rel=\"home\">Budapesti K\\xc3\\xb6zleked\\xc3\\xa9si K\\xc3\\xb6zpont</a>\\n\\t\\t\\t\\t\\t</span>\\n\\t\\t\\t\\t\\t<div class=\"header_links\">\\n\\t\\t\\t\\t<div id=\"Share_Logos_Widget\"><a href=\"//www.facebook.com/pages/BKK-Budapesti-K%C3%B6zleked%C3%A9si-K%C3%B6zpont/124585274266636\" target=\"_blank\" title=\"FACEBOOK\"><img alt=\"FACEBOOK\" src=\"http://bkk.hu/wp-content/themes/bkk/images/share_fb.png\"/></a><a href=\"//instagram.com/bkkbudapest\" target=\"_blank\" title=\"INSTAGRAM\"><img alt=\"INSTAGRAM\" src=\"http://bkk.hu/wp-content/themes/bkk/images/share_instagram.png\"/></a></div><div id=\"contact\"><a href=\"http://www.bkk.hu/en/main-page/contact/\" title=\"Contact\">Contact</a></div>\\n\\t<div id=\\'lang_sel_list\\'>\\n\\t            <ul>\\n\\t                <li class=\\'icl-hu\\'>\\n\\t                    <a href=\\'http://www.bkk.hu/tomegkozlekedes/jegyek-es-berletek/jegy-es-berletarak/\\' class=\"lang_sel_other\">\\n\\t                    \\t                    Magyar\\t                    </a>\\n\\t                </li>\\n\\t                \\t            </ul>\\n\\t</div>\\n                            <!--div id=\"lang_sel_list\">\\n                                <ul>\\n                                    <li class=\"icl-en\"> <a class=\"lang_sel_other\" href=\"http://www.bkk.hu/en//english-content/\"> English </a> </li>\\n                                </ul>\\n                            </div-->\\n\\t\\t\\t\\t\\t</div>\\n\\t\\t\\t\\t</div>\\n\\t\\t\\t\\t<div id=\"site-description\"></div>\\n\\n\\n\\t\\t\\t</div><!-- #branding -->\\n\\n\\n\\t\\t</div><!-- #masthead -->\\n\\t</div><!-- #header -->\\n\\n\\t<div id=\"main\">\\n\\t\\t\\t\\n\\n\\t\\t<div id=\"primary\" class=\"widget-area\" role=\"navigation\">\\n\\t\\t\\t<ul class=\"xoxo\">\\n\\n<li id=\"nav_menu-3\" class=\"widget-container widget_nav_menu\"><div class=\"menu-main-menu-container\"><ul id=\"menu-main-menu\" class=\"menu\"><li id=\"menu-item-1772\" class=\"menu-item menu-item-type-custom menu-item-object-custom menu-item-has-children menu-item-1772\"><span class=\"a\">About us</span>\\n<ul class=\"sub-menu\">\\n\\t<li id=\"menu-item-1690\" class=\"menu-item menu-item-type-post_type menu-item-object-page menu-item-1690\"><a href=\"http://www.bkk.hu/en/main-page/bkk-in-brief/\">BKK in brief</a></li>\\n\\t<li id=\"menu-item-2726\" class=\"menu-item menu-item-type-post_type menu-item-object-page menu-item-2726\"><a href=\"http://www.bkk.hu/en/main-page/our-progress/\">Our progress</a></li>\\n\\t<li id=\"menu-item-1691\" class=\"menu-item menu-item-type-post_type menu-item-object-page menu-item-1691\"><a href=\"http://www.bkk.hu/en/main-page/tasks-responsibilities/\">Tasks &#038; Responsibilities</a></li>\\n\\t<li id=\"menu-item-5277\" class=\"menu-item menu-item-type-post_type menu-item-object-page menu-item-5277\"><a href=\"http://www.bkk.hu/en/main-page/news/\">News</a></li>\\n\\t<li id=\"menu-item-2836\" class=\"menu-item menu-item-type-post_type menu-item-object-page menu-item-2836\"><a href=\"http://www.bkk.hu/en/main-page/board-members/\">Board Members</a></li>\\n\\t<li id=\"menu-item-2835\" class=\"menu-item menu-item-type-post_type menu-item-object-page menu-item-2835\"><a href=\"http://www.bkk.hu/en/main-page/supervisory-board/\">Supervisory Board</a></li>\\n\\t<li id=\"menu-item-1695\" class=\"menu-item menu-item-type-post_type menu-item-object-page menu-item-1695\"><a href=\"http://www.bkk.hu/en/main-page/contact/\">Contact</a></li>\\n\\t<li id=\"menu-item-32029\" class=\"menu-item menu-item-type-post_type menu-item-object-page menu-item-32029\"><a href=\"http://www.bkk.hu/en/design/\">Design and signage</a></li>\\n</ul>\\n</li>\\n</ul></div></li><li id=\"facebooklikebox-5\" class=\"widget-container widget_FacebookLikeBox\"><iframe src=\"https://www.facebook.com/plugins/likebox.php?href=http://www.facebook.com/pages/BKK-Budapesti-K%C3%B6zleked%C3%A9si-K%C3%B6zpont/124585274266636&amp;width=166&amp;colorscheme=light&amp;border_color=AAAAAA&amp;show_faces=true&amp;connections=10&amp;stream=false&amp;header=true&amp;height=552\" scrolling=\"no\" frameborder=\"0\" style=\"border:none; overflow:hidden; width:166px; height:552px;\" allowTransparency=\"true\"></iframe></li>\\t\\t\\t<script type=\"text/javascript\">//<![CDATA[\\t\\t\\t\\n\\t\\t\\t\\tfunction menuSlideClick(e){\\n\\t\\t\\t\\t\\tvar a = getTarget(e);\\n\\t\\t\\t\\t\\t//console.log(a);\\n\\t\\t\\t\\t\\tif (jQuery(a).attr(\"over\")==\"true\") {\\n\\t\\t\\t\\t\\t\\t//console.log(jQuery(a).attr(\"over\")+\"1\");\\n\\t\\t\\t\\t\\t\\tslideUp(a.slide);\\n\\t\\t\\t\\t\\t} else {\\n\\t\\t\\t\\t\\t\\t//console.log(jQuery(a).attr(\"over\")+\"12\");\\n\\t\\t\\t\\t\\t\\tslideDown(a.slide);\\n\\t\\t\\t\\t\\t} \\n\\t\\t\\t\\t\\t//console.log(jQuery(a).attr(\"over\")==\"true\");\\n\\t\\t\\t\\t\\tjQuery(a).attr(\"over\",(jQuery(a).attr(\"over\")==\"true\"?false:true)); \\n\\t\\t\\t\\t\\treturn true;\\n\\t\\t\\t\\t}\\n\\t\\t\\t\\tfunction balMenuSlideInit() {\\n\\t\\t\\t\\t\\tif (baloldali = document.getElementById(\"menu-fomenu\")) {\\t\\t\\t\\t\\t\\n\\t\\t\\t\\t\\t\\tvar lis = baloldali.getElementsByTagName(\"li\");\\n\\t\\t\\t\\t\\t\\t\\n\\t\\t\\t\\t\\t\\tfor (var i in lis) {\\n\\t\\t\\t\\t\\t\\t\\tif (typeof(lis[i].getElementsByTagName) != \"undefined\") {\\n\\t\\t\\t\\t\\t\\t\\t\\tvar uls = lis[i].getElementsByTagName(\"ul\");\\n\\t\\t\\t\\t\\t\\t\\t\\tif (uls.length) {\\n\\t\\t\\t\\t\\t\\t\\t\\t\\n\\t\\t\\t\\t\\t\\t\\t\\t\\tvar ul = uls[0];\\n\\t\\t\\t\\t\\t\\t\\t\\t\\tif (ul) {\\n\\t\\t\\t\\t\\t\\t\\t\\t\\t\\tvar a = lis[i].getElementsByTagName(\"a\");\\n\\t\\t\\t\\t\\t\\t\\t\\t\\t\\tif (a.length) {\\n\\t\\t\\t\\t\\t\\t\\t\\t\\t\\t\\ta = a[0];\\n\\t\\t\\t\\t\\t\\t\\t\\t\\t\\t\\tif (ul.parentNode!=a.parentNode) {\\n\\t\\t\\t\\t\\t\\t\\t\\t\\t\\t\\t\\tvar a = lis[i].getElementsByTagName(\"span\");\\n\\t\\t\\t\\t\\t\\t\\t\\t\\t\\t\\t\\ta = a[0];\\n\\t\\t\\t\\t\\t\\t\\t\\t\\t\\t\\t}\\n\\t\\t\\t\\t\\t\\t\\t\\t\\t\\t\\t\\n\\t\\t\\t\\t\\t\\t\\t\\t\\t\\t\\ta.slide = ul;\\n\\t\\t\\t\\t\\t\\t\\t\\t\\t\\t\\ta.over = false;\\n\\t\\t\\t\\t\\t\\t\\t\\t\\t\\t\\tul.slide = a;\\n\\t\\t\\t\\t\\t\\t\\t\\t\\t\\t\\ta.style.cursor = \"pointer\";\\n\\t\\t\\t\\t\\t\\t\\t\\t\\t\\t\\tunbindEvent(a,\"click\",null,true);\\n\\t\\t\\t\\t\\t\\t\\t\\t\\t\\t\\tbindEvent(a,\"click\",menuSlideClick);\\n\\t\\t\\t\\t\\t\\t\\t\\t\\t\\t\\tunbindEvent(a,\"click\",null,true);\\n\\t\\t\\t\\t\\t\\t\\t\\t\\t\\t\\t/*bindEvent(a,\"mouseover\",function(e){var a = getTarget(e);a.over = true;setTimeout(function(){a.over = true;},10);slideDown(a.slide);});\\n\\t\\t\\t\\t\\t\\t\\t\\t\\t\\t\\tbindEvent(a,\"mouseout\",function(e){var a = getTarget(e);a.over = false;setTimeout(function(){var a = getTarget(e); if (a.over!=true) {slideUp(a.slide);}},1000)});\\n\\t\\t\\t\\t\\t\\t\\t\\t\\t\\t\\tbindEvent(ul,\"mouseover\",function(e){var ul = getTarget(e);if (typeof(ul.slide) != \"undefined\") {var p = ul;} else if (typeof(ul.parentNode.slide) != \"undefined\") {var p = ul.parentNode;} else if (typeof(ul.parentNode.parentNode.slide) != \"undefined\") {var p = ul.parentNode.parentNode;} if (typeof(p.slide) != \"undefined\") {p.slide.over = true;setTimeout(function(){p.slide.over = true;},10);}return true;});\\t\\t\\t\\t\\t\\t\\t\\t\\t\\t\\t\\n\\t\\t\\t\\t\\t\\t\\t\\t\\t\\t\\tbindEvent(ul,\"mouseout\",function(e){var ul = getTarget(e);if (typeof(ul.slide) != \"undefined\") {var p = ul;} else if (typeof(ul.parentNode.slide) != \"undefined\") {var p = ul.parentNode;} else if (typeof(ul.parentNode.parentNode.slide) != \"undefined\") {var p = ul.parentNode.parentNode;} if (typeof(p.slide) != \"undefined\") {p.slide.over = false;setTimeout(function(){var ul = getTarget(e); if (!p.slide.over) slideUp(p);},1000)}});*/\\n\\t\\t\\t\\t\\t\\t\\t\\t\\t\\t} else {\\n\\t\\t\\t\\t\\t\\t\\t\\t\\t\\t\\tvar a = lis[i].getElementsByTagName(\"span\");\\n\\t\\t\\t\\t\\t\\t\\t\\t\\t\\t\\ta = a[0];\\n\\t\\t\\t\\t\\t\\t\\t\\t\\t\\t\\tif (a.className == \"a\") {\\n\\t\\t\\t\\t\\t\\t\\t\\t\\t\\t\\t\\ta.slide = ul;\\n\\t\\t\\t\\t\\t\\t\\t\\t\\t\\t\\t\\ta.over = false;\\n\\t\\t\\t\\t\\t\\t\\t\\t\\t\\t\\t\\ta.style.cursor = \"pointer\";\\n\\t\\t\\t\\t\\t\\t\\t\\t\\t\\t\\t\\tunbindEvent(a,\"mouseover\",null,true);\\n\\t\\t\\t\\t\\t\\t\\t\\t\\t\\t\\t\\tbindEvent(a,\"mouseover\",menuSlideClick);//function(e){var a = getTarget(e);console.log(a);console.log(this);if (jQuery(a).attr(\"over\")) {console.log(jQuery(a).attr(\"over\")+\"2\");slideUp(a.slide);} else {console.log(jQuery(a).attr(\"over\"));slideDown(a.slide);} jQuery(a).attr(\"over\",(jQuery(a).attr(\"over\")==\"true\"?false:true)); return true;} );\\n\\t\\t\\t\\t\\t\\t\\t\\t\\t\\t\\t\\t/*bindEvent(a,\"mouseover\",function(e){var a = getTarget(e);slideDown(a.slide);});\\n\\t\\t\\t\\t\\t\\t\\t\\t\\t\\t\\t\\tbindEvent(a,\"mouseout\",function(e){setTimeout(function(){var a = getTarget(e); if (a.over!=true) {slideUp(a.slide);}},1000)});\\n\\t\\t\\t\\t\\t\\t\\t\\t\\t\\t\\t\\tbindEvent(ul,\"mouseover\",function(){over = true;});\\n\\t\\t\\t\\t\\t\\t\\t\\t\\t\\t\\t\\tbindEvent(ul,\"mouseout\",function(){over = false;setTimeout(function(){if (!over) slideUp(ul);},1000)});*/\\n\\t\\t\\t\\t\\t\\t\\t\\t\\t\\t\\t}\\n\\t\\t\\t\\t\\t\\t\\t\\t\\t\\t}\\n\\t\\t\\t\\t\\t\\t\\t\\t\\t}\\n\\t\\t\\t\\t\\t\\t\\t\\t}\\n\\t\\t\\t\\t\\t\\t\\t}\\n\\t\\t\\t\\t\\t\\t}\\n\\t\\t\\t\\t\\t}\\n\\t\\t\\t\\t}\\n\\t\\t\\t\\tif (typeof makeDoubleDelegate == \"undefined\") {\\n\\t\\t\\t\\t\\tmakeDoubleDelegate = function (f1, f2) {return function() {if (f1)f1();if (f2)f2();}}\\n\\t\\t\\t\\t}\\n\\t\\t\\t\\twindow.onload = makeDoubleDelegate(window.onload, balMenuSlideInit );\\n\\n\\t\\t\\t\\t//]]></script>\\t\\t\\n\\t\\t\\t\\t\\t</ul>\\n\\t\\t</div><!-- #primary .widget-area -->\\n\\n\\t\\t<div id=\"secondary\" class=\"widget-area\" role=\"complementary\">\\n\\t\\t\\t<ul class=\"xoxo\">\\n\\t\\t\\t\\t<li id=\"nav_menu-11\" class=\"widget-container widget_nav_menu\"><div class=\"menu-right-side-menu-container\"><ul id=\"menu-right-side-menu\" class=\"menu\"><li id=\"menu-item-69119\" class=\"menu-item menu-item-type-custom menu-item-object-custom menu-item-69119\"><a href=\"http://bkk.hu/m3felujitas/?l=en\">M3 metro closure</a></li>\\n<li id=\"menu-item-31130\" class=\"menu-item menu-item-type-custom menu-item-object-custom menu-item-has-children menu-item-31130\"><span class=\"a\">Public transport</span>\\n<ul class=\"sub-menu\">\\n\\t<li id=\"menu-item-49788\" class=\"menu-item menu-item-type-custom menu-item-object-custom menu-item-49788\"><a href=\"http://futar.bkk.hu/?layers=SVB&#038;lang=en\">Trip planner</a></li>\\n\\t<li id=\"menu-item-31131\" class=\"menu-item menu-item-type-post_type menu-item-object-page menu-item-31131\"><a href=\"http://www.bkk.hu/en/timetables/\">Timetables</a></li>\\n\\t<li id=\"menu-item-31132\" class=\"menu-item menu-item-type-post_type menu-item-object-page menu-item-31132\"><a href=\"http://www.bkk.hu/en/maps/\">Maps</a></li>\\n\\t<li id=\"menu-item-50401\" class=\"menu-item menu-item-type-custom menu-item-object-custom menu-item-50401\"><a href=\"http://www.bkk.hu/en/tickets-and-passes/\">Tickets and passes</a></li>\\n\\t<li id=\"menu-item-60206\" class=\"menu-item menu-item-type-custom menu-item-object-custom menu-item-60206\"><a href=\"http://www.bkk.hu/en/tickets-and-passes/fines/\">Penalty fares</a></li>\\n\\t<li id=\"menu-item-42208\" class=\"menu-item menu-item-type-custom menu-item-object-custom menu-item-42208\"><a href=\"http://www.bkk.hu/automata?l=en\">Ticket vending machines</a></li>\\n\\t<li id=\"menu-item-46815\" class=\"menu-item menu-item-type-custom menu-item-object-custom menu-item-46815\"><a href=\"http://www.bkk.hu/en/transporting-bicycles-on-bkk-lines/\">Transporting bicycles</a></li>\\n\\t<li id=\"menu-item-46945\" class=\"menu-item menu-item-type-custom menu-item-object-custom menu-item-46945\"><a href=\"http://www.bkk.hu/en/accessible-public-transport-in-budapest/\">Accessible transport</a></li>\\n\\t<li id=\"menu-item-31134\" class=\"menu-item menu-item-type-post_type menu-item-object-page menu-item-31134\"><a href=\"http://www.bkk.hu/en/developers/\">For developers</a></li>\\n\\t<li id=\"menu-item-48919\" class=\"menu-item menu-item-type-custom menu-item-object-custom menu-item-48919\"><a href=\"http://www.bkk.hu/nosztalgia/?l=en\">Heritage public transport</a></li>\\n</ul>\\n</li>\\n<li id=\"menu-item-66527\" class=\"menu-item menu-item-type-custom menu-item-object-custom menu-item-66527\"><a href=\"http://bkk.hu/en/airport-shuttle/\">Airport shuttle</a></li>\\n<li id=\"menu-item-52953\" class=\"menu-item menu-item-type-custom menu-item-object-custom menu-item-52953\"><a href=\"http://www.bkk.hu/en/tourist-information-about-budapest-public-transport/\">Tourist guide</a></li>\\n<li id=\"menu-item-66688\" class=\"menu-item menu-item-type-custom menu-item-object-custom menu-item-66688\"><a href=\"https://shop.bkk.hu\">Online Pass</a></li>\\n</ul></div></li>\\t\\t\\t</ul>\\n\\t\\t</div><!-- #secondary .widget-area -->\\n\\n<div id=\"container\">\\n\\t\\t\\t<div id=\"content\" role=\"main\">\\n\\n\\n\\t\\t\\t\\t<div id=\"post-18707\" class=\"post-18707 page type-page status-publish hentry\">\\n\\t\\t\\t\\t\\t\\t\\t\\t\\t\\t\\t<h1 class=\"entry-title\">Types and prices</h1>\\n\\t\\t\\t\\t\\t\\n\\t\\t\\t\\t\\t<div class=\"entry-content\">\\n\\t\\t\\t\\t\\t\\t<p>Are you planning a trip to Budapest and this will be your first visit ever? Do you need up-to-date information about public transport?<br />\\nThen look for the Customer Service Points of BKK Centre for Budapest Transport at Liszt Ferenc International Airport\\xe2\\x80\\x99s Terminal 2A (daily 8:00-22:00) and Terminal 2B (daily 9:00-21:00). English-speaking attendants will be at your service with useful information on transport and tourism. Almost all types of tickets and passes are available for purchase at the airport including the practical 24- or 72-hour travelcards especially designed for tourists. <a href=\"http://www.bkk.hu/en/2013/09/bkk%E2%80%99s-customer-service-points-help-arriving-visitors-with-information-on-how-to-get-around-by-public-transport/\">Further information about the hours and operation of the Customer Service Point</a>\\n</p>\\n<p>Please note that <b>front-door boarding only policy</b> is now in place on bus 200E serving Liszt Ferenc International Airport. Single tickets are on sale at the following locations:</p>\\n<ul>\\n<li>BKK Customer Service Points at the arrivals level of airport terminals 2A and 2B</li>\\n<li>ticket offices at the bus terminus next to K\\xc5\\x91b\\xc3\\xa1nya-Kispest metro station:</li>\\n<ul>\\n<li>near the exit of metro line M3, in the corridor leading to the M\\xc3\\x81V Hungarian State Railways station</li>\\n<li>near the passenger drop-off site of bus 85</li>\\n</ul>\\n</ul>\\n<p>Additionally, single tickets are available from the driver onboard the bus at the price of 450 HUF.</p>\\n<h3><a target=\"_blank\" href=\"http://www.bkk.hu/pontkereso?l=en\">For Ticket offices click here</a></h3>\\n<table border=\"1\" cellspacing=\"0\" cellpadding=\"5\" width=\"100%\" align=\"center\" bgcolor=\"#FFFFFF\">\\n<tbody>\\n<tr>\\n<td colspan=\"100\">\\n<h3 style=\"text-align: left;\">Tickets</h3>\\n</td>\\n</tr>\\n<tr>\\n<td width=\"70%\" align=\"left\">\\n<div><span><a href=\"http://www.bkk.hu/en/prices/single-ticket/\">Single ticket</a></span></div>\\n</td>\\n<td width=\"30%\" align=\"left\">\\n<div><span>HUF 350</span></div>\\n</td>\\n</tr>\\n<tr>\\n<td width=\"70%\" align=\"left\">\\n<div><span><a href=\"http://www.bkk.hu/en/prices/single-ticket-bought-on-the-spot/\">Single ticket bought on the spot</a></span></div>\\n</td>\\n<td width=\"30%\" align=\"left\">\\n<div><span>HUF 450</span></div>\\n</td>\\n</tr>\\n<tr>\\n<td width=\"70%\" align=\"left\">\\n<div><span><a href=\"http://www.bkk.hu/en/block-of-10-tickets/\">Block of 10 tickets</a></span></div>\\n</td>\\n<td width=\"30%\" align=\"left\">\\n<div><span>HUF 3 000</span></div>\\n</td>\\n</tr>\\n<tr>\\n<td width=\"70%\" align=\"left\">\\n<div><span><a href=\"http://bkk.hu/en/airport-shuttle-bus-single-ticket/\">Airport shuttle bus single ticket </a>(100E)</span></div>\\n</td>\\n<td width=\"30%\" align=\"left\">\\n<div><span>HUF 900</span></div>\\n</td>\\n</tr>\\n<tr>\\n<td width=\"70%\" align=\"left\">\\n<div><span><a href=\"http://www.bkk.hu/en/prices/transfer-ticket-2/\">Transfer ticket</a></span></div>\\n</td>\\n<td width=\"30%\" align=\"left\">\\n<div><span>HUF 530</span></div>\\n</td>\\n</tr>\\n<tr>\\n<td width=\"70%\" align=\"left\">\\n<div><span><a href=\"http://www.bkk.hu/en/prices/short-section-metro-ticket/\">Short section metro ticket for up to 3 stops</a></span></div>\\n</td>\\n<td width=\"30%\" align=\"left\">\\n<div><span>HUF 300</span></div>\\n</td>\\n</tr>\\n<tr>\\n<td width=\"70%\" align=\"left\">\\n<div><span><a href=\"http://www.bkk.hu/en/prices/single-ticket-for-public-transport-boat/\">Single ticket for public transport boat</a></span></div>\\n</td>\\n<td width=\"30%\" align=\"left\">\\n<div><span>HUF 750</span></div>\\n</td>\\n</tr>\\n<tr>\\n<td width=\"70%\" align=\"left\">\\n<div><span><a href=\"http://www.bkk.hu/en/prices/single-ticket-for-public-transport-boat-children-under-15/\">Single ticket for public transport boat Children (under 15)</a></span></div>\\n</td>\\n<td width=\"30%\" align=\"left\">\\n<div><span>HUF 550</span></div>\\n</td>\\n</tr>\\n<tr>\\n<td width=\"70%\" align=\"left\">\\n<div><span><a href=\"http://www.bkk.hu/en/prices/metropolitan-are-single-ticket/\">Metropolitan area ticket</a></span></div>\\n</td>\\n<td width=\"30%\" align=\"left\">\\n<div><span>HUF 250</span></div>\\n</td>\\n</tr>\\n<tr>\\n<td width=\"70%\" align=\"left\">\\n<div><span><a href=\"http://www.bkk.hu/en/prices/metropolitan-area-single-ticket-with-50-price-discount/\">Metropolitan area single ticket (50 % price discount)</a></span></div>\\n</td>\\n<td width=\"30%\" align=\"left\">\\n<div><span>HUF 125</span></div>\\n</td>\\n</tr>\\n<tr>\\n<td width=\"70%\" align=\"left\">\\n<div><span><a href=\"http://www.bkk.hu/en/prices/metropolitan-area-single-ticket-with-90-price-discount/\">Metropolitan area single ticket (90 % price discount)</a></span></div>\\n</td>\\n<td width=\"30%\" align=\"left\">\\n<div><span>HUF 25</span></div>\\n</td>\\n</tr>\\n<tr>\\n<td colspan=\"2\"><a href=\"http://www.bkk.hu/en/prices/supplementary-hev-suburban-railway-ticket-10-15-20-25-30-km/\">Suburban railway extension ticket</a></td>\\n</tr>\\n<tr>\\n<td width=\"70%\" align=\"right\">10 km<br />15 km<br />20 km<br />25 km<br />30 km</td>\\n<td width=\"30%\" align=\"left\">HUF 250<br />HUF 310<br />HUF 370<br />HUF 465<br />HUF 560</td>\\n</tr>\\n<tr>\\n<td colspan=\"2\"><a href=\"http://www.bkk.hu/en/prices/hev-suburban-railway-ticket-with-50-price-discount-10-15-20-25-30-km/\">H\\xc3\\x89V suburban railway ticket with 50% price reduction</a></td>\\n</tr>\\n<tr>\\n<td width=\"70%\" align=\"right\">10 km<br />15 km<br />20 km<br />25 km<br />30 km</td>\\n<td width=\"30%\" align=\"left\">HUF 125<br />HUF 155<br />HUF 185<br />HUF 235<br />HUF 280</td>\\n</tr>\\n<tr>\\n<td colspan=\"2\"><a href=\"http://www.bkk.hu/en/prices/hev-suburban-railway-ticket-with-90-price-reduction-10-15-20-25-30-km/\">H\\xc3\\x89V suburban railway ticket with 90% price reduction</a></td>\\n</tr>\\n<tr>\\n<td width=\"70%\" align=\"right\">10 km<br />15 km<br />20 km<br />25 km<br />30 km</td>\\n<td width=\"30%\" align=\"left\">HUF 25<br />HUF 30<br />HUF 35<br />HUF 45<br />HUF 55</td>\\n</tr>\\n<tr>\\n<td width=\"70%\" align=\"left\">\\n<div><span><a href=\"http://bkk.hu/en/tickets-and-passes/prices/airport-bus-extension-ticket/\">Airport bus extension ticket</a></span></div>\\n</td>\\n<td width=\"30%\" align=\"left\">\\n<div><span>HUF 300</span></div>\\n</td>\\n</tr>\\n<tr>\\n<td colspan=\"100\">\\n<h3>Daily tickets</h3>\\n</td>\\n</tr>\\n<tr>\\n<td width=\"70%\" align=\"left\">\\n<div><span><a href=\"http://www.bkk.hu/en/pupil-group-travelcard/\">Pupil group travelcard</a></span></div>\\n</td>\\n<td width=\"30%\" align=\"left\">\\n<div><span>HUF 650/person</span></div>\\n</td>\\n</tr>\\n<tr>\\n<td width=\"70%\" align=\"left\">\\n<div><span><a href=\"http://www.bkk.hu/en/budapest-24-hour-travel-card/\">Budapest 24-hour travelcard</a></span></div>\\n</td>\\n<td width=\"30%\" align=\"left\">\\n<div><span>HUF 1 650</span></div>\\n</td>\\n</tr>\\n<tr>\\n<td width=\"70%\" align=\"left\">\\n<div><span><a href=\"http://www.bkk.hu/en/prices/budapest-24-hour-group-travel-card/\">Budapest 24-hour group travelcard (for 1-5 passengers traveling together)</a></span></div>\\n</td>\\n<td width=\"30%\" align=\"left\">\\n<div><span>HUF 3 300</span></div>\\n</td>\\n</tr>\\n<tr>\\n<td width=\"70%\" align=\"left\">\\n<div><span><a href=\"http://www.bkk.hu/en/prices/530-bkk-24-hour-travelcard/\">5/30 BKK 24-hour travelcard</a></span></div>\\n</td>\\n<td width=\"30%\" align=\"left\">\\n<div><span>HUF 4 550</span></div>\\n</td>\\n</tr>\\n<tr>\\n<td width=\"70%\" align=\"left\">\\n<div><span><a href=\"http://www.bkk.hu/en/prices/budapest-72-hour-travel-card/\">Budapest 72-hour travelcard</a></span></div>\\n</td>\\n<td width=\"30%\" align=\"left\">\\n<div><span>HUF 4,150</span></div>\\n</td>\\n</tr>\\n<tr>\\n<td width=\"70%\" align=\"left\">\\n<div><span><a href=\"http://www.bkk.hu/en/budapest-7-day-travel-card/\">Budapest 7-day travelcard</a></span></div>\\n</td>\\n<td width=\"30%\" align=\"left\">\\n<div><span>HUF 4 950</span></div>\\n</td>\\n</tr>\\n<tr>\\n<td width=\"70%\" align=\"left\">\\n<div><span><a href=\"http://www.bkk.hu/en/budapest-card-for-24-hours/\">Budapest Card for 24 hours</a></span></div>\\n</td>\\n<td width=\"30%\" align=\"left\">\\n<div><span>HUF 5,500</span></div>\\n</td>\\n</tr>\\n<tr>\\n<td width=\"70%\" align=\"left\">\\n<div><span><a href=\"http://www.bkk.hu/en/prices/budapest-card-for-48-hours/\">Budapest Card for 48 hours</a></span></div>\\n</td>\\n<td width=\"30%\" align=\"left\">\\n<div><span>HUF 8,500</span></div>\\n</td>\\n</tr>\\n<tr>\\n<td width=\"70%\" align=\"left\">\\n<div><span><a href=\"http://www.bkk.hu/en/budapest-card-for-72-hours/\">Budapest Card for 72 hours</a></span></div>\\n</td>\\n<td width=\"30%\" align=\"left\">\\n<div><span>HUF 10,900</span></div>\\n</td>\\n</tr>\\n<tr>\\n<td width=\"70%\" align=\"left\">\\n<div><span><a href=\"http://www.bkk.hu/en/budapest-card-for-96-hours/\">Budapest Card for 96 hours</a></span></div>\\n</td>\\n<td width=\"30%\" align=\"left\">\\n<div><span>HUF 14,500</span></div>\\n</td>\\n</tr>\\n<tr>\\n<td width=\"70%\" align=\"left\">\\n<div><span><a href=\"http://www.bkk.hu/en/budapest-card-for-120-hours/\">Budapest Card for 120 hours</a></span></div>\\n</td>\\n<td width=\"30%\" align=\"left\">\\n<div><span>HUF 17,500</span></div>\\n</td>\\n</tr>\\n<tr>\\n<td width=\"70%\" align=\"left\">\\n<div><span><a href=\"http://www.bkk.hu/en/domestic-budapest-card-for-48-hours/\">Domestic Budapest Card for 48 hours</a></span></div>\\n</td>\\n<td width=\"30%\" align=\"left\">\\n<div><span>HUF 5,900</span></div>\\n</td>\\n</tr>\\n<tr>\\n<td width=\"70%\" align=\"left\">\\n<div><span><a href=\"http://bkk.hu/en/budapest-card-for-juniors-for-72-hours/\">Budapest Card for Juniors for 72 hours</a></span></div>\\n</td>\\n<td width=\"30%\" align=\"left\">\\n<div><span>HUF 8,900</span></div>\\n</td>\\n</tr>\\n<tr>\\n<td width=\"70%\" align=\"left\"><a href=\"http://bkk.hu/en/fina-budapest-balatonfured-daily-travelcard/\">FINA Budapest-Balatonf\\xc3\\xbcred daily travelcard</a></td>\\n<td width=\"30%\" align=\"left\">HUF 3,990</td>\\n</tr>\\n<tr>\\n<td width=\"70%\" align=\"left\"><a href=\"http://bkk.hu/en/fina-masters-budapest-balatonfured-daily-travelcard/\">FINA MASTERS Budapest-Balatonf\\xc3\\xbcred daily travelcard</a></td>\\n<td width=\"30%\" align=\"left\">HUF 3,990</td>\\n</tr>\\n<tr>\\n<td colspan=\"2\"><a href=\"http://bkk.hu/en/mav-start-zrt-and-fina-bkk-combination-ticket/\">M\\xc3\\x81V-START Zrt. event-related return ticket and FINA BKK combination ticket</a></td>\\n</tr>\\n<tr>\\n<td colspan=\"100\">\\n<h3 id=\"szigetszentmiklos\">Tickets and passes valid in Szigetszentmikl\\xc3\\xb3s</h3>\\n</td>\\n</tr>\\n<tr>\\n<td colspan=\"2\">In the summer of 2014, the public transport network of the area was modified and at the same time a special tariff system was introduced. Please read detailed information <a href=\"http://www.bkk.hu/en/public-transport-services-in-szigetszentmiklos/\">here</a>.</td>\\n</tr>\\n<tr>\\n<td colspan=\"100\">\\n<h3 id=\"nosztalgia\">Heritage service tickets and passes</h3>\\n</td>\\n</tr>\\n<tr>\\n<td><a href=\"http://www.bkk.hu/en/prices/heritage-service-single-ticket/\">Heritage service single ticket</a></td>\\n<td width=\"90\">HUF 500</td>\\n</tr>\\n<tr>\\n<td><a href=\"http://www.bkk.hu/en/prices/heritage-service-single-ticket-for-children/\">Heritage service single ticket for children</a></td>\\n<td width=\"90\">HUF 300</td>\\n</tr>\\n<tr>\\n<td><a href=\"http://www.bkk.hu/en/prices/heritage-service-metropolitan-area-single-ticket/\">Heritage service metropolitan area single ticket</a></td>\\n<td width=\"90\">HUF 500</td>\\n</tr>\\n<tr>\\n<td><a href=\"http://www.bkk.hu/en/prices/heritage-service-metropolitan-area-single-ticket-for-children/\">Heritage service metropolitan area single ticket for children</a></td>\\n<td width=\"90\">HUF 300</td>\\n</tr>\\n<tr>\\n<td><a href=\"http://www.bkk.hu/en/prices/heritage-service-travelcard/\">Heritage service travelcard</a></td>\\n<td width=\"90\">HUF 2 000</td>\\n</tr>\\n<tr>\\n<td><a href=\"http://www.bkk.hu/en/prices/heritage-service-travelcard-for-children/\">Heritage service travelcard for children</a></td>\\n<td width=\"90\">HUF 1 200</td>\\n</tr>\\n<tr>\\n<td><a href=\"http://www.bkk.hu/en/prices/annual-heritage-service-pass/\">Annual heritage service pass</a></td>\\n<td width=\"90\">HUF 15 000</td>\\n</tr>\\n<tr>\\n<tr>\\n<td colspan=\"100\">\\n<h3>Monthly passes</h3>\\n</td>\\n</tr>\\n<tr>\\n<td width=\"70%\" align=\"left\">\\n<div><span><a href=\"http://www.bkk.hu/en/prices/budapest-pass-one-week-supplement/\">Budapest-pass 1-week supplement</a></span></div>\\n</td>\\n<td width=\"30%\" align=\"left\">\\n<div><span>HUF 2 450</span></div>\\n</td>\\n</tr>\\n<tr>\\n<td width=\"70%\" align=\"left\">\\n<div><span><a href=\"http://www.bkk.hu/en/prices/budapest-pass-1-week-supplement-business/\">Budapest-pass 1-week supplement (business)</a></span></div>\\n</td>\\n<td width=\"30%\" align=\"left\">\\n<div><span>HUF 2 700</span></div>\\n</td>\\n</tr>\\n<tr>\\n<td width=\"70%\" align=\"left\">\\n<div><span><a href=\"http://www.bkk.hu/en/14-day-budapest-pass/\">15-day Budapest-pass</a></span></div>\\n</td>\\n<td width=\"30%\" align=\"left\">\\n<div><span>HUF 6 300</span></div>\\n</td>\\n</tr>\\n<tr>\\n<td width=\"70%\" align=\"left\">\\n<div><span><a href=\"http://www.bkk.hu/en/tickets-and-passes/prices/15-day-budapest-pass-business/\">15-day Budapest-pass (business)</a></span></div>\\n</td>\\n<td width=\"30%\" align=\"left\">\\n<div><span>HUF 7 000</span></div>\\n</td>\\n</tr>\\n<tr>\\n<td width=\"70%\" align=\"left\">\\n<div><span><a href=\"http://www.bkk.hu/en/tickets-and-passes/prices/15-day-budapest-pass-for-pupils/\">15-day Budapest-pass for pupils</a></span></div>\\n</td>\\n<td width=\"30%\" align=\"left\">\\n<div><span>HUF 2 300</span></div>\\n</td>\\n</tr>\\n<tr>\\n<td width=\"70%\" align=\"left\">\\n<div><span><a href=\"http://www.bkk.hu/en/tickets-and-passes/prices/monthly-budapest-pass/\">Monthly Budapest-pass</a></span></div>\\n</td>\\n<td width=\"30%\" align=\"left\">\\n<div><span>HUF 9 500</span></div>\\n</td>\\n</tr>\\n<tr>\\n<td width=\"70%\" align=\"left\">\\n<div><span><a href=\"http://www.bkk.hu/en/tickets-and-passes/prices/monthly-budapest-pass-business/\">Monthly Budapest-pass (business)</a></span></div>\\n</td>\\n<td width=\"30%\" align=\"left\">\\n<div><span>HUF 10 500</span></div>\\n</td>\\n</tr>\\n<tr>\\n<td width=\"70%\" align=\"left\">\\n<div><span><a href=\"http://www.bkk.hu/en/prices/monthly-budapest-pass-for-pupilstudents/\">Monthly Budapest-pass for pupils</a></span></div>\\n</td>\\n<td width=\"30%\" align=\"left\">\\n<div><span>HUF 3 450</span></div>\\n</td>\\n</tr>\\n<tr>\\n<td width=\"70%\" align=\"left\">\\n<div><span><a href=\"http://www.bkk.hu/en/prices/monthly-budapest-pass-for-students-2/\">Monthly Budapest-pass for students</a></span></div>\\n</td>\\n<td width=\"30%\" align=\"left\">\\n<div><span>HUF 3 450</span></div>\\n</td>\\n</tr>\\n<tr>\\n<td width=\"70%\" align=\"left\">\\n<div><span><a href=\"http://www.bkk.hu/en/monthly-budapest-pass-for-pensioners/\">Monthly Budapest-pass for pensioners</a></span></div>\\n</td>\\n<td width=\"30%\" align=\"left\">\\n<div><span>HUF 3 330</span></div>\\n</td>\\n</tr>\\n<tr>\\n<td width=\"70%\" align=\"left\">\\n<div><span><a href=\"http://www.bkk.hu/en/monthly-budapest-pass-for-parents-with-small-children/\">Monthly Budapest-pass for parents with small children</a></span></div>\\n</td>\\n<td width=\"30%\" align=\"left\">\\n<div><span>HUF 3 450</span></div>\\n</td>\\n</tr>\\n<tr>\\n<td width=\"70%\" align=\"left\">\\n<div><span><a href=\"http://www.bkk.hu/en/tickets-and-passes/prices/transferable-monthly-budapest-pass/\">Transferable monthly Budapest-pass</a></span></div>\\n</td>\\n<td width=\"30%\" align=\"left\">\\n<div><span>HUF 4 125</span></div>\\n</td>\\n</tr>\\n<tr>\\n<td width=\"70%\" align=\"left\">\\n<div><span><a href=\"http://www.bkk.hu/en/prices/monthly-dog-pass/\">Monthly dog pass</a></span></div>\\n</td>\\n<td width=\"30%\" align=\"left\">\\n<div><span>HUF 5 250</span></div>\\n</td>\\n</tr>\\n<tr>\\n<td width=\"70%\" align=\"left\">\\n<div><span><a href=\"http://www.bkk.hu/en/prices/conurbation-pass-5-km/\">Metropolitan area pass (5 km)</a></span></div>\\n</td>\\n<td width=\"30%\" align=\"left\">\\n<div><span>HUF 5 940</span></div>\\n</td>\\n</tr>\\n<tr>\\n<td width=\"70%\" align=\"left\">\\n<div><span><a href=\"http://www.bkk.hu/en/conurbation-pass-10-km/\">Metropolitan area pass (10 km)</a></span></div>\\n</td>\\n<td width=\"30%\" align=\"left\">\\n<div><span>HUF 9 580</span></div>\\n</td>\\n</tr>\\n<tr>\\n<td width=\"70%\" align=\"left\">\\n<div><span><a href=\"http://www.bkk.hu/en/conurbation-pass-5-km-with-90-price-reduction/\">Metropolitan area pass (5 km) with 90% price reduction</a></span></div>\\n</td>\\n<td width=\"30%\" align=\"left\">\\n<div><span>HUF 595</span></div>\\n</td>\\n</tr>\\n<tr>\\n<td width=\"70%\" align=\"left\">\\n<div><span><a href=\"http://www.bkk.hu/en/conurbation-pass-10-km-with-90-price-reduction/\">Metropolitan area pass (10km) with 90% price reduction</a></span></div>\\n</td>\\n<td width=\"30%\" align=\"left\">\\n<div><span>HUF 960</span></div>\\n</td>\\n</tr>\\n<tr>\\n<td width=\"70%\" align=\"left\">\\n<div><span><a href=\"http://www.bkk.hu/en/conurbation-local-pass/\">Metropolitan area local pass</a></span></div>\\n</td>\\n<td width=\"30%\" align=\"left\">\\n<div><span>HUF 5 200</span></div>\\n</td>\\n</tr>\\n<tr>\\n<td width=\"70%\" align=\"left\">\\n<div><span><a href=\"http://www.bkk.hu/en/conurbation-local-pass-for-students/\">Metropolitan area local pass for students</a></span></div>\\n</td>\\n<td width=\"30%\" align=\"left\">\\n<div><span>HUF 2 600</span></div>\\n</td>\\n</tr>\\n<tr>\\n<td width=\"70%\" align=\"left\">\\n<div><span><a href=\"http://www.bkk.hu/en/conurbation-local-pass-for-pensioners/\">Metropolitan area local pass for pensioners</a></span></div>\\n</td>\\n<td width=\"30%\" align=\"left\">\\n<div><span>HUF 2 600</span></div>\\n</td>\\n</tr>\\n<tr>\\n<td colspan=\"2\"><a href=\"http://www.bkk.hu/en/prices/hev-suburban-railway-passes-5-10-15-20-25-30-km/\">Suburban railway pass (5, 10, 15, 20, 25, 30 km)</a></td>\\n</tr>\\n<tr>\\n<td width=\"70%\" align=\"right\">5 km<br />10 km<br />15 km<br />20 km<br />25 km<br />30 km</td>\\n<td width=\"30%\" align=\"left\">HUF 5 940<br />HUF 9 580<br />HUF 11 900<br />HUF 14 200<br />HUF 17 800<br />HUF 21 400</td>\\n</tr>\\n<tr>\\n<td colspan=\"2\"><a href=\"http://www.bkk.hu/en/prices/hev-suburban-railway-passes-with-90-price-reduction-5-10-15-20-25-30-km/\">Suburban railway pass with 90% price reduction</a></td>\\n</tr>\\n<tr>\\n<td width=\"70%\" align=\"right\">5 km<br />10 km<br />15 km<br />20 km<br />25 km<br />30 km</td>\\n<td width=\"30%\" align=\"left\">HUF 595<br />HUF 960<br />HUF 1 190<br />HUF 1 420<br />HUF 1 780<br />HUF 2 140</td>\\n</tr>\\n<tr>\\n<td width=\"70%\" align=\"left\">\\n<div><span><a href=\"http://www.bkk.hu/en/bicycle-pass/\">Bicycle pass</a></span></div>\\n</td>\\n<td width=\"30%\" align=\"left\">\\n<div><span>HUF 540</span></div>\\n</td>\\n</tr>\\n<tr>\\n<td colspan=\"100\">\\n<h3>Quarterly passes</h3>\\n</td>\\n</tr>\\n<tr>\\n<td width=\"70%\" align=\"left\">\\n<div><span><a href=\"http://www.bkk.hu/en/prices/quarterly-budapest-pass/\">Quarterly Budapest-pass</a></span></div>\\n</td>\\n<td width=\"30%\" align=\"left\">\\n<div><span>HUF 28 500</span></div>\\n</td>\\n</tr>\\n<tr>\\n<td width=\"70%\" align=\"left\">\\n<div><span><a href=\"http://www.bkk.hu/en/tickets-and-passes/prices/quarterly-budapest-pass-business/\">Quarterly Budapest-pass (business)</a></span></div>\\n</td>\\n<td width=\"30%\" align=\"left\">\\n<div><span>HUF 31 500</span></div>\\n</td>\\n</tr>\\n<tr>\\n<td width=\"70%\" align=\"left\">\\n<div><span><a href=\"http://www.bkk.hu/en/prices/quarterly-budapest-pass-for-pupils/\">Quarterly Budapest-pass for pupils</a></span></div>\\n</td>\\n<td width=\"30%\" align=\"left\">\\n<div><span>HUF 10 350</span></div>\\n</td>\\n</tr>\\n<tr>\\n<td width=\"70%\" align=\"left\">\\n<div><span><a href=\"http://www.bkk.hu/en/prices/18672-2/\">Quarterly Budapest-pass for students</a></span></div>\\n</td>\\n<td width=\"30%\" align=\"left\">\\n<div><span>HUF 10 350</span></div>\\n</td>\\n</tr>\\n<tr>\\n<td width=\"70%\" align=\"left\">\\n<div><span><a href=\"http://www.bkk.hu/en/prices/quarterly-budapest-pass-for-pensioners/\">Quarterly Budapest-pass for pensioners</a></span></div>\\n</td>\\n<td width=\"30%\" align=\"left\">\\n<div><span>HUF 9 990</span></div>\\n</td>\\n</tr>\\n<tr>\\n<td colspan=\"100\">\\n<h3>Semester passes</h3>\\n</td>\\n</tr>\\n<tr>\\n<td width=\"70%\" align=\"left\">\\n<div><span><a href=\"http://www.bkk.hu/en/prices/semester-pass/\">Semester pass for pupils</a></span></div>\\n</td>\\n<td width=\"30%\" align=\"left\">\\n<div><span>HUF 16 200</span></div>\\n</td>\\n</tr>\\n<tr>\\n<td width=\"70%\" align=\"left\">\\n<div><span><a href=\"http://www.bkk.hu/en/semester-budapest-pass-for-students\">Semester pass for students</a></span></div>\\n</td>\\n<td width=\"30%\" align=\"left\">\\n<div><span>HUF 16 200</span></div>\\n</td>\\n</tr>\\n<tr>\\n<td colspan=\"100\">\\n<h3>Annual Passes</h3>\\n</td>\\n</tr>\\n<tr>\\n<td width=\"70%\" align=\"left\">\\n<div><span><a href=\"http://www.bkk.hu/en/annual-all-line-budapest-pass/\">Annual all-line Budapest-pass</a></span></div>\\n</td>\\n<td width=\"30%\" align=\"left\">\\n<div><span>HUF 217 960</span></div>\\n</td>\\n</tr>\\n<tr>\\n<td width=\"70%\" align=\"left\">\\n<div><span><a href=\"http://www.bkk.hu/en/tickets-and-passes/prices/annual-all-line-budapest-pass-business/\">Annual all-line Budapest-pass (business)</a></span></div>\\n</td>\\n<td width=\"30%\" align=\"left\">\\n<div><span>HUF 219 860</span></div>\\n</td>\\n</tr>\\n<tr>\\n<td width=\"70%\" align=\"left\">\\n<div><span><a href=\"http://www.bkk.hu/en/transferable-annual-budapest-pass/\">Transferable annual Budapest-pass</a></span></div>\\n</td>\\n<td width=\"30%\" align=\"left\">\\n<div><span>HUF 189 000</span></div>\\n</td>\\n</tr>\\n<tr>\\n<td width=\"70%\" align=\"left\">\\n<div><span><a href=\"http://www.bkk.hu/en/annual-budapest-pass/\">Annual Budapest-pass</a> (monthly price)</span></div>\\n</td>\\n<td width=\"30%\" align=\"left\">\\n<div><span>HUF 9 500/month</span></div>\\n</td>\\n</tr>\\n<tr>\\n<td width=\"70%\" align=\"left\">\\n<div><span><a href=\"http://bkk.hu/en/tickets-and-passes/prices/annual-budapest-pass-business/\">Annual Budapest-pass (business)</a> (monthly price)</span></div>\\n</td>\\n<td width=\"30%\" align=\"left\">\\n<div><span>HUF 10 500/month</span></div>\\n</td>\\n</tr>\\n<tr>\\n<td width=\"70%\" align=\"left\">\\n<div><span><a href=\"http://www.bkk.hu/en/discounted-annual-budapest-pass/\">Discounted annual BP-pass</a></span></div>\\n</td>\\n<td width=\"30%\" align=\"left\">\\n<div><span>HUF 103 000</span></div>\\n</td>\\n</tr>\\n<tr>\\n<td width=\"70%\" align=\"left\">\\n<div><span><a href=\"http://www.bkk.hu/en/discounted-annual-budapest-pass-business/\">Discounted annual BP-pass (business)</a></span></div>\\n</td>\\n<td width=\"30%\" align=\"left\">\\n<div><span>HUF 114 600</span></div>\\n</td>\\n</tr>\\n<tr>\\n<td width=\"70%\" align=\"left\">\\n<div><span><a href=\"http://www.bkk.hu/en/discounted-annual-budapest-pass-for-pupils/\">Discounted annual BP-pass for pupils</a></span></div>\\n</td>\\n<td width=\"30%\" align=\"left\">\\n<div><span>HUF 37 800</span></div>\\n</td>\\n</tr>\\n<tr>\\n<td width=\"70%\" align=\"left\">\\n<div><span><a href=\"http://www.bkk.hu/en/discounted-annual-bp-pass-for-students/\">Discounted annual BP-pass for students</a></span></div>\\n</td>\\n<td width=\"30%\" align=\"left\">\\n<div><span>HUF 37 800</span></div>\\n</td>\\n</tr>\\n<tr>\\n<td width=\"70%\" align=\"left\">\\n<div><span><a href=\"http://www.bkk.hu/en/discounted-annual-budapest-pass-for-pensioners/\">Discounted annual BP-pass for pensioners</a></span></div>\\n</td>\\n<td width=\"30%\" align=\"left\">\\n<div><span>HUF 36 600</span></div>\\n</td>\\n</tr>\\n<tr>\\n<td width=\"70%\" align=\"left\">\\n<div><span><a href=\"http://www.bkk.hu/en/discounted-annual-budapest-and-mol-bubi-pass-business/\">Discounted annual Budapest- and MOL Bubi pass (business)</a></span></div>\\n</td>\\n<td width=\"30%\" align=\"left\">\\n<div><span>HUF 120 600</span></div>\\n</td>\\n</tr>\\n<tr>\\n<td colspan=\"100\">\\n<h3>Ferry tickets</h3>\\n</td>\\n</tr>\\n<tr>\\n<td width=\"70%\" align=\"left\">\\n<div><span><a href=\"http://www.bkk.hu/en/prices/full-fare-ferry-ticket/\">Full-fare ferry ticket</a></span></div>\\n</td>\\n<td width=\"30%\" align=\"left\">\\n<div><span>HUF 170</span></div>\\n</td>\\n</tr>\\n<tr>\\n<td width=\"70%\" align=\"left\">\\n<div><span><a href=\"http://www.bkk.hu/en/prices/pupil-ferry-ticket-under-15/\">Pupil ferry ticket (under 15)</a></span></div>\\n</td>\\n<td width=\"30%\" align=\"left\">\\n<div><span>HUF 110</span></div>\\n</td>\\n</tr>\\n<tr>\\n<td width=\"70%\" align=\"left\">\\n<div><span><a href=\"http://www.bkk.hu/en/prices/pensioner-ferry-ticket/\">Pensioner ferry ticket</a></span></div>\\n</td>\\n<td width=\"30%\" align=\"left\">\\n<div><span>HUF 110</span></div>\\n</td>\\n</tr>\\n<tr>\\n<td width=\"70%\" align=\"left\">\\n<div><span><a href=\"http://www.bkk.hu/en/prices/ferry-ticket-for-standard-vehicle-vehicle-only/\">Ferry ticket for standard vehicle (vehicle only)</a></span></div>\\n</td>\\n<td width=\"30%\" align=\"left\">\\n<div><span>HUF 420</span></div>\\n</td>\\n</tr>\\n<tr>\\n<td width=\"70%\" align=\"left\">\\n<div><span><a href=\"http://www.bkk.hu/en/prices/ferry-ticket-for-lorries-up-to-3-5-tons/\">Ferry ticket for lorries (up to 3.5 tons)</a></span></div>\\n</td>\\n<td width=\"30%\" align=\"left\">\\n<div><span>HUF 1 050</span></div>\\n</td>\\n</tr>\\n<tr>\\n<td width=\"70%\" align=\"left\">\\n<div><span><a href=\"http://www.bkk.hu/en/prices/ferry-ticket-for-lorries-above-3-5-tons/\">Ferry ticket for lorries (above 3.5 tons)</a></span></div>\\n</td>\\n<td width=\"30%\" align=\"left\">\\n<div><span>HUF 1 750</span></div>\\n</td>\\n</tr>\\n<tr>\\n<td width=\"70%\" align=\"left\">\\n<div><span><a href=\"http://www.bkk.hu/en/prices/ferry-ticket-for-bicycle-vehicle-only/\">Ferry ticket for bicycle (vehicle only)</a></span></div>\\n</td>\\n<td width=\"30%\" align=\"left\">\\n<div><span>HUF 170</span></div>\\n</td>\\n</tr>\\n<tr>\\n<td width=\"70%\" align=\"left\">\\n<div><span><a href=\"http://www.bkk.hu/en/prices/ferry-ticket-for-motorcycle-vehicle-only/\">Ferry ticket for motorcycle (vehicle only)</a></span></div>\\n</td>\\n<td width=\"30%\" align=\"left\">\\n<div><span>HUF 290</span></div>\\n</td>\\n</tr>\\n<tr>\\n<td width=\"70%\" align=\"left\">\\n<div><span></span></div>\\n</td>\\n<td width=\"30%\" align=\"left\">\\n<div><span></span></div>\\n</td>\\n</tr>\\n<tr>\\n<td colspan=\"100\">\\n<h3>Penalty fares</h3>\\n</td>\\n</tr>\\n<tr>\\n<td width=\"70%\" align=\"left\">\\n<div><span>Amount of penalty fare</span></div>\\n</td>\\n<td width=\"30%\" align=\"left\">\\n<div><span>HUF 16 000</span></div>\\n</td>\\n</tr>\\n<tr>\\n<td width=\"70%\" align=\"left\">\\n<div><span>Penalty fare paid on the spot</span></div>\\n</td>\\n<td width=\"30%\" align=\"left\">\\n<div><span>HUF 8 000</span></div>\\n</td>\\n</tr>\\n<tr>\\n<td width=\"70%\" align=\"left\">\\n<div><span>Late payment fee</span></div>\\n</td>\\n<td width=\"30%\" align=\"left\">\\n<div><span>HUF 16 000</span></div>\\n</td>\\n</tr>\\n<tr>\\n<td width=\"70%\" align=\"left\">\\n<div><span>Administration fee for payment over 30 days</span></div>\\n</td>\\n<td width=\"30%\" align=\"left\">\\n<div><span>HUF 500</span></div>\\n</td>\\n</tr>\\n<tr>\\n<td width=\"70%\" align=\"left\">\\n<div><span>Administration fee for later presentation of annual, semester and quarterly passes </span></div>\\n</td>\\n<td width=\"30%\" align=\"left\">\\n<div><span>HUF 1 000</span></div>\\n</td>\\n</tr>\\n<tr>\\n<td width=\"70%\" align=\"left\">\\n<div><span>Administration fee for later presentation of all other types of passes</span></div>\\n</td>\\n<td width=\"30%\" align=\"left\">\\n<div><span>HUF 2 000</span></div>\\n</td>\\n</tr>\\n<tr>\\n<td colspan=\"100\">\\n<h3>Further fees and prices </h3>\\n</td>\\n</tr>\\n<tr>\\n<td width=\"70%\" align=\"left\">\\n<div><span>Handling fee</span></div>\\n</td>\\n<td width=\"30%\" align=\"left\">\\n<div><span>HUF 250</span></div>\\n</td>\\n</tr>\\n<tr>\\n<td width=\"70%\" align=\"left\">\\n<div><span>Handling fee for discounted annual passes</span></div>\\n</td>\\n<td width=\"30%\" align=\"left\">\\n<div><span>HUF 500</span></div>\\n</td>\\n</tr>\\n<tr>\\n<td width=\"70%\" align=\"left\">\\n<div><span><a href=\"http://www.bkk.hu/en/general-pass-id/\">General pass ID</a></span></div>\\n</td>\\n<td width=\"30%\" align=\"left\">\\n<div><span>HUF 250</span></div>\\n</td>\\n</tr>\\n<tr>\\n<td width=\"70%\" align=\"left\">\\n<div><span><a href=\"http://www.bkk.hu/en/pass-id-for-pensioners/\">Pass ID for pensioners</a></span></div>\\n</td>\\n<td width=\"30%\" align=\"left\">\\n<div><span>HUF 250</span></div>\\n</td>\\n</tr>\\n<tr>\\n<td width=\"70%\" align=\"left\">\\n<div><span><a href=\"http://www.bkk.hu/en/pass-id-for-parents-with-small-children/\">Pass ID for parents with small children</a></span></div>\\n</td>\\n<td width=\"30%\" align=\"left\">\\n<div><span>HUF 250</span></div>\\n</td>\\n</tr>\\n<tr>\\n<td width=\"70%\" align=\"left\">\\n<div><span><a href=\"http://www.bkk.hu/wp-content/uploads/2012/12/B%C3%A9rlettok-r%C3%A9gi-%C3%A1tl%C3%A1tsz%C3%B3.png\">Old pass holder \\xe2\\x80\\x93 transparent plastic</a></span></div>\\n</td>\\n<td width=\"30%\" align=\"left\">\\n<div><span>HUF 35</span></div>\\n</td>\\n</tr>\\n<tr>\\n<td width=\"70%\" align=\"left\">\\n<div><span>Pass holder</span></div>\\n</td>\\n<td width=\"30%\" align=\"left\">\\n<div><span>HUF 55</span></div>\\n</td>\\n</tr>\\n</tbody>\\n</table>\\n\\t\\t\\t\\t\\t\\t\\t\\t\\t\\t\\t\\t\\t\\t\\t\\t\\t\\t\\t\\t\\t\\t\\t</div><!-- .entry-content -->\\n\\t\\t\\t\\t</div><!-- #post-## -->\\n\\n\\t\\t\\t\\t\\n\\t\\t\\t<div id=\"comments\">\\n\\n\\n\\t<p class=\"nocomments\">Comments are closed.</p>\\n\\n\\n\\n</div><!-- #comments -->\\n\\n\\t\\t\\t</div><!-- #content -->\\n\\t\\t</div><!-- #container -->\\n\\n\\n<script type=\"text/javascript\">//<![CDATA[\\nhomelinkblur = function() {\\n\\tvar h = document.getElementById(\\'homelink\\');\\n\\th.focus(function() {\\n\\t\\th.blur();\\n\\t});\\n};\\nmakeDoubleDelegate = function (f1, f2) {return function() {if (f1)f1();if (f2)f2();}}\\n\\nwindow.onload = makeDoubleDelegate(window.onload, homelinkblur );\\n\\n//]]></script>\\t</div><!-- #main -->\\n\\n\\t<div id=\"footer\" role=\"contentinfo\">\\n\\t\\t<div id=\"colophon\">\\n\\n\\n\\n\\t\\t\\t<div id=\"footer-widget-area\" role=\"complementary\">\\n\\n\\t\\t\\t\\t<div id=\"first\" class=\"widget-area\">\\n\\t\\t\\t\\t\\t<ul class=\"xoxo\">\\n\\t\\t\\t\\t\\t\\t\\t\\t\\t<div id=\"Footer_BKK_Logo_Widget\"><a href=\"//bkk.hu\" target=\"_blank\" title=\"BKK portal\"><img alt=\"BKK portal\" src=\"http://bkk.hu/wp-content/themes/bkk/images/BKK_logo.gif\"/></a></div>\\t\\t\\t\\t\\t<div id=\"Footer_BP_Logo_Widget\"><a href=\"//budapest.hu\" target=\"_blank\" title=\"Budapest portal\"><img alt=\"Budapest portal\" src=\"http://bkk.hu/wp-content/themes/bkk/images/budapest_logo.gif\"/></a></div>\\t\\t\\t\\t\\t<div id=\"Footer_Links_Widget\"><a href=\"http://www.bkk.hu/en/main-page/bkk-in-brief/\" title=\"BKK in brief\">BKK in brief</a><a href=\"http://www.bkk.hu/en/main-page/our-progress/\" title=\"Our progress\">Our progress</a><a href=\"http://www.bkk.hu/en/main-page/tasks-responsibilities/\" title=\"Tasks &#038; Responsibilities\">Tasks &#038; Responsibilities</a><a href=\"http://www.bkk.hu/en/main-page/news/\" title=\"News\">News</a><a href=\"http://www.bkk.hu/en/main-page/board-members/\" title=\"Board Members\">Board Members</a><a href=\"http://www.bkk.hu/en/main-page/supervisory-board/\" title=\"Supervisory Board\">Supervisory Board</a><a href=\"http://www.bkk.hu/en/main-page/contact/\" title=\"Contact\">Contact</a><a href=\"http://www.bkk.hu/en/design/\" title=\"Design and signage\">Design and signage</a><a href=\"http://bkk.hu/m3felujitas/\" title=\"M3 fel\\xc3\\xbaj\\xc3\\xadt\\xc3\\xa1s\">M3 fel\\xc3\\xbaj\\xc3\\xadt\\xc3\\xa1s</a><a href=\"http://futar.bkk.hu\" title=\"Utaz\\xc3\\xa1stervez\\xc5\\x91\">Utaz\\xc3\\xa1stervez\\xc5\\x91</a><a href=\"http://bkk.hu/menetrendek\" title=\"Menetrendek\">Menetrendek</a><a href=\"http://www.bkk.hu/tomegkozlekedes/jegyek-es-berletek/\" title=\"Jegyek \\xc3\\xa9s b\\xc3\\xa9rletek\">Jegyek \\xc3\\xa9s b\\xc3\\xa9rletek</a><a href=\"http://www.bkk.hu/tomegkozlekedes/jegyek-es-berletek/potdij/\" title=\"Mindent a p\\xc3\\xb3td\\xc3\\xadjr\\xc3\\xb3l\">Mindent a p\\xc3\\xb3td\\xc3\\xadjr\\xc3\\xb3l</a><a href=\"http://bkk.hu/pontkereso\" title=\"\\xc3\\x89rt\\xc3\\xa9kes\\xc3\\xadt\\xc3\\xa9si pontok\">\\xc3\\x89rt\\xc3\\xa9kes\\xc3\\xadt\\xc3\\xa9si pontok</a><a href=\"http://www.bkk.hu/tomegkozlekedes/tarsadalmi-egyeztetes/\" title=\"T\\xc3\\xa1rsadalmi egyeztet\\xc3\\xa9s\">T\\xc3\\xa1rsadalmi egyeztet\\xc3\\xa9s</a><a href=\"http://www.bkk.hu/terkepek/\" title=\"T\\xc3\\xa9rk\\xc3\\xa9pek\">T\\xc3\\xa9rk\\xc3\\xa9pek</a><a href=\"http://www.bkk.hu/tomegkozlekedes/fejlesztoknek/\" title=\"Fejleszt\\xc5\\x91knek\">Fejleszt\\xc5\\x91knek</a><a href=\"http://www.bkk.hu/tervezoknek/\" title=\"Tervez\\xc5\\x91knek\">Tervez\\xc5\\x91knek</a><a href=\"http://www.bkk.hu/tomegkozlekedes/utazasi-informaciok/\" title=\"Utaz\\xc3\\xa1si inform\\xc3\\xa1ci\\xc3\\xb3k\">Utaz\\xc3\\xa1si inform\\xc3\\xa1ci\\xc3\\xb3k</a><a href=\"http://www.bkk.hu/akadalymentes/\" title=\"Akad\\xc3\\xa1lymentesen\">Akad\\xc3\\xa1lymentesen</a><a href=\"http://www.bkk.hu/elsoajtos-felszallasi-rend-a-bkk-jaratain/\" title=\"Els\\xc5\\x91ajt\\xc3\\xb3s felsz\\xc3\\xa1ll\\xc3\\xa1s\">Els\\xc5\\x91ajt\\xc3\\xb3s felsz\\xc3\\xa1ll\\xc3\\xa1s</a><a href=\"http://bkk.hu/ejszakai/\" title=\"\\xc3\\x89jszakai j\\xc3\\xa1ratok\">\\xc3\\x89jszakai j\\xc3\\xa1ratok</a><a href=\"http://www.bkk.hu/tomegkozlekedes/utazasi-informaciok/kerekpar-szallitasa-a-bkk-jaratain/\" title=\"Ker\\xc3\\xa9kp\\xc3\\xa1r sz\\xc3\\xa1ll\\xc3\\xadt\\xc3\\xa1sa\">Ker\\xc3\\xa9kp\\xc3\\xa1r sz\\xc3\\xa1ll\\xc3\\xadt\\xc3\\xa1sa</a><a href=\"http://bkk.hu/automata\" title=\"BKK-automata\">BKK-automata</a><a href=\"http://www.bkk.hu/repuloterbusz/\" title=\"Rep\\xc3\\xbcl\\xc5\\x91t\\xc3\\xa9ri busz\">Rep\\xc3\\xbcl\\xc5\\x91t\\xc3\\xa9ri busz</a><a href=\"http://www.bkk.hu/bkk_info/\" title=\"K\\xc3\\xb6z\\xc3\\xb6ss\\xc3\\xa9gi k\\xc3\\xb6zleked\\xc3\\xa9s\">K\\xc3\\xb6z\\xc3\\xb6ss\\xc3\\xa9gi k\\xc3\\xb6zleked\\xc3\\xa9s</a><a href=\"http://kozut.bkkinfo.hu/\" onclick=\"__gaTracker(\\'send\\', \\'event\\', \\'outbound-widget\\', \\'http://kozut.bkkinfo.hu/\\', \\'K\\xc3\\xb6z\\xc3\\xbati k\\xc3\\xb6zleked\\xc3\\xa9s\\');\" title=\"K\\xc3\\xb6z\\xc3\\xbati k\\xc3\\xb6zleked\\xc3\\xa9s\">K\\xc3\\xb6z\\xc3\\xbati k\\xc3\\xb6zleked\\xc3\\xa9s</a><a href=\"https://shop.bkk.hu\" title=\"Online b\\xc3\\xa9rlet\">Online b\\xc3\\xa9rlet</a><a href=\"http://molbubi.bkk.hu\" title=\"MOL Bubi\">MOL Bubi</a><a href=\"http://www.bkk.hu/nosztalgia/?l=hu\" title=\"Nosztalgiaj\\xc3\\xa1ratok\">Nosztalgiaj\\xc3\\xa1ratok</a><a href=\"http://www.bkk.hu/kotottpalyas/\" title=\"VILLAMOST!\">VILLAMOST!</a><a href=\"http://www.bkk.hu/fovarosi-fejlesztesek/\" title=\"Fejleszt\\xc3\\xa9sek\">Fejleszt\\xc3\\xa9sek</a><a href=\"http://www.bkk-kozut.hu/\" onclick=\"__gaTracker(\\'send\\', \\'event\\', \\'outbound-widget\\', \\'http://www.bkk-kozut.hu/\\', \\'Budapest K\\xc3\\xb6z\\xc3\\xbat\\');\" title=\"Budapest K\\xc3\\xb6z\\xc3\\xbat\">Budapest K\\xc3\\xb6z\\xc3\\xbat</a><a href=\"http://www.budapestkozut.hu/web/guest/parkolas\" onclick=\"__gaTracker(\\'send\\', \\'event\\', \\'outbound-widget\\', \\'http://www.budapestkozut.hu/web/guest/parkolas\\', \\'Parkol\\xc3\\xa1s\\');\" title=\"Parkol\\xc3\\xa1s\">Parkol\\xc3\\xa1s</a><a href=\"http://www.budapestkozut.hu/web/guest/teherforgalom\" onclick=\"__gaTracker(\\'send\\', \\'event\\', \\'outbound-widget\\', \\'http://www.budapestkozut.hu/web/guest/teherforgalom\\', \\'Teherforgalom\\');\" title=\"Teherforgalom\">Teherforgalom</a><a href=\"http://bkk.hu/taxisoknak/\" title=\"Taxi\">Taxi</a><a href=\"http://www.bkk.hu/en/legal-notice/\" title=\"Legal notice\">Legal notice</a></div>\\t\\t\\t\\t\\t\\t\\t</ul>\\n\\t\\t\\t\\t</div><!-- #first .widget-area -->\\n\\n\\n\\n\\n\\t\\t\\t</div><!-- #footer-widget-area -->\\n\\t\\t\\t<div class=\"footerBlock\">\\n\\t\\t\\t\\t<div id=\"site-info\">\\t\\t\\t\\t\\tBKK Centre for  Budapest Transport,<br />\\r\\n\\t\\t\\t\\t\\t<span>Corporate register no.</span>: 01-10-046840<br />\\r\\n\\t\\t\\t\\t\\t<span>address</span>: \\r\\n19-21 Rumbach Sebesty\\xc3\\xa9n street, Budapest, Hungary, H-1075\\r\\n\\t\\t\\t\\t</div><!-- #site-info -->\\n\\n\\t\\t\\t\\t<div id=\"footerLinks\">\\n\\t\\t\\t\\t\\t\\t\\t\\t\\t\\t\\t\\t\\t\\t\\t<span>fax:</span> +36 30 774 1001<br />\\r\\n\\t\\t\\t\\t\\t<span>e-mail:</span> bkk@bkk.hu<br />\\t\\t\\t\\t\\t<a href=\"http://www.bkk.hu/en/\" title=\"Budapesti K\\xc3\\xb6zleked\\xc3\\xa9si K\\xc3\\xb6zpont\" rel=\"home\">\\n\\t\\t\\t\\t\\t\\t&copy; 2011-2017 BKK\\t\\t\\t\\t\\t</a>\\n\\t\\t\\t\\t</div>\\n\\t\\t\\t</div>\\n\\n\\t\\t</div><!-- #colophon -->\\n\\t</div><!-- #footer -->\\n\\n</div><!-- #wrapper -->\\n\\n\\n<!-- Highlight Search Terms 1.4 ( RavanH - https://status301.net/wordpress-plugins/highlight-search-terms/ ) -->\\n<script type=\"text/javascript\">\\nvar hlst_query = new Array(\"\");\\nvar hlst_areas = new Array(\"#groups-dir-list\",\"#members-dir-list\",\"li.bbp-body\",\"article\",\"div.hentry\",\"div.post\",\"#content\",\"#main\",\"div.content\",\"#middle\",\"#container\",\"div.container\",\"div.page\",\"#wrapper\",\"body\");\\n</script>\\n<script type=\\'text/javascript\\' src=\\'http://bkk.hu/wp-content/plugins/contact-form-7/includes/js/jquery.form.min.js?ver=3.51.0-2014.06.20\\'></script>\\n<script type=\\'text/javascript\\'>\\n/* <![CDATA[ */\\nvar _wpcf7 = {\"loaderUrl\":\"http:\\\\/\\\\/bkk.hu\\\\/wp-content\\\\/plugins\\\\/contact-form-7\\\\/images\\\\/ajax-loader.gif\",\"recaptchaEmpty\":\"Please verify that you are not a robot.\",\"sending\":\"Sending ...\",\"cached\":\"1\"};\\n/* ]]> */\\n</script>\\n<script type=\\'text/javascript\\' src=\\'http://bkk.hu/wp-content/plugins/contact-form-7/includes/js/scripts.js?ver=4.4.2\\'></script>\\n<script type=\\'text/javascript\\' src=\\'http://bkk.hu/wp-content/plugins/highlight-search-terms/hlst-extend.min.js?ver=1.4\\'></script>\\n<script type=\\'text/javascript\\'>\\n/* <![CDATA[ */\\nvar emailL10n = {\"ajax_url\":\"https:\\\\/\\\\/www.bkk.hu:444\\\\/wp-admin\\\\/admin-ajax.php\",\"max_allowed\":\"5\",\"text_error\":\"The Following Error Occurs:\",\"text_name_invalid\":\"- Your Name is empty\\\\/invalid\",\"text_email_invalid\":\"- Your Email is empty\\\\/invalid\",\"text_remarks_invalid\":\"- Your Remarks is invalid\",\"text_friend_names_empty\":\"- Friend Name(s) is empty\",\"text_friend_name_invalid\":\"- Friend Name is empty\\\\/invalid: \",\"text_max_friend_names_allowed\":\"- Maximum 5 Friend Names allowed\",\"text_friend_emails_empty\":\"- Friend Email(s) is empty\",\"text_friend_email_invalid\":\"- Friend Email is invalid: \",\"text_max_friend_emails_allowed\":\"- Maximum 5 Friend Emails allowed\",\"text_friends_tally\":\"- Friend Name(s) count does not tally with Friend Email(s) count\",\"text_image_verify_empty\":\"- Image Verification is empty\"};\\n/* ]]> */\\n</script>\\n<script type=\\'text/javascript\\' src=\\'http://bkk.hu/wp-content/plugins/wp-email/email-js.js?ver=2.67.2\\'></script>\\n<script type=\\'text/javascript\\' src=\\'http://www.bkk.hu/wp-includes/js/wp-embed.min.js?ver=4.7.7\\'></script>\\n</body>\\n</html>\\n\\n<!-- Dynamic page generated in 2.306 seconds. -->\\n<!-- Cached page generated by WP-Super-Cache on 2017-11-03 21:05:45 -->\\n\\n<!-- Compression = gzip -->\\n<!-- super cache -->'"
      ]
     },
     "execution_count": 2,
     "metadata": {},
     "output_type": "execute_result"
    }
   ],
   "source": [
    "text"
   ]
  },
  {
   "cell_type": "markdown",
   "metadata": {},
   "source": [
    "However, if you check the type, is not a string:"
   ]
  },
  {
   "cell_type": "code",
   "execution_count": 21,
   "metadata": {},
   "outputs": [
    {
     "data": {
      "text/plain": [
       "bytes"
      ]
     },
     "execution_count": 21,
     "metadata": {},
     "output_type": "execute_result"
    }
   ],
   "source": [
    "type(text) #originally it is not text!"
   ]
  },
  {
   "cell_type": "markdown",
   "metadata": {},
   "source": [
    "To use it as a string, which we want to do, we need to convert it to a string: "
   ]
  },
  {
   "cell_type": "code",
   "execution_count": 22,
   "metadata": {
    "collapsed": true
   },
   "outputs": [],
   "source": [
    "text=str(text) #typecasting into text"
   ]
  },
  {
   "cell_type": "markdown",
   "metadata": {},
   "source": [
    "To extract useful information, one needs to get some familiarity with the html content of the page. \n",
    "Go to the page http://www.bkk.hu/en/tickets-and-passes/prices/ which contains the price of tickets, and do \"view source\" in your browser window (usually right click). We need to see where prices of tickets are in this code - we can do so by searching (CTRL F) the word \"HUF\". We then observe that all prices are close to the text ```<div><span> ```. \n",
    "If we split the string by using ```<div><span> ``` as separator, we should get be able to get chuncks of strings that contain the ticket price. Let's see:"
   ]
  },
  {
   "cell_type": "code",
   "execution_count": 23,
   "metadata": {
    "collapsed": true
   },
   "outputs": [],
   "source": [
    "splitted=text.split('<div><span>') # Splitted is a list of strings now, obtained by using '<div><span>' as separator"
   ]
  },
  {
   "cell_type": "markdown",
   "metadata": {},
   "source": [
    "Chopping the text into pieces where it finds the <div><span> string as a separator."
   ]
  },
  {
   "cell_type": "code",
   "execution_count": 24,
   "metadata": {},
   "outputs": [
    {
     "data": {
      "text/plain": [
       "173"
      ]
     },
     "execution_count": 24,
     "metadata": {},
     "output_type": "execute_result"
    }
   ],
   "source": [
    "len(splitted) # There are 171 strings in this list "
   ]
  },
  {
   "cell_type": "markdown",
   "metadata": {},
   "source": [
    "Let's see how these strings look like. Let's have a look at the second element of list splitted:"
   ]
  },
  {
   "cell_type": "code",
   "execution_count": 25,
   "metadata": {},
   "outputs": [
    {
     "data": {
      "text/plain": [
       "'<a href=\"http://www.bkk.hu/en/prices/single-ticket/\">Single ticket</a></span></div>\\\\n</td>\\\\n<td width=\"30%\" align=\"left\">\\\\n'"
      ]
     },
     "execution_count": 25,
     "metadata": {},
     "output_type": "execute_result"
    }
   ],
   "source": [
    "temp_s=splitted[1] # Remember: in Python we start counting from 0\n",
    "temp_s"
   ]
  },
  {
   "cell_type": "markdown",
   "metadata": {},
   "source": [
    "This element contains information about the name of the ticket: \"Single ticket\" is there.\n",
    "Let's inspect the third element of splitted, to see if contains information on the price of the ticket:"
   ]
  },
  {
   "cell_type": "code",
   "execution_count": 26,
   "metadata": {},
   "outputs": [
    {
     "data": {
      "text/plain": [
       "'HUF 350</span></div>\\\\n</td>\\\\n</tr>\\\\n<tr>\\\\n<td width=\"70%\" align=\"left\">\\\\n'"
      ]
     },
     "execution_count": 26,
     "metadata": {},
     "output_type": "execute_result"
    }
   ],
   "source": [
    "splitted[2]"
   ]
  },
  {
   "cell_type": "markdown",
   "metadata": {},
   "source": [
    "Yes, the price of single ticket is here.\n",
    "Mmmh, let's see if name of tickets and price alternate in the following substrings. Let's have a look at 4th and 5th element:"
   ]
  },
  {
   "cell_type": "code",
   "execution_count": 27,
   "metadata": {},
   "outputs": [
    {
     "data": {
      "text/plain": [
       "'<a href=\"http://www.bkk.hu/en/prices/single-ticket-bought-on-the-spot/\">Single ticket bought on the spot</a></span></div>\\\\n</td>\\\\n<td width=\"30%\" align=\"left\">\\\\n'"
      ]
     },
     "execution_count": 27,
     "metadata": {},
     "output_type": "execute_result"
    }
   ],
   "source": [
    "splitted[3]"
   ]
  },
  {
   "cell_type": "code",
   "execution_count": 28,
   "metadata": {},
   "outputs": [
    {
     "data": {
      "text/plain": [
       "'HUF 450</span></div>\\\\n</td>\\\\n</tr>\\\\n<tr>\\\\n<td width=\"70%\" align=\"left\">\\\\n'"
      ]
     },
     "execution_count": 28,
     "metadata": {},
     "output_type": "execute_result"
    }
   ],
   "source": [
    "splitted[4]"
   ]
  },
  {
   "cell_type": "markdown",
   "metadata": {},
   "source": [
    "It seems so. So if we take all the even elements of splitted we will probably get the name of tickets, and with the odd elements (but the first one) we will probably get their price. Let's see first how to clean up the strings a bit. "
   ]
  },
  {
   "cell_type": "code",
   "execution_count": 29,
   "metadata": {},
   "outputs": [
    {
     "data": {
      "text/plain": [
       "'Single ticket'"
      ]
     },
     "execution_count": 29,
     "metadata": {},
     "output_type": "execute_result"
    }
   ],
   "source": [
    "temp_substring=temp_s.split('</span></div>')[0] ## This takes all the stuff before </span></div>. How does it work?\n",
    "temp_substring[temp_substring.find('>')+len('>'):temp_substring.rfind('</a')] ##This selects a part of substrings between > and </a  \n",
    "# Have a look at the documentation to see what find and rfind do"
   ]
  },
  {
   "cell_type": "markdown",
   "metadata": {},
   "source": [
    "TO DO: look up .rfind int the documentation: rfind looks for the last occurence ('from the right'). "
   ]
  },
  {
   "cell_type": "markdown",
   "metadata": {},
   "source": [
    "Great, we have cleaned up the string! This hopefully works with all the strings containing the type of tickets. Cleaning up the string containing the price is even easier. We do:"
   ]
  },
  {
   "cell_type": "code",
   "execution_count": 30,
   "metadata": {},
   "outputs": [
    {
     "data": {
      "text/plain": [
       "'HUF 350'"
      ]
     },
     "execution_count": 30,
     "metadata": {},
     "output_type": "execute_result"
    }
   ],
   "source": [
    "temp_substring=splitted[2].split('</span></div>')\n",
    "temp_substring=temp_substring[0]\n",
    "temp_substring"
   ]
  },
  {
   "cell_type": "markdown",
   "metadata": {},
   "source": [
    "Ok, now let's put all the info about ticket type in a list, and all prices in another list"
   ]
  },
  {
   "cell_type": "code",
   "execution_count": 31,
   "metadata": {
    "collapsed": true
   },
   "outputs": [],
   "source": [
    "type_ticket=[]\n",
    "for element in splitted[1::2]: #[start:end:step] = > starting at index 1 stepping by 2; this is the ticket types\n",
    "    #print element\n",
    "    temp=element.split('</span></div>')[0]\n",
    "    ticket=temp[temp.find('>')+len('>'):temp.rfind('</a')]\n",
    "    type_ticket.append(ticket)"
   ]
  },
  {
   "cell_type": "code",
   "execution_count": 32,
   "metadata": {
    "collapsed": true
   },
   "outputs": [],
   "source": [
    "price=[]\n",
    "for element in splitted[2::2]: # at number two start the prices\n",
    "    temp=element.split('</span></div>')[0]\n",
    "    price.append(temp)"
   ]
  },
  {
   "cell_type": "markdown",
   "metadata": {},
   "source": [
    "And now, let's create a tuple with the two lists (have a look in the documentation on what zip does):"
   ]
  },
  {
   "cell_type": "code",
   "execution_count": 33,
   "metadata": {
    "scrolled": false
   },
   "outputs": [
    {
     "name": "stdout",
     "output_type": "stream",
     "text": [
      "('Single ticket', 'HUF 350')\n",
      "('Single ticket bought on the spot', 'HUF 450')\n",
      "('Block of 10 tickets', 'HUF 3 000')\n",
      "('Airport shuttle bus single ticket ', 'HUF 900')\n",
      "('Transfer ticket', 'HUF 530')\n",
      "('Short section metro ticket for up to 3 stops', 'HUF 300')\n",
      "('Single ticket for public transport boat', 'HUF 750')\n",
      "('Single ticket for public transport boat Children (under 15)', 'HUF 550')\n",
      "('Metropolitan area ticket', 'HUF 250')\n",
      "('Metropolitan area single ticket (50 % price discount)', 'HUF 125')\n",
      "('Metropolitan area single ticket (90 % price discount)', 'HUF 25')\n",
      "('Airport bus extension ticket', 'HUF 300')\n",
      "('Pupil group travelcard', 'HUF 650/person')\n",
      "('Budapest 24-hour travelcard', 'HUF 1 650')\n",
      "('Budapest 24-hour group travelcard (for 1-5 passengers traveling together)', 'HUF 3 300')\n",
      "('5/30 BKK 24-hour travelcard', 'HUF 4 550')\n",
      "('Budapest 72-hour travelcard', 'HUF 4,150')\n",
      "('Budapest 7-day travelcard', 'HUF 4 950')\n",
      "('Budapest Card for 24 hours', 'HUF 5,500')\n",
      "('Budapest Card for 48 hours', 'HUF 8,500')\n",
      "('Budapest Card for 72 hours', 'HUF 10,900')\n",
      "('Budapest Card for 96 hours', 'HUF 14,500')\n",
      "('Budapest Card for 120 hours', 'HUF 17,500')\n",
      "('Domestic Budapest Card for 48 hours', 'HUF 5,900')\n",
      "('Budapest Card for Juniors for 72 hours', 'HUF 8,900')\n",
      "('Budapest-pass 1-week supplement', 'HUF 2 450')\n",
      "('Budapest-pass 1-week supplement (business)', 'HUF 2 700')\n",
      "('15-day Budapest-pass', 'HUF 6 300')\n",
      "('15-day Budapest-pass (business)', 'HUF 7 000')\n",
      "('15-day Budapest-pass for pupils', 'HUF 2 300')\n",
      "('Monthly Budapest-pass', 'HUF 9 500')\n",
      "('Monthly Budapest-pass (business)', 'HUF 10 500')\n",
      "('Monthly Budapest-pass for pupils', 'HUF 3 450')\n",
      "('Monthly Budapest-pass for students', 'HUF 3 450')\n",
      "('Monthly Budapest-pass for pensioners', 'HUF 3 330')\n",
      "('Monthly Budapest-pass for parents with small children', 'HUF 3 450')\n",
      "('Transferable monthly Budapest-pass', 'HUF 4 125')\n",
      "('Monthly dog pass', 'HUF 5 250')\n",
      "('Metropolitan area pass (5 km)', 'HUF 5 940')\n",
      "('Metropolitan area pass (10 km)', 'HUF 9 580')\n",
      "('Metropolitan area pass (5 km) with 90% price reduction', 'HUF 595')\n",
      "('Metropolitan area pass (10km) with 90% price reduction', 'HUF 960')\n",
      "('Metropolitan area local pass', 'HUF 5 200')\n",
      "('Metropolitan area local pass for students', 'HUF 2 600')\n",
      "('Metropolitan area local pass for pensioners', 'HUF 2 600')\n",
      "('Bicycle pass', 'HUF 540')\n",
      "('Quarterly Budapest-pass', 'HUF 28 500')\n",
      "('Quarterly Budapest-pass (business)', 'HUF 31 500')\n",
      "('Quarterly Budapest-pass for pupils', 'HUF 10 350')\n",
      "('Quarterly Budapest-pass for students', 'HUF 10 350')\n",
      "('Quarterly Budapest-pass for pensioners', 'HUF 9 990')\n",
      "('Semester pass for pupils', 'HUF 16 200')\n",
      "('Semester pass for students', 'HUF 16 200')\n",
      "('Annual all-line Budapest-pass', 'HUF 217 960')\n",
      "('Annual all-line Budapest-pass (business)', 'HUF 219 860')\n",
      "('Transferable annual Budapest-pass', 'HUF 189 000')\n",
      "('Annual Budapest-pass', 'HUF 9 500/month')\n",
      "('Annual Budapest-pass (business)', 'HUF 10 500/month')\n",
      "('Discounted annual BP-pass', 'HUF 103 000')\n",
      "('Discounted annual BP-pass (business)', 'HUF 114 600')\n",
      "('Discounted annual BP-pass for pupils', 'HUF 37 800')\n",
      "('Discounted annual BP-pass for students', 'HUF 37 800')\n",
      "('Discounted annual BP-pass for pensioners', 'HUF 36 600')\n",
      "('Discounted annual Budapest- and MOL Bubi pass (business)', 'HUF 120 600')\n",
      "('Full-fare ferry ticket', 'HUF 170')\n",
      "('Pupil ferry ticket (under 15)', 'HUF 110')\n",
      "('Pensioner ferry ticket', 'HUF 110')\n",
      "('Ferry ticket for standard vehicle (vehicle only)', 'HUF 420')\n",
      "('Ferry ticket for lorries (up to 3.5 tons)', 'HUF 1 050')\n",
      "('Ferry ticket for lorries (above 3.5 tons)', 'HUF 1 750')\n",
      "('Ferry ticket for bicycle (vehicle only)', 'HUF 170')\n",
      "('Ferry ticket for motorcycle (vehicle only)', 'HUF 290')\n",
      "('', '')\n",
      "('Amount of penalty far', 'HUF 16 000')\n",
      "('Penalty fare paid on the spo', 'HUF 8 000')\n",
      "('Late payment fe', 'HUF 16 000')\n",
      "('Administration fee for payment over 30 day', 'HUF 500')\n",
      "('Administration fee for later presentation of annual, semester and quarterly passes', 'HUF 1 000')\n",
      "('Administration fee for later presentation of all other types of passe', 'HUF 2 000')\n",
      "('Handling fe', 'HUF 250')\n",
      "('Handling fee for discounted annual passe', 'HUF 500')\n",
      "('General pass ID', 'HUF 250')\n",
      "('Pass ID for pensioners', 'HUF 250')\n",
      "('Pass ID for parents with small children', 'HUF 250')\n",
      "('Old pass holder \\\\xe2\\\\x80\\\\x93 transparent plastic', 'HUF 35')\n",
      "('Pass holde', 'HUF 55')\n"
     ]
    }
   ],
   "source": [
    "for pair in zip(type_ticket,price): #\n",
    "    print(pair)"
   ]
  },
  {
   "cell_type": "markdown",
   "metadata": {},
   "source": [
    "**Great!** We have all the info about tickets and prices in one place! Get more familiar with the code above, and then work on the exercises below."
   ]
  },
  {
   "cell_type": "markdown",
   "metadata": {},
   "source": [
    "## Exercise &#x1F4D8;\n",
    "* Select all the annual and quarterly tickets\n",
    "* How much do you save if you buy four quarterly tickets instead of one annual ticket (use the average price)?\n",
    "\n",
    "## Exercise &#x1F4D7;\n",
    "* If you look at the webpage, you'll notice that we missed some tickets, like the Suburban railway extension ticket. Write code to get that information too and merge it with the list of pairs we found it already \n",
    "* Some ticket types have been truncated, like \"Pass certificate &#8211; genera\" - it should be \"Pass certificate &#8211; general\". Can you handle this exception?"
   ]
  },
  {
   "cell_type": "code",
   "execution_count": 2,
   "metadata": {
    "scrolled": true
   },
   "outputs": [
    {
     "ename": "NameError",
     "evalue": "name 'type_ticket' is not defined",
     "output_type": "error",
     "traceback": [
      "\u001b[1;31m---------------------------------------------------------------------------\u001b[0m",
      "\u001b[1;31mNameError\u001b[0m                                 Traceback (most recent call last)",
      "\u001b[1;32m<ipython-input-2-cd82557928db>\u001b[0m in \u001b[0;36m<module>\u001b[1;34m()\u001b[0m\n\u001b[0;32m      3\u001b[0m \u001b[0mtotal_ticket_exp\u001b[0m \u001b[1;33m=\u001b[0m \u001b[1;36m0\u001b[0m\u001b[1;33m\u001b[0m\u001b[0m\n\u001b[0;32m      4\u001b[0m \u001b[0mnumber_of_tickets\u001b[0m \u001b[1;33m=\u001b[0m \u001b[1;36m0\u001b[0m\u001b[1;33m\u001b[0m\u001b[0m\n\u001b[1;32m----> 5\u001b[1;33m \u001b[1;32mfor\u001b[0m \u001b[0melement\u001b[0m \u001b[1;32min\u001b[0m \u001b[0mtype_ticket\u001b[0m\u001b[1;33m[\u001b[0m\u001b[1;36m0\u001b[0m\u001b[1;33m:\u001b[0m\u001b[1;33m]\u001b[0m\u001b[1;33m:\u001b[0m\u001b[1;33m\u001b[0m\u001b[0m\n\u001b[0m\u001b[0;32m      6\u001b[0m     \u001b[1;32mif\u001b[0m \u001b[0melement\u001b[0m\u001b[1;33m[\u001b[0m\u001b[1;36m0\u001b[0m\u001b[1;33m:\u001b[0m\u001b[1;36m5\u001b[0m\u001b[1;33m]\u001b[0m \u001b[1;33m==\u001b[0m \u001b[1;34m\"Quart\"\u001b[0m\u001b[1;33m:\u001b[0m\u001b[1;33m\u001b[0m\u001b[0m\n\u001b[0;32m      7\u001b[0m         \u001b[0mquarterly_tickets\u001b[0m\u001b[1;33m.\u001b[0m\u001b[0mappend\u001b[0m\u001b[1;33m(\u001b[0m\u001b[0melement\u001b[0m\u001b[1;33m)\u001b[0m\u001b[1;33m\u001b[0m\u001b[0m\n",
      "\u001b[1;31mNameError\u001b[0m: name 'type_ticket' is not defined"
     ]
    }
   ],
   "source": [
    "quarterly_tickets = []\n",
    "quarterly_prices = []\n",
    "total_ticket_exp = 0\n",
    "number_of_tickets = 0\n",
    "for element in type_ticket[0:]:\n",
    "    if element[0:5] == \"Quart\":\n",
    "        quarterly_tickets.append(element)\n",
    "        idx = type_ticket.index(element)\n",
    "        quarterly_prices.append(price[idx])\n",
    "        \n",
    "quarterly_pair = zip(quarterly_tickets, quarterly_prices)\n",
    "for element in quarterly_pair:\n",
    "    print(element)\n",
    "\n",
    " \n"
   ]
  },
  {
   "cell_type": "code",
   "execution_count": 35,
   "metadata": {
    "scrolled": true
   },
   "outputs": [
    {
     "name": "stdout",
     "output_type": "stream",
     "text": [
      "('Annual all-line Budapest-pass', 'HUF 217 960')\n",
      "('Annual all-line Budapest-pass (business)', 'HUF 219 860')\n",
      "('Annual Budapest-pass', 'HUF 9 500/month')\n",
      "('Annual Budapest-pass (business)', 'HUF 10 500/month')\n"
     ]
    }
   ],
   "source": [
    "annual_tickets = []\n",
    "annual_prices = []\n",
    "total_ticket_exp = 0\n",
    "number_of_tickets = 0\n",
    "for element in type_ticket[0:]:\n",
    "    if element[0:5] == \"Annua\":\n",
    "        annual_tickets.append(element)\n",
    "        idx = type_ticket.index(element)\n",
    "        annual_prices.append(price[idx])\n",
    "        \n",
    "annual_pair = zip(annual_tickets, annual_prices)\n",
    "for element in annual_pair:\n",
    "    print(element)      "
   ]
  },
  {
   "cell_type": "code",
   "execution_count": 36,
   "metadata": {
    "scrolled": true
   },
   "outputs": [
    {
     "name": "stdout",
     "output_type": "stream",
     "text": [
      "HUF \n"
     ]
    }
   ],
   "source": [
    "print (quarterly_prices[0][0:4])"
   ]
  },
  {
   "cell_type": "code",
   "execution_count": 37,
   "metadata": {},
   "outputs": [
    {
     "name": "stdout",
     "output_type": "stream",
     "text": [
      "[28500, 31500, 10350, 10350, 9990]\n",
      "18138.0\n"
     ]
    }
   ],
   "source": [
    "quarterly_prices_num = []\n",
    "for element in quarterly_prices:\n",
    "    pr = ''.join([q for q in element if q.isdigit()])\n",
    "    pr = int (pr)\n",
    "    quarterly_prices_num.append(pr)\n",
    "print(quarterly_prices_num)\n",
    "average_quarterly_price = sum(quarterly_prices_num) / len(quarterly_prices_num)\n",
    "print(average_quarterly_price)"
   ]
  },
  {
   "cell_type": "code",
   "execution_count": 38,
   "metadata": {},
   "outputs": [
    {
     "name": "stdout",
     "output_type": "stream",
     "text": [
      "[217960, 219860, 9500, 10500]\n",
      "-10475.75\n"
     ]
    }
   ],
   "source": [
    "annual_prices_num = []\n",
    "for element in annual_prices:\n",
    "    pr = ''.join([q for q in element if q.isdigit()])\n",
    "    pr = int (pr)\n",
    "    annual_prices_num.append(pr)\n",
    "print(annual_prices_num)\n",
    "average_annual_price = sum(annual_prices_num) / len(annual_prices_num)\n",
    "print(average_quarterly_price - average_annual_price/4)"
   ]
  },
  {
   "cell_type": "markdown",
   "metadata": {},
   "source": [
    "## &#x1F4D9; \n",
    "Too easy? Do you want to do more? Scrape the page https://www.mupa.hu/en/events/calendar/ and obtain the list of shows and their date and time for the month of October."
   ]
  },
  {
   "cell_type": "markdown",
   "metadata": {},
   "source": [
    "# More tricks about lists"
   ]
  },
  {
   "cell_type": "markdown",
   "metadata": {},
   "source": [
    "### List comprehensions: Creating lists using `for` loops:"
   ]
  },
  {
   "cell_type": "markdown",
   "metadata": {},
   "source": [
    "A convenient and compact way to initialize lists is through **list comprehension**. A list comprehension mimics the mathematic formalism of defining sets. For example:\n",
    "$$ L=\\lbrace x^2 : x \\in \\lbrace 0, 1, 2, 3, 4\\rbrace \\rbrace.$$\n",
    "This translates into:"
   ]
  },
  {
   "cell_type": "code",
   "execution_count": 39,
   "metadata": {
    "scrolled": true
   },
   "outputs": [
    {
     "name": "stdout",
     "output_type": "stream",
     "text": [
      "[0, 1, 4, 9, 16]\n"
     ]
    }
   ],
   "source": [
    "L = [x**2 for x in range(0,5)]\n",
    "\n",
    "print(L)"
   ]
  },
  {
   "cell_type": "code",
   "execution_count": 40,
   "metadata": {},
   "outputs": [
    {
     "name": "stdout",
     "output_type": "stream",
     "text": [
      "[0, 1, 4, 9, 16]\n"
     ]
    }
   ],
   "source": [
    "#Alternatively (less pythonic and slower)\n",
    "L=[]\n",
    "for x in range(0,5):\n",
    "    L.append(x**2)\n",
    "print (L)"
   ]
  },
  {
   "cell_type": "markdown",
   "metadata": {},
   "source": [
    "You can also combine it with conditional statements. For example:\n",
    "$$S = \\lbrace x : x \\in L \\text{ and } x > 0\\rbrace.$$\n",
    "This becomes:"
   ]
  },
  {
   "cell_type": "code",
   "execution_count": 41,
   "metadata": {},
   "outputs": [
    {
     "name": "stdout",
     "output_type": "stream",
     "text": [
      "[1, 4, 9, 16]\n"
     ]
    }
   ],
   "source": [
    "S=[x for x in L if x>0]\n",
    "print(S)"
   ]
  },
  {
   "cell_type": "markdown",
   "metadata": {},
   "source": [
    "More examples:\n",
    "$$ M = \\lbrace x : x \\in S \\text{ and } x \\text{ even} \\rbrace$$"
   ]
  },
  {
   "cell_type": "code",
   "execution_count": 42,
   "metadata": {
    "collapsed": true
   },
   "outputs": [],
   "source": [
    "M = [x for x in S if x % 2 == 0]  "
   ]
  },
  {
   "cell_type": "markdown",
   "metadata": {},
   "source": [
    "**BTW** do you remember the operator %? If not, refresh it and have a look at the documentation!"
   ]
  },
  {
   "cell_type": "markdown",
   "metadata": {},
   "source": [
    "You can also combine two ```for``` loops together:"
   ]
  },
  {
   "cell_type": "code",
   "execution_count": 43,
   "metadata": {},
   "outputs": [
    {
     "data": {
      "text/plain": [
       "[(1, 1), (1, 2), (2, 1), (2, 2)]"
      ]
     },
     "execution_count": 43,
     "metadata": {},
     "output_type": "execute_result"
    }
   ],
   "source": [
    "[(x,y) for x in [1,2] for y in [1,2]]"
   ]
  },
  {
   "cell_type": "markdown",
   "metadata": {},
   "source": [
    "This is equivalent of:\n",
    "$$\\lbrace (x,y) : \\forall x \\in \\lbrace 1, 2\\rbrace, \\forall y \\in \\lbrace 1, 2\\rbrace \\rbrace$$"
   ]
  },
  {
   "cell_type": "markdown",
   "metadata": {},
   "source": [
    "More examples of ```for``` loops and conditional statements together:"
   ]
  },
  {
   "cell_type": "code",
   "execution_count": 86,
   "metadata": {},
   "outputs": [
    {
     "name": "stdout",
     "output_type": "stream",
     "text": [
      "3 [(1, 3), (1, 4), (2, 3), (2, 1), (2, 4), (3, 1), (3, 4)]\n"
     ]
    }
   ],
   "source": [
    "mylist1=[(x, y) for x in [1,2,3] for y in [3,1,4] if x != y]\n",
    "print(mylist1)"
   ]
  },
  {
   "cell_type": "markdown",
   "metadata": {},
   "source": [
    "Equivalent to:\n",
    "$$\\lbrace (x,y) : x \\in \\lbrace 1, 2, 3\\rbrace, y \\in \\lbrace 1, 3, 4\\rbrace \\text{ and } x\\neq y \\rbrace $$"
   ]
  },
  {
   "cell_type": "markdown",
   "metadata": {},
   "source": [
    "The line above produce the same list as the block of code below: "
   ]
  },
  {
   "cell_type": "code",
   "execution_count": 45,
   "metadata": {},
   "outputs": [
    {
     "data": {
      "text/plain": [
       "[(1, 3), (1, 4), (2, 3), (2, 1), (2, 4), (3, 1), (3, 4)]"
      ]
     },
     "execution_count": 45,
     "metadata": {},
     "output_type": "execute_result"
    }
   ],
   "source": [
    "mylist2=[]\n",
    "for x in [1,2,3]:\n",
    "    for y in [3,1,4]:\n",
    "        if x!=y:\n",
    "            mylist2.append((x,y))\n",
    "mylist2"
   ]
  },
  {
   "cell_type": "markdown",
   "metadata": {},
   "source": [
    "A convenient and compact way to initialize lists:"
   ]
  },
  {
   "cell_type": "markdown",
   "metadata": {},
   "source": [
    "You can also use an ``if else`` statement"
   ]
  },
  {
   "cell_type": "code",
   "execution_count": 46,
   "metadata": {},
   "outputs": [
    {
     "data": {
      "text/plain": [
       "['smaller', 'smaller', 'smaller', 3, 'smaller', 4, 'smaller']"
      ]
     },
     "execution_count": 46,
     "metadata": {},
     "output_type": "execute_result"
    }
   ],
   "source": [
    "[x[0]+x[1] if x[0]>x[1] else 'smaller' for x in mylist2]"
   ]
  },
  {
   "cell_type": "markdown",
   "metadata": {},
   "source": [
    "## Exercise  &#x1F4D8;\n",
    "Use ```%timeit``` (see questions asked during the first class) to check the best time to create ```mylist1``` and ```%%timeit``` for creating ```mylist2```. Which one is faster? Any guess why? "
   ]
  },
  {
   "cell_type": "code",
   "execution_count": 47,
   "metadata": {},
   "outputs": [
    {
     "name": "stdout",
     "output_type": "stream",
     "text": [
      "10000000 loops, best of 3: 34.1 ns per loop\n",
      "10000000 loops, best of 3: 45.1 ns per loop\n"
     ]
    }
   ],
   "source": [
    "import timeit\n",
    "%timeit(mylist1)\n",
    "%timeit(mylist2)"
   ]
  },
  {
   "cell_type": "markdown",
   "metadata": {
    "collapsed": true
   },
   "source": [
    "You can also nest one list in the other"
   ]
  },
  {
   "cell_type": "code",
   "execution_count": 48,
   "metadata": {
    "collapsed": true
   },
   "outputs": [],
   "source": [
    "mylist1=[x+1 for x in [y**3 for y in [-3,1,4]] if x > 0]"
   ]
  },
  {
   "cell_type": "markdown",
   "metadata": {},
   "source": [
    "With maths, the above would be like:\n",
    "$$M=\\lbrace y^3 : y \\in \\lbrace -3, 1, 4\\rbrace \\rbrace$$\n",
    "$$\\text{mylist1}= \\lbrace x+1 : x \\in M \\text{ and } x>0 \\rbrace.$$\n",
    "The code below also produces the same list:"
   ]
  },
  {
   "cell_type": "code",
   "execution_count": 49,
   "metadata": {},
   "outputs": [
    {
     "name": "stdout",
     "output_type": "stream",
     "text": [
      "[-27, 1, 64]\n",
      "[2, 65]\n"
     ]
    }
   ],
   "source": [
    "mysecondlist=[]\n",
    "for y in [-3,1,4]:\n",
    "    temp=y**3\n",
    "    mysecondlist.append(temp)\n",
    "print(mysecondlist)\n",
    "\n",
    "mylist=[]\n",
    "for x in mysecondlist:\n",
    "    if x>0:\n",
    "        mylist.append(x+1)\n",
    "print(mylist)"
   ]
  },
  {
   "cell_type": "markdown",
   "metadata": {},
   "source": [
    "More examples of list comprehension:"
   ]
  },
  {
   "cell_type": "code",
   "execution_count": 50,
   "metadata": {},
   "outputs": [
    {
     "name": "stdout",
     "output_type": "stream",
     "text": [
      "['AND!!!']\n"
     ]
    }
   ],
   "source": [
    "strs = ['hello', 'and', 'goodbye']\n",
    "shouting = [ s2.upper()+'!!!' for s2 in [s for s in strs] if s2=='and']\n",
    "print(shouting)"
   ]
  },
  {
   "cell_type": "code",
   "execution_count": 51,
   "metadata": {},
   "outputs": [
    {
     "name": "stdout",
     "output_type": "stream",
     "text": [
      "['HELLO!!!', 'AND!!!', 'GOODBYE!!!']\n"
     ]
    }
   ],
   "source": [
    "mylist=[]\n",
    "for s in strs:\n",
    "    mylist.append(s.upper()+'!!!')\n",
    "print(mylist)"
   ]
  },
  {
   "cell_type": "code",
   "execution_count": 52,
   "metadata": {},
   "outputs": [
    {
     "name": "stdout",
     "output_type": "stream",
     "text": [
      "['apple', 'banana']\n"
     ]
    }
   ],
   "source": [
    "# Select fruits containing 'a'\n",
    "fruits = ['apple', 'cherry', 'banana', 'lemon']\n",
    "afruits = [ s for s in fruits if 'a' in s ]\n",
    "print(afruits)"
   ]
  },
  {
   "cell_type": "markdown",
   "metadata": {},
   "source": [
    "## Exercises  \n",
    "&#x1F4D8;\n",
    "* Select all the fruits that contain the letter 'n', and convert to uppercase.\n",
    "* Using a list comprehension, create a new list called \"newlist\" out of the list \"numbers\", which contains only the positive numbers from the list, as integers: ``numbers=[34.6, -203.4, 44.9, 68.3, -12.2, 44.6, 12.7]``\n",
    "\n",
    "&#x1F4D7;\n",
    "* Using a list comprehension, create a list of integers which specify the length of each word in a certain text, but only if the word is not the word \"the\" or \"and\". Use as input text the following:\n",
    "\n",
    "    _Alice was beginning to get very tired of sitting by her sister on the bank, and of having nothing to do. Once or twice she had peeped into the book her sister was reading, but it had no pictures or conversations in it, \"and what is the use of a book,\" thought Alice, \"without pictures or conversations?\" So she was considering in her own mind (as well as she could, for the day made her feel very sleepy and stupid), whether the pleasure of making a daisy-chain would be worth the trouble of getting up and picking the daisies, when suddenly a White Rabbit with pink eyes ran close by her._"
   ]
  },
  {
   "cell_type": "markdown",
   "metadata": {},
   "source": [
    "Ex blue"
   ]
  },
  {
   "cell_type": "code",
   "execution_count": 53,
   "metadata": {
    "scrolled": true
   },
   "outputs": [
    {
     "data": {
      "text/plain": [
       "['BANANA', 'LEMON']"
      ]
     },
     "execution_count": 53,
     "metadata": {},
     "output_type": "execute_result"
    }
   ],
   "source": [
    "capfruits = [s2.upper() for s2 in [s for s in fruits if 'n' in s]]\n",
    "capfruits"
   ]
  },
  {
   "cell_type": "code",
   "execution_count": 54,
   "metadata": {},
   "outputs": [
    {
     "data": {
      "text/plain": [
       "[34, 44, 68, 44, 12]"
      ]
     },
     "execution_count": 54,
     "metadata": {},
     "output_type": "execute_result"
    }
   ],
   "source": [
    "numbers=[34.6, -203.4, 44.9, 68.3, -12.2, 44.6, 12.7]\n",
    "newlist = [int(x) for x in numbers if x > 0]\n",
    "newlist"
   ]
  },
  {
   "cell_type": "markdown",
   "metadata": {},
   "source": [
    "## Sorting lists"
   ]
  },
  {
   "cell_type": "markdown",
   "metadata": {},
   "source": [
    "The easiest way to sort is with the sorted(list) function, which takes a list and returns a new list with those elements in sorted order. The original list is not changed."
   ]
  },
  {
   "cell_type": "code",
   "execution_count": 55,
   "metadata": {},
   "outputs": [
    {
     "name": "stdout",
     "output_type": "stream",
     "text": [
      "[1, 3, 4, 5]\n",
      "[5, 1, 4, 3]\n"
     ]
    }
   ],
   "source": [
    "a = [5, 1, 4, 3]\n",
    "print(sorted(a))\n",
    "print(a)"
   ]
  },
  {
   "cell_type": "markdown",
   "metadata": {},
   "source": [
    "The sorted() function can be customized though optional arguments. The sorted() optional argument reverse=True, e.g. sorted(list, reverse=True), makes it sort backwards."
   ]
  },
  {
   "cell_type": "code",
   "execution_count": 56,
   "metadata": {},
   "outputs": [
    {
     "name": "stdout",
     "output_type": "stream",
     "text": [
      "['BB', 'CC', 'aa', 'zz']\n",
      "['zz', 'aa', 'CC', 'BB']\n"
     ]
    }
   ],
   "source": [
    "mystrs = ['aa', 'BB', 'zz', 'CC']\n",
    "print(sorted(mystrs))  ## Remember! Sorting is case sensitive\n",
    "print(sorted(mystrs, reverse=True))"
   ]
  },
  {
   "cell_type": "markdown",
   "metadata": {},
   "source": [
    "### You can do customized sorting\n",
    "For more complex custom sorting, ``sorted()`` takes an optional ``\"key=\"`` specifying a \"key\" function that transforms each element before comparison. The key function takes in 1 value and returns 1 value, and the returned \"proxy\" value is used for the comparisons within the sort.\n",
    "\n",
    "For example with a list of strings, specifying ``key=len`` (the built in ``len()`` function) sorts the strings by length, from shortest to longest. The sort calls ``len()`` for each string to get the list of proxy length values, and the sorts with those proxy values."
   ]
  },
  {
   "cell_type": "code",
   "execution_count": 70,
   "metadata": {},
   "outputs": [
    {
     "name": "stdout",
     "output_type": "stream",
     "text": [
      "['d', 'bb', 'ccc', 'aaaa']\n"
     ]
    }
   ],
   "source": [
    "strs = ['ccc', 'aaaa', 'd', 'bb']\n",
    "print(sorted(strs, key=len))"
   ]
  },
  {
   "cell_type": "markdown",
   "metadata": {},
   "source": [
    "As another example, specifying \"str.lower\" as the key function is a way to force the sorting to treat uppercase and lowercase the same:"
   ]
  },
  {
   "cell_type": "code",
   "execution_count": 58,
   "metadata": {},
   "outputs": [
    {
     "name": "stdout",
     "output_type": "stream",
     "text": [
      "['aaaa', 'bb', 'ccc', 'd']\n"
     ]
    }
   ],
   "source": [
    "print(sorted(strs, key=str.lower)) "
   ]
  },
  {
   "cell_type": "markdown",
   "metadata": {},
   "source": [
    "You can also pass in your own function as the key function. For example, the function MyFn below takes a string, and returns its last letter. We then pass this function as key for sorting"
   ]
  },
  {
   "cell_type": "code",
   "execution_count": 3,
   "metadata": {},
   "outputs": [
    {
     "name": "stdout",
     "output_type": "stream",
     "text": [
      "['wa', 'kb', 'xc', 'yd']\n"
     ]
    }
   ],
   "source": [
    "strs = ['xc', 'kb', 'yd' ,'wa']\n",
    "\n",
    "def MyFn(s):\n",
    "    return s[-1]\n",
    "\n",
    "print(sorted(strs, key=MyFn))"
   ]
  },
  {
   "cell_type": "code",
   "execution_count": null,
   "metadata": {
    "collapsed": true
   },
   "outputs": [],
   "source": []
  },
  {
   "cell_type": "markdown",
   "metadata": {},
   "source": [
    "### Exercise &#x1F4D8;\n",
    "* Create a different sorting function - invent one - that works with strings \n"
   ]
  },
  {
   "cell_type": "code",
   "execution_count": 13,
   "metadata": {},
   "outputs": [
    {
     "ename": "SyntaxError",
     "evalue": "invalid syntax (<ipython-input-13-423a94c9b897>, line 3)",
     "output_type": "error",
     "traceback": [
      "\u001b[1;36m  File \u001b[1;32m\"<ipython-input-13-423a94c9b897>\"\u001b[1;36m, line \u001b[1;32m3\u001b[0m\n\u001b[1;33m    return 3\u001b[0m\n\u001b[1;37m         ^\u001b[0m\n\u001b[1;31mSyntaxError\u001b[0m\u001b[1;31m:\u001b[0m invalid syntax\n"
     ]
    }
   ],
   "source": [
    "def MySort(s):\n",
    "    w = s.sort(key = lambda obj: (len, s[-1])\n",
    "    return 3"
   ]
  },
  {
   "cell_type": "code",
   "execution_count": 17,
   "metadata": {},
   "outputs": [
    {
     "ename": "SyntaxError",
     "evalue": "invalid syntax (<ipython-input-17-025c9a03115b>, line 2)",
     "output_type": "error",
     "traceback": [
      "\u001b[1;36m  File \u001b[1;32m\"<ipython-input-17-025c9a03115b>\"\u001b[1;36m, line \u001b[1;32m2\u001b[0m\n\u001b[1;33m    print(sorted(strs, key = lambda len, strs[-1]))\u001b[0m\n\u001b[1;37m                                             ^\u001b[0m\n\u001b[1;31mSyntaxError\u001b[0m\u001b[1;31m:\u001b[0m invalid syntax\n"
     ]
    }
   ],
   "source": [
    "strs = ['ccc', 'aaaa', 'd', 'bb']\n",
    "print(sorted(strs, key = lambda len, strs[-1]))"
   ]
  },
  {
   "cell_type": "markdown",
   "metadata": {},
   "source": [
    "## Proficiency with lists and strings is fundamental if you want to be a good Pythonist, so let's do a few more exercises\n",
    "### Exercise &#x1F4D7;\n",
    "* Create the functions requested in each cell below. Once you are done, check the solution by following the instructions in the cell following the exercises. "
   ]
  },
  {
   "cell_type": "code",
   "execution_count": 1,
   "metadata": {},
   "outputs": [
    {
     "name": "stdout",
     "output_type": "stream",
     "text": [
      "3\n"
     ]
    }
   ],
   "source": [
    "# Function match_ends\n",
    "# Given a list of strings, return the count of the number of\n",
    "# strings where the string length is 2 or more and the first\n",
    "# and last chars of the string are the same.\n",
    "# Note: in Python the operator to increase the count is +=\n",
    "\n",
    "def match_ends(words):\n",
    "    counter = 0\n",
    "    for str in words:\n",
    "        if str[0] == str[-1] and len(str) > 2:\n",
    "            counter += 1\n",
    "    return counter\n",
    "\n",
    "letters = [\"alfa\", \"betab\", \"gammag\", \"delta\", \"bb\"]\n",
    "c = match_ends(letters)\n",
    "print(c)"
   ]
  },
  {
   "cell_type": "code",
   "execution_count": 74,
   "metadata": {},
   "outputs": [
    {
     "data": {
      "text/plain": [
       "3"
      ]
     },
     "execution_count": 74,
     "metadata": {},
     "output_type": "execute_result"
    }
   ],
   "source": [
    "x = 1\n",
    "x += 2\n",
    "x"
   ]
  },
  {
   "cell_type": "code",
   "execution_count": 3,
   "metadata": {},
   "outputs": [
    {
     "name": "stdout",
     "output_type": "stream",
     "text": [
      "['xaver', 'xylyt', 'as', 'bayern', 'borussia', 'deportivo', 'dynamo', 'legia', 'real']\n"
     ]
    }
   ],
   "source": [
    "# Function front_x\n",
    "# Given a list of strings, return a list with the strings\n",
    "# in sorted order, except group all the strings that begin with 'x' first.\n",
    "# e.g. ['mix', 'xyz', 'apple', 'xanadu', 'aardvark'] yields\n",
    "# ['xanadu', 'xyz', 'aardvark', 'apple', 'mix']\n",
    "# Hint: this can be done by making 2 lists and sorting each of them\n",
    "# before combining them.\n",
    "def front_x(words):\n",
    "    words_with_x = []\n",
    "    words_without_x = []\n",
    "    for element in words:\n",
    "        if element[0] == \"x\":\n",
    "            words_with_x.append(element)\n",
    "        else: \n",
    "            words_without_x.append(element)\n",
    "    swx = sorted(words_with_x)\n",
    "    swtx = sorted(words_without_x)\n",
    "    for item in swtx:\n",
    "        swx.append(item)\n",
    "    return swx\n",
    "worte = [\"bayern\", \"real\", \"xaver\", \"legia\", \"xylyt\", \"borussia\", \"deportivo\", \"dynamo\", \"as\"]\n",
    "xworte = front_x(worte)\n",
    "print(xworte)"
   ]
  },
  {
   "cell_type": "code",
   "execution_count": 17,
   "metadata": {
    "collapsed": true
   },
   "outputs": [],
   "source": [
    "# Function sort_last\n",
    "# Given a list of non-empty tuples, return a list sorted in increasing\n",
    "# order by the last element in each tuple.\n",
    "# e.g. [(1, 7), (1, 3), (3, 4, 5), (2, 2)] yields\n",
    "# [(2, 2), (1, 3), (3, 4, 5), (1, 7)]\n",
    "# Hint: use a custom key= function to extract the last element form each tuple, as in some example above\n",
    "def sort_last(tuples):\n",
    "    return sorted(tuples, key = lambda tup: tup[-1])"
   ]
  },
  {
   "cell_type": "code",
   "execution_count": 18,
   "metadata": {},
   "outputs": [
    {
     "name": "stdout",
     "output_type": "stream",
     "text": [
      "[(2, 2), (1, 3), (1, 7), (3, 4, 8)]\n"
     ]
    }
   ],
   "source": [
    "tp = [(1, 7), (1, 3), (3, 4, 8), (2, 2)]\n",
    "print (sort_last(tp))"
   ]
  },
  {
   "cell_type": "markdown",
   "metadata": {},
   "source": [
    "### To check the solution\n",
    "* Open the file list1.py with a text editor (remember to use the jupyter notebook text editor, or install a professional editor like Sublime - it's free)\n",
    "* Copy your solutions in the appropriate place (you will see once you open the files). \n",
    "* Execute the file in your Jupyter notebook with the command ```%run list1.py```. Make sure that list1.py is in the same folder as your notebook!\n",
    "* If you did everything correctly, you will see an output as the one below ``%run list1.py``"
   ]
  },
  {
   "cell_type": "code",
   "execution_count": 63,
   "metadata": {},
   "outputs": [
    {
     "name": "stderr",
     "output_type": "stream",
     "text": [
      "ERROR:root:File `'list1.py'` not found.\n"
     ]
    }
   ],
   "source": [
    "%run list1.py"
   ]
  },
  {
   "cell_type": "markdown",
   "metadata": {},
   "source": [
    "### Exercise &#x1F4D7;\n",
    "* Do the exercise in the following cells. Check the solution as explained for the previous exercise, by running file ```script1.py```."
   ]
  },
  {
   "cell_type": "code",
   "execution_count": 29,
   "metadata": {
    "collapsed": true
   },
   "outputs": [],
   "source": [
    "# donuts\n",
    "# Given an int count of a number of donuts, return a string\n",
    "# of the form 'Number of donuts: <count>', where <count> is the number\n",
    "# passed in. However, if the count is 10 or more, then use the word 'many'\n",
    "# instead of the actual count.\n",
    "# So donuts(5) returns 'Number of donuts: 5'\n",
    "# and donuts(23) returns 'Number of donuts: many'\n",
    "def donuts(count):\n",
    "    if count <10:\n",
    "        msg = \"Number of donuts: \" + str(count) + \".\"\n",
    "    else:\n",
    "        msg = \"Number of donuts: many.\"\n",
    "\n",
    "    return msg"
   ]
  },
  {
   "cell_type": "code",
   "execution_count": 31,
   "metadata": {},
   "outputs": [
    {
     "name": "stdout",
     "output_type": "stream",
     "text": [
      "Number of donuts: many.\n"
     ]
    }
   ],
   "source": [
    "print(donuts(10))"
   ]
  },
  {
   "cell_type": "code",
   "execution_count": 23,
   "metadata": {
    "collapsed": true
   },
   "outputs": [],
   "source": [
    "# both_ends\n",
    "# Given a string s, return a string made of the first 2\n",
    "# and the last 2 chars of the original string,\n",
    "# so 'spring' yields 'spng'. However, if the string length\n",
    "# is less than 2, return instead the empty string.\n",
    "def both_ends(s):\n",
    "    if len(s) < 2:\n",
    "        output = \"\"\n",
    "    else:\n",
    "        output = s[0:2] + s[-2] + s[-1]\n",
    "    return output"
   ]
  },
  {
   "cell_type": "code",
   "execution_count": 26,
   "metadata": {},
   "outputs": [
    {
     "name": "stdout",
     "output_type": "stream",
     "text": [
      "\n"
     ]
    }
   ],
   "source": [
    "print(both_ends(\"k\"))"
   ]
  },
  {
   "cell_type": "code",
   "execution_count": 66,
   "metadata": {
    "collapsed": true
   },
   "outputs": [],
   "source": [
    "#fix_start\n",
    "# Given a string s, return a string\n",
    "# where all occurences of its first char have\n",
    "# been changed to '*', except do not change\n",
    "# the first char itself.\n",
    "# e.g. 'babble' yields 'ba**le'\n",
    "# Assume that the string is length 1 or more.\n",
    "# Hint: s.replace(stra, strb) returns a version of string s\n",
    "# where all instances of stra have been replaced by strb.\n",
    "def fix_start(s):\n",
    "  # +++your code here+++\n",
    "  return"
   ]
  },
  {
   "cell_type": "code",
   "execution_count": 67,
   "metadata": {
    "collapsed": true
   },
   "outputs": [],
   "source": [
    "#MixUp\n",
    "# Given strings a and b, return a single string with a and b separated\n",
    "# by a space '<a> <b>', except swap the first 2 chars of each string.\n",
    "# e.g.\n",
    "#   'mix', pod' -> 'pox mid'\n",
    "#   'dog', 'dinner' -> 'dig donner'\n",
    "# Assume a and b are length 2 or more.\n",
    "def mix_up(a, b):\n",
    "  # +++your code here+++\n",
    "  return"
   ]
  },
  {
   "cell_type": "markdown",
   "metadata": {},
   "source": [
    "If all functions are correct, when running ``string1.py`` you will see an ouput as the one below:"
   ]
  },
  {
   "cell_type": "code",
   "execution_count": 68,
   "metadata": {},
   "outputs": [
    {
     "name": "stderr",
     "output_type": "stream",
     "text": [
      "ERROR:root:File `'string1.py'` not found.\n"
     ]
    }
   ],
   "source": [
    "%run string1.py"
   ]
  },
  {
   "cell_type": "markdown",
   "metadata": {},
   "source": [
    "## Exercise &#x1F4D9;\n",
    "Create a list of n lists, each having N elements. The values of the first list should go from 1 to N, the elements of the second list from N+1 to 2N,... the elements of the last list, should go from $N^2-N+1$ to $N^2$. In other words, this is like creating a matrix\n",
    "\n",
    " \\begin{pmatrix}\n",
    "  1 & 2 & \\cdots & N \\\\\n",
    "  N+1 & N+2 & \\cdots & 2N \\\\\n",
    "  \\vdots  & \\vdots  & \\ddots & \\vdots  \\\\\n",
    "  N^2-N+1 & N^2-N+2 & \\cdots & N^2 \n",
    " \\end{pmatrix}\n",
    " Can you create it with only one line of code? _Hint_: try first with multiple lines of code, and then make it more compact."
   ]
  },
  {
   "cell_type": "markdown",
   "metadata": {},
   "source": [
    "## Further reading"
   ]
  },
  {
   "cell_type": "markdown",
   "metadata": {},
   "source": [
    "* http://www.python.org - The official web page of the Python programming language.\n",
    "* [Python Essential Reference](http://www.amazon.com/Python-Essential-Reference-4th-Edition/dp/0672329786) - A good reference book on Python programming."
   ]
  },
  {
   "cell_type": "code",
   "execution_count": null,
   "metadata": {
    "collapsed": true
   },
   "outputs": [],
   "source": []
  }
 ],
 "metadata": {
  "kernelspec": {
   "display_name": "Python 3",
   "language": "python",
   "name": "python3"
  },
  "language_info": {
   "codemirror_mode": {
    "name": "ipython",
    "version": 3
   },
   "file_extension": ".py",
   "mimetype": "text/x-python",
   "name": "python",
   "nbconvert_exporter": "python",
   "pygments_lexer": "ipython3",
   "version": "3.6.1"
  }
 },
 "nbformat": 4,
 "nbformat_minor": 1
}
