{
 "cells": [
  {
   "cell_type": "markdown",
   "metadata": {},
   "source": [
    "<div class=\"frontmatter text-center\">\n",
    "<h1> MATH5027 Scientific Python</h1>\n",
    "<h3>Central European University, Fall 2017/2018</h3>\n",
    "<h3>Instructor: Prof. Roberta Sinatra, TA: Johannes Wachs</h3>\n",
    "inspired to the Python lectures of J.R. Johansson, available at [http://github.com/jrjohansson/scientific-python-lectures](http://github.com/jrjohansson/scientific-python-lectures).\n",
    "</div>"
   ]
  },
  {
   "cell_type": "markdown",
   "metadata": {},
   "source": [
    "# Today\n",
    "We will \n",
    "* learn an important feature of lists: comprehension \n",
    "* do more exercises with lists and strings\n",
    "* one more exercise with web scraping"
   ]
  },
  {
   "cell_type": "markdown",
   "metadata": {},
   "source": [
    "When you iterate over a list, like done before, you get the elements in the list, not their index!"
   ]
  },
  {
   "cell_type": "code",
   "execution_count": 16,
   "metadata": {
    "scrolled": true
   },
   "outputs": [
    {
     "name": "stdout",
     "output_type": "stream",
     "text": [
      "scientific\n",
      "computing\n",
      "with\n",
      "python\n"
     ]
    }
   ],
   "source": [
    "words=[\"scientific\", \"computing\", \"with\", \"python\"]\n",
    "for word in words:\n",
    "    print(word)"
   ]
  },
  {
   "cell_type": "markdown",
   "metadata": {},
   "source": [
    "If you want also the indexes in the list, you need to use enumerate:"
   ]
  },
  {
   "cell_type": "code",
   "execution_count": 17,
   "metadata": {},
   "outputs": [
    {
     "name": "stdout",
     "output_type": "stream",
     "text": [
      "0 scientific\n",
      "1 computing\n",
      "2 with\n",
      "3 python\n"
     ]
    }
   ],
   "source": [
    "words=[\"scientific\", \"computing\", \"with\", \"python\"]\n",
    "for idx, word in enumerate(words):\n",
    "    print(idx,word)"
   ]
  },
  {
   "cell_type": "code",
   "execution_count": 18,
   "metadata": {},
   "outputs": [
    {
     "data": {
      "text/plain": [
       "enumerate"
      ]
     },
     "execution_count": 18,
     "metadata": {},
     "output_type": "execute_result"
    }
   ],
   "source": [
    "type(enumerate(words))"
   ]
  },
  {
   "cell_type": "code",
   "execution_count": 19,
   "metadata": {},
   "outputs": [
    {
     "name": "stdout",
     "output_type": "stream",
     "text": [
      "0\n",
      "1\n",
      "2\n",
      "3\n",
      "4\n",
      "5\n",
      "6\n",
      "7\n",
      "8\n",
      "9\n"
     ]
    }
   ],
   "source": [
    "for x in range(10): # by default range start at 0\n",
    "    print(x)"
   ]
  },
  {
   "cell_type": "code",
   "execution_count": 11,
   "metadata": {},
   "outputs": [
    {
     "data": {
      "text/plain": [
       "range"
      ]
     },
     "execution_count": 11,
     "metadata": {},
     "output_type": "execute_result"
    }
   ],
   "source": [
    "type((range(10)))"
   ]
  },
  {
   "cell_type": "markdown",
   "metadata": {},
   "source": [
    "Range and enumerate are an objects, but you can convert them easily to a list and to a list of tuples: "
   ]
  },
  {
   "cell_type": "code",
   "execution_count": 20,
   "metadata": {},
   "outputs": [
    {
     "data": {
      "text/plain": [
       "[0, 1, 2, 3, 4, 5, 6, 7, 8, 9]"
      ]
     },
     "execution_count": 20,
     "metadata": {},
     "output_type": "execute_result"
    }
   ],
   "source": [
    "list(range(10))"
   ]
  },
  {
   "cell_type": "code",
   "execution_count": 13,
   "metadata": {},
   "outputs": [
    {
     "data": {
      "text/plain": [
       "[(0, -3), (1, -2), (2, -1), (3, 0), (4, 1), (5, 2)]"
      ]
     },
     "execution_count": 13,
     "metadata": {},
     "output_type": "execute_result"
    }
   ],
   "source": [
    "list(enumerate(range(-3,3)))"
   ]
  },
  {
   "cell_type": "code",
   "execution_count": 15,
   "metadata": {},
   "outputs": [
    {
     "data": {
      "text/plain": [
       "[(0, 'scientific'), (1, 'computing'), (2, 'with'), (3, 'python')]"
      ]
     },
     "execution_count": 15,
     "metadata": {},
     "output_type": "execute_result"
    }
   ],
   "source": [
    "words=[\"scientific\", \"computing\", \"with\", \"python\"]\n",
    "list(enumerate(words))"
   ]
  },
  {
   "cell_type": "markdown",
   "metadata": {},
   "source": [
    "# Example of web scraping\n",
    "Complete the exercises from last time (reported below)."
   ]
  },
  {
   "cell_type": "markdown",
   "metadata": {},
   "source": [
    "## Exercise &#x1F4D8;\n",
    "* Select all the annual and quarterly tickets\n",
    "* How much do you save if you buy four quarterly tickets instead of one annual ticket (use the average price)?\n",
    "\n",
    "## Exercise &#x1F4D7;\n",
    "* If you look at the webpage, you'll notice that we missed some tickets, like the Suburban railway extension ticket. Write code to get that information too and merge it with the list of pairs we found it already \n",
    "* Some ticket types have been truncated, like \"Pass certificate &#8211; genera\" - it should be \"Pass certificate &#8211; general\". Can you handle this exception?"
   ]
  },
  {
   "cell_type": "markdown",
   "metadata": {},
   "source": [
    "## List comprehensions: Creating lists using `for` loops:"
   ]
  },
  {
   "cell_type": "markdown",
   "metadata": {},
   "source": [
    "A convenient and compact way to initialize lists is through **list comprehension**. A list comprehension mimics the mathematic formalism of defining sets. For example:\n",
    "$$ L=\\lbrace x^2 : x \\in \\lbrace 0, 1, 2, 3, 4\\rbrace \\rbrace.$$\n",
    "This translates into:"
   ]
  },
  {
   "cell_type": "code",
   "execution_count": 32,
   "metadata": {},
   "outputs": [
    {
     "name": "stdout",
     "output_type": "stream",
     "text": [
      "[0, 1, 4, 9, 16]\n"
     ]
    }
   ],
   "source": [
    "L = [x**2 for x in range(0,5)]\n",
    "\n",
    "print(L)\n"
   ]
  },
  {
   "cell_type": "code",
   "execution_count": 86,
   "metadata": {},
   "outputs": [
    {
     "name": "stdout",
     "output_type": "stream",
     "text": [
      "[0, 1, 4, 9, 16]\n"
     ]
    }
   ],
   "source": [
    "L=[]\n",
    "for x in range(0,5):\n",
    "    L.append(x**2)\n",
    "print(L)"
   ]
  },
  {
   "cell_type": "markdown",
   "metadata": {},
   "source": [
    "You can also combine it with conditional statements. For example:\n",
    "$$S = \\lbrace x : x \\in L \\text{ and } x > 0\\rbrace.$$\n",
    "This becomes:"
   ]
  },
  {
   "cell_type": "code",
   "execution_count": 34,
   "metadata": {},
   "outputs": [
    {
     "name": "stdout",
     "output_type": "stream",
     "text": [
      "[1, 4, 9, 16]\n"
     ]
    }
   ],
   "source": [
    "S=[x for x in L if x>0]\n",
    "print(S)"
   ]
  },
  {
   "cell_type": "markdown",
   "metadata": {},
   "source": [
    "More examples:\n",
    "$$ M = \\lbrace x : x \\in S \\text{ and } x \\text{ even} \\rbrace$$"
   ]
  },
  {
   "cell_type": "code",
   "execution_count": 35,
   "metadata": {
    "collapsed": true
   },
   "outputs": [],
   "source": [
    "M = [x for x in S if x % 2 == 0]  "
   ]
  },
  {
   "cell_type": "markdown",
   "metadata": {},
   "source": [
    "**BTW** do you remember the operator %? If not, refresh it and have a look at the documentation!"
   ]
  },
  {
   "cell_type": "markdown",
   "metadata": {},
   "source": [
    "You can also combine two ```for``` loops together:"
   ]
  },
  {
   "cell_type": "code",
   "execution_count": 36,
   "metadata": {},
   "outputs": [
    {
     "data": {
      "text/plain": [
       "[(1, 1), (1, 2), (2, 1), (2, 2)]"
      ]
     },
     "execution_count": 36,
     "metadata": {},
     "output_type": "execute_result"
    }
   ],
   "source": [
    "[(x,y) for x in [1,2] for y in [1,2]]"
   ]
  },
  {
   "cell_type": "markdown",
   "metadata": {},
   "source": [
    "This is equivalent of:\n",
    "$$\\lbrace (x,y) : \\forall x \\in \\lbrace 1, 2\\rbrace, \\forall y \\in \\lbrace 1, 2\\rbrace \\rbrace$$"
   ]
  },
  {
   "cell_type": "markdown",
   "metadata": {},
   "source": [
    "More examples of ```for``` loops and conditional statements together:"
   ]
  },
  {
   "cell_type": "code",
   "execution_count": 38,
   "metadata": {},
   "outputs": [
    {
     "name": "stdout",
     "output_type": "stream",
     "text": [
      "[(1, 3), (1, 4), (2, 3), (2, 1), (2, 4), (3, 1), (3, 4)]\n"
     ]
    }
   ],
   "source": [
    "mylist1=[(x, y) for x in [1,2,3] for y in [3,1,4] if x != y]\n",
    "print(mylist1)"
   ]
  },
  {
   "cell_type": "markdown",
   "metadata": {},
   "source": [
    "Equivalent to:\n",
    "$$\\lbrace (x,y) : x \\in \\lbrace 1, 2, 3\\rbrace, y \\in \\lbrace 1, 3, 4\\rbrace \\text{ and } x\\neq y \\rbrace $$"
   ]
  },
  {
   "cell_type": "markdown",
   "metadata": {},
   "source": [
    "The line above produce the same list as the block of code below: "
   ]
  },
  {
   "cell_type": "code",
   "execution_count": 39,
   "metadata": {},
   "outputs": [
    {
     "data": {
      "text/plain": [
       "[(1, 3), (1, 4), (2, 3), (2, 1), (2, 4), (3, 1), (3, 4)]"
      ]
     },
     "execution_count": 39,
     "metadata": {},
     "output_type": "execute_result"
    }
   ],
   "source": [
    "mylist2=[]\n",
    "for x in [1,2,3]:\n",
    "    for y in [3,1,4]:\n",
    "        if x!=y:\n",
    "            mylist2.append((x,y))\n",
    "mylist2"
   ]
  },
  {
   "cell_type": "markdown",
   "metadata": {},
   "source": [
    "A convenient and compact way to initialize lists:"
   ]
  },
  {
   "cell_type": "markdown",
   "metadata": {},
   "source": [
    "You can also use an ``if else`` statement"
   ]
  },
  {
   "cell_type": "code",
   "execution_count": 40,
   "metadata": {},
   "outputs": [
    {
     "data": {
      "text/plain": [
       "['smaller', 'smaller', 'smaller', 3, 'smaller', 4, 'smaller']"
      ]
     },
     "execution_count": 40,
     "metadata": {},
     "output_type": "execute_result"
    }
   ],
   "source": [
    "[x[0]+x[1] if x[0]>x[1] else 'smaller' for x in mylist2]"
   ]
  },
  {
   "cell_type": "markdown",
   "metadata": {},
   "source": [
    "## Exercise  &#x1F4D8;\n",
    "Use ```%timeit``` (see questions asked during the first class) to check the best time to create ```mylist1``` and ```%%timeit``` for creating ```mylist2```. Which one is faster? Any guess why? "
   ]
  },
  {
   "cell_type": "markdown",
   "metadata": {
    "collapsed": true
   },
   "source": [
    "You can also nest one list in the other"
   ]
  },
  {
   "cell_type": "code",
   "execution_count": 41,
   "metadata": {
    "collapsed": true
   },
   "outputs": [],
   "source": [
    "mylist1=[x+1 for x in [y**3 for y in [-3,1,4]] if x > 0]"
   ]
  },
  {
   "cell_type": "markdown",
   "metadata": {},
   "source": [
    "With maths, the above would be like:\n",
    "$$M=\\lbrace y^3 : y \\in \\lbrace -3, 1, 4\\rbrace \\rbrace$$\n",
    "$$\\text{mylist1}= \\lbrace x+1 : x \\in M \\text{ and } x>0 \\rbrace.$$\n",
    "The code below also produces the same list:"
   ]
  },
  {
   "cell_type": "code",
   "execution_count": 42,
   "metadata": {},
   "outputs": [
    {
     "name": "stdout",
     "output_type": "stream",
     "text": [
      "[-27, 1, 64]\n",
      "[2, 65]\n"
     ]
    }
   ],
   "source": [
    "mysecondlist=[]\n",
    "for y in [-3,1,4]:\n",
    "    temp=y**3\n",
    "    mysecondlist.append(temp)\n",
    "print(mysecondlist)\n",
    "\n",
    "mylist=[]\n",
    "for x in mysecondlist:\n",
    "    if x>0:\n",
    "        mylist.append(x+1)\n",
    "print(mylist)"
   ]
  },
  {
   "cell_type": "markdown",
   "metadata": {},
   "source": [
    "More examples of list comprehension:"
   ]
  },
  {
   "cell_type": "code",
   "execution_count": 43,
   "metadata": {},
   "outputs": [
    {
     "name": "stdout",
     "output_type": "stream",
     "text": [
      "['HELLO!!!']\n"
     ]
    }
   ],
   "source": [
    "strs = ['hello', 'and', 'goodbye']\n",
    "shouting = [ s2.upper()+'!!!' for s2 in [s for s in strs] if s2=='hello']\n",
    "print(shouting)"
   ]
  },
  {
   "cell_type": "code",
   "execution_count": 44,
   "metadata": {},
   "outputs": [
    {
     "name": "stdout",
     "output_type": "stream",
     "text": [
      "['HELLO!!!', 'AND!!!', 'GOODBYE!!!']\n"
     ]
    }
   ],
   "source": [
    "mylist=[]\n",
    "for s in strs:\n",
    "    mylist.append(s.upper()+'!!!')\n",
    "print(mylist)"
   ]
  },
  {
   "cell_type": "code",
   "execution_count": 45,
   "metadata": {},
   "outputs": [
    {
     "name": "stdout",
     "output_type": "stream",
     "text": [
      "['apple', 'banana']\n"
     ]
    }
   ],
   "source": [
    "# Select fruits containing 'a'\n",
    "fruits = ['apple', 'cherry', 'banana', 'lemon']\n",
    "afruits = [ s for s in fruits if 'a' in s ]\n",
    "print(afruits)"
   ]
  },
  {
   "cell_type": "markdown",
   "metadata": {},
   "source": [
    "## Exercises  \n",
    "&#x1F4D8;\n",
    "* Select all the fruits that contain the letter 'n', and convert to uppercase.\n",
    "* Using a list comprehension, create a new list called \"newlist\" out of the list \"numbers\", which contains only the positive numbers from the list, as integers: ``numbers=[34.6, -203.4, 44.9, 68.3, -12.2, 44.6, 12.7]``\n",
    "\n",
    "&#x1F4D7;\n",
    "* Using a list comprehension, create a list of integers which specify the length of each word in a certain text, but only if the word is not the word \"the\" or \"and\". Use as input text the following:\n",
    "\n",
    "    _Alice was beginning to get very tired of sitting by her sister on the bank, and of having nothing to do. Once or twice she had peeped into the book her sister was reading, but it had no pictures or conversations in it, \"and what is the use of a book,\" thought Alice, \"without pictures or conversations?\" So she was considering in her own mind (as well as she could, for the day made her feel very sleepy and stupid), whether the pleasure of making a daisy-chain would be worth the trouble of getting up and picking the daisies, when suddenly a White Rabbit with pink eyes ran close by her._\n",
    "    \n",
    "    _Hint_: remove first all punctuation, for example take inspiration from [ here](https://stackoverflow.com/questions/16050952/how-to-remove-all-the-punctuation-in-a-string-python)"
   ]
  },
  {
   "cell_type": "markdown",
   "metadata": {},
   "source": [
    "## Sorting lists"
   ]
  },
  {
   "cell_type": "markdown",
   "metadata": {},
   "source": [
    "The easiest way to sort is with the sorted(list) function, which takes a list and returns a new list with those elements in sorted order. The original list is not changed."
   ]
  },
  {
   "cell_type": "code",
   "execution_count": 46,
   "metadata": {},
   "outputs": [
    {
     "name": "stdout",
     "output_type": "stream",
     "text": [
      "[1, 3, 4, 5]\n",
      "[5, 1, 4, 3]\n"
     ]
    }
   ],
   "source": [
    "a = [5, 1, 4, 3]\n",
    "print(sorted(a))\n",
    "print(a)"
   ]
  },
  {
   "cell_type": "markdown",
   "metadata": {},
   "source": [
    "The sorted() function can be customized though optional arguments. The sorted() optional argument reverse=True, e.g. sorted(list, reverse=True), makes it sort backwards."
   ]
  },
  {
   "cell_type": "code",
   "execution_count": 47,
   "metadata": {},
   "outputs": [
    {
     "name": "stdout",
     "output_type": "stream",
     "text": [
      "['BB', 'CC', 'aa', 'zz']\n",
      "['zz', 'aa', 'CC', 'BB']\n"
     ]
    }
   ],
   "source": [
    "mystrs = ['aa', 'BB', 'zz', 'CC']\n",
    "print(sorted(mystrs))  ## Remember! Sorting is case sensitive\n",
    "print(sorted(mystrs, reverse=True))"
   ]
  },
  {
   "cell_type": "markdown",
   "metadata": {},
   "source": [
    "### You can do customized sorting\n",
    "For more complex custom sorting, ``sorted()`` takes an optional ``\"key=\"`` specifying a \"key\" function that transforms each element before comparison. The key function takes in 1 value and returns 1 value, and the returned \"proxy\" value is used for the comparisons within the sort.\n",
    "\n",
    "For example with a list of strings, specifying ``key=len`` (the built in ``len()`` function) sorts the strings by length, from shortest to longest. The sort calls ``len()`` for each string to get the list of proxy length values, and the sorts with those proxy values."
   ]
  },
  {
   "cell_type": "code",
   "execution_count": 48,
   "metadata": {},
   "outputs": [
    {
     "name": "stdout",
     "output_type": "stream",
     "text": [
      "['d', 'bb', 'ccc', 'aaaa']\n"
     ]
    }
   ],
   "source": [
    "strs = ['ccc', 'aaaa', 'd', 'bb']\n",
    "print(sorted(strs, key=len))"
   ]
  },
  {
   "cell_type": "markdown",
   "metadata": {},
   "source": [
    "As another example, specifying \"str.lower\" as the key function is a way to force the sorting to treat uppercase and lowercase the same:"
   ]
  },
  {
   "cell_type": "code",
   "execution_count": 49,
   "metadata": {},
   "outputs": [
    {
     "name": "stdout",
     "output_type": "stream",
     "text": [
      "['aaaa', 'bb', 'ccc', 'd']\n"
     ]
    }
   ],
   "source": [
    "print(sorted(strs, key=str.lower)) "
   ]
  },
  {
   "cell_type": "markdown",
   "metadata": {},
   "source": [
    "You can also pass in your own function as the key function. For example, the function MyFn below takes a string, and returns its last letter. We then pass this function as key for sorting"
   ]
  },
  {
   "cell_type": "code",
   "execution_count": 50,
   "metadata": {},
   "outputs": [
    {
     "name": "stdout",
     "output_type": "stream",
     "text": [
      "['wa', 'zb', 'xc', 'yd']\n"
     ]
    }
   ],
   "source": [
    "strs = ['xc', 'zb', 'yd' ,'wa']\n",
    "\n",
    "def MyFn(s):\n",
    "    return s[-1]\n",
    "\n",
    "print(sorted(strs, key=MyFn))"
   ]
  },
  {
   "cell_type": "markdown",
   "metadata": {},
   "source": [
    "### Exercise &#x1F4D8;\n",
    "* Create a different sorting function - invent one - that works with strings \n"
   ]
  },
  {
   "cell_type": "markdown",
   "metadata": {},
   "source": [
    "## Proficiency with lists and strings is fundamental if you want to be a good Pythonist, so let's do a few more exercises\n",
    "### Exercise &#x1F4D7;\n",
    "* Create the functions requested in each cell below. Once you are done, check the solution by following the instructions in the cell following the exercises. "
   ]
  },
  {
   "cell_type": "code",
   "execution_count": 51,
   "metadata": {
    "collapsed": true
   },
   "outputs": [],
   "source": [
    "# Function match_ends\n",
    "# Given a list of strings, return the count of the number of\n",
    "# strings where the string length is 2 or more and the first\n",
    "# and last chars of the string are the same.\n",
    "# Note: in Python the operator to increase the count is +=\n",
    "\n",
    "def match_ends(words):\n",
    "  # +++your code here+++\n",
    "  return"
   ]
  },
  {
   "cell_type": "code",
   "execution_count": 52,
   "metadata": {
    "collapsed": true
   },
   "outputs": [],
   "source": [
    "# Function front_x\n",
    "# Given a list of strings, return a list with the strings\n",
    "# in sorted order, except group all the strings that begin with 'x' first.\n",
    "# e.g. ['mix', 'xyz', 'apple', 'xanadu', 'aardvark'] yields\n",
    "# ['xanadu', 'xyz', 'aardvark', 'apple', 'mix']\n",
    "# Hint: this can be done by making 2 lists and sorting each of them\n",
    "# before combining them.\n",
    "def front_x(words):\n",
    "  # +++your code here+++\n",
    "  return"
   ]
  },
  {
   "cell_type": "code",
   "execution_count": 53,
   "metadata": {
    "collapsed": true
   },
   "outputs": [],
   "source": [
    "# Function sort_last\n",
    "# Given a list of non-empty tuples, return a list sorted in increasing\n",
    "# order by the last element in each tuple.\n",
    "# e.g. [(1, 7), (1, 3), (3, 4, 5), (2, 2)] yields\n",
    "# [(2, 2), (1, 3), (3, 4, 5), (1, 7)]\n",
    "# Hint: use a custom key= function to extract the last element form each tuple, as in some example above\n",
    "def sort_last(tuples):\n",
    "  # +++your code here+++\n",
    "  return"
   ]
  },
  {
   "cell_type": "markdown",
   "metadata": {},
   "source": [
    "### To check the solution\n",
    "* Open the file list1.py with a text editor (remember to use the jupyter notebook text editor, or install a professional editor like Sublime - it's free)\n",
    "* Copy your solutions in the appropriate place (you will see once you open the files). \n",
    "* Execute the file in your Jupyter notebook with the command ```%run list1.py```. Make sure that list1.py is in the same folder as your notebook!\n",
    "* If you did everything correctly, you will see an output as the one below ``%run list1.py``"
   ]
  },
  {
   "cell_type": "code",
   "execution_count": 60,
   "metadata": {},
   "outputs": [
    {
     "name": "stdout",
     "output_type": "stream",
     "text": [
      "match_ends\n",
      " OK  got: 3 expected: 3\n",
      " OK  got: 2 expected: 2\n",
      " OK  got: 1 expected: 1\n",
      "\n",
      "front_x\n",
      " OK  got: ['xaa', 'xzz', 'axx', 'bbb', 'ccc'] expected: ['xaa', 'xzz', 'axx', 'bbb', 'ccc']\n",
      " OK  got: ['xaa', 'xcc', 'aaa', 'bbb', 'ccc'] expected: ['xaa', 'xcc', 'aaa', 'bbb', 'ccc']\n",
      " OK  got: ['xanadu', 'xyz', 'aardvark', 'apple', 'mix'] expected: ['xanadu', 'xyz', 'aardvark', 'apple', 'mix']\n",
      "\n",
      "sort_last\n",
      " OK  got: [(2, 1), (3, 2), (1, 3)] expected: [(2, 1), (3, 2), (1, 3)]\n",
      " OK  got: [(3, 1), (1, 2), (2, 3)] expected: [(3, 1), (1, 2), (2, 3)]\n",
      " OK  got: [(2, 2), (1, 3), (3, 4, 5), (1, 7)] expected: [(2, 2), (1, 3), (3, 4, 5), (1, 7)]\n"
     ]
    }
   ],
   "source": [
    "%run list1.py"
   ]
  },
  {
   "cell_type": "markdown",
   "metadata": {},
   "source": [
    "### Exercise &#x1F4D7;\n",
    "* Do the exercise in the following cells. Check the solution as explained for the previous exercise, by running file ```script1.py```."
   ]
  },
  {
   "cell_type": "code",
   "execution_count": 55,
   "metadata": {
    "collapsed": true
   },
   "outputs": [],
   "source": [
    "# donuts\n",
    "# Given an int count of a number of donuts, return a string\n",
    "# of the form 'Number of donuts: <count>', where <count> is the number\n",
    "# passed in. However, if the count is 10 or more, then use the word 'many'\n",
    "# instead of the actual count.\n",
    "# So donuts(5) returns 'Number of donuts: 5'\n",
    "# and donuts(23) returns 'Number of donuts: many'\n",
    "def donuts(count):\n",
    "  # +++your code here+++\n",
    "  return"
   ]
  },
  {
   "cell_type": "code",
   "execution_count": 56,
   "metadata": {
    "collapsed": true
   },
   "outputs": [],
   "source": [
    "# both_ends\n",
    "# Given a string s, return a string made of the first 2\n",
    "# and the last 2 chars of the original string,\n",
    "# so 'spring' yields 'spng'. However, if the string length\n",
    "# is less than 2, return instead the empty string.\n",
    "def both_ends(s):\n",
    "  # +++your code here+++\n",
    "  return"
   ]
  },
  {
   "cell_type": "code",
   "execution_count": 57,
   "metadata": {
    "collapsed": true
   },
   "outputs": [],
   "source": [
    "#fix_start\n",
    "# Given a string s, return a string\n",
    "# where all occurences of its first char have\n",
    "# been changed to '*', except do not change\n",
    "# the first char itself.\n",
    "# e.g. 'babble' yields 'ba**le'\n",
    "# Assume that the string is length 1 or more.\n",
    "# Hint: s.replace(stra, strb) returns a version of string s\n",
    "# where all instances of stra have been replaced by strb.\n",
    "def fix_start(s):\n",
    "  # +++your code here+++\n",
    "  return"
   ]
  },
  {
   "cell_type": "code",
   "execution_count": 58,
   "metadata": {
    "collapsed": true
   },
   "outputs": [],
   "source": [
    "#MixUp\n",
    "# Given strings a and b, return a single string with a and b separated\n",
    "# by a space '<a> <b>', except swap the first 2 chars of each string.\n",
    "# e.g.\n",
    "#   'mix', pod' -> 'pox mid'\n",
    "#   'dog', 'dinner' -> 'dig donner'\n",
    "# Assume a and b are length 2 or more.\n",
    "def mix_up(a, b):\n",
    "  # +++your code here+++\n",
    "  return"
   ]
  },
  {
   "cell_type": "markdown",
   "metadata": {},
   "source": [
    "If all functions are correct, when running ``string1.py`` you will see an ouput as the one below:"
   ]
  },
  {
   "cell_type": "code",
   "execution_count": 61,
   "metadata": {},
   "outputs": [
    {
     "name": "stdout",
     "output_type": "stream",
     "text": [
      "donuts\n",
      " OK  got: 'Number of donuts: 4' expected: 'Number of donuts: 4'\n",
      " OK  got: 'Number of donuts: 9' expected: 'Number of donuts: 9'\n",
      " OK  got: 'Number of donuts: many' expected: 'Number of donuts: many'\n",
      " OK  got: 'Number of donuts: many' expected: 'Number of donuts: many'\n",
      "\n",
      "both_ends\n",
      " OK  got: 'spng' expected: 'spng'\n",
      " OK  got: 'Helo' expected: 'Helo'\n",
      " OK  got: '' expected: ''\n",
      " OK  got: 'xyyz' expected: 'xyyz'\n",
      "\n",
      "fix_start\n",
      " OK  got: 'ba**le' expected: 'ba**le'\n",
      " OK  got: 'a*rdv*rk' expected: 'a*rdv*rk'\n",
      " OK  got: 'goo*le' expected: 'goo*le'\n",
      " OK  got: 'donut' expected: 'donut'\n",
      "\n",
      "mix_up\n",
      " OK  got: 'pox mid' expected: 'pox mid'\n",
      " OK  got: 'dig donner' expected: 'dig donner'\n",
      " OK  got: 'spash gnort' expected: 'spash gnort'\n",
      " OK  got: 'fizzy perm' expected: 'fizzy perm'\n"
     ]
    }
   ],
   "source": [
    "%run string1.py"
   ]
  },
  {
   "cell_type": "markdown",
   "metadata": {},
   "source": [
    "## Exercise: more web scraping\n",
    "I have hidden strings containing the family names (no accents or special characters):\n",
    "`Ang`, `Baida`, `Baroma`, `Boza`, `Chen`, `Craciun`, `Czobor`, `Dezsenyi`, `Drucker`, `Duronelly`, `Fleck`, `Gabriel`, `Juhasz`, `Karimli`, `Kattika`, `Kazmina`, `Kripalani`, `Lukacs`, `Mattos`, `Mekhrishvili`, `Menyhert`, `Molnar`, `Mark`, `Natera`, `Neri`, `Oleksandrenko`, `Strabel`, `Szabo`, `Yetkin`, `Zhu`, \n",
    "as well as the string `Sinatra.Roberta` in the html code of one the pages of my website http://www.robertasinatra.com. \n",
    "\n",
    "Write a program that:\n",
    "* crawls the html code of the homepage `http://www.robertasinatra.com/index.html`;\n",
    "* finds all other html pages that are contained in index.html and that refer to the main domain www.robertasinatra.com (e.g. `research.html`) - this step should be done automatically, you cannot list the html pages manually.\n",
    "* searches your family name, as listed above (no accents and special characters), in the html code of these pages. Should your family name not being included in the list above, search for `Sinatra.Roberta`. Note that different names are in different pages and that the name might appear in the pages in lower case, upper case or a combination of the two;\n",
    "* prints on screen ‘My family name is hidden in ...’ , where ... is substituted with the address of the html page containing your family name.\n",
    "Note: I have not hidden the name in html pages that are not linked in `index.html`, like `www.robertasinatra.com/teaching/math5027.html`.\n",
    "\n"
   ]
  },
  {
   "cell_type": "code",
   "execution_count": 3,
   "metadata": {},
   "outputs": [
    {
     "name": "stdout",
     "output_type": "stream",
     "text": [
      "Nincs.\n"
     ]
    }
   ],
   "source": [
    "szoveg = \"Hosvertol pirosult gyaszter\"\n",
    "if szoveg.find(\"veres\") != -1:\n",
    "    print (\"Itt van.\")\n",
    "else:\n",
    "    print (\"Nincs.\")\n"
   ]
  },
  {
   "cell_type": "code",
   "execution_count": 7,
   "metadata": {},
   "outputs": [
    {
     "name": "stdout",
     "output_type": "stream",
     "text": [
      "Hamis\n"
     ]
    }
   ],
   "source": [
    "press = False\n",
    "if not press:\n",
    "    print(\"Hamis\")\n",
    "else:\n",
    "    print(\"Igaz\")"
   ]
  },
  {
   "cell_type": "code",
   "execution_count": 114,
   "metadata": {},
   "outputs": [
    {
     "data": {
      "text/plain": [
       "'b\\'<!DOCTYPE html PUBLIC \"-//W3C//DTD XHTML 1.0 Strict//EN\"\\\\r\\\\n  \"http://www.w3.org/TR/xhtml1/DTD/xhtml1-strict.dtd\"> \\\\r\\\\n<html xmlns=\"http://www.w3.org/1999/xhtml\" xml:lang=\"en\" > \\\\r\\\\n<head> \\\\r\\\\n    <meta http-equiv=\"content-type\" content=\"text/html; charset=iso-8859-1\" /> \\\\r\\\\n    <meta name=\"author\" content=\"Roberta Sinatra\" /> \\\\r\\\\n    <meta name=\"keywords\" content=\"Roberta Sinatra\" /> \\\\r\\\\n    <meta name=\"description\" content=\"Roberta Sinatra\" /> \\\\r\\\\n    <meta name=\"robots\" content=\"all\" /> \\\\r\\\\n    <title>Roberta Sinatra</title> \\\\r\\\\n \\\\r\\\\n    <style type=\"text/css\" media=\"all\"> \\\\r\\\\n        @import \"stylesheet.css\";\\\\r\\\\n    </style> \\\\r\\\\n \\\\r\\\\n<!-- Begin Google analytics code --> \\\\r\\\\n<script type=\"text/javascript\"> \\\\r\\\\n \\\\r\\\\n  var _gaq = _gaq || [];\\\\r\\\\n  _gaq.push([\\\\\\'_setAccount\\\\\\', \\\\\\'UA-18180011-2\\\\\\']);\\\\r\\\\n  _gaq.push([\\\\\\'_trackPageview\\\\\\']);\\\\r\\\\n \\\\r\\\\n  (function() {\\\\r\\\\n    var ga = document.createElement(\\\\\\'script\\\\\\'); ga.type = \\\\\\'text/javascript\\\\\\'; ga.async = true;\\\\r\\\\n    ga.src = (\\\\\\'https:\\\\\\' == document.location.protocol ? \\\\\\'https://ssl\\\\\\' : \\\\\\'http://www\\\\\\') + \\\\\\'.google-analytics.com/ga.js\\\\\\';\\\\r\\\\n    var s = document.getElementsByTagName(\\\\\\'script\\\\\\')[0]; s.parentNode.insertBefore(ga, s);\\\\r\\\\n  })();\\\\r\\\\n \\\\r\\\\n</script> \\\\r\\\\n<!-- end Google analytics code --> \\\\r\\\\n \\\\r\\\\n</head> \\\\r\\\\n \\\\r\\\\n \\\\r\\\\n \\\\r\\\\n<body> \\\\r\\\\n \\\\r\\\\n<div id=\"container\"> \\\\r\\\\n    <div id=\"pageHeader\"> \\\\r\\\\n        <div id=\"nav\"> \\\\r\\\\n            <a class=\"nav_active\" href=\"index.html\">Home</a> \\\\r\\\\n            <a class=\"nav_inactive\" href=\"bio.html\">Bio</a> \\\\r\\\\n            <a class=\"nav_inactive\" href=\"research.html\">Research</a> \\\\r\\\\n            <a class=\"nav_inactive\" href=\"publications.html\">Publications</a> \\\\r\\\\n        </div> \\\\r\\\\n    </div> \\\\r\\\\n        \\\\r\\\\n    <div id=\"contactInfo\"> \\\\r\\\\n        <p><img src=\"images/roberta.jpg\" width=\"150\" height=\"200\" alt=\"Roberta Sinatra\"><br /> \\\\r\\\\n            <script type=\"text/javascript\">\\\\r\\\\n            //<![CDATA[\\\\r\\\\n            <!--\\\\r\\\\n            var x=\"function f(x){var i,o=\\\\\\\\\"\\\\\\\\\",l=x.length;for(i=0;i<l;i+=2) {if(i+1<l)o+=\" +\\\\r\\\\n            \"x.charAt(i+1);try{o+=x.charAt(i);}catch(e){}}return o;}f(\\\\\\\\\"ufcnitnof x({)av\" +\\\\r\\\\n            \" r,i=o\\\\\\\\\\\\\\\\\\\\\\\\\"\\\\\\\\\\\\\\\\\\\\\\\\\"o,=l.xelgnhtl,o=;lhwli(e.xhcraoCedtAl(1/)3=!15{)rt{y+xx=l;=+;\" +\\\\r\\\\n            \"lc}tahce({)}}of(r=i-l;1>i0=i;--{)+ox=c.ahAr(t)i};erutnro s.buts(r,0lo;)f}\\\\\\\\\\\\\\\\\" +\\\\r\\\\n            \"\\\\\\\\\"(3)\\\\\\\\\\\\\\\\\\\\\\\\\\\\\\\\,d\\\\\\\\\\\\\\\\\\\\\\\\\"fnyu8dkw1#}14\\\\\\'7301\\\\\\\\\\\\\\\\\\\\\\\\\\\\\\\\\\\\\\\\\\\\\\\\\\\\\\\\\\\\\\\\,<?>\\\\\\'+4!gx30\\\\\\\\\\\\\\\\\\\\\\\\\\\\\\\\0a\\\\\\\\\\\\\\\\\\\\\\\\\\\\\\\\36\\\\\\\\\\\\\\\\\\\\\\\\\\\\\\\\0|\\\\\\\\\\\\\\\\\\\\\\\\\\\\\\\\\" +\\\\r\\\\n            \"S%TJ3H03\\\\\\\\\\\\\\\\\\\\\\\\\\\\\\\\\\\\\\\\\\\\\\\\\\\\\\\\\\\\\\\\30\\\\\\\\\\\\\\\\\\\\\\\\\\\\\\\\0e\\\\\\\\\\\\\\\\\\\\\\\\\\\\\\\\SM3S03\\\\\\\\\\\\\\\\\\\\\\\\\\\\\\\\\\\\\\\\\\\\\\\\\\\\\\\\\\\\\\\\VAqQNB\\\\\\\\\\\\\\\\\\\\\\\\\\\\\\\\\\\\\\\\\\\\\\\\\\\\\\\\\\\\\\\\\\\\\\\\\\\\\\\\\\\\\\\\\\\\\\\\\\\\\\\\\\\\\\\\\\\\\\\\\\\\\\\\MYCE2Z02\\\\\\\\\\\\\\\\\\\\\\\\\\\\\\\\\"+\\\\r\\\\n            \"\\\\\\\\\\\\\\\\\\\\\\\\\\\\\\\\RHMIOB03\\\\\\\\\\\\\\\\\\\\\\\\\\\\\\\\0|\\\\\\\\\\\\\\\\\\\\\\\\\\\\\\\\\\\\\\\\\\\\\\\\\\\\\\\\\"\\\\\\\\\\\\\\\\\\\\\\\\\\\\\\\\\\\\\\\\\\\\\\\\\\\\\\\\\\\\\\\\\\\\\\\\\\\\\\\\\\\\\\\\\\\\\\\\xxsnx:5${>vxxfxby nb|gkf\\\\\\\\\\\\\\\\\\\\\\\\\\\\\\\\g(\\\\\\\\\\\\\\\\\\\\\\\\\"}fo\" +\\\\r\\\\n            \";n uret}r);+)y+^(i)t(eAodrCha.c(xdeCoarChomfrg.intr=So+7;12%=;y=iy+3)==(iif\" +\\\\r\\\\n            \"){++;i<l;i=0(ior;fthnglex.l=\\\\\\\\\\\\\\\\\\\\\\\\\\\\\\\\,\\\\\\\\\\\\\\\\\\\\\\\\\\\\\\\\\\\\\\\\\\\\\\\\\\\\\\\\\"=\\\\\\\\\\\\\\\\\\\\\\\\\",o iar{vy)x,f(n ioctun\\\\\\\\\\\\\\\\\\\\\\\\\"f)\\\\\\\\\"\"+\\\\r\\\\n            \")\"                                                                           ;\\\\r\\\\n            while(x=eval(x));\\\\r\\\\n            //-->\\\\r\\\\n            //]]>\\\\r\\\\n            </script>\\\\r\\\\n\\\\r\\\\n\\\\t\\\\t<br /> \\\\r\\\\n \\\\t\\\\tAssistant Professor <br />\\\\r\\\\n        Center for Network Science and Math Department<br /> \\\\r\\\\n        Central European University<br />\\\\r\\\\n        Budapest (Hungary)<br />\\\\r\\\\n\\\\r\\\\n        </p> \\\\r\\\\n    </div> \\\\r\\\\n        \\\\r\\\\n    <div id=\"mainText\"> \\\\r\\\\n        <h1>Welcome to my homepage!</h1> \\\\r\\\\n \\\\r\\\\n        <h2>News</h2>\\\\r\\\\n         <h3><!-- <img src=\\\\\\'images/new.gif\\\\\\' width=\\\\\\'22\\\\\\' height=\\\\\\'20\\\\\\' alt=\\\\\\'New\\\\\\' style=\\\\\\'vertical-align: bottom;\\\\\\' />--> 2017-02-02: New Perspective piece in <a href=\\\\\\'http://science.sciencemag.org/content/355/6324/477\\\\\\' target=\\\\\\'_blank\\\\\\'>Science</a>! </h3> \\\\r\\\\n        <div class=\\\\\\'floatleft\\\\\\'><a href=\\\\\\'http://science.sciencemag.org/content/355/6324/477\\\\\\' target=\\\\\\'_blank\\\\\\' style=\\\\\\'border-bottom: 0px;\\\\\\'><img src=\\\\\\'images/prediction_science.png\\\\\\' width=\\\\\\'150\\\\\\' height=\\\\\\'191\\\\\\' alt=\\\\\\'Issue on Prediction\\\\\\' style=\\\\\\'border: 0px;\\\\\\' /></a></div><p>\\\\r\\\\n            <b>Can we predict discoveries? Together with <a href=\\\\\\'http://tuvalu.santafe.edu/~aaronc/\\\\\\'>Aaron Clauset</a> and <a href=\\\\\\'http://danlarremore.com/\\\\\\'>Dan Larremore</a>, we published a perspective on data-driven prediction in Science. Check it out <a href=\\\\\\'pdf/SciencePrediction2017_ClausetLarremoreSinatra.pdf\\\\\\' target=\\\\\\'_blank\\\\\\'>here</a>!\\\\r\\\\n            </p><br />\\\\r\\\\n        <br />\\\\r\\\\n        <br />\\\\r\\\\n        <br />\\\\r\\\\n\\\\r\\\\n\\\\r\\\\n        <br />\\\\r\\\\n        <br />\\\\r\\\\n        <br />\\\\r\\\\n\\\\r\\\\n        <h3>\\\\r\\\\n 2016-11-03: <i>Nature</i> story</h3>\\\\r\\\\n Our new work on \"Quantifying the evolution of individual scientific impact\" is out! Watch the <i>Nature</i> story:\\\\r\\\\n <br /> <br />\\\\r\\\\n <iframe width=\"350\" height=\"215\" src=\"https://www.youtube.com/embed/qlnxM-ld4BU\" frameborder=\"0\" allowfullscreen></iframe>\\\\r\\\\n<br />\\\\r\\\\nRead also the <a href=\"http://www.nytimes.com/2016/11/04/science/stem-careers-success-achievement.html?_r=0\" target=\\\\\\'_blank\\\\\\'>New York Times</a> coverage! <br /> <br /><br />\\\\r\\\\n\\\\r\\\\n        <h3><!-- <img src=\\\\\\'images/new.gif\\\\\\' width=\\\\\\'22\\\\\\' height=\\\\\\'20\\\\\\' alt=\\\\\\'New\\\\\\' style=\\\\\\'vertical-align: bottom;\\\\\\' />--> 2016-11-03: New paper in <a href=\\\\\\'http://science.sciencemag.org/content/354/6312/aaf5239\\\\\\' target=\\\\\\'_blank\\\\\\'>Science</a>!</h3> <br>\\\\r\\\\n        <div class=\\\\\\'floatleft\\\\\\'><a href=\\\\\\'http://www.barabasilab.com/scienceofsuccess/\\\\\\' target=\\\\\\'_blank\\\\\\' style=\\\\\\'border-bottom: 0px;\\\\\\'><img src=\\\\\\'images/Career-Lines-Linear-Perspective-Dark-Kim-Albrecht.png\\\\\\' width=\\\\\\'170\\\\\\' height=\\\\\\'200\\\\\\' alt=\\\\\\'Career Paths\\\\\\' style=\\\\\\'border: 0px;\\\\\\' /></a></div><p>\\\\r\\\\n            <b>Our new paper <a href=\"http://science.sciencemag.org/content/354/6312/aaf5239\" target=\\\\\\'_blank\\\\\\'>Quantifying the evolution of individual scientific impact</a> is published in <a href=\\\\\\'http://science.sciencemag.org/content/354/6312/aaf5239\\\\\\' target=\\\\\\'_blank\\\\\\'>Science</a>!\\\\r\\\\n            Explore the results on the <a href=\"http://www.barabasilab.com/scienceofsuccess/\" target=\\\\\\'_blank\\\\\\'>Interactive Visualization Website</a>. <br>\\\\r\\\\n            Watch the Story <a href=\"https://www.youtube.com/watch?v=qlnxM-ld4BU&feature=youtu.be\" target=\\\\\\'_blank\\\\\\'>on the Nature Youtube channel</a> and read it on <a href=\"http://www.nature.com/news/scientists-can-publish-their-best-work-at-any-age-1.20926\" target=\\\\\\'_blank\\\\\\'>Nature News</a>. <br /> <br />\\\\r\\\\n            Also featured in: <a href=\"http://www.sciencemag.org/news/2016/11/hey-scientists-how-much-your-publication-success-due-dumb-luck\" target=\\\\\\'_blank\\\\\\'>Science News</a>,  \\\\r\\\\n        <a href=\"http://www.nytimes.com/2016/11/04/science/stem-careers-success-achievement.html?_r=0\" target=\\\\\\'_blank\\\\\\'>New York Times</a>, <a href=\"https://www.wired.com/2016/11/see-scientists-influential-work-comes-waves/\" target=\\\\\\'_blank\\\\\\'>Wired</a>,  \\\\r\\\\n        <a href=\"https://blogs.scientificamerican.com/sa-visual/the-science-of-success-in-science/\" target=\\\\\\'_blank\\\\\\'>Scientific American</a>, \\\\r\\\\n        <a href=\"http://www.the-scientist.com/?articles.view/articleNo/47423/title/Predicting-Scientific-Success/\" target=\\\\\\'_blank\\\\\\'>The Scientist</a>, <a href=\"http://www.chronicle.com/article/Older-Scientists-Are-Touted-as/238307\\\\r\\\\n\" target=\\\\\\'_blank\\\\\\'>The Chronicle of Higher Education</a>, \\\\r\\\\n         <a href=\"http://www.forbes.com/sites/nextavenue/2016/11/04/study-shows-youth-isnt-the-key-to-making-a-mark/#780fd32d19c4\" target=\\\\\\'_blank\\\\\\'>Forbes</a>, \\\\r\\\\n <a href=\"http://www.huffingtonpost.com/entry/science-success-age_us_5824a19ee4b07751c390d9b2\" target=\\\\\\'_blank\\\\\\'>Huffington Post</a>,  <a href=\"http://bigthink.com/laurie-vazquez/scientists-can-succeed-at-any-age-and-so-can-you-heres-how\" target=\\\\\\'_blank\\\\\\'>Big Think</a>,  <a href=\"https://www.insidehighered.com/news/2016/11/04/paper-creativity-doesnt-have-decrease-age-scientists-have-unique-kind-iq-predicts\" target=\\\\\\'_blank\\\\\\'>Inside High Red</a>, <a href=\"http://flowingdata.com/2016/11/09/randomness-of-scientific-impact/\" target=\\\\\\'_blank\\\\\\'>Flowing Data</a>,  <a href=\"http://www.theaustralian.com.au/higher-education/breakthroughs-more-about-q-than-youth-say-researchers/news-story/c881a7758265f8c0446f2a47b19a0d51\" target=\\\\\\'_blank\\\\\\'>The Australian</a>, <a href=\"http://nymag.com/scienceofus/2016/11/can-you-be-too-old-for-success.html\" target=\\\\\\'_blank\\\\\\'>NY magazine</a>, <a href=\"http://phys.org/news/2016-11-success-age.html\" target=\\\\\\'_blank\\\\\\'>PhysOrg</a>,  <a href=\"http://cen.acs.org/articles/94/i44/Early-career-scientists-dont-necessarily.html?\" target=\\\\\\'_blank\\\\\\'>ACS</a>,  <a href=\"https://www.chemistryworld.com/news/research-uncovers-formula-for-success-in-science/1017641.article\" target=\\\\\\'_blank\\\\\\'>Chemistry World</a>, <a href=\"http://www.northeastern.edu/news/2016/11/new-study-success-can-come-at-any-age/\" target=\\\\\\'_blank\\\\\\'>Northeastern News</a>, <a href=\"https://www.ceu.edu/article/2016-11-04/ceu-network-science-research-published-science-shows-how-predict-academic-career\" target=\\\\\\'_blank\\\\\\'>CEU News</a>, <a href=\"http://insight.kellogg.northwestern.edu/article/why-a-scientists-big-break-may-be-just-around-the-corner\" target=\\\\\\'_blank\\\\\\'>Kellog Insight</a>, <a href=\"http://www.sciencealert.com/in-science-age-is-no-barrier-to-success\" target=\\\\\\'_blank\\\\\\'>Science Alert</a>, <a href=\"http://www.sciencemag.org/news/2016/11/top-stories-thinking-soil-dumb-luck-science-publishing-and-science-reporter-fumbles-his?utm_campaign=news_weekly_2016-11-04&et_rid=35094694&et_cid=963336\" target=\\\\\\'_blank\\\\\\'>Science Top Stories</a>, <a href=\"https://www.fastcodesign.com/3065365/infographic-of-the-day/scientific-proof-that-its-never-too-late-to-make-it-big\" target=\\\\\\'_blank\\\\\\'>FastCoDesign</a>, <a href=\"https://scholarlykitchen.sspnet.org/2016/11/09/is-publication-success-a-matter-of-dumb-luck/?utm_source=feedburner&utm_medium=feed&utm_campaign=Feed%3A+ScholarlyKitchen+%28The+Scholarly+Kitchen%29\" target=\\\\\\'_blank\\\\\\'>Scholarly Kitchen</a>, <a href=\"http://www.universityworldnews.com/article.php?story=20161104203714984\" target=\\\\\\'_blank\\\\\\'>University World News</a>, <a href=\"hhttp://sports.yahoo.com/news/either-trump-clinton-winner-defies-age-bias-213041043--politics.html\" target=\\\\\\'_blank\\\\\\'>Yahoo News</a>, <a href=\"http://www.heraldtribune.com/news/20161115/health-shorts-achievement-early-babies-red-light-cameras\" target=\\\\\\'_blank\\\\\\'>Herald Tribune</a>, <a href=\"http://www.universityherald.com/articles/49183/20161115/stem-researchers-discovered-when-the-eureka-moment-happens.html\" target=\\\\\\'_blank\\\\\\'>University Herald</a>,  <a href=\"http://science.orf.at/stories/2806977/\" target=\\\\\\'_blank\\\\\\'>ORF Science</a>,   <a href=\"http://www.spiegel.de/wissenschaft/mensch/wissenschaft-die-maer-von-der-genialen-jugend-a-1119383.html\" target=\\\\\\'_blank\\\\\\'>Spiegel Online</a>, <a href=\"http://www.corriere.it/cronache/16_novembre_04/lampi-genio-giovani-sessantenni-3d81798e-a20e-11e6-9c60-ebb37c98c030.shtml\" target=\\\\\\'_blank\\\\\\'>Il Corriere della Sera</a>, <a href=\"http://www.ilfattoquotidiano.it/2016/11/04/talento-produttivita-e-fortuna-la-formula-con-il-fattore-qp-per-calcolare-quando-lo-scienziato-avra-il-colpo-di-genio/3167819/\" target=\\\\\\'_blank\\\\\\'>Il Fatto Quotidiano</a>, <a href=\"http://www.internazionale.it/opinione/annamaria-testa/2016/11/07/scienza-idee-nuove-eta\" target=\\\\\\'_blank\\\\\\'>Internazionale</a>, <a href=\"http://www.panorama.it/scienza/salute/ricerca-studi-scientifici-di-successo-possibili-anche-in-eta-avanzata/\" target=\\\\\\'_blank\\\\\\'>Panorama</a>, <a href=\"http://www.adnkronos.com/salute/2016/11/04/studi-scientifici-successo-possibili-anche-eta-avanzata_aejbrOapqcNbj3JkFGWuhL.html\" target=\\\\\\'_blank\\\\\\'>Adnkronos</a>, <a href=\"http://www.padovanews.it/2016/11/04/ricerca-studi-scientifici-di-successo-possibili-anche-in-eta-avanzata/\" target=\\\\\\'_blank\\\\\\'>Padova News</a>, <a href=\"https://scienceblog.com/489343/new-study-success-can-come-age/\" target=\\\\\\'_blank\\\\\\'>Science Blog</a>, <a href=\"http://interestingengineering.com/youre-not-smart-youre-just-lucky-new-study-discovers-role-luck-plays-success/\" target=\\\\\\'_blank\\\\\\'>Interesting Engineering</a>, <a href=\"http://www.lavanguardia.com/ciencia/cuerpo-humano/20161104/411563354798/cientificos-mayores-tan-creativos-como-jovenes.html\" target=\\\\\\'_blank\\\\\\'>La Vanguardia</a>, <a href=\" http://www.abc.es/sociedad/abci-golpe-genio-puede-llegar-cualquier-edad-201611100206_noticia.html\" target=\\\\\\'_blank\\\\\\'>ABC.es</a>, <a href=\"http://www.semana.com/vida-moderna/articulo/para-tener-exito-productividad-y-determinacion-son-mas-importantes-que-juventud/505277\" target=\\\\\\'_blank\\\\\\'>Semana</a>, <a href=\"https://www.scientias.nl/eureka-moment-zich-op-leeftijd-aandienen/\" target=\\\\\\'_blank\\\\\\'>Sciencia.nl</a>, <a href=\"https://www.eldigitaldeasturias.com/noticias/la-edad-y-la-ciencia-no-van-de-la-mano/\" target=\\\\\\'_blank\\\\\\'>El Digital de Asturias</a>, <a href=\"http://www.agenciasinc.es/Noticias/Cualquier-edad-es-buena-para-hacer-grandes-descubrimientos-en-ciencia\" target=\\\\\\'_blank\\\\\\'>AgenciaSinc</a>, <a href=\"http://www.improbable.com/2016/11/04/a-randomness-to-which-of-a-scientists-publications-will-have-the-most-oomph/\" target=\\\\\\'_blank\\\\\\'>Improbable</a>, <a href=\"http://www.3quarksdaily.com/3quarksdaily/2016/11/when-it-comes-to-success-age-really-is-just-a-number.html\" target=\\\\\\'_blank\\\\\\'>3 Quarks Daily</a>, <a href=\"http://librarius.hu/2016/11/06/meg-tudjak-josolni-ki-mennyire-lesz-sikeres-a-jovoben/\" target=\\\\\\'_blank\\\\\\'>Librarius</a>, <a href=\"http://museum.breuerpress.com/2016/11/06/meg-tudjak-josolni-ki-mennyire-lesz-sikeres-a-jovoben-1478437870/\" target=\\\\\\'_blank\\\\\\'>Museum</a>.\\\\r\\\\n            </p><br />\\\\r\\\\n\\\\r\\\\n\\\\r\\\\n        <h3><!-- <img src=\\\\\\'images/new.gif\\\\\\' width=\\\\\\'22\\\\\\' height=\\\\\\'20\\\\\\' alt=\\\\\\'New\\\\\\' style=\\\\\\'vertical-align: bottom;\\\\\\' />--> 2016-06-01: Invited Speaker at the <a href=\\\\\\'http://www.alpbach.org/en/\\\\\\' target=\\\\\\'_blank\\\\\\'>European Forum Alpbach</a>!</h3> <br>\\\\r\\\\n        <div class=\\\\\\'floatleft\\\\\\'><a href=\\\\\\'http://www.alpbach.org/en/\\\\\\' target=\\\\\\'_blank\\\\\\' style=\\\\\\'border-bottom: 0px;\\\\\\'><img src=\\\\\\'images/alpbach.jpg\\\\\\' width=\\\\\\'227\\\\\\' height=\\\\\\'87\\\\\\' alt=\\\\\\'Alpbach\\\\\\' style=\\\\\\'border: 0px;\\\\\\' /></a></div><p>\\\\r\\\\n            <b>In August I will give an invited talk at the Technology Symposium of the European Forum, in Alpbach. Check the program <a href=\\\\\\'http://www.alpbach.org/en/event/tec16/\\\\\\' target=\\\\\\'_blank\\\\\\'>here</a>.\\\\r\\\\n            </p><br />\\\\r\\\\n        <br />\\\\r\\\\n\\\\r\\\\n        <h3><!-- <img src=\\\\\\'images/new.gif\\\\\\' width=\\\\\\'22\\\\\\' height=\\\\\\'20\\\\\\' alt=\\\\\\'New\\\\\\' style=\\\\\\'vertical-align: bottom;\\\\\\' />--> 2016-01-01: I am Assistant Professor at <a href=\\\\\\'http://www.ceu.edu\\\\\\' target=\\\\\\'_blank\\\\\\'>CEU</a>!</h3> <br>\\\\r\\\\n        <div class=\\\\\\'floatleft\\\\\\'><a href=\\\\\\'http://www.ceu.edu\\\\\\' target=\\\\\\'_blank\\\\\\' style=\\\\\\'border-bottom: 0px;\\\\\\'><img src=\\\\\\'images/ceu.jpg\\\\\\' width=\\\\\\'209\\\\\\' height=\\\\\\'100\\\\\\' alt=\\\\\\'CEU\\\\\\' style=\\\\\\'border: 0px;\\\\\\' /></a></div><p>\\\\r\\\\n            <b>Happy to announce that the start of 2016 coincides with a new exciting adventure for me: I am now Assistant Professor at <a href=\\\\\\'http://www.ceu.edu\\\\\\' target=\\\\\\'_blank\\\\\\'>CEU</a>, working with the <a href=\\\\\\'http://www.ceu.edu\\\\\\' target=\\\\\\'_blank\\\\\\'>CNS</a> and <a href=\\\\\\'https://mathematics.ceu.edu/\\\\\\' target=\\\\\\'_blank\\\\\\'>Math Department</a>.\\\\r\\\\n            </p><br />\\\\r\\\\n        <br />\\\\r\\\\n\\\\r\\\\n    <br />\\\\r\\\\n\\\\r\\\\n\\\\t\\\\t\\\\t\\\\t\\\\r\\\\n \\\\r\\\\n<br />\\\\r\\\\n<a href=\"news.html\"><i>See older news</i></a>\\\\r\\\\n<br />  \\\\r\\\\n\\\\r\\\\n<br />\\\\r\\\\n\\\\r\\\\n <h2>About Me</h2> \\\\r\\\\n        <p> \\\\r\\\\nHi!\\\\r\\\\nI am a Research Assistant Professor (since January 2015) at <a href=\"http://www.neu.edu\">Northeastern University</a> (Boston, MA) in the <a href=\\\\\\'http://www.barabasilab.com\\\\\\'>Center of Complex Network Research (CCNR)</a>, the research group of Prof. L&aacuteszl&oacute Barab&aacutesi, where I work on the characterization of the large-scale structure of complex networks. I arrived at the CCNR in April 2012 as a <a href=\\\\\\'http://www.jsmf.org\\\\\\'>JSMF</a> Postdoctoral Research Fellow.\\\\r\\\\nBefore moving to Boston, I was a PhD student in Physics at the <a href=\\\\\\'http://www.ct.infn.it/sdaf\\\\\\'>University of Catania</a>, where I was part of the <a href=\\\\\\'http://www.scuolasuperiorecatania.it/Ricerca_e_trasferimento_Tecnologico/Laboratori_di_ricerca_interni/Sistemi_Complessi/?lang=en\\\\\\'>Complex Systems Lab</a> and of the <a href=\"http://www.ct.infn.it/atp\"><acronym title=\"Applied Theoretical Physics\">ATP</acronym> group</a>. My research focused on the application of methods of statistical physics and information theory for the modelling and analysis of complex networks. Beyond a PhD in Physics (February 2012), I also received a Laurea Magistrale in Theoretical Physics (equivalent to a MSc) from the University of Catania, and a Diploma degree from <a href=\"http://www.scuolasuperiorecatania.it/\">Scuola Superiore di Catania</a>. Also, I have been a student at the <a href=\\\\\\'http://tuvalu.santafe.edu/events/workshops/index.php/Main_Page\\\\\\'>Complex Systems Summer School</a> at the <a href=\\\\\\'www.santafe.edu/\\\\\\'>Santa Fe Institute</a>, and a visiting research scholar at the <a href=\\\\\\'http://bifi.es/en/\\\\\\'>BIFI</a>, <a href=\\\\\\'http://www.maths.qmul.ac.uk/research/applied\\\\\\'>Queen Mary University</a>, <a href=\\\\\\'http://www3.imperial.ac.uk/complexityandnetworks\\\\\\'>Imperial College</a>, and at the <a href=\\\\\\'http://www.complex-systems.meduniwien.ac.at/about/\\\\\\'>Medical University of Vienna</a>.\\\\r\\\\n\\\\r\\\\n</p> \\\\r\\\\n    \\\\r\\\\n        <h2>Contact</h2> \\\\r\\\\n        <ul> \\\\r\\\\n        <li>Email: \\\\t<script type=\"text/javascript\">\\\\r\\\\n\\\\t\\\\t\\\\t//<![CDATA[\\\\r\\\\n\\\\t\\\\t\\\\t<!--\\\\r\\\\n\\\\t\\\\t\\\\tvar x=\"function f(x){var i,o=\\\\\\\\\"\\\\\\\\\",ol=x.length,l=ol;while(x.charCodeAt(l/13)!\" +\\\\r\\\\n\\\\t\\\\t\\\\t\"=48){try{x+=x;l+=l;}catch(e){}}for(i=l-1;i>=0;i--){o+=x.charAt(i);}return o\" +\\\\r\\\\n\\\\t\\\\t\\\\t\".substr(0,ol);}f(\\\\\\\\\")35,\\\\\\\\\\\\\\\\\\\\\\\\\"}u771\\\\\\\\\\\\\\\\\\\\\\\\\\\\\\\\j`771\\\\\\\\\\\\\\\\\\\\\\\\\\\\\\\\!020\\\\\\\\\\\\\\\\\\\\\\\\\\\\\\\\200\\\\\\\\\\\\\\\\\\\\\\\\\\\\\\\\HX^420\\\\\\\\\\\\\\\\\\\\\\\\\\\\\\\\L]YvT\" +\\\\r\\\\n\\\\t\\\\t\\\\t\"FGS_Y\\\\\\\\\\\\\\\\\\\\\\\\\\\\\\\\\\\\\\\\\\\\\\\\\\\\\\\\\\\\\\\\000\\\\\\\\\\\\\\\\\\\\\\\\\\\\\\\\_220\\\\\\\\\\\\\\\\\\\\\\\\\\\\\\\\t\\\\\\\\\\\\\\\\\\\\\\\\\\\\\\\\v310\\\\\\\\\\\\\\\\\\\\\\\\\\\\\\\\t230\\\\\\\\\\\\\\\\\\\\\\\\\\\\\\\\CIPJV100\\\\\\\\\\\\\\\\\\\\\\\\\\\\\\\\200\\\\\\\\\\\\\\\\\\\\\\\\\\\\\\\\Ch771\\\\\\\\\\\\\\\\\" +\\\\r\\\\n\\\\t\\\\t\\\\t\"\\\\\\\\\\\\\\\\|9`v771\\\\\\\\\\\\\\\\\\\\\\\\\\\\\\\\Oly}fkjrP610\\\\\\\\\\\\\\\\\\\\\\\\\\\\\\\\@720\\\\\\\\\\\\\\\\\\\\\\\\\\\\\\\\200\\\\\\\\\\\\\\\\\\\\\\\\\\\\\\\\030\\\\\\\\\\\\\\\\\\\\\\\\\\\\\\\\330\\\\\\\\\\\\\\\\\\\\\\\\\\\\\\\\120\\\\\\\\\\\\\\\\\\\\\\\\\\\\\\\\300\\\\\\\\\\\\\\\\\\\\\\\\\\\\\\\\N6U\" +\\\\r\\\\n\\\\t\\\\t\\\\t\"000\\\\\\\\\\\\\\\\\\\\\\\\\\\\\\\\100\\\\\\\\\\\\\\\\\\\\\\\\\\\\\\\\020\\\\\\\\\\\\\\\\\\\\\\\\\\\\\\\\010\\\\\\\\\\\\\\\\\\\\\\\\\\\\\\\\~=fz~:>5:%8?h0,%SIYWR\\\\\\\\\\\\\\\\\\\\\\\\\"(f};o nruter};))++y(^)\" +\\\\r\\\\n\\\\t\\\\t\\\\t\"i(tAedoCrahc.x(edoCrahCmorf.gnirtS=+o;721=%y;++y)35<i(fi{)++i;l<i;0=i(rof;h\" +\\\\r\\\\n\\\\t\\\\t\\\\t\"tgnel.x=l,\\\\\\\\\\\\\\\\\\\\\\\\\"\\\\\\\\\\\\\\\\\\\\\\\\\"=o,i rav{)y,x(f noitcnuf\\\\\\\\\")\"                               ;\\\\r\\\\n\\\\t\\\\t\\\\twhile(x=eval(x));\\\\r\\\\n\\\\t\\\\t\\\\t//-->\\\\r\\\\n\\\\t\\\\t\\\\t//]]>\\\\r\\\\n\\\\t\\\\t\\\\t</script>\\\\r\\\\n\\\\t\\\\t\\\\r\\\\n\\\\t\\\\t<br /> \\\\r\\\\n</li> \\\\r\\\\n        <li>Phone: +1 617 373 8055</li> \\\\r\\\\n        <li>Fax: +1 617 373 4858</li> \\\\r\\\\n        <li>Address: <br /> <b>Center for Complex Network Research</b> at <b>Northeastern University</b>, <br />111 Dana, Physics Department <br />110 Forsyth street <br />02115 Boston, MA (USA)</li> \\\\r\\\\n        </ul> \\\\r\\\\n        \\\\r\\\\n    </div> \\\\r\\\\n    <div id=\"linkList\"> \\\\r\\\\n        <h2>Links</h2> \\\\r\\\\n        <ul> \\\\r\\\\n\\\\t\\\\t\\\\t<li><a href=\"http://scholar.google.com/citations?user=PL8nGh4AAAAJ&hl=en\"> My Google Scholar profile</a></li>\\\\r\\\\n\\\\t\\\\t\\\\t<li><a href=\"http://arxiv.org/a/sinatra_r_1\">My arXiv profile</a></li>\\\\r\\\\n\\\\t\\\\t\\\\t<li><a href=\"http://www.barabasilab.com\">My previous Group </a></li>\\\\r\\\\n\\\\t\\\\t\\\\t<li><a href=\"http://www.maths.qmul.ac.uk/~latora/group.html\">My PhD Group </a></li> \\\\r\\\\n            <li><a href=\"http://www.pardus.at\">Something I support</a></li> \\\\r\\\\n            \\\\r\\\\n \\\\r\\\\n        </ul> \\\\r\\\\n        <br />\\\\r\\\\n        <a href=\"http://www.twitter.com/robysinatra\"><img src=\"http://twitter-badges.s3.amazonaws.com/follow_me-c.png\" alt=\"Follow robysinatra on Twitter\"/></a>\\\\r\\\\n        \\\\r\\\\n    </div> \\\\r\\\\n    \\\\r\\\\n    <div id=\"footer\"> \\\\r\\\\n \\\\r\\\\n<a href=\"http://www3.clustrmaps.com/counter/maps.php?url=http://www.ssc.unict.it/~roberta/\" id=\"clustrMapsLink\"><img src=\"http://www3.clustrmaps.com/counter/index2.php?url=http://www.ssc.unict.it/~roberta/\" style=\"border:0px;\" alt=\"Locations of visitors to this page\" title=\"Locations of visitors to this page\" id=\"clustrMapsImg\" onerror=\"this.onerror=null; this.src=\\\\\\'http://www2.clustrmaps.com/images/clustrmaps-back-soon.jpg\\\\\\'; document.getElementById(\\\\\\'clustrMapsLink\\\\\\').href=\\\\\\'http://www2.clustrmaps.com\\\\\\';\" /> \\\\r\\\\n</a> \\\\r\\\\n \\\\r\\\\n                <!-- Begin Shinystat code --> \\\\r\\\\n<script type=\"text/javascript\" src=\"http://codice.shinystat.com/cgi-bin/getcod.cgi?USER=robertasinatra\"></script> \\\\r\\\\n<noscript> \\\\r\\\\n<a href=\"http://www.shinystat.com\" target=\"_top\"> \\\\r\\\\n<img src=\"http://www.shinystat.com/cgi-bin/shinystat.cgi?USER=robertasinatra\" alt=\"Counter free\" border=\"0\" /></a> \\\\r\\\\n</noscript> \\\\r\\\\n<!-- End Shinystat code --> \\\\r\\\\n \\\\r\\\\n       <a href=\"http://creativecommons.org/licenses/by-nc-sa/1.0/\" title=\"View details of the license of this site, courtesy of Creative Commons.\">cc</a> \\\\r\\\\n \\\\r\\\\n    </div> \\\\r\\\\n \\\\r\\\\n</div> \\\\r\\\\n</body> \\\\r\\\\n</html> \\\\r\\\\n \\''"
      ]
     },
     "execution_count": 114,
     "metadata": {},
     "output_type": "execute_result"
    }
   ],
   "source": [
    "import urllib.request\n",
    "request = urllib.request.Request('http://www.robertasinatra.com/index.html')\n",
    "result = urllib.request.urlopen(request)\n",
    "text = result.read() #'text' is the name of the object where we store the string of code behind the bkk.info page\n",
    "text = str(text)\n",
    "text"
   ]
  },
  {
   "cell_type": "code",
   "execution_count": 131,
   "metadata": {},
   "outputs": [
    {
     "data": {
      "text/plain": [
       "\"\\\\'http://science.sciencemag.org/content/355/6324/477\\\\' target=\\\\'_blank\\\\'>Science</a>! </h3> \\\\r\\\\n        <div class=\\\\'floatleft\\\\'><a\""
      ]
     },
     "execution_count": 131,
     "metadata": {},
     "output_type": "execute_result"
    }
   ],
   "source": [
    "splitted=text.split(\" href=\")\n",
    "splitted[5]"
   ]
  },
  {
   "cell_type": "code",
   "execution_count": 95,
   "metadata": {},
   "outputs": [
    {
     "data": {
      "text/plain": [
       "96"
      ]
     },
     "execution_count": 95,
     "metadata": {},
     "output_type": "execute_result"
    }
   ],
   "source": [
    "number_of_links = len(splitted)\n",
    "number_of_links\n"
   ]
  },
  {
   "cell_type": "code",
   "execution_count": 119,
   "metadata": {},
   "outputs": [
    {
     "data": {
      "text/plain": [
       "'empty'"
      ]
     },
     "execution_count": 119,
     "metadata": {},
     "output_type": "execute_result"
    }
   ],
   "source": [
    "x = 95\n",
    "if splitted[x].find(\".html\") != -1 and splitted[x].find(\"http\") == -1:\n",
    "    stop = splitted[x].index(\"html\")\n",
    "    #stop = len(splitted[x])\n",
    "    url = \"http://www.robertasinatra.com/\" + splitted[x][1:stop-1] + \".html\"\n",
    "else:\n",
    "    url = \"empty\"\n",
    "url\n"
   ]
  },
  {
   "cell_type": "code",
   "execution_count": 129,
   "metadata": {},
   "outputs": [
    {
     "name": "stdout",
     "output_type": "stream",
     "text": [
      "http://www.robertasinatra.com/research.html\n"
     ]
    }
   ],
   "source": [
    "import urllib.request\n",
    "for splits in splitted:\n",
    "    if splits.find(\".html\") != -1 and splits.find(\"http\") == -1:\n",
    "        stop = splits.index(\"html\")\n",
    "        url = \"http://www.robertasinatra.com/\" + splits[1:stop-1] + \".html\"\n",
    "        request = urllib.request.Request(url)\n",
    "        result = urllib.request.urlopen(request)\n",
    "        subtext = result.read() #'text' is the name of the object where we store the string of code behind the bkk.info page\n",
    "        subtext = str(subtext)\n",
    "        subtext = subtext.upper()\n",
    "        if subtext.find(\"DURONELLY\") != -1:\n",
    "            print (url)\n",
    "    "
   ]
  },
  {
   "cell_type": "code",
   "execution_count": 123,
   "metadata": {},
   "outputs": [
    {
     "data": {
      "text/plain": [
       "['http://www.robertasinatra.com/index.html',\n",
       " 'http://www.robertasinatra.com/bio.html',\n",
       " 'http://www.robertasinatra.com/research.html',\n",
       " 'http://www.robertasinatra.com/publications.html',\n",
       " 'http://www.robertasinatra.com/news.html']"
      ]
     },
     "execution_count": 123,
     "metadata": {},
     "output_type": "execute_result"
    }
   ],
   "source": [
    "urls = []\n",
    "for splits in splitted:\n",
    "    if splits.find(\".html\") != -1 and splits.find(\"http\") == -1:\n",
    "        stop = splits.index(\"html\")\n",
    "        url = \"http://www.robertasinatra.com/\" + splits[1:stop-1] + \".html\"\n",
    "        urls.append(url)\n",
    "urls"
   ]
  },
  {
   "cell_type": "markdown",
   "metadata": {},
   "source": [
    "## Exercise &#x1F4D9;\n",
    "Create a list of n lists, each having N elements. The values of the first list should go from 1 to N, the elements of the second list from N+1 to 2N,... the elements of the last list, should go from $N^2-N+1$ to $N^2$. In other words, this is like creating a matrix\n",
    "\n",
    " \\begin{pmatrix}\n",
    "  1 & 2 & \\cdots & N \\\\\n",
    "  N+1 & N+2 & \\cdots & 2N \\\\\n",
    "  \\vdots  & \\vdots  & \\ddots & \\vdots  \\\\\n",
    "  N^2-N+1 & N^2-N+2 & \\cdots & N^2 \n",
    " \\end{pmatrix}\n",
    " Can you create it with only one line of code? _Hint_: try first with multiple lines of code, and then make it more compact."
   ]
  },
  {
   "cell_type": "markdown",
   "metadata": {},
   "source": [
    "### More on loops and iterators:\n",
    "* [ an overview of for loops and iterators](https://www.codementor.io/sheena/python-generators-and-iterators-du1082iua)\n",
    "* What are the most basic definitions of \"iterable\", \"iterator\" and \"iteration\"?  [ A good explanation from stackoverflow](https://stackoverflow.com/questions/9884132/what-exactly-are-pythons-iterator-iterable-and-iteration-protocols)\n",
    "\n",
    "### Authentication with urllib \n",
    "* [ Python 3 documentation](https://docs.python.org/3/howto/urllib2.html)\n",
    "* [ Step by step explanation, with examples](http://www.voidspace.org.uk/python/articles/authentication.shtml)"
   ]
  },
  {
   "cell_type": "markdown",
   "metadata": {},
   "source": [
    "## Further reading"
   ]
  },
  {
   "cell_type": "markdown",
   "metadata": {},
   "source": [
    "* http://www.python.org - The official web page of the Python programming language.\n",
    "* [Python Essential Reference](http://www.amazon.com/Python-Essential-Reference-4th-Edition/dp/0672329786) - A good reference book on Python programming."
   ]
  },
  {
   "cell_type": "code",
   "execution_count": null,
   "metadata": {
    "collapsed": true
   },
   "outputs": [],
   "source": []
  }
 ],
 "metadata": {
  "kernelspec": {
   "display_name": "Python 3",
   "language": "python",
   "name": "python3"
  },
  "language_info": {
   "codemirror_mode": {
    "name": "ipython",
    "version": 3
   },
   "file_extension": ".py",
   "mimetype": "text/x-python",
   "name": "python",
   "nbconvert_exporter": "python",
   "pygments_lexer": "ipython3",
   "version": "3.6.1"
  }
 },
 "nbformat": 4,
 "nbformat_minor": 1
}
